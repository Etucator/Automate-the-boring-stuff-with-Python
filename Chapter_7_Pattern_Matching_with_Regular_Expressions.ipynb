{
  "nbformat": 4,
  "nbformat_minor": 0,
  "metadata": {
    "colab": {
      "name": "Chapter 7 - Pattern Matching with Regular Expressions.ipynb",
      "provenance": [],
      "authorship_tag": "ABX9TyPhHsd7oby5MU2hgUQuzeHc",
      "include_colab_link": true
    },
    "kernelspec": {
      "name": "python3",
      "display_name": "Python 3"
    },
    "language_info": {
      "name": "python"
    }
  },
  "cells": [
    {
      "cell_type": "markdown",
      "metadata": {
        "id": "view-in-github",
        "colab_type": "text"
      },
      "source": [
        "<a href=\"https://colab.research.google.com/github/recervictory/Automate-the-boring-stuff-with-Python/blob/master/Chapter_7_Pattern_Matching_with_Regular_Expressions.ipynb\" target=\"_parent\"><img src=\"https://colab.research.google.com/assets/colab-badge.svg\" alt=\"Open In Colab\"/></a>"
      ]
    },
    {
      "cell_type": "markdown",
      "metadata": {
        "id": "6u1n_HIHO_XY"
      },
      "source": [
        "## Finding Patterns of text without regular expressions\n",
        "\n",
        "Patterns of text without regular expressions\n",
        "Say you want to find a phone number in a string. You know the pattern:\n",
        "three numbers, a hyphen, three numbers, a hyphen, and four numbers.\n",
        "Here’s an example: 415-555-4242.\n",
        "\n",
        "Let’s use a function named isPhoneNumber() to check whether a string\n",
        "matches this pattern, returning either True or False. Open a new file editor\n",
        "window and enter the following code; then save the file as isPhoneNumber.py:"
      ]
    },
    {
      "cell_type": "code",
      "metadata": {
        "id": "8PcGU_9SPIhh"
      },
      "source": [
        "def isPhoneNumber(text):\n",
        "  if len(text) != 12:\n",
        "    return False\n",
        "  for i in range(0, 3):\n",
        "    if not text[i].isdecimal():\n",
        "      return False\n",
        "    if text[3] != '-':\n",
        "      return False\n",
        "  for i in range(4, 7):\n",
        "    if not text[i].isdecimal():\n",
        "      return False\n",
        "    if text[7] != '-':\n",
        "      return False\n",
        "  for i in range(8, 12):\n",
        "    if not text[i].isdecimal():\n",
        "      return False\n",
        "  return True"
      ],
      "execution_count": 3,
      "outputs": []
    },
    {
      "cell_type": "code",
      "metadata": {
        "colab": {
          "base_uri": "https://localhost:8080/"
        },
        "id": "8tu53xOJP567",
        "outputId": "98eb7000-55e2-4fcd-c26a-a527ec7a0a18"
      },
      "source": [
        "print('415-555-4242 is a phone number:')\n",
        "print(isPhoneNumber('415-555-4242'))\n",
        "print('Moshi moshi is a phone number:')\n",
        "print(isPhoneNumber('Moshi moshi'))"
      ],
      "execution_count": null,
      "outputs": [
        {
          "output_type": "stream",
          "text": [
            "415-555-4242 is a phone number:\n",
            "True\n",
            "Moshi moshi is a phone number:\n",
            "False\n"
          ],
          "name": "stdout"
        }
      ]
    },
    {
      "cell_type": "markdown",
      "metadata": {
        "id": "B792q7uIBY-J"
      },
      "source": [
        "The `isPhoneNumber()` function has code that does several checks to see whether the string in text is a valid phone number. If any of these checks fail, the function returns False. First the code checks that the string is exactly 12 characters.  \n",
        "\n",
        "Then it checks that the area code (that is, the first three characters in text) consists of only numeric characters.\n",
        "\n",
        "The rest of the function checks that the string follows the pattern of a phone number: The number must have the first hyphen after the area code w, three more numeric characters, then another hyphen, and finally four more numbers z. If the program execution manages to get past all the checks, it returns True."
      ]
    },
    {
      "cell_type": "markdown",
      "metadata": {
        "id": "cDOKXduHCSNd"
      },
      "source": [
        "Calling `isPhoneNumber()` with the argument '415-555-4242' will return\n",
        "True. Calling `isPhoneNumber()` with 'Moshi moshi' will return False; the first\n",
        "test fails because 'Moshi moshi' is not 12 characters long.\n",
        "You would have to add even more code to find this pattern of text in a\n",
        "larger string. "
      ]
    },
    {
      "cell_type": "code",
      "metadata": {
        "id": "5Eqt4yHFP-fQ",
        "colab": {
          "base_uri": "https://localhost:8080/"
        },
        "outputId": "0bb05d75-8c93-4279-e410-3fc3562148db"
      },
      "source": [
        "message = 'Call me at 415-555-1011 tomorrow. 415-555-9999 is my office.'\n",
        "for i in range(len(message)):\n",
        "  chunk = message[i:i+12]\n",
        "  if isPhoneNumber(chunk):\n",
        "    print('Phone number found: ' + chunk)\n",
        "print('Done')"
      ],
      "execution_count": 4,
      "outputs": [
        {
          "output_type": "stream",
          "text": [
            "Phone number found: 415-555-1011\n",
            "Phone number found: 415-555-9999\n",
            "Done\n"
          ],
          "name": "stdout"
        }
      ]
    },
    {
      "cell_type": "markdown",
      "metadata": {
        "id": "gDscp65TC3tk"
      },
      "source": [
        "## Creating Regex Objects\n",
        "All the regex functions in Python are in the re module. Enter the following into the interactive shell to import this module:"
      ]
    },
    {
      "cell_type": "code",
      "metadata": {
        "id": "Pl9xFdK5Cjs-"
      },
      "source": [
        "import re"
      ],
      "execution_count": 5,
      "outputs": []
    },
    {
      "cell_type": "markdown",
      "metadata": {
        "id": "rc6KttcjDLHe"
      },
      "source": [
        "### Matching Regex Objects\n",
        "\n",
        "A Regex object’s search() method searches the string it is passed for any\n",
        "matches to the regex. The search() method will return None if the regex pattern is not found in the string. If the pattern is found, the search() method\n",
        "returns a Match object. Match objects have a group() method that will return\n",
        "the actual matched text from the searched string. (I’ll explain groups\n",
        "shortly.) For example, enter the following into the interactive shell:"
      ]
    },
    {
      "cell_type": "code",
      "metadata": {
        "colab": {
          "base_uri": "https://localhost:8080/"
        },
        "id": "5sp0H-fwDDaF",
        "outputId": "d9ba9b01-45e5-4e1a-e409-84f8a321810f"
      },
      "source": [
        "phoneNumRegex = re.compile(r'\\d\\d\\d-\\d\\d\\d-\\d\\d\\d\\d')\n",
        "mo = phoneNumRegex.search('My number is 415-555-4242.')\n",
        "print('Phone number found: ' + mo.group())"
      ],
      "execution_count": 6,
      "outputs": [
        {
          "output_type": "stream",
          "text": [
            "Phone number found: 415-555-4242\n"
          ],
          "name": "stdout"
        }
      ]
    },
    {
      "cell_type": "code",
      "metadata": {
        "colab": {
          "base_uri": "https://localhost:8080/"
        },
        "id": "9uW0onKqDvII",
        "outputId": "02fbd401-e920-466a-80e2-eefd10308f7e"
      },
      "source": [
        "phoneNumRegex = re.compile(r'(\\d\\d\\d)-(\\d\\d\\d-\\d\\d\\d\\d)')\n",
        "mo = phoneNumRegex.search('My number is 415-555-4242.')\n",
        "print('Phone number found: ' + mo.group())"
      ],
      "execution_count": 7,
      "outputs": [
        {
          "output_type": "stream",
          "text": [
            "Phone number found: 415-555-4242\n"
          ],
          "name": "stdout"
        }
      ]
    },
    {
      "cell_type": "code",
      "metadata": {
        "colab": {
          "base_uri": "https://localhost:8080/",
          "height": 35
        },
        "id": "WAtNfDOyD5-u",
        "outputId": "631f8c98-09fc-4b9e-e710-07c96e08dee6"
      },
      "source": [
        "mo.group(1)"
      ],
      "execution_count": 8,
      "outputs": [
        {
          "output_type": "execute_result",
          "data": {
            "application/vnd.google.colaboratory.intrinsic+json": {
              "type": "string"
            },
            "text/plain": [
              "'415'"
            ]
          },
          "metadata": {
            "tags": []
          },
          "execution_count": 8
        }
      ]
    },
    {
      "cell_type": "code",
      "metadata": {
        "colab": {
          "base_uri": "https://localhost:8080/",
          "height": 35
        },
        "id": "9P1xxZBGD9t_",
        "outputId": "c40f7b3f-a8ec-4c64-91f5-ae9bb3ca7aa7"
      },
      "source": [
        "mo.group(2)"
      ],
      "execution_count": 9,
      "outputs": [
        {
          "output_type": "execute_result",
          "data": {
            "application/vnd.google.colaboratory.intrinsic+json": {
              "type": "string"
            },
            "text/plain": [
              "'555-4242'"
            ]
          },
          "metadata": {
            "tags": []
          },
          "execution_count": 9
        }
      ]
    },
    {
      "cell_type": "code",
      "metadata": {
        "colab": {
          "base_uri": "https://localhost:8080/",
          "height": 35
        },
        "id": "FMnYHIGrEAcV",
        "outputId": "f85cb08a-7481-4e4a-d3b6-b6438dcee081"
      },
      "source": [
        "mo.group(0)"
      ],
      "execution_count": 10,
      "outputs": [
        {
          "output_type": "execute_result",
          "data": {
            "application/vnd.google.colaboratory.intrinsic+json": {
              "type": "string"
            },
            "text/plain": [
              "'415-555-4242'"
            ]
          },
          "metadata": {
            "tags": []
          },
          "execution_count": 10
        }
      ]
    },
    {
      "cell_type": "code",
      "metadata": {
        "colab": {
          "base_uri": "https://localhost:8080/"
        },
        "id": "h2Fa7ce7EFTx",
        "outputId": "3b5659e5-18e0-4e1a-ebc2-437d050ab8b9"
      },
      "source": [
        "mo.groups()"
      ],
      "execution_count": 11,
      "outputs": [
        {
          "output_type": "execute_result",
          "data": {
            "text/plain": [
              "('415', '555-4242')"
            ]
          },
          "metadata": {
            "tags": []
          },
          "execution_count": 11
        }
      ]
    },
    {
      "cell_type": "code",
      "metadata": {
        "id": "78OGZZq8EI8e"
      },
      "source": [
        "areaCode, mainNumber = mo.groups()"
      ],
      "execution_count": 12,
      "outputs": []
    },
    {
      "cell_type": "code",
      "metadata": {
        "colab": {
          "base_uri": "https://localhost:8080/"
        },
        "id": "MhtvEsuHEMK6",
        "outputId": "0799a127-037b-434b-8858-6f2a1598af38"
      },
      "source": [
        "print(areaCode)"
      ],
      "execution_count": 14,
      "outputs": [
        {
          "output_type": "stream",
          "text": [
            "415\n"
          ],
          "name": "stdout"
        }
      ]
    },
    {
      "cell_type": "code",
      "metadata": {
        "id": "nLwk9QtzEM-z"
      },
      "source": [
        "print(mainNumber)"
      ],
      "execution_count": null,
      "outputs": []
    },
    {
      "cell_type": "markdown",
      "metadata": {
        "id": "K3UmVPydFFsB"
      },
      "source": [
        "### Matching Multiple Groups with the Pipe\n",
        "\n",
        "The `|` character is called a pipe. You can use it anywhere you want to match one\n",
        "of many expressions. For example, the regular expression `r'Batman|Tina Fey'`\n",
        "will match either **'Batman'** or **'Tina Fey'**.\n",
        "When both Batman and Tina Fey occur in the searched string, the first\n",
        "occurrence of matching text will be returned as the Match object.\n"
      ]
    },
    {
      "cell_type": "code",
      "metadata": {
        "colab": {
          "base_uri": "https://localhost:8080/",
          "height": 35
        },
        "id": "FJEkcHC_FE54",
        "outputId": "cf3ebec3-71f0-4fab-8034-2db6acc083ea"
      },
      "source": [
        "heroRegex = re.compile (r'Batman|Tina Fey')\n",
        "mo1 = heroRegex.search('Batman and Tina Fey.')\n",
        "mo1.group()"
      ],
      "execution_count": 15,
      "outputs": [
        {
          "output_type": "execute_result",
          "data": {
            "application/vnd.google.colaboratory.intrinsic+json": {
              "type": "string"
            },
            "text/plain": [
              "'Batman'"
            ]
          },
          "metadata": {
            "tags": []
          },
          "execution_count": 15
        }
      ]
    },
    {
      "cell_type": "code",
      "metadata": {
        "colab": {
          "base_uri": "https://localhost:8080/",
          "height": 35
        },
        "id": "dKhefViFFd-W",
        "outputId": "56b04cdb-aae9-44e1-b680-23174dfb5d10"
      },
      "source": [
        "mo2 = heroRegex.search('Tina Fey and Batman.')\n",
        "mo2.group()"
      ],
      "execution_count": 16,
      "outputs": [
        {
          "output_type": "execute_result",
          "data": {
            "application/vnd.google.colaboratory.intrinsic+json": {
              "type": "string"
            },
            "text/plain": [
              "'Tina Fey'"
            ]
          },
          "metadata": {
            "tags": []
          },
          "execution_count": 16
        }
      ]
    },
    {
      "cell_type": "markdown",
      "metadata": {
        "id": "LyH8ffvNFqOS"
      },
      "source": [
        "You can also use the pipe to match one of several patterns as part of\n",
        "your regex. \n",
        "\n",
        "For example, say you wanted to match any of the strings 'Batman',\n",
        "'Batmobile', 'Batcopter', and 'Batbat'. Since all these strings start with Bat, it would be nice if you could specify that prefix only once. This can be done\n",
        "with parentheses. Enter the following into the interactive shell:"
      ]
    },
    {
      "cell_type": "code",
      "metadata": {
        "colab": {
          "base_uri": "https://localhost:8080/",
          "height": 35
        },
        "id": "pkSZX_4oFksc",
        "outputId": "ae3af104-e942-449f-c2e2-1609bf9afac4"
      },
      "source": [
        "batRegex = re.compile(r'Bat(man|mobile|copter|bat)')\n",
        "mo = batRegex.search('Batmobile lost a wheel')\n",
        "mo.group()"
      ],
      "execution_count": 17,
      "outputs": [
        {
          "output_type": "execute_result",
          "data": {
            "application/vnd.google.colaboratory.intrinsic+json": {
              "type": "string"
            },
            "text/plain": [
              "'Batmobile'"
            ]
          },
          "metadata": {
            "tags": []
          },
          "execution_count": 17
        }
      ]
    },
    {
      "cell_type": "code",
      "metadata": {
        "colab": {
          "base_uri": "https://localhost:8080/",
          "height": 35
        },
        "id": "a_DucDjLF2rA",
        "outputId": "e0a82a83-9037-48d7-a6c7-fbf94e7491ac"
      },
      "source": [
        "mo.group(1)"
      ],
      "execution_count": 18,
      "outputs": [
        {
          "output_type": "execute_result",
          "data": {
            "application/vnd.google.colaboratory.intrinsic+json": {
              "type": "string"
            },
            "text/plain": [
              "'mobile'"
            ]
          },
          "metadata": {
            "tags": []
          },
          "execution_count": 18
        }
      ]
    },
    {
      "cell_type": "markdown",
      "metadata": {
        "id": "rav0uzbXF-PO"
      },
      "source": [
        "### Optional Matching with the Question Mark\n",
        "\n",
        "Sometimes there is a pattern that you want to match only optionally. That\n",
        "is, the regex should find a match whether or not that bit of text is there.\n",
        "The ? character flags the group that precedes it as an optional part of the\n",
        "pattern. For example, enter the following into the interactive shell:"
      ]
    },
    {
      "cell_type": "code",
      "metadata": {
        "colab": {
          "base_uri": "https://localhost:8080/",
          "height": 35
        },
        "id": "PO-z2Mg6F5fn",
        "outputId": "e844c026-7873-4d11-812a-0baf31580278"
      },
      "source": [
        "batRegex = re.compile(r'Bat(wo)?man')\n",
        "mo1 = batRegex.search('The Adventures of Batman')\n",
        "mo1.group()"
      ],
      "execution_count": 19,
      "outputs": [
        {
          "output_type": "execute_result",
          "data": {
            "application/vnd.google.colaboratory.intrinsic+json": {
              "type": "string"
            },
            "text/plain": [
              "'Batman'"
            ]
          },
          "metadata": {
            "tags": []
          },
          "execution_count": 19
        }
      ]
    },
    {
      "cell_type": "code",
      "metadata": {
        "colab": {
          "base_uri": "https://localhost:8080/",
          "height": 35
        },
        "id": "ubgBQcZGGIfN",
        "outputId": "7041b2b1-eadc-4523-ae75-f912bf705531"
      },
      "source": [
        "mo2 = batRegex.search('The Adventures of Batwoman')\n",
        "mo2.group()"
      ],
      "execution_count": 20,
      "outputs": [
        {
          "output_type": "execute_result",
          "data": {
            "application/vnd.google.colaboratory.intrinsic+json": {
              "type": "string"
            },
            "text/plain": [
              "'Batwoman'"
            ]
          },
          "metadata": {
            "tags": []
          },
          "execution_count": 20
        }
      ]
    },
    {
      "cell_type": "markdown",
      "metadata": {
        "id": "GBG0XHfPGVRe"
      },
      "source": [
        "The (wo)? part of the regular expression means that the pattern wo is\n",
        "an optional group. The regex will match text that has zero instances or\n",
        "one instance of wo in it. This is why the regex matches both 'Batwoman' and\n",
        "'Batman'.\n",
        "Using the earlier phone number example, you can make the regex look\n",
        "for phone numbers that do or do not have an area code. Enter the following\n",
        "into the interactive shell:"
      ]
    },
    {
      "cell_type": "code",
      "metadata": {
        "colab": {
          "base_uri": "https://localhost:8080/",
          "height": 35
        },
        "id": "jRjcK4_2GT9m",
        "outputId": "5bddc0f2-9fe9-4b9f-a23f-fd2b7b08967f"
      },
      "source": [
        "phoneRegex = re.compile(r'(\\d\\d\\d-)?\\d\\d\\d-\\d\\d\\d\\d')\n",
        "mo1 = phoneRegex.search('My number is 415-555-4242')\n",
        "mo1.group()"
      ],
      "execution_count": 21,
      "outputs": [
        {
          "output_type": "execute_result",
          "data": {
            "application/vnd.google.colaboratory.intrinsic+json": {
              "type": "string"
            },
            "text/plain": [
              "'415-555-4242'"
            ]
          },
          "metadata": {
            "tags": []
          },
          "execution_count": 21
        }
      ]
    },
    {
      "cell_type": "code",
      "metadata": {
        "colab": {
          "base_uri": "https://localhost:8080/",
          "height": 35
        },
        "id": "dj66pF2AGSZ8",
        "outputId": "a661bd2d-c269-4d2b-8d3a-f85a02d399b1"
      },
      "source": [
        "mo2 = phoneRegex.search('My number is 555-4242')\n",
        "mo2.group()"
      ],
      "execution_count": 22,
      "outputs": [
        {
          "output_type": "execute_result",
          "data": {
            "application/vnd.google.colaboratory.intrinsic+json": {
              "type": "string"
            },
            "text/plain": [
              "'555-4242'"
            ]
          },
          "metadata": {
            "tags": []
          },
          "execution_count": 22
        }
      ]
    },
    {
      "cell_type": "markdown",
      "metadata": {
        "id": "es1p1PBQIQSW"
      },
      "source": [
        "### Matching Zero or More with the Star\n",
        "\n",
        "The `*` (called the star or asterisk) means “match zero or more”—the group\n",
        "that precedes the star can occur any number of times in the text. It can be\n",
        "completely absent or repeated over and over again. Let’s look at the Batman\n",
        "example again."
      ]
    },
    {
      "cell_type": "code",
      "metadata": {
        "colab": {
          "base_uri": "https://localhost:8080/",
          "height": 35
        },
        "id": "_dVcBmJUGMIO",
        "outputId": "4f98ac77-f098-4f4e-de3f-317d8ef382dc"
      },
      "source": [
        "batRegex = re.compile(r'Bat(wo)*man')\n",
        "mo1 = batRegex.search('The Adventures of Batman')\n",
        "mo1.group()"
      ],
      "execution_count": 24,
      "outputs": [
        {
          "output_type": "execute_result",
          "data": {
            "application/vnd.google.colaboratory.intrinsic+json": {
              "type": "string"
            },
            "text/plain": [
              "'Batman'"
            ]
          },
          "metadata": {
            "tags": []
          },
          "execution_count": 24
        }
      ]
    },
    {
      "cell_type": "code",
      "metadata": {
        "id": "Myi1aMBUIceM",
        "outputId": "536d0377-2536-4ce5-e8bc-73f0d9f2a608",
        "colab": {
          "base_uri": "https://localhost:8080/",
          "height": 35
        }
      },
      "source": [
        "mo2 = batRegex.search('The Adventures of Batwoman')\n",
        "mo2.group()"
      ],
      "execution_count": 25,
      "outputs": [
        {
          "output_type": "execute_result",
          "data": {
            "application/vnd.google.colaboratory.intrinsic+json": {
              "type": "string"
            },
            "text/plain": [
              "'Batwoman'"
            ]
          },
          "metadata": {
            "tags": []
          },
          "execution_count": 25
        }
      ]
    },
    {
      "cell_type": "code",
      "metadata": {
        "id": "fnVkOiJdIie5",
        "outputId": "504712c6-af59-4767-9f72-3f35dcbac9a3",
        "colab": {
          "base_uri": "https://localhost:8080/",
          "height": 35
        }
      },
      "source": [
        "mo3 = batRegex.search('The Adventures of Batwowowowoman')\n",
        "mo3.group()"
      ],
      "execution_count": 26,
      "outputs": [
        {
          "output_type": "execute_result",
          "data": {
            "application/vnd.google.colaboratory.intrinsic+json": {
              "type": "string"
            },
            "text/plain": [
              "'Batwowowowoman'"
            ]
          },
          "metadata": {
            "tags": []
          },
          "execution_count": 26
        }
      ]
    },
    {
      "cell_type": "markdown",
      "metadata": {
        "id": "gxoDHdV6It7c"
      },
      "source": [
        "For 'Batman', the `(wo)*` part of the regex matches zero instances of wo\n",
        "in the string; for 'Batwoman', the `(wo)*` matches one instance of wo; and for\n",
        "'Batwowowowoman', `(wo)*` matches four instances of wo.\n",
        "If you need to match an actual star character, prefix the star in the\n",
        "regular expression with a backslash,`\\*`."
      ]
    },
    {
      "cell_type": "markdown",
      "metadata": {
        "id": "BsOeFb_qI-df"
      },
      "source": [
        "### Matching One or More with the Plus\n",
        "While * means “match zero or more,” the + (or plus) means “match one or\n",
        "more.” Unlike the star, which does not require its group to appear in the\n",
        "matched string, the group preceding a plus must appear at least once. It is\n",
        "not optional. Enter the following into the interactive shell, and compare it\n",
        "with the star regexes in the previous section:"
      ]
    },
    {
      "cell_type": "code",
      "metadata": {
        "id": "v-ptR8Y0Im7X",
        "outputId": "24a60b0e-3571-4af9-f435-b38a5ed9d0e2",
        "colab": {
          "base_uri": "https://localhost:8080/",
          "height": 35
        }
      },
      "source": [
        "batRegex = re.compile(r'Bat(wo)+man')\n",
        "mo1 = batRegex.search('The Adventures of Batwoman')\n",
        "mo1.group()"
      ],
      "execution_count": 27,
      "outputs": [
        {
          "output_type": "execute_result",
          "data": {
            "application/vnd.google.colaboratory.intrinsic+json": {
              "type": "string"
            },
            "text/plain": [
              "'Batwoman'"
            ]
          },
          "metadata": {
            "tags": []
          },
          "execution_count": 27
        }
      ]
    },
    {
      "cell_type": "code",
      "metadata": {
        "id": "uC_JB_T9JIRI",
        "outputId": "0c6d6dc2-b99d-4b68-8dce-3f6d455048c4",
        "colab": {
          "base_uri": "https://localhost:8080/",
          "height": 35
        }
      },
      "source": [
        "mo2 = batRegex.search('The Adventures of Batwowowowoman')\n",
        "mo2.group()"
      ],
      "execution_count": 28,
      "outputs": [
        {
          "output_type": "execute_result",
          "data": {
            "application/vnd.google.colaboratory.intrinsic+json": {
              "type": "string"
            },
            "text/plain": [
              "'Batwowowowoman'"
            ]
          },
          "metadata": {
            "tags": []
          },
          "execution_count": 28
        }
      ]
    },
    {
      "cell_type": "code",
      "metadata": {
        "id": "lBp2xyUoJMzT",
        "outputId": "8124ca28-663b-462c-c14d-03768f534d68",
        "colab": {
          "base_uri": "https://localhost:8080/"
        }
      },
      "source": [
        "mo3 = batRegex.search('The Adventures of Batman')\n",
        "mo3 is None"
      ],
      "execution_count": 29,
      "outputs": [
        {
          "output_type": "execute_result",
          "data": {
            "text/plain": [
              "True"
            ]
          },
          "metadata": {
            "tags": []
          },
          "execution_count": 29
        }
      ]
    },
    {
      "cell_type": "markdown",
      "metadata": {
        "id": "__lfiS-OJceV"
      },
      "source": [
        "### Matching Specific Repetitions with Curly Brackets\n",
        "If you have a group that you want to repeat a specific number of times, follow the group in your regex with a number in curly brackets. For example,\n",
        "the regex (Ha){3} will match the string 'HaHaHa', but it will not match 'HaHa',\n",
        "since the latter has only two repeats of the (Ha) group.\n",
        "Instead of one number, you can specify a range by writing a minimum,\n",
        "a comma, and a maximum in between the curly brackets. For example, the\n",
        "regex (Ha){3,5} will match 'HaHaHa', 'HaHaHaHa', and 'HaHaHaHaHa'.\n",
        "You can also leave out the first or second number in the curly brackets\n",
        "to leave the minimum or maximum unbounded. For example, (Ha){3,} will\n",
        "match three or more instances of the (Ha) group, while (Ha){,5} will match\n",
        "zero to five instances. Curly brackets can help make your regular expressions shorter. These two regular expressions match identical patterns.\n",
        "```\n",
        "(Ha){3}\n",
        "(Ha)(Ha)(Ha)\n",
        "```\n",
        "```\n",
        "(Ha){3,5}\n",
        "((Ha)(Ha)(Ha))|((Ha)(Ha)(Ha)(Ha))|((Ha)(Ha)(Ha)(Ha)(Ha))\n",
        "```"
      ]
    },
    {
      "cell_type": "code",
      "metadata": {
        "id": "VyFyVojpJVGv",
        "outputId": "20f343a9-5d4f-4347-88ec-6f0bf140dbe0",
        "colab": {
          "base_uri": "https://localhost:8080/",
          "height": 35
        }
      },
      "source": [
        "haRegex = re.compile(r'(Ha){3}')\n",
        "mo1 = haRegex.search('HaHaHa')\n",
        "mo1.group()"
      ],
      "execution_count": 30,
      "outputs": [
        {
          "output_type": "execute_result",
          "data": {
            "application/vnd.google.colaboratory.intrinsic+json": {
              "type": "string"
            },
            "text/plain": [
              "'HaHaHa'"
            ]
          },
          "metadata": {
            "tags": []
          },
          "execution_count": 30
        }
      ]
    },
    {
      "cell_type": "code",
      "metadata": {
        "id": "d-8wRLQ7KA5k",
        "outputId": "4ce9fc48-4a66-401c-f491-10923d3048b4",
        "colab": {
          "base_uri": "https://localhost:8080/"
        }
      },
      "source": [
        "mo2 = haRegex.search('Ha')\n",
        "mo2 == None"
      ],
      "execution_count": 31,
      "outputs": [
        {
          "output_type": "execute_result",
          "data": {
            "text/plain": [
              "True"
            ]
          },
          "metadata": {
            "tags": []
          },
          "execution_count": 31
        }
      ]
    },
    {
      "cell_type": "markdown",
      "metadata": {
        "id": "eb07O71cKIWZ"
      },
      "source": [
        "Here, (Ha){3} matches 'HaHaHa' but not 'Ha'. Since it doesn’t match 'Ha',\n",
        "search() returns None."
      ]
    }
  ]
}