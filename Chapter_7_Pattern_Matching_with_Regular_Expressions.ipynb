{
  "nbformat": 4,
  "nbformat_minor": 0,
  "metadata": {
    "colab": {
      "name": "Chapter 7 - Pattern Matching with Regular Expressions.ipynb",
      "provenance": [],
      "authorship_tag": "ABX9TyOENq2493S7u+39c8Q+07bG",
      "include_colab_link": true
    },
    "kernelspec": {
      "name": "python3",
      "display_name": "Python 3"
    },
    "language_info": {
      "name": "python"
    }
  },
  "cells": [
    {
      "cell_type": "markdown",
      "metadata": {
        "id": "view-in-github",
        "colab_type": "text"
      },
      "source": [
        "<a href=\"https://colab.research.google.com/github/recervictory/Automate-the-boring-stuff-with-Python/blob/master/Chapter_7_Pattern_Matching_with_Regular_Expressions.ipynb\" target=\"_parent\"><img src=\"https://colab.research.google.com/assets/colab-badge.svg\" alt=\"Open In Colab\"/></a>"
      ]
    },
    {
      "cell_type": "markdown",
      "metadata": {
        "id": "6u1n_HIHO_XY"
      },
      "source": [
        "## Finding Patterns of text without regular expressions\n",
        "\n",
        "Patterns of text without regular expressions\n",
        "Say you want to find a phone number in a string. You know the pattern:\n",
        "three numbers, a hyphen, three numbers, a hyphen, and four numbers.\n",
        "Here’s an example: 415-555-4242.\n",
        "\n",
        "Let’s use a function named isPhoneNumber() to check whether a string\n",
        "matches this pattern, returning either True or False. Open a new file editor\n",
        "window and enter the following code; then save the file as isPhoneNumber.py:"
      ]
    },
    {
      "cell_type": "code",
      "metadata": {
        "id": "8PcGU_9SPIhh"
      },
      "source": [
        "def isPhoneNumber(text):\n",
        "  if len(text) != 12:\n",
        "    return False\n",
        "  for i in range(0, 3):\n",
        "    if not text[i].isdecimal():\n",
        "      return False\n",
        "    if text[3] != '-':\n",
        "      return False\n",
        "  for i in range(4, 7):\n",
        "    if not text[i].isdecimal():\n",
        "      return False\n",
        "    if text[7] != '-':\n",
        "      return False\n",
        "  for i in range(8, 12):\n",
        "    if not text[i].isdecimal():\n",
        "      return False\n",
        "  return True"
      ],
      "execution_count": 4,
      "outputs": []
    },
    {
      "cell_type": "code",
      "metadata": {
        "colab": {
          "base_uri": "https://localhost:8080/"
        },
        "id": "8tu53xOJP567",
        "outputId": "98eb7000-55e2-4fcd-c26a-a527ec7a0a18"
      },
      "source": [
        "print('415-555-4242 is a phone number:')\n",
        "print(isPhoneNumber('415-555-4242'))\n",
        "print('Moshi moshi is a phone number:')\n",
        "print(isPhoneNumber('Moshi moshi'))"
      ],
      "execution_count": 5,
      "outputs": [
        {
          "output_type": "stream",
          "text": [
            "415-555-4242 is a phone number:\n",
            "True\n",
            "Moshi moshi is a phone number:\n",
            "False\n"
          ],
          "name": "stdout"
        }
      ]
    },
    {
      "cell_type": "code",
      "metadata": {
        "id": "5Eqt4yHFP-fQ"
      },
      "source": [
        ""
      ],
      "execution_count": null,
      "outputs": []
    }
  ]
}