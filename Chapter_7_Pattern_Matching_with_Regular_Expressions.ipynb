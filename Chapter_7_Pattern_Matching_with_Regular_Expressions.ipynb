{
  "nbformat": 4,
  "nbformat_minor": 0,
  "metadata": {
    "colab": {
      "name": "Chapter 7 - Pattern Matching with Regular Expressions.ipynb",
      "provenance": [],
      "authorship_tag": "ABX9TyP5IM+u61a3+t/KOO7ELB4p",
      "include_colab_link": true
    },
    "kernelspec": {
      "name": "python3",
      "display_name": "Python 3"
    },
    "language_info": {
      "name": "python"
    }
  },
  "cells": [
    {
      "cell_type": "markdown",
      "metadata": {
        "id": "view-in-github",
        "colab_type": "text"
      },
      "source": [
        "<a href=\"https://colab.research.google.com/github/recervictory/Automate-the-boring-stuff-with-Python/blob/master/Chapter_7_Pattern_Matching_with_Regular_Expressions.ipynb\" target=\"_parent\"><img src=\"https://colab.research.google.com/assets/colab-badge.svg\" alt=\"Open In Colab\"/></a>"
      ]
    },
    {
      "cell_type": "markdown",
      "metadata": {
        "id": "6u1n_HIHO_XY"
      },
      "source": [
        "## Finding Patterns of text without regular expressions\n",
        "\n",
        "Patterns of text without regular expressions\n",
        "Say you want to find a phone number in a string. You know the pattern:\n",
        "three numbers, a hyphen, three numbers, a hyphen, and four numbers.\n",
        "Here’s an example: 415-555-4242.\n",
        "\n",
        "Let’s use a function named isPhoneNumber() to check whether a string\n",
        "matches this pattern, returning either True or False. Open a new file editor\n",
        "window and enter the following code; then save the file as isPhoneNumber.py:"
      ]
    },
    {
      "cell_type": "code",
      "metadata": {
        "id": "8PcGU_9SPIhh"
      },
      "source": [
        "def isPhoneNumber(text):\n",
        "  if len(text) != 12:\n",
        "    return False\n",
        "  for i in range(0, 3):\n",
        "    if not text[i].isdecimal():\n",
        "      return False\n",
        "    if text[3] != '-':\n",
        "      return False\n",
        "  for i in range(4, 7):\n",
        "    if not text[i].isdecimal():\n",
        "      return False\n",
        "    if text[7] != '-':\n",
        "      return False\n",
        "  for i in range(8, 12):\n",
        "    if not text[i].isdecimal():\n",
        "      return False\n",
        "  return True"
      ],
      "execution_count": null,
      "outputs": []
    },
    {
      "cell_type": "code",
      "metadata": {
        "colab": {
          "base_uri": "https://localhost:8080/"
        },
        "id": "8tu53xOJP567",
        "outputId": "92a983e5-4201-4f39-f37f-fe4a208ffcda"
      },
      "source": [
        "print('415-555-4242 is a phone number:')\n",
        "print(isPhoneNumber('415-555-4242'))\n",
        "print('Moshi moshi is a phone number:')\n",
        "print(isPhoneNumber('Moshi moshi'))"
      ],
      "execution_count": null,
      "outputs": [
        {
          "output_type": "stream",
          "text": [
            "415-555-4242 is a phone number:\n",
            "True\n",
            "Moshi moshi is a phone number:\n",
            "False\n"
          ],
          "name": "stdout"
        }
      ]
    },
    {
      "cell_type": "markdown",
      "metadata": {
        "id": "B792q7uIBY-J"
      },
      "source": [
        "The `isPhoneNumber()` function has code that does several checks to see whether the string in text is a valid phone number. If any of these checks fail, the function returns False. First the code checks that the string is exactly 12 characters.  \n",
        "\n",
        "Then it checks that the area code (that is, the first three characters in text) consists of only numeric characters.\n",
        "\n",
        "The rest of the function checks that the string follows the pattern of a phone number: The number must have the first hyphen after the area code w, three more numeric characters, then another hyphen, and finally four more numbers z. If the program execution manages to get past all the checks, it returns True."
      ]
    },
    {
      "cell_type": "markdown",
      "metadata": {
        "id": "cDOKXduHCSNd"
      },
      "source": [
        "Calling `isPhoneNumber()` with the argument '415-555-4242' will return\n",
        "True. Calling `isPhoneNumber()` with 'Moshi moshi' will return False; the first\n",
        "test fails because 'Moshi moshi' is not 12 characters long.\n",
        "You would have to add even more code to find this pattern of text in a\n",
        "larger string. "
      ]
    },
    {
      "cell_type": "code",
      "metadata": {
        "id": "5Eqt4yHFP-fQ",
        "colab": {
          "base_uri": "https://localhost:8080/"
        },
        "outputId": "547cf5ca-298c-4ec6-e88e-8e2afc0d2ed3"
      },
      "source": [
        "message = 'Call me at 415-555-1011 tomorrow. 485-555-1999 is my office.'\n",
        "for i in range(len(message)):\n",
        "  chunk = message[i:i+12]\n",
        "  if isPhoneNumber(chunk):\n",
        "    print('Phone number found: ' + chunk)\n",
        "print('Done')"
      ],
      "execution_count": null,
      "outputs": [
        {
          "output_type": "stream",
          "text": [
            "Phone number found: 415-555-1011\n",
            "Phone number found: 485-555-1999\n",
            "Done\n"
          ],
          "name": "stdout"
        }
      ]
    },
    {
      "cell_type": "markdown",
      "metadata": {
        "id": "gDscp65TC3tk"
      },
      "source": [
        "## Creating Regex Objects\n",
        "All the regex functions in Python are in the re module. Enter the following into the interactive shell to import this module:"
      ]
    },
    {
      "cell_type": "code",
      "metadata": {
        "id": "Pl9xFdK5Cjs-"
      },
      "source": [
        "import re"
      ],
      "execution_count": 2,
      "outputs": []
    },
    {
      "cell_type": "markdown",
      "metadata": {
        "id": "rc6KttcjDLHe"
      },
      "source": [
        "### Matching Regex Objects\n",
        "\n",
        "A Regex object’s search() method searches the string it is passed for any\n",
        "matches to the regex. The search() method will return None if the regex pattern is not found in the string. If the pattern is found, the search() method\n",
        "returns a Match object. Match objects have a group() method that will return\n",
        "the actual matched text from the searched string. (I’ll explain groups\n",
        "shortly.) For example, enter the following into the interactive shell:"
      ]
    },
    {
      "cell_type": "code",
      "metadata": {
        "colab": {
          "base_uri": "https://localhost:8080/"
        },
        "id": "5sp0H-fwDDaF",
        "outputId": "9f901162-dc1f-4c27-a748-811b992bc894"
      },
      "source": [
        "phoneNumRegex = re.compile(r'\\d\\d\\d-\\d\\d\\d-\\d\\d\\d\\d')\n",
        "mo = phoneNumRegex.search('My number is 415-555-4242.')\n",
        "print('Phone number found: ' + mo.group())"
      ],
      "execution_count": null,
      "outputs": [
        {
          "output_type": "stream",
          "text": [
            "Phone number found: 415-555-4242\n"
          ],
          "name": "stdout"
        }
      ]
    },
    {
      "cell_type": "code",
      "metadata": {
        "colab": {
          "base_uri": "https://localhost:8080/"
        },
        "id": "9uW0onKqDvII",
        "outputId": "02fbd401-e920-466a-80e2-eefd10308f7e"
      },
      "source": [
        "phoneNumRegex = re.compile(r'(\\d\\d\\d)-(\\d\\d\\d-\\d\\d\\d\\d)')\n",
        "mo = phoneNumRegex.search('My number is 415-555-4242.')\n",
        "print('Phone number found: ' + mo.group())"
      ],
      "execution_count": null,
      "outputs": [
        {
          "output_type": "stream",
          "text": [
            "Phone number found: 415-555-4242\n"
          ],
          "name": "stdout"
        }
      ]
    },
    {
      "cell_type": "code",
      "metadata": {
        "id": "lC_XEWJMLz-V",
        "colab": {
          "base_uri": "https://localhost:8080/"
        },
        "outputId": "5afd1f36-0643-4cb3-f022-6f303963627a"
      },
      "source": [
        "indianNumRegex = re.compile(r'(\\+91)-(\\d\\d\\d\\d\\d-\\d\\d\\d\\d\\d)')\n",
        "mo = indianNumRegex.search('My number is +91-99999-12345.')\n",
        "print('Indian number found: ' + mo.group())"
      ],
      "execution_count": null,
      "outputs": [
        {
          "output_type": "stream",
          "text": [
            "Indian number found: +91-99999-12345\n"
          ],
          "name": "stdout"
        }
      ]
    },
    {
      "cell_type": "code",
      "metadata": {
        "colab": {
          "base_uri": "https://localhost:8080/",
          "height": 35
        },
        "id": "WAtNfDOyD5-u",
        "outputId": "b61f1658-63d7-4768-977c-05ff97285204"
      },
      "source": [
        "mo.group(1)"
      ],
      "execution_count": null,
      "outputs": [
        {
          "output_type": "execute_result",
          "data": {
            "application/vnd.google.colaboratory.intrinsic+json": {
              "type": "string"
            },
            "text/plain": [
              "'+91'"
            ]
          },
          "metadata": {
            "tags": []
          },
          "execution_count": 50
        }
      ]
    },
    {
      "cell_type": "code",
      "metadata": {
        "colab": {
          "base_uri": "https://localhost:8080/",
          "height": 35
        },
        "id": "9P1xxZBGD9t_",
        "outputId": "1ec96395-6544-45f3-f622-359dc8f71c78"
      },
      "source": [
        "mo.group(2)"
      ],
      "execution_count": null,
      "outputs": [
        {
          "output_type": "execute_result",
          "data": {
            "application/vnd.google.colaboratory.intrinsic+json": {
              "type": "string"
            },
            "text/plain": [
              "'99999-12345'"
            ]
          },
          "metadata": {
            "tags": []
          },
          "execution_count": 55
        }
      ]
    },
    {
      "cell_type": "code",
      "metadata": {
        "colab": {
          "base_uri": "https://localhost:8080/",
          "height": 35
        },
        "id": "FMnYHIGrEAcV",
        "outputId": "258b8db0-5b51-446f-8af8-a43465288e9a"
      },
      "source": [
        "mo.group(0)"
      ],
      "execution_count": null,
      "outputs": [
        {
          "output_type": "execute_result",
          "data": {
            "application/vnd.google.colaboratory.intrinsic+json": {
              "type": "string"
            },
            "text/plain": [
              "'+91-99999-12345'"
            ]
          },
          "metadata": {
            "tags": []
          },
          "execution_count": 56
        }
      ]
    },
    {
      "cell_type": "code",
      "metadata": {
        "colab": {
          "base_uri": "https://localhost:8080/"
        },
        "id": "h2Fa7ce7EFTx",
        "outputId": "47a8ed67-fe5c-4f66-9e35-22db533ba939"
      },
      "source": [
        "mo.groups()"
      ],
      "execution_count": null,
      "outputs": [
        {
          "output_type": "execute_result",
          "data": {
            "text/plain": [
              "('+91', '99999-12345')"
            ]
          },
          "metadata": {
            "tags": []
          },
          "execution_count": 57
        }
      ]
    },
    {
      "cell_type": "code",
      "metadata": {
        "id": "78OGZZq8EI8e"
      },
      "source": [
        "areaCode, mainNumber = mo.groups()"
      ],
      "execution_count": null,
      "outputs": []
    },
    {
      "cell_type": "code",
      "metadata": {
        "colab": {
          "base_uri": "https://localhost:8080/"
        },
        "id": "MhtvEsuHEMK6",
        "outputId": "4475b261-37d7-417a-fd0d-b376f4edd491"
      },
      "source": [
        "print(areaCode)"
      ],
      "execution_count": null,
      "outputs": [
        {
          "output_type": "stream",
          "text": [
            "+91\n"
          ],
          "name": "stdout"
        }
      ]
    },
    {
      "cell_type": "code",
      "metadata": {
        "colab": {
          "base_uri": "https://localhost:8080/"
        },
        "id": "nLwk9QtzEM-z",
        "outputId": "bbf004d8-9322-45b1-f614-4d471ec459bf"
      },
      "source": [
        "print(mainNumber)"
      ],
      "execution_count": null,
      "outputs": [
        {
          "output_type": "stream",
          "text": [
            "99999-12345\n"
          ],
          "name": "stdout"
        }
      ]
    },
    {
      "cell_type": "markdown",
      "metadata": {
        "id": "K3UmVPydFFsB"
      },
      "source": [
        "### Matching Multiple Groups with the Pipe\n",
        "\n",
        "The `|` character is called a pipe. You can use it anywhere you want to match one\n",
        "of many expressions. For example, the regular expression `r'Batman|Tina Fey'`\n",
        "will match either **'Batman'** or **'Tina Fey'**.\n",
        "When both Batman and Tina Fey occur in the searched string, the first\n",
        "occurrence of matching text will be returned as the Match object.\n"
      ]
    },
    {
      "cell_type": "code",
      "metadata": {
        "colab": {
          "base_uri": "https://localhost:8080/",
          "height": 35
        },
        "id": "FJEkcHC_FE54",
        "outputId": "b246a534-7ca2-4717-dc08-c1a1ab309a1f"
      },
      "source": [
        "heroRegex = re.compile (r'Batman|Tina Fey')\n",
        "mo1 = heroRegex.search('Batman and Tina Fey.')\n",
        "mo1.group()"
      ],
      "execution_count": null,
      "outputs": [
        {
          "output_type": "execute_result",
          "data": {
            "application/vnd.google.colaboratory.intrinsic+json": {
              "type": "string"
            },
            "text/plain": [
              "'Batman'"
            ]
          },
          "metadata": {
            "tags": []
          },
          "execution_count": 61
        }
      ]
    },
    {
      "cell_type": "code",
      "metadata": {
        "colab": {
          "base_uri": "https://localhost:8080/",
          "height": 35
        },
        "id": "dKhefViFFd-W",
        "outputId": "e292d8eb-6992-474e-f83b-503d9918b6b6"
      },
      "source": [
        "mo2 = heroRegex.search('Tina Fey and Batman.')\n",
        "mo2.group()"
      ],
      "execution_count": null,
      "outputs": [
        {
          "output_type": "execute_result",
          "data": {
            "application/vnd.google.colaboratory.intrinsic+json": {
              "type": "string"
            },
            "text/plain": [
              "'Tina Fey'"
            ]
          },
          "metadata": {
            "tags": []
          },
          "execution_count": 62
        }
      ]
    },
    {
      "cell_type": "markdown",
      "metadata": {
        "id": "LyH8ffvNFqOS"
      },
      "source": [
        "You can also use the pipe to match one of several patterns as part of\n",
        "your regex. \n",
        "\n",
        "For example, say you wanted to match any of the strings 'Batman',\n",
        "'Batmobile', 'Batcopter', and 'Batbat'. Since all these strings start with Bat, it would be nice if you could specify that prefix only once. This can be done\n",
        "with parentheses. Enter the following into the interactive shell:"
      ]
    },
    {
      "cell_type": "code",
      "metadata": {
        "colab": {
          "base_uri": "https://localhost:8080/",
          "height": 35
        },
        "id": "pkSZX_4oFksc",
        "outputId": "38c48b93-903a-4f93-9f27-328af563e0e6"
      },
      "source": [
        "batRegex = re.compile(r'Bat(man|mobile|copter|bat)')\n",
        "mo = batRegex.search('Batmobile lost a wheel')\n",
        "mo.group()"
      ],
      "execution_count": null,
      "outputs": [
        {
          "output_type": "execute_result",
          "data": {
            "application/vnd.google.colaboratory.intrinsic+json": {
              "type": "string"
            },
            "text/plain": [
              "'Batmobile'"
            ]
          },
          "metadata": {
            "tags": []
          },
          "execution_count": 63
        }
      ]
    },
    {
      "cell_type": "code",
      "metadata": {
        "colab": {
          "base_uri": "https://localhost:8080/",
          "height": 35
        },
        "id": "a_DucDjLF2rA",
        "outputId": "37cc5fcf-0186-4e65-fd17-ad8e50551ded"
      },
      "source": [
        "mo.group(1)"
      ],
      "execution_count": null,
      "outputs": [
        {
          "output_type": "execute_result",
          "data": {
            "application/vnd.google.colaboratory.intrinsic+json": {
              "type": "string"
            },
            "text/plain": [
              "'mobile'"
            ]
          },
          "metadata": {
            "tags": []
          },
          "execution_count": 64
        }
      ]
    },
    {
      "cell_type": "markdown",
      "metadata": {
        "id": "rav0uzbXF-PO"
      },
      "source": [
        "### Optional Matching with the Question Mark\n",
        "\n",
        "Sometimes there is a pattern that you want to match only optionally. That\n",
        "is, the regex should find a match whether or not that bit of text is there.\n",
        "The ? character flags the group that precedes it as an optional part of the\n",
        "pattern. For example, enter the following into the interactive shell:"
      ]
    },
    {
      "cell_type": "code",
      "metadata": {
        "colab": {
          "base_uri": "https://localhost:8080/",
          "height": 35
        },
        "id": "PO-z2Mg6F5fn",
        "outputId": "a8cda015-4ee9-46a1-89f2-cd0acd24e47e"
      },
      "source": [
        "batRegex = re.compile(r'Bat(wo)?man')\n",
        "mo1 = batRegex.search('The Adventures of Batman')\n",
        "mo1.group()"
      ],
      "execution_count": null,
      "outputs": [
        {
          "output_type": "execute_result",
          "data": {
            "application/vnd.google.colaboratory.intrinsic+json": {
              "type": "string"
            },
            "text/plain": [
              "'Batman'"
            ]
          },
          "metadata": {
            "tags": []
          },
          "execution_count": 65
        }
      ]
    },
    {
      "cell_type": "code",
      "metadata": {
        "colab": {
          "base_uri": "https://localhost:8080/",
          "height": 35
        },
        "id": "ubgBQcZGGIfN",
        "outputId": "d488a9eb-4069-4dc2-e223-83f8ee8bc314"
      },
      "source": [
        "mo2 = batRegex.search('The Adventures of Batwoman')\n",
        "mo2.group()"
      ],
      "execution_count": null,
      "outputs": [
        {
          "output_type": "execute_result",
          "data": {
            "application/vnd.google.colaboratory.intrinsic+json": {
              "type": "string"
            },
            "text/plain": [
              "'Batwoman'"
            ]
          },
          "metadata": {
            "tags": []
          },
          "execution_count": 66
        }
      ]
    },
    {
      "cell_type": "markdown",
      "metadata": {
        "id": "GBG0XHfPGVRe"
      },
      "source": [
        "The (wo)? part of the regular expression means that the pattern wo is\n",
        "an optional group. The regex will match text that has zero instances or\n",
        "one instance of wo in it. This is why the regex matches both 'Batwoman' and\n",
        "'Batman'.\n",
        "Using the earlier phone number example, you can make the regex look\n",
        "for phone numbers that do or do not have an area code. Enter the following\n",
        "into the interactive shell:"
      ]
    },
    {
      "cell_type": "code",
      "metadata": {
        "colab": {
          "base_uri": "https://localhost:8080/",
          "height": 35
        },
        "id": "jRjcK4_2GT9m",
        "outputId": "f9f33451-d17a-4fd8-c7d7-81b29a737773"
      },
      "source": [
        "phoneRegex = re.compile(r'(\\d\\d\\d-)?\\d\\d\\d-\\d\\d\\d\\d')\n",
        "mo1 = phoneRegex.search('My number is 415-555-4242')\n",
        "mo1.group()"
      ],
      "execution_count": null,
      "outputs": [
        {
          "output_type": "execute_result",
          "data": {
            "application/vnd.google.colaboratory.intrinsic+json": {
              "type": "string"
            },
            "text/plain": [
              "'415-555-4242'"
            ]
          },
          "metadata": {
            "tags": []
          },
          "execution_count": 67
        }
      ]
    },
    {
      "cell_type": "code",
      "metadata": {
        "colab": {
          "base_uri": "https://localhost:8080/",
          "height": 35
        },
        "id": "dj66pF2AGSZ8",
        "outputId": "8f4bfb89-b975-4595-8878-51cbd3e52e1a"
      },
      "source": [
        "mo2 = phoneRegex.search('My number is 555-4242')\n",
        "mo2.group()"
      ],
      "execution_count": null,
      "outputs": [
        {
          "output_type": "execute_result",
          "data": {
            "application/vnd.google.colaboratory.intrinsic+json": {
              "type": "string"
            },
            "text/plain": [
              "'555-4242'"
            ]
          },
          "metadata": {
            "tags": []
          },
          "execution_count": 68
        }
      ]
    },
    {
      "cell_type": "markdown",
      "metadata": {
        "id": "es1p1PBQIQSW"
      },
      "source": [
        "### Matching Zero or More with the Star(`*`)\n",
        "\n",
        "The `*` (called the star or asterisk) means “match zero or more”—the group\n",
        "that precedes the star can occur any number of times in the text. It can be\n",
        "completely absent or repeated over and over again. Let’s look at the Batman\n",
        "example again."
      ]
    },
    {
      "cell_type": "code",
      "metadata": {
        "colab": {
          "base_uri": "https://localhost:8080/",
          "height": 35
        },
        "id": "_dVcBmJUGMIO",
        "outputId": "103fca1e-fb7b-4ec9-d339-ac0e4267dbd3"
      },
      "source": [
        "batRegex = re.compile(r'Bat(wo)*man')\n",
        "mo1 = batRegex.search('The Adventures of Batman')\n",
        "mo1.group()"
      ],
      "execution_count": null,
      "outputs": [
        {
          "output_type": "execute_result",
          "data": {
            "application/vnd.google.colaboratory.intrinsic+json": {
              "type": "string"
            },
            "text/plain": [
              "'Batman'"
            ]
          },
          "metadata": {
            "tags": []
          },
          "execution_count": 69
        }
      ]
    },
    {
      "cell_type": "code",
      "metadata": {
        "colab": {
          "base_uri": "https://localhost:8080/",
          "height": 35
        },
        "id": "Myi1aMBUIceM",
        "outputId": "a44fd8a2-17cb-4811-8c17-46745270d93a"
      },
      "source": [
        "mo2 = batRegex.search('The Adventures of Batwoman')\n",
        "mo2.group()"
      ],
      "execution_count": null,
      "outputs": [
        {
          "output_type": "execute_result",
          "data": {
            "application/vnd.google.colaboratory.intrinsic+json": {
              "type": "string"
            },
            "text/plain": [
              "'Batwoman'"
            ]
          },
          "metadata": {
            "tags": []
          },
          "execution_count": 70
        }
      ]
    },
    {
      "cell_type": "code",
      "metadata": {
        "colab": {
          "base_uri": "https://localhost:8080/",
          "height": 35
        },
        "id": "fnVkOiJdIie5",
        "outputId": "5640e62f-1ce0-493d-b3de-6f29c313f2a8"
      },
      "source": [
        "mo3 = batRegex.search('The Adventures of Batwowowowoman')\n",
        "mo3.group()"
      ],
      "execution_count": null,
      "outputs": [
        {
          "output_type": "execute_result",
          "data": {
            "application/vnd.google.colaboratory.intrinsic+json": {
              "type": "string"
            },
            "text/plain": [
              "'Batwowowowoman'"
            ]
          },
          "metadata": {
            "tags": []
          },
          "execution_count": 71
        }
      ]
    },
    {
      "cell_type": "markdown",
      "metadata": {
        "id": "gxoDHdV6It7c"
      },
      "source": [
        "For 'Batman', the `(wo)*` part of the regex matches zero instances of wo\n",
        "in the string; for 'Batwoman', the `(wo)*` matches one instance of wo; and for\n",
        "'Batwowowowoman', `(wo)*` matches four instances of wo.\n",
        "If you need to match an actual star character, prefix the star in the\n",
        "regular expression with a backslash,`\\*`."
      ]
    },
    {
      "cell_type": "markdown",
      "metadata": {
        "id": "BsOeFb_qI-df"
      },
      "source": [
        "### Matching One or More with the Plus(`+`)\n",
        "While * means “match zero or more,” the + (or plus) means “match one or\n",
        "more.” Unlike the star, which does not require its group to appear in the\n",
        "matched string, the group preceding a plus must appear at least once. It is\n",
        "not optional. Enter the following into the interactive shell, and compare it\n",
        "with the star regexes in the previous section:"
      ]
    },
    {
      "cell_type": "code",
      "metadata": {
        "colab": {
          "base_uri": "https://localhost:8080/",
          "height": 35
        },
        "id": "v-ptR8Y0Im7X",
        "outputId": "65d255c9-f215-40ed-f0e4-9de3cd81a062"
      },
      "source": [
        "batRegex = re.compile(r'Bat(wo)+man')\n",
        "mo1 = batRegex.search('The Adventures of Batwoman')\n",
        "mo1.group()"
      ],
      "execution_count": null,
      "outputs": [
        {
          "output_type": "execute_result",
          "data": {
            "application/vnd.google.colaboratory.intrinsic+json": {
              "type": "string"
            },
            "text/plain": [
              "'Batwoman'"
            ]
          },
          "metadata": {
            "tags": []
          },
          "execution_count": 72
        }
      ]
    },
    {
      "cell_type": "code",
      "metadata": {
        "colab": {
          "base_uri": "https://localhost:8080/",
          "height": 35
        },
        "id": "uC_JB_T9JIRI",
        "outputId": "d82e6da7-31ee-4d99-9dd7-4c952f767925"
      },
      "source": [
        "mo2 = batRegex.search('The Adventures of Batwowowowoman')\n",
        "mo2.group()"
      ],
      "execution_count": null,
      "outputs": [
        {
          "output_type": "execute_result",
          "data": {
            "application/vnd.google.colaboratory.intrinsic+json": {
              "type": "string"
            },
            "text/plain": [
              "'Batwowowowoman'"
            ]
          },
          "metadata": {
            "tags": []
          },
          "execution_count": 73
        }
      ]
    },
    {
      "cell_type": "code",
      "metadata": {
        "colab": {
          "base_uri": "https://localhost:8080/"
        },
        "id": "lBp2xyUoJMzT",
        "outputId": "799673bd-6f49-40c6-ccbb-74272ab8896f"
      },
      "source": [
        "mo3 = batRegex.search('The Adventures of Batman')\n",
        "mo3 is None"
      ],
      "execution_count": null,
      "outputs": [
        {
          "output_type": "execute_result",
          "data": {
            "text/plain": [
              "True"
            ]
          },
          "metadata": {
            "tags": []
          },
          "execution_count": 74
        }
      ]
    },
    {
      "cell_type": "markdown",
      "metadata": {
        "id": "__lfiS-OJceV"
      },
      "source": [
        "### Matching Specific Repetitions with Curly Brackets\n",
        "If you have a group that you want to repeat a specific number of times, follow the group in your regex with a number in curly brackets. For example,\n",
        "the regex (Ha){3} will match the string 'HaHaHa', but it will not match 'HaHa',\n",
        "since the latter has only two repeats of the (Ha) group.\n",
        "Instead of one number, you can specify a range by writing a minimum,\n",
        "a comma, and a maximum in between the curly brackets. For example, the\n",
        "regex (Ha){3,5} will match 'HaHaHa', 'HaHaHaHa', and 'HaHaHaHaHa'.\n",
        "You can also leave out the first or second number in the curly brackets\n",
        "to leave the minimum or maximum unbounded. \n",
        "\n",
        "For example, (Ha){3,} will\n",
        "match three or more instances of the (Ha) group, while (Ha){,5} will match\n",
        "zero to five instances. Curly brackets can help make your regular expressions shorter. These two regular expressions match identical patterns.\n",
        "```\n",
        "(Ha){3}\n",
        "(Ha)(Ha)(Ha)\n",
        "```\n",
        "```\n",
        "(Ha){3,5}\n",
        "((Ha)(Ha)(Ha))|((Ha)(Ha)(Ha)(Ha))|((Ha)(Ha)(Ha)(Ha)(Ha))\n",
        "```"
      ]
    },
    {
      "cell_type": "code",
      "metadata": {
        "colab": {
          "base_uri": "https://localhost:8080/",
          "height": 35
        },
        "id": "VyFyVojpJVGv",
        "outputId": "bb7472b4-0b81-4295-a821-19329bf7233c"
      },
      "source": [
        "haRegex = re.compile(r'(Ha){0,3}')\n",
        "mo1 = haRegex.search('HaHaHa')\n",
        "mo1.group()"
      ],
      "execution_count": null,
      "outputs": [
        {
          "output_type": "execute_result",
          "data": {
            "application/vnd.google.colaboratory.intrinsic+json": {
              "type": "string"
            },
            "text/plain": [
              "'HaHaHa'"
            ]
          },
          "metadata": {
            "tags": []
          },
          "execution_count": 77
        }
      ]
    },
    {
      "cell_type": "code",
      "metadata": {
        "colab": {
          "base_uri": "https://localhost:8080/"
        },
        "id": "d-8wRLQ7KA5k",
        "outputId": "0b5aa7e5-887b-44a3-ab15-52e63a6b9d12"
      },
      "source": [
        "mo2 = haRegex.search('Ha')\n",
        "mo2 == None"
      ],
      "execution_count": null,
      "outputs": [
        {
          "output_type": "execute_result",
          "data": {
            "text/plain": [
              "False"
            ]
          },
          "metadata": {
            "tags": []
          },
          "execution_count": 78
        }
      ]
    },
    {
      "cell_type": "markdown",
      "metadata": {
        "id": "eb07O71cKIWZ"
      },
      "source": [
        "Here, (Ha){3} matches 'HaHaHa' but not 'Ha'. Since it doesn’t match 'Ha',\n",
        "search() returns None."
      ]
    },
    {
      "cell_type": "markdown",
      "metadata": {
        "id": "CnOTGxA-chZ1"
      },
      "source": [
        "### Greedy and Nongreedy matching\n",
        "Since (Ha){3,5} can match three, four, or five instances of Ha in the string\n",
        "'HaHaHaHaHa', you may wonder why the Match object’s call to group() in the previous curly bracket example returns 'HaHaHaHaHa' instead of the shorter\n",
        "possibilities. After all, 'HaHaHa' and 'HaHaHaHa' are also valid matches of the\n",
        "regular expression (Ha){3,5}.\n",
        "Python’s regular expressions are greedy by default, which means that in\n",
        "ambiguous situations they will match the longest string possible. The nongreedy version of the curly brackets, which matches the shortest string possible, has the closing curly bracket followed by a question mark.\n",
        "Enter the following into the interactive shell, and notice the difference between the greedy and nongreedy forms of the curly brackets\n",
        "searching the same string:"
      ]
    },
    {
      "cell_type": "code",
      "metadata": {
        "colab": {
          "base_uri": "https://localhost:8080/",
          "height": 35
        },
        "id": "zQGd3kbHc4NJ",
        "outputId": "6fed8be5-3b08-4358-bdf1-66b6dc01982b"
      },
      "source": [
        "greedyHaRegex = re.compile(r'(Ha){3,5}')\n",
        "mo1 = greedyHaRegex.search('HaHaHaHaHa')\n",
        "mo1.group()"
      ],
      "execution_count": 3,
      "outputs": [
        {
          "output_type": "execute_result",
          "data": {
            "application/vnd.google.colaboratory.intrinsic+json": {
              "type": "string"
            },
            "text/plain": [
              "'HaHaHaHaHa'"
            ]
          },
          "metadata": {},
          "execution_count": 3
        }
      ]
    },
    {
      "cell_type": "code",
      "metadata": {
        "colab": {
          "base_uri": "https://localhost:8080/",
          "height": 35
        },
        "id": "TdPEVu0Uc7q5",
        "outputId": "a60d7992-acfe-41d5-e811-a64e882f9acd"
      },
      "source": [
        "nongreedyHaRegex = re.compile(r'(Ha){3,5}?')\n",
        "mo2 = nongreedyHaRegex.search('HaHaHaHaHa')\n",
        "mo2.group()"
      ],
      "execution_count": 5,
      "outputs": [
        {
          "output_type": "execute_result",
          "data": {
            "application/vnd.google.colaboratory.intrinsic+json": {
              "type": "string"
            },
            "text/plain": [
              "'HaHaHa'"
            ]
          },
          "metadata": {},
          "execution_count": 5
        }
      ]
    },
    {
      "cell_type": "markdown",
      "metadata": {
        "id": "PyA7Y7EEdXiV"
      },
      "source": [
        "# `the findall() method`\n",
        "In addition to the search() method, Regex objects also have a findall()\n",
        "method. While search() will return a Match object of the first matched text\n",
        "in the searched string, the findall() method will return the strings of every\n",
        "match in the searched string. To see how search() returns a Match object\n",
        "only on the first instance of matching text, enter the following into the\n",
        "interactive shell:\n"
      ]
    },
    {
      "cell_type": "code",
      "metadata": {
        "colab": {
          "base_uri": "https://localhost:8080/",
          "height": 35
        },
        "id": "8azSGajLdQE6",
        "outputId": "16f551b0-e6c8-46b7-8296-724d28a2dd04"
      },
      "source": [
        "phoneNumRegex = re.compile(r'\\d\\d\\d-\\d\\d\\d-\\d\\d\\d\\d')\n",
        "mo = phoneNumRegex.search('Cell: 415-555-9999 Work: 212-555-0000')\n",
        "mo.group()"
      ],
      "execution_count": 6,
      "outputs": [
        {
          "output_type": "execute_result",
          "data": {
            "application/vnd.google.colaboratory.intrinsic+json": {
              "type": "string"
            },
            "text/plain": [
              "'415-555-9999'"
            ]
          },
          "metadata": {},
          "execution_count": 6
        }
      ]
    },
    {
      "cell_type": "markdown",
      "metadata": {
        "id": "E7g0_08Id06o"
      },
      "source": [
        "On the other hand, findall() will not return a Match object but a list of\n",
        "strings—as long as there are no groups in the regular expression. Each string in\n",
        "the list is a piece of the searched text that matched the regular expression.\n",
        "Enter the following into the interactive shell:"
      ]
    },
    {
      "cell_type": "code",
      "metadata": {
        "colab": {
          "base_uri": "https://localhost:8080/"
        },
        "id": "AY435ogMdvbi",
        "outputId": "3a37649f-f356-4f22-c3fa-bbcfa3172e61"
      },
      "source": [
        "phoneNumRegex = re.compile(r'\\d\\d\\d-\\d\\d\\d-\\d\\d\\d\\d') # has no groups\n",
        "phoneNumRegex.findall('Cell: 415-555-9999 Work: 212-555-0000 office: 756-526-0101')"
      ],
      "execution_count": 8,
      "outputs": [
        {
          "output_type": "execute_result",
          "data": {
            "text/plain": [
              "['415-555-9999', '212-555-0000', '756-526-0101']"
            ]
          },
          "metadata": {},
          "execution_count": 8
        }
      ]
    },
    {
      "cell_type": "markdown",
      "metadata": {
        "id": "ytR5XrdDeOt5"
      },
      "source": [
        "If there are groups in the regular expression, then findall() will return\n",
        "a list of tuples. Each tuple represents a found match, and its items are the matched strings for each group in the regex. To see findall() in action, enter\n",
        "the following into the interactive shell (notice that the regular expression\n",
        "being compiled now has groups in parentheses):"
      ]
    },
    {
      "cell_type": "code",
      "metadata": {
        "colab": {
          "base_uri": "https://localhost:8080/"
        },
        "id": "ggTj-zj6eCGM",
        "outputId": "0857edac-1020-4997-b8c2-c5d302145e0f"
      },
      "source": [
        "phoneNumRegex = re.compile(r'(\\d\\d\\d)-(\\d\\d\\d)-(\\d\\d\\d\\d)') # has groups\n",
        "phoneNumRegex.findall('Cell: 415-555-9999 Work: 212-555-0000')"
      ],
      "execution_count": 9,
      "outputs": [
        {
          "output_type": "execute_result",
          "data": {
            "text/plain": [
              "[('415', '555', '9999'), ('212', '555', '0000')]"
            ]
          },
          "metadata": {},
          "execution_count": 9
        }
      ]
    },
    {
      "cell_type": "markdown",
      "metadata": {
        "id": "71NMuBvSefCN"
      },
      "source": [
        "### To summarize what the findall() method returns, remember the following:\n",
        "1. When called on a regex with no groups, such as \\d\\d\\d-\\d\\d\\d-\\d\\d\\d\\d,\n",
        "the method `findall()` returns a list of string matches, such as ['415-555-\n",
        "9999', '212-555-0000']\n",
        "2. When called on a regex that has groups, such as (\\d\\d\\d)-(\\d\\d\\d)-(\\d\\d\\d\\d), the method findall() returns a list of tuples of strings (one string\n",
        "for each group), such as [('415', '555', '1122'), ('212', '555', '0000')].\n"
      ]
    },
    {
      "cell_type": "markdown",
      "metadata": {
        "id": "xXXEKXFNe5dp"
      },
      "source": [
        "### Character Classes\n",
        "In the earlier phone number regex example, you learned that \\d could\n",
        "stand for any numeric digit. That is, \\d is shorthand for the regular expression (0|1|2|3|4|5|6|7|8|9). There are many such shorthand character classes, as shown in Table 7-1.\n",
        "- \\d Any numeric digit from 0 to 9.\n",
        "- \\D Any character that is not a numeric digit from 0 to 9.\n",
        "- \\w Any letter, numeric digit, or the underscore character.\n",
        "(Think of this as matching “word” characters.)\n",
        "- \\W Any character that is not a letter, numeric digit, or the\n",
        "underscore character.\n",
        "- \\s Any space, tab, or newline character. (Think of this as\n",
        "matching “space” characters.)\n",
        "- \\S Any character that is not a space, tab, or newline."
      ]
    },
    {
      "cell_type": "code",
      "metadata": {
        "colab": {
          "base_uri": "https://localhost:8080/"
        },
        "id": "vwE5oavheawT",
        "outputId": "8aa90144-b952-4a3c-bcd6-125866fe847d"
      },
      "source": [
        "xmasRegex = re.compile(r'\\d+\\s\\w+')\n",
        "xmasRegex.findall('12 drummers, 11 pipers, 10 lords, 9 ladies, 8 maids, 7 swans, 6 geese, 5 rings, 4 birds, 3 hens, 2 doves, 1 partridge')"
      ],
      "execution_count": 10,
      "outputs": [
        {
          "output_type": "execute_result",
          "data": {
            "text/plain": [
              "['12 drummers',\n",
              " '11 pipers',\n",
              " '10 lords',\n",
              " '9 ladies',\n",
              " '8 maids',\n",
              " '7 swans',\n",
              " '6 geese',\n",
              " '5 rings',\n",
              " '4 birds',\n",
              " '3 hens',\n",
              " '2 doves',\n",
              " '1 partridge']"
            ]
          },
          "metadata": {},
          "execution_count": 10
        }
      ]
    },
    {
      "cell_type": "code",
      "metadata": {
        "colab": {
          "base_uri": "https://localhost:8080/"
        },
        "id": "0kkgPiXPfuqn",
        "outputId": "e042e635-269f-405b-e015-82a4155626b5"
      },
      "source": [
        "xmasRegex = re.compile(r'(\\d+)\\s(\\w+)')\n",
        "xmasRegex.findall('12 drummers, 11 pipers, 10 lords, 9 ladies, 8 maids, 7 swans, 6 geese, 5 rings, 4 birds, 3 hens, 2 doves, 1 partridge')"
      ],
      "execution_count": 11,
      "outputs": [
        {
          "output_type": "execute_result",
          "data": {
            "text/plain": [
              "[('12', 'drummers'),\n",
              " ('11', 'pipers'),\n",
              " ('10', 'lords'),\n",
              " ('9', 'ladies'),\n",
              " ('8', 'maids'),\n",
              " ('7', 'swans'),\n",
              " ('6', 'geese'),\n",
              " ('5', 'rings'),\n",
              " ('4', 'birds'),\n",
              " ('3', 'hens'),\n",
              " ('2', 'doves'),\n",
              " ('1', 'partridge')]"
            ]
          },
          "metadata": {},
          "execution_count": 11
        }
      ]
    },
    {
      "cell_type": "markdown",
      "metadata": {
        "id": "wIzpza23gRQb"
      },
      "source": [
        "# Making your own character classes\n",
        "There are times when you want to match a set of characters but the shorthand character classes (\\d, \\w, \\s, and so on) are too broad. You can define\n",
        "your own character class using **`square brackets []`**. For example, the character\n",
        "class [aeiouAEIOU] will match any vowel, both lowercase and uppercase. Enter\n",
        "the following into the interactive shell:\n"
      ]
    },
    {
      "cell_type": "code",
      "metadata": {
        "colab": {
          "base_uri": "https://localhost:8080/"
        },
        "id": "YbDkW6qff7K5",
        "outputId": "4a480349-e1cd-4511-eb2b-94d3ff67044b"
      },
      "source": [
        "vowelRegex = re.compile(r'[aeiouAEIOU]')\n",
        "vowelRegex.findall('RoboCop eats baby food. BABY FOOD.')"
      ],
      "execution_count": 12,
      "outputs": [
        {
          "output_type": "execute_result",
          "data": {
            "text/plain": [
              "['o', 'o', 'o', 'e', 'a', 'a', 'o', 'o', 'A', 'O', 'O']"
            ]
          },
          "metadata": {},
          "execution_count": 12
        }
      ]
    },
    {
      "cell_type": "markdown",
      "metadata": {
        "id": "Mttm3o7VhMpw"
      },
      "source": [
        "You can also include ranges of letters or numbers by using a hyphen.\n",
        "For example, the character class `[a-zA-Z0-9]` will match all lowercase letters,\n",
        "uppercase letters, and numbers.\n",
        "\n",
        "**Note that inside the square brackets, the normal regular expression\n",
        "symbols are not interpreted as such. This means you do not need to escape\n",
        "the `.`, `*`, `?`, or `()` characters with a preceding backslash. For example, the character class `[0-5.]` will match digits 0 to 5 and a period. You do not needto write it as `[0-5\\.]`.**\n",
        "\n",
        "By placing a caret character `(^)` just after the character class’s opening\n",
        "bracket, you can make a negative character class. A negative character class\n",
        "will match all the characters that are not in the character class. For example,\n",
        "enter the following into the interactive shell:"
      ]
    },
    {
      "cell_type": "code",
      "metadata": {
        "colab": {
          "base_uri": "https://localhost:8080/"
        },
        "id": "EWQhLuzMhAqu",
        "outputId": "b29e209b-64e7-42b7-d0bd-5d91b1dfccfb"
      },
      "source": [
        "consonantRegex = re.compile(r'[^aeiouAEIOU]')\n",
        "consonantRegex.findall('RoboCop eats baby food. BABY FOOD.')"
      ],
      "execution_count": 14,
      "outputs": [
        {
          "output_type": "execute_result",
          "data": {
            "text/plain": [
              "['R',\n",
              " 'b',\n",
              " 'C',\n",
              " 'p',\n",
              " ' ',\n",
              " 't',\n",
              " 's',\n",
              " ' ',\n",
              " 'b',\n",
              " 'b',\n",
              " 'y',\n",
              " ' ',\n",
              " 'f',\n",
              " 'd',\n",
              " '.',\n",
              " ' ',\n",
              " 'B',\n",
              " 'B',\n",
              " 'Y',\n",
              " ' ',\n",
              " 'F',\n",
              " 'D',\n",
              " '.']"
            ]
          },
          "metadata": {},
          "execution_count": 14
        }
      ]
    },
    {
      "cell_type": "markdown",
      "metadata": {
        "id": "-XblkVQrh6LW"
      },
      "source": [
        "Now, instead of matching every vowel, we’re matching every character that isn’t a vowel."
      ]
    },
    {
      "cell_type": "markdown",
      "metadata": {
        "id": "MuZ0HwDdiNTC"
      },
      "source": [
        "### The caret and dollar Sign characters\n",
        "\n",
        "You can also use the caret symbol `(^)` at the start of a regex to indicate that\n",
        "a match must occur at the **beginning** of the searched text. \n",
        "\n",
        "Likewise, you can\n",
        "put a dollar sign `($)` at the end of the regex to indicate the string must end\n",
        "with this regex pattern. And you can use the ^ and $ together to indicate\n",
        "that the entire string must match the regex—that is, it’s not enough for a\n",
        "match to be made on some subset of the string.\n",
        "\n",
        "For example, the `r'^Hello' `regular expression string matches strings\n",
        "that begin with 'Hello'. Enter the following into the interactive shell:"
      ]
    },
    {
      "cell_type": "code",
      "metadata": {
        "colab": {
          "base_uri": "https://localhost:8080/"
        },
        "id": "Kwo27rg5iG2y",
        "outputId": "996735ea-2189-4a04-fb13-35547f20938b"
      },
      "source": [
        "beginsWithHello = re.compile(r'^Hello')\n",
        "beginsWithHello.search('Hello world!')\n"
      ],
      "execution_count": 16,
      "outputs": [
        {
          "output_type": "execute_result",
          "data": {
            "text/plain": [
              "<re.Match object; span=(0, 5), match='Hello'>"
            ]
          },
          "metadata": {},
          "execution_count": 16
        }
      ]
    },
    {
      "cell_type": "code",
      "metadata": {
        "colab": {
          "base_uri": "https://localhost:8080/"
        },
        "id": "AE0s3zrrhyaQ",
        "outputId": "9ab2cbcf-12f9-40af-9d6e-2800e79db01d"
      },
      "source": [
        "beginsWithHello.search('He said hello.') == None"
      ],
      "execution_count": 17,
      "outputs": [
        {
          "output_type": "execute_result",
          "data": {
            "text/plain": [
              "True"
            ]
          },
          "metadata": {},
          "execution_count": 17
        }
      ]
    },
    {
      "cell_type": "markdown",
      "metadata": {
        "id": "94lzWLQDjYcv"
      },
      "source": [
        "The `r'\\d$'` regular expression string matches strings that end with a\n",
        "numeric character from 0 to 9. Enter the following into the interactive shell:"
      ]
    },
    {
      "cell_type": "code",
      "metadata": {
        "colab": {
          "base_uri": "https://localhost:8080/"
        },
        "id": "SxPQb_LAjL-o",
        "outputId": "72b54b1d-12bf-4775-aa43-a1716a37040e"
      },
      "source": [
        "endsWithNumber = re.compile(r'\\d$')\n",
        "end = endsWithNumber.search('Your number is 42')"
      ],
      "execution_count": 18,
      "outputs": [
        {
          "output_type": "execute_result",
          "data": {
            "text/plain": [
              "<re.Match object; span=(16, 17), match='2'>"
            ]
          },
          "metadata": {},
          "execution_count": 18
        }
      ]
    },
    {
      "cell_type": "code",
      "metadata": {
        "colab": {
          "base_uri": "https://localhost:8080/"
        },
        "id": "Po5aRfHijjs3",
        "outputId": "f86ef930-7ad2-4721-93fd-10dcce19ad59"
      },
      "source": [
        "endsWithNumber.search('Your number is forty two.') == None"
      ],
      "execution_count": 19,
      "outputs": [
        {
          "output_type": "execute_result",
          "data": {
            "text/plain": [
              "True"
            ]
          },
          "metadata": {},
          "execution_count": 19
        }
      ]
    },
    {
      "cell_type": "markdown",
      "metadata": {
        "id": "yfMH6qNEjxVL"
      },
      "source": [
        "The `r'^\\d+$'` regular expression string matches strings that both begin\n",
        "and end with `one or more` numeric characters. Enter the following into the\n",
        "interactive shell:"
      ]
    },
    {
      "cell_type": "code",
      "metadata": {
        "colab": {
          "base_uri": "https://localhost:8080/"
        },
        "id": "WWTcKbsejw_r",
        "outputId": "29403b47-8ecb-44e2-fefc-02b8e5b00b90"
      },
      "source": [
        "wholeStringIsNum = re.compile(r'^\\d+$')\n",
        "wholeStringIsNum.search('1234567890')"
      ],
      "execution_count": 20,
      "outputs": [
        {
          "output_type": "execute_result",
          "data": {
            "text/plain": [
              "<re.Match object; span=(0, 10), match='1234567890'>"
            ]
          },
          "metadata": {},
          "execution_count": 20
        }
      ]
    },
    {
      "cell_type": "code",
      "metadata": {
        "colab": {
          "base_uri": "https://localhost:8080/"
        },
        "id": "i_g8fSBmjrAj",
        "outputId": "2fa5f888-ee0a-477c-af32-28954b409486"
      },
      "source": [
        "wholeStringIsNum.search('12345xyz67890') == None"
      ],
      "execution_count": 21,
      "outputs": [
        {
          "output_type": "execute_result",
          "data": {
            "text/plain": [
              "True"
            ]
          },
          "metadata": {},
          "execution_count": 21
        }
      ]
    },
    {
      "cell_type": "code",
      "metadata": {
        "colab": {
          "base_uri": "https://localhost:8080/"
        },
        "id": "ynIAyki3kLed",
        "outputId": "bfce4bba-97db-4386-de00-33a38e151bee"
      },
      "source": [
        "wholeStringIsNum.search('12 34567890') == None"
      ],
      "execution_count": 22,
      "outputs": [
        {
          "output_type": "execute_result",
          "data": {
            "text/plain": [
              "True"
            ]
          },
          "metadata": {},
          "execution_count": 22
        }
      ]
    },
    {
      "cell_type": "markdown",
      "metadata": {
        "id": "9yQeHYuskdlc"
      },
      "source": [
        "The last two search() calls in the previous interactive shell example demonstrate how the entire string must match the regex if ^ and $ are used.\n",
        "I always confuse the meanings of these two symbols, so I use the mnemonic “Carrots cost dollars” to remind myself that the caret comes first and\n",
        "the dollar sign comes last."
      ]
    },
    {
      "cell_type": "markdown",
      "metadata": {
        "id": "qWp6lMNxktQO"
      },
      "source": [
        "## The wildcard character\n",
        "The `. (or dot)` character in a regular expression is called a wildcard and will\n",
        "match any character except for a newline(`\\n`). For example, enter the following\n",
        "into the interactive shell:"
      ]
    },
    {
      "cell_type": "code",
      "metadata": {
        "colab": {
          "base_uri": "https://localhost:8080/"
        },
        "id": "AYhVJvPZkMVP",
        "outputId": "23cb4b2f-b71b-4ad8-fe60-8c0c2f796950"
      },
      "source": [
        "atRegex = re.compile(r'.at')\n",
        "atRegex.findall('The cat in the hat sat on the flat ma.')"
      ],
      "execution_count": 32,
      "outputs": [
        {
          "output_type": "execute_result",
          "data": {
            "text/plain": [
              "['cat', 'hat', 'sat', 'lat']"
            ]
          },
          "metadata": {},
          "execution_count": 32
        }
      ]
    },
    {
      "cell_type": "markdown",
      "metadata": {
        "id": "SptKgaowmFK2"
      },
      "source": [
        "## Matching Everything with Dot-Star\n",
        "\n",
        "Sometimes you will want to match everything and anything. For example,\n",
        "say you want to match the string 'First Name:', followed by any and all text,\n",
        "followed by 'Last Name:', and then followed by anything again. You can\n",
        "use the dot-star (`.*`) to stand in for that “anything.” Remember that the\n",
        "dot character means “any single character except the newline,” and the\n",
        "star character means “zero or more of the preceding character.”\n",
        "Enter the following into the interactive shell:"
      ]
    },
    {
      "cell_type": "code",
      "metadata": {
        "colab": {
          "base_uri": "https://localhost:8080/",
          "height": 35
        },
        "id": "dXRR5igylN_m",
        "outputId": "08da82b5-a563-4661-dc57-4afc7822a955"
      },
      "source": [
        "nameRegex = re.compile(r'First Name: (.*) Last Name: (.*)')\n",
        "mo = nameRegex.search('First Name: Al Last Name: Sweigart')\n",
        "mo.group(1)"
      ],
      "execution_count": 37,
      "outputs": [
        {
          "output_type": "execute_result",
          "data": {
            "application/vnd.google.colaboratory.intrinsic+json": {
              "type": "string"
            },
            "text/plain": [
              "'Al'"
            ]
          },
          "metadata": {},
          "execution_count": 37
        }
      ]
    },
    {
      "cell_type": "code",
      "metadata": {
        "colab": {
          "base_uri": "https://localhost:8080/",
          "height": 35
        },
        "id": "G6wEIY27mpT_",
        "outputId": "52adb303-6110-4b26-caaf-4adbc2ac141d"
      },
      "source": [
        "mo.group(2)"
      ],
      "execution_count": 38,
      "outputs": [
        {
          "output_type": "execute_result",
          "data": {
            "application/vnd.google.colaboratory.intrinsic+json": {
              "type": "string"
            },
            "text/plain": [
              "'Sweigart'"
            ]
          },
          "metadata": {},
          "execution_count": 38
        }
      ]
    },
    {
      "cell_type": "markdown",
      "metadata": {
        "id": "DDUfW9gUm91n"
      },
      "source": [
        "The dot-star uses greedy mode: It will always try to match as much text as\n",
        "possible. To match any and all text in a **nongreedy fashion**, use the dot, star,\n",
        "and question mark `(.*?)`. Like with curly brackets, the question mark tells\n",
        "Python to match in a nongreedy way.\n",
        "Enter the following into the interactive shell to see the difference\n",
        "between the greedy and nongreedy versions:"
      ]
    },
    {
      "cell_type": "code",
      "metadata": {
        "colab": {
          "base_uri": "https://localhost:8080/",
          "height": 35
        },
        "id": "R6U5HWE0nUMn",
        "outputId": "5a971854-03c5-4628-b392-62cd6cfbc436"
      },
      "source": [
        "nongreedyRegex = re.compile(r'<.*>')\n",
        "mo = nongreedyRegex.search('This is <To serve man> for dinner.>')\n",
        "mo.group()"
      ],
      "execution_count": 41,
      "outputs": [
        {
          "output_type": "execute_result",
          "data": {
            "application/vnd.google.colaboratory.intrinsic+json": {
              "type": "string"
            },
            "text/plain": [
              "'<To serve man> for dinner.>'"
            ]
          },
          "metadata": {},
          "execution_count": 41
        }
      ]
    },
    {
      "cell_type": "code",
      "metadata": {
        "colab": {
          "base_uri": "https://localhost:8080/",
          "height": 35
        },
        "id": "7UGsrdgJnL3G",
        "outputId": "5500e2c6-ceb6-401c-b3ab-b5a206a65706"
      },
      "source": [
        "nongreedyRegex = re.compile(r'<.*?>')\n",
        "mo = nongreedyRegex.search('<To serve man> for dinner.>')\n",
        "mo.group()"
      ],
      "execution_count": 42,
      "outputs": [
        {
          "output_type": "execute_result",
          "data": {
            "application/vnd.google.colaboratory.intrinsic+json": {
              "type": "string"
            },
            "text/plain": [
              "'<To serve man>'"
            ]
          },
          "metadata": {},
          "execution_count": 42
        }
      ]
    },
    {
      "cell_type": "markdown",
      "metadata": {
        "id": "lZsM5-fZnuYv"
      },
      "source": [
        "Both regexes roughly translate to “Match an opening angle bracket,\n",
        "followed by anything, followed by a closing angle bracket.” But the string\n",
        "'<To serve man> for dinner.>' has two possible matches for the closing angle\n",
        "bracket. In the nongreedy version of the regex, Python matches the shortest\n",
        "possible string: '<To serve man>'. In the greedy version, Python matches the\n",
        "longest possible string: '<To serve man> for dinner.>'."
      ]
    },
    {
      "cell_type": "markdown",
      "metadata": {
        "id": "BuK26rgmnyMH"
      },
      "source": [
        "## Matching Newlines with the Dot Character\n",
        "\n",
        "The dot-star will match everything except a newline. By passing re.DOTALL as\n",
        "the second argument to re.compile(), you can make the dot character match\n",
        "all characters, including the newline character.\n",
        "Enter the following into the interactive shell:"
      ]
    },
    {
      "cell_type": "code",
      "metadata": {
        "colab": {
          "base_uri": "https://localhost:8080/",
          "height": 35
        },
        "id": "z1XapjBynowe",
        "outputId": "728ce8c5-df3d-41d7-a7ca-1c2705edb913"
      },
      "source": [
        "noNewlineRegex = re.compile('.*')\n",
        "noNewlineRegex.search('Serve the public trust.\\nProtect the innocent.\\nUphold the law.').group()"
      ],
      "execution_count": 46,
      "outputs": [
        {
          "output_type": "execute_result",
          "data": {
            "application/vnd.google.colaboratory.intrinsic+json": {
              "type": "string"
            },
            "text/plain": [
              "'Serve the public trust.'"
            ]
          },
          "metadata": {},
          "execution_count": 46
        }
      ]
    },
    {
      "cell_type": "code",
      "metadata": {
        "colab": {
          "base_uri": "https://localhost:8080/",
          "height": 35
        },
        "id": "gS6D9exUoFC4",
        "outputId": "0d2462f8-799e-4e77-cb30-6d164dcac891"
      },
      "source": [
        "newlineRegex = re.compile('.*', re.DOTALL)\n",
        "newlineRegex.search('Serve the public trust.\\nProtect the innocent.\\nUphold the law.').group()"
      ],
      "execution_count": 49,
      "outputs": [
        {
          "output_type": "execute_result",
          "data": {
            "application/vnd.google.colaboratory.intrinsic+json": {
              "type": "string"
            },
            "text/plain": [
              "'Serve the public trust.\\nProtect the innocent.\\nUphold the law.'"
            ]
          },
          "metadata": {},
          "execution_count": 49
        }
      ]
    },
    {
      "cell_type": "markdown",
      "metadata": {
        "id": "ATj2x7hbovGN"
      },
      "source": [
        "The regex noNewlineRegex, which did not have re.DOTALL passed to the\n",
        "re.compile() call that created it, will match everything only up to the first\n",
        "newline character, whereas newlineRegex, which did have re.DOTALL passed to\n",
        "re.compile(), matches everything. This is why the newlineRegex.search() call\n",
        "matches the full string, including its newline characters."
      ]
    },
    {
      "cell_type": "markdown",
      "metadata": {
        "id": "Pczs4p4xo94T"
      },
      "source": [
        "### This chapter covered a lot of notation, so here’s a quick review of what you learned:\n",
        "\n",
        "- \t The ? matches zero or one of the preceding group.\n",
        "- \t The * matches zero or more of the preceding group.\n",
        "- \t The + matches one or more of the preceding group.\n",
        "- \t The {n} matches exactly n of the preceding group.\n",
        "- \t The {n,} matches n or more of the preceding group.\n",
        "- \t The {,m} matches 0 to m of the preceding group.\n",
        "- \t The {n,m} matches at least n and at most m of the preceding group.\n",
        "- \t {n,m}? or *? or +? performs a nongreedy match of the preceding group.\n",
        "- \t ^spam means the string must begin with spam.\n",
        "- \t spam$ means the string must end with spam.\n",
        "- \t The . matches any character, except newline characters.\n",
        "- \t \\d, \\w, and \\s match a digit, word, or space character, respectively.\n",
        "- \t \\D, \\W, and \\S match anything except a digit, word, or space character,\n",
        "respectively.\n",
        "- \t [abc] matches any character between the brackets (such as a, b, or c).\n",
        "- \t [^abc] matches any character that isn’t between the brackets."
      ]
    },
    {
      "cell_type": "markdown",
      "metadata": {
        "id": "1aPtBs25p5Gj"
      },
      "source": [
        "### Substituting Strings with the sub() method\n",
        "Regular expressions can not only find text patterns but can also substitute\n",
        "new text in place of those patterns. The sub() method for Regex objects is\n",
        "passed two arguments. The first argument is a string to replace any matches.\n",
        "The second is the string for the regular expression. The sub() method returns\n",
        "a string with the substitutions applied.\n",
        "\n"
      ]
    },
    {
      "cell_type": "code",
      "metadata": {
        "id": "LGh7a6RCp4yk",
        "outputId": "b2b5f148-8f84-4eb1-c589-e12c2f2feeb0",
        "colab": {
          "base_uri": "https://localhost:8080/",
          "height": 35
        }
      },
      "source": [
        "namesRegex = re.compile(r'Agent \\w+')\n",
        "namesRegex.sub('CENSORED', 'Agent Alice gave the secret documents to Agent Bob.')"
      ],
      "execution_count": 50,
      "outputs": [
        {
          "output_type": "execute_result",
          "data": {
            "application/vnd.google.colaboratory.intrinsic+json": {
              "type": "string"
            },
            "text/plain": [
              "'CENSORED gave the secret documents to CENSORED.'"
            ]
          },
          "metadata": {},
          "execution_count": 50
        }
      ]
    },
    {
      "cell_type": "markdown",
      "metadata": {
        "id": "EY5LFXy9qYxD"
      },
      "source": [
        "Sometimes you may need to use the matched text itself as part of the\n",
        "substitution. In the first argument to sub(), you can type \\1, \\2, \\3, and so\n",
        "on, to mean “Enter the text of group 1, 2, 3, and so on, in the substitution.”\n",
        "For example, say you want to censor the names of the secret agents by\n",
        "showing just the first letters of their names. To do this, you could use the\n",
        "regex Agent (\\w)\\w* and pass r'\\1****' as the first argument to sub(). The \\1\n",
        "in that string will be replaced by whatever text was matched by group 1—\n",
        "that is, the (\\w) group of the regular expression."
      ]
    },
    {
      "cell_type": "code",
      "metadata": {
        "colab": {
          "base_uri": "https://localhost:8080/"
        },
        "id": "KeRQ8tDAofHV",
        "outputId": "68bbac0e-a7d0-462e-ef66-3630d3cd99e8"
      },
      "source": [
        "agentNamesRegex = re.compile(r'Agent (\\w)\\w*')\n",
        "agentNamesRegex.findall('Agent Alice told Agent Carol that Agent Eve knew Agent Bob was a double agent.')"
      ],
      "execution_count": 52,
      "outputs": [
        {
          "output_type": "execute_result",
          "data": {
            "text/plain": [
              "['A', 'C', 'E', 'B']"
            ]
          },
          "metadata": {},
          "execution_count": 52
        }
      ]
    },
    {
      "cell_type": "code",
      "metadata": {
        "id": "eq0g0AamqqHq",
        "outputId": "013b0d7d-48b7-4d92-c9e6-5dd8329d15ba",
        "colab": {
          "base_uri": "https://localhost:8080/",
          "height": 35
        }
      },
      "source": [
        "agentNamesRegex.sub(r'\\1****', 'Agent Alice told Agent Carol that Agent Eve knew Agent Bob was a double agent.')"
      ],
      "execution_count": 55,
      "outputs": [
        {
          "output_type": "execute_result",
          "data": {
            "application/vnd.google.colaboratory.intrinsic+json": {
              "type": "string"
            },
            "text/plain": [
              "'A**** told C**** that E**** knew B**** was a double agent.'"
            ]
          },
          "metadata": {},
          "execution_count": 55
        }
      ]
    },
    {
      "cell_type": "markdown",
      "metadata": {
        "id": "ZcfscXV9rtRb"
      },
      "source": [
        "### Managing complex regexes\n",
        "Regular expressions are fine if the text pattern you need to match is simple.\n",
        "But matching complicated text patterns might require long, convoluted regular expressions. You can mitigate this by telling the re.compile() function\n",
        "to ignore whitespace and comments inside the regular expression string.\n",
        "This “verbose mode” can be enabled by passing the variable re.VERBOSE as\n",
        "the second argument to re.compile().\n",
        "Now instead of a hard-to-read regular expression like this:"
      ]
    },
    {
      "cell_type": "code",
      "metadata": {
        "id": "yqjcyD1Grb9T"
      },
      "source": [
        "phoneRegex = re.compile(r'((\\d{3}|\\(\\d{3}\\))?(\\s|-|\\.)?\\d{3}(\\s|-|\\.)\\d{4}(\\s*(ext|x|ext.)\\s*\\d{2,5})?)')"
      ],
      "execution_count": 56,
      "outputs": []
    },
    {
      "cell_type": "markdown",
      "metadata": {
        "id": "B6PNq18wsAGA"
      },
      "source": [
        "you can spread the regular expression over multiple lines with comments\n",
        "like this:"
      ]
    },
    {
      "cell_type": "code",
      "metadata": {
        "id": "I_OW_3aCr9-q"
      },
      "source": [
        "phoneRegex = re.compile(r'''(\n",
        "      (\\d{3}|\\(\\d{3}\\))?      # area code\n",
        "      (\\s|-|\\.)?              # separator\n",
        "      \\d{3}                   # first 3 digits\n",
        "      (\\s|-|\\.)               # separator\n",
        "      \\d{4} # last 4 digits\n",
        "      (\\s*(ext|x|ext.)\\s*\\d{2,5})? # extension\n",
        "      )''', re.VERBOSE)"
      ],
      "execution_count": 57,
      "outputs": []
    },
    {
      "cell_type": "code",
      "metadata": {
        "id": "lbXXtkQZsgVo"
      },
      "source": [
        ""
      ],
      "execution_count": null,
      "outputs": []
    }
  ]
}