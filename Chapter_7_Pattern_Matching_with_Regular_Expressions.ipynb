{
  "nbformat": 4,
  "nbformat_minor": 0,
  "metadata": {
    "colab": {
      "name": "Chapter 7 - Pattern Matching with Regular Expressions.ipynb",
      "provenance": [],
      "authorship_tag": "ABX9TyMLNGOnoH2OG5XsrY0JyBn/",
      "include_colab_link": true
    },
    "kernelspec": {
      "name": "python3",
      "display_name": "Python 3"
    },
    "language_info": {
      "name": "python"
    }
  },
  "cells": [
    {
      "cell_type": "markdown",
      "metadata": {
        "id": "view-in-github",
        "colab_type": "text"
      },
      "source": [
        "<a href=\"https://colab.research.google.com/github/recervictory/Automate-the-boring-stuff-with-Python/blob/master/Chapter_7_Pattern_Matching_with_Regular_Expressions.ipynb\" target=\"_parent\"><img src=\"https://colab.research.google.com/assets/colab-badge.svg\" alt=\"Open In Colab\"/></a>"
      ]
    },
    {
      "cell_type": "markdown",
      "metadata": {
        "id": "6u1n_HIHO_XY"
      },
      "source": [
        "## Finding Patterns of text without regular expressions\n",
        "\n",
        "Patterns of text without regular expressions\n",
        "Say you want to find a phone number in a string. You know the pattern:\n",
        "three numbers, a hyphen, three numbers, a hyphen, and four numbers.\n",
        "Here’s an example: 415-555-4242.\n",
        "\n",
        "Let’s use a function named isPhoneNumber() to check whether a string\n",
        "matches this pattern, returning either True or False. Open a new file editor\n",
        "window and enter the following code; then save the file as isPhoneNumber.py:"
      ]
    },
    {
      "cell_type": "code",
      "metadata": {
        "id": "8PcGU_9SPIhh"
      },
      "source": [
        "def isPhoneNumber(text):\n",
        "  if len(text) != 12:\n",
        "    return False\n",
        "  for i in range(0, 3):\n",
        "    if not text[i].isdecimal():\n",
        "      return False\n",
        "    if text[3] != '-':\n",
        "      return False\n",
        "  for i in range(4, 7):\n",
        "    if not text[i].isdecimal():\n",
        "      return False\n",
        "    if text[7] != '-':\n",
        "      return False\n",
        "  for i in range(8, 12):\n",
        "    if not text[i].isdecimal():\n",
        "      return False\n",
        "  return True"
      ],
      "execution_count": 32,
      "outputs": []
    },
    {
      "cell_type": "code",
      "metadata": {
        "colab": {
          "base_uri": "https://localhost:8080/"
        },
        "id": "8tu53xOJP567",
        "outputId": "92a983e5-4201-4f39-f37f-fe4a208ffcda"
      },
      "source": [
        "print('415-555-4242 is a phone number:')\n",
        "print(isPhoneNumber('415-555-4242'))\n",
        "print('Moshi moshi is a phone number:')\n",
        "print(isPhoneNumber('Moshi moshi'))"
      ],
      "execution_count": 35,
      "outputs": [
        {
          "output_type": "stream",
          "text": [
            "415-555-4242 is a phone number:\n",
            "True\n",
            "Moshi moshi is a phone number:\n",
            "False\n"
          ],
          "name": "stdout"
        }
      ]
    },
    {
      "cell_type": "markdown",
      "metadata": {
        "id": "B792q7uIBY-J"
      },
      "source": [
        "The `isPhoneNumber()` function has code that does several checks to see whether the string in text is a valid phone number. If any of these checks fail, the function returns False. First the code checks that the string is exactly 12 characters.  \n",
        "\n",
        "Then it checks that the area code (that is, the first three characters in text) consists of only numeric characters.\n",
        "\n",
        "The rest of the function checks that the string follows the pattern of a phone number: The number must have the first hyphen after the area code w, three more numeric characters, then another hyphen, and finally four more numbers z. If the program execution manages to get past all the checks, it returns True."
      ]
    },
    {
      "cell_type": "markdown",
      "metadata": {
        "id": "cDOKXduHCSNd"
      },
      "source": [
        "Calling `isPhoneNumber()` with the argument '415-555-4242' will return\n",
        "True. Calling `isPhoneNumber()` with 'Moshi moshi' will return False; the first\n",
        "test fails because 'Moshi moshi' is not 12 characters long.\n",
        "You would have to add even more code to find this pattern of text in a\n",
        "larger string. "
      ]
    },
    {
      "cell_type": "code",
      "metadata": {
        "id": "5Eqt4yHFP-fQ",
        "colab": {
          "base_uri": "https://localhost:8080/"
        },
        "outputId": "547cf5ca-298c-4ec6-e88e-8e2afc0d2ed3"
      },
      "source": [
        "message = 'Call me at 415-555-1011 tomorrow. 485-555-1999 is my office.'\n",
        "for i in range(len(message)):\n",
        "  chunk = message[i:i+12]\n",
        "  if isPhoneNumber(chunk):\n",
        "    print('Phone number found: ' + chunk)\n",
        "print('Done')"
      ],
      "execution_count": 39,
      "outputs": [
        {
          "output_type": "stream",
          "text": [
            "Phone number found: 415-555-1011\n",
            "Phone number found: 485-555-1999\n",
            "Done\n"
          ],
          "name": "stdout"
        }
      ]
    },
    {
      "cell_type": "markdown",
      "metadata": {
        "id": "gDscp65TC3tk"
      },
      "source": [
        "## Creating Regex Objects\n",
        "All the regex functions in Python are in the re module. Enter the following into the interactive shell to import this module:"
      ]
    },
    {
      "cell_type": "code",
      "metadata": {
        "id": "Pl9xFdK5Cjs-"
      },
      "source": [
        "import re"
      ],
      "execution_count": 40,
      "outputs": []
    },
    {
      "cell_type": "markdown",
      "metadata": {
        "id": "rc6KttcjDLHe"
      },
      "source": [
        "### Matching Regex Objects\n",
        "\n",
        "A Regex object’s search() method searches the string it is passed for any\n",
        "matches to the regex. The search() method will return None if the regex pattern is not found in the string. If the pattern is found, the search() method\n",
        "returns a Match object. Match objects have a group() method that will return\n",
        "the actual matched text from the searched string. (I’ll explain groups\n",
        "shortly.) For example, enter the following into the interactive shell:"
      ]
    },
    {
      "cell_type": "code",
      "metadata": {
        "colab": {
          "base_uri": "https://localhost:8080/"
        },
        "id": "5sp0H-fwDDaF",
        "outputId": "9f901162-dc1f-4c27-a748-811b992bc894"
      },
      "source": [
        "phoneNumRegex = re.compile(r'\\d\\d\\d-\\d\\d\\d-\\d\\d\\d\\d')\n",
        "mo = phoneNumRegex.search('My number is 415-555-4242.')\n",
        "print('Phone number found: ' + mo.group())"
      ],
      "execution_count": 41,
      "outputs": [
        {
          "output_type": "stream",
          "text": [
            "Phone number found: 415-555-4242\n"
          ],
          "name": "stdout"
        }
      ]
    },
    {
      "cell_type": "code",
      "metadata": {
        "colab": {
          "base_uri": "https://localhost:8080/"
        },
        "id": "9uW0onKqDvII",
        "outputId": "02fbd401-e920-466a-80e2-eefd10308f7e"
      },
      "source": [
        "phoneNumRegex = re.compile(r'(\\d\\d\\d)-(\\d\\d\\d-\\d\\d\\d\\d)')\n",
        "mo = phoneNumRegex.search('My number is 415-555-4242.')\n",
        "print('Phone number found: ' + mo.group())"
      ],
      "execution_count": 7,
      "outputs": [
        {
          "output_type": "stream",
          "text": [
            "Phone number found: 415-555-4242\n"
          ],
          "name": "stdout"
        }
      ]
    },
    {
      "cell_type": "code",
      "metadata": {
        "id": "lC_XEWJMLz-V",
        "outputId": "5afd1f36-0643-4cb3-f022-6f303963627a",
        "colab": {
          "base_uri": "https://localhost:8080/"
        }
      },
      "source": [
        "indianNumRegex = re.compile(r'(\\+91)-(\\d\\d\\d\\d\\d-\\d\\d\\d\\d\\d)')\n",
        "mo = indianNumRegex.search('My number is +91-99999-12345.')\n",
        "print('Indian number found: ' + mo.group())"
      ],
      "execution_count": 54,
      "outputs": [
        {
          "output_type": "stream",
          "text": [
            "Indian number found: +91-99999-12345\n"
          ],
          "name": "stdout"
        }
      ]
    },
    {
      "cell_type": "code",
      "metadata": {
        "colab": {
          "base_uri": "https://localhost:8080/",
          "height": 35
        },
        "id": "WAtNfDOyD5-u",
        "outputId": "b61f1658-63d7-4768-977c-05ff97285204"
      },
      "source": [
        "mo.group(1)"
      ],
      "execution_count": 50,
      "outputs": [
        {
          "output_type": "execute_result",
          "data": {
            "application/vnd.google.colaboratory.intrinsic+json": {
              "type": "string"
            },
            "text/plain": [
              "'+91'"
            ]
          },
          "metadata": {
            "tags": []
          },
          "execution_count": 50
        }
      ]
    },
    {
      "cell_type": "code",
      "metadata": {
        "colab": {
          "base_uri": "https://localhost:8080/",
          "height": 35
        },
        "id": "9P1xxZBGD9t_",
        "outputId": "1ec96395-6544-45f3-f622-359dc8f71c78"
      },
      "source": [
        "mo.group(2)"
      ],
      "execution_count": 55,
      "outputs": [
        {
          "output_type": "execute_result",
          "data": {
            "application/vnd.google.colaboratory.intrinsic+json": {
              "type": "string"
            },
            "text/plain": [
              "'99999-12345'"
            ]
          },
          "metadata": {
            "tags": []
          },
          "execution_count": 55
        }
      ]
    },
    {
      "cell_type": "code",
      "metadata": {
        "colab": {
          "base_uri": "https://localhost:8080/",
          "height": 35
        },
        "id": "FMnYHIGrEAcV",
        "outputId": "258b8db0-5b51-446f-8af8-a43465288e9a"
      },
      "source": [
        "mo.group(0)"
      ],
      "execution_count": 56,
      "outputs": [
        {
          "output_type": "execute_result",
          "data": {
            "application/vnd.google.colaboratory.intrinsic+json": {
              "type": "string"
            },
            "text/plain": [
              "'+91-99999-12345'"
            ]
          },
          "metadata": {
            "tags": []
          },
          "execution_count": 56
        }
      ]
    },
    {
      "cell_type": "code",
      "metadata": {
        "colab": {
          "base_uri": "https://localhost:8080/"
        },
        "id": "h2Fa7ce7EFTx",
        "outputId": "47a8ed67-fe5c-4f66-9e35-22db533ba939"
      },
      "source": [
        "mo.groups()"
      ],
      "execution_count": 57,
      "outputs": [
        {
          "output_type": "execute_result",
          "data": {
            "text/plain": [
              "('+91', '99999-12345')"
            ]
          },
          "metadata": {
            "tags": []
          },
          "execution_count": 57
        }
      ]
    },
    {
      "cell_type": "code",
      "metadata": {
        "id": "78OGZZq8EI8e"
      },
      "source": [
        "areaCode, mainNumber = mo.groups()"
      ],
      "execution_count": 58,
      "outputs": []
    },
    {
      "cell_type": "code",
      "metadata": {
        "colab": {
          "base_uri": "https://localhost:8080/"
        },
        "id": "MhtvEsuHEMK6",
        "outputId": "4475b261-37d7-417a-fd0d-b376f4edd491"
      },
      "source": [
        "print(areaCode)"
      ],
      "execution_count": 59,
      "outputs": [
        {
          "output_type": "stream",
          "text": [
            "+91\n"
          ],
          "name": "stdout"
        }
      ]
    },
    {
      "cell_type": "code",
      "metadata": {
        "colab": {
          "base_uri": "https://localhost:8080/"
        },
        "id": "nLwk9QtzEM-z",
        "outputId": "bbf004d8-9322-45b1-f614-4d471ec459bf"
      },
      "source": [
        "print(mainNumber)"
      ],
      "execution_count": 60,
      "outputs": [
        {
          "output_type": "stream",
          "text": [
            "99999-12345\n"
          ],
          "name": "stdout"
        }
      ]
    },
    {
      "cell_type": "markdown",
      "metadata": {
        "id": "K3UmVPydFFsB"
      },
      "source": [
        "### Matching Multiple Groups with the Pipe\n",
        "\n",
        "The `|` character is called a pipe. You can use it anywhere you want to match one\n",
        "of many expressions. For example, the regular expression `r'Batman|Tina Fey'`\n",
        "will match either **'Batman'** or **'Tina Fey'**.\n",
        "When both Batman and Tina Fey occur in the searched string, the first\n",
        "occurrence of matching text will be returned as the Match object.\n"
      ]
    },
    {
      "cell_type": "code",
      "metadata": {
        "colab": {
          "base_uri": "https://localhost:8080/",
          "height": 35
        },
        "id": "FJEkcHC_FE54",
        "outputId": "b246a534-7ca2-4717-dc08-c1a1ab309a1f"
      },
      "source": [
        "heroRegex = re.compile (r'Batman|Tina Fey')\n",
        "mo1 = heroRegex.search('Batman and Tina Fey.')\n",
        "mo1.group()"
      ],
      "execution_count": 61,
      "outputs": [
        {
          "output_type": "execute_result",
          "data": {
            "application/vnd.google.colaboratory.intrinsic+json": {
              "type": "string"
            },
            "text/plain": [
              "'Batman'"
            ]
          },
          "metadata": {
            "tags": []
          },
          "execution_count": 61
        }
      ]
    },
    {
      "cell_type": "code",
      "metadata": {
        "colab": {
          "base_uri": "https://localhost:8080/",
          "height": 35
        },
        "id": "dKhefViFFd-W",
        "outputId": "e292d8eb-6992-474e-f83b-503d9918b6b6"
      },
      "source": [
        "mo2 = heroRegex.search('Tina Fey and Batman.')\n",
        "mo2.group()"
      ],
      "execution_count": 62,
      "outputs": [
        {
          "output_type": "execute_result",
          "data": {
            "application/vnd.google.colaboratory.intrinsic+json": {
              "type": "string"
            },
            "text/plain": [
              "'Tina Fey'"
            ]
          },
          "metadata": {
            "tags": []
          },
          "execution_count": 62
        }
      ]
    },
    {
      "cell_type": "markdown",
      "metadata": {
        "id": "LyH8ffvNFqOS"
      },
      "source": [
        "You can also use the pipe to match one of several patterns as part of\n",
        "your regex. \n",
        "\n",
        "For example, say you wanted to match any of the strings 'Batman',\n",
        "'Batmobile', 'Batcopter', and 'Batbat'. Since all these strings start with Bat, it would be nice if you could specify that prefix only once. This can be done\n",
        "with parentheses. Enter the following into the interactive shell:"
      ]
    },
    {
      "cell_type": "code",
      "metadata": {
        "colab": {
          "base_uri": "https://localhost:8080/",
          "height": 35
        },
        "id": "pkSZX_4oFksc",
        "outputId": "38c48b93-903a-4f93-9f27-328af563e0e6"
      },
      "source": [
        "batRegex = re.compile(r'Bat(man|mobile|copter|bat)')\n",
        "mo = batRegex.search('Batmobile lost a wheel')\n",
        "mo.group()"
      ],
      "execution_count": 63,
      "outputs": [
        {
          "output_type": "execute_result",
          "data": {
            "application/vnd.google.colaboratory.intrinsic+json": {
              "type": "string"
            },
            "text/plain": [
              "'Batmobile'"
            ]
          },
          "metadata": {
            "tags": []
          },
          "execution_count": 63
        }
      ]
    },
    {
      "cell_type": "code",
      "metadata": {
        "colab": {
          "base_uri": "https://localhost:8080/",
          "height": 35
        },
        "id": "a_DucDjLF2rA",
        "outputId": "37cc5fcf-0186-4e65-fd17-ad8e50551ded"
      },
      "source": [
        "mo.group(1)"
      ],
      "execution_count": 64,
      "outputs": [
        {
          "output_type": "execute_result",
          "data": {
            "application/vnd.google.colaboratory.intrinsic+json": {
              "type": "string"
            },
            "text/plain": [
              "'mobile'"
            ]
          },
          "metadata": {
            "tags": []
          },
          "execution_count": 64
        }
      ]
    },
    {
      "cell_type": "markdown",
      "metadata": {
        "id": "rav0uzbXF-PO"
      },
      "source": [
        "### Optional Matching with the Question Mark\n",
        "\n",
        "Sometimes there is a pattern that you want to match only optionally. That\n",
        "is, the regex should find a match whether or not that bit of text is there.\n",
        "The ? character flags the group that precedes it as an optional part of the\n",
        "pattern. For example, enter the following into the interactive shell:"
      ]
    },
    {
      "cell_type": "code",
      "metadata": {
        "colab": {
          "base_uri": "https://localhost:8080/",
          "height": 35
        },
        "id": "PO-z2Mg6F5fn",
        "outputId": "a8cda015-4ee9-46a1-89f2-cd0acd24e47e"
      },
      "source": [
        "batRegex = re.compile(r'Bat(wo)?man')\n",
        "mo1 = batRegex.search('The Adventures of Batman')\n",
        "mo1.group()"
      ],
      "execution_count": 65,
      "outputs": [
        {
          "output_type": "execute_result",
          "data": {
            "application/vnd.google.colaboratory.intrinsic+json": {
              "type": "string"
            },
            "text/plain": [
              "'Batman'"
            ]
          },
          "metadata": {
            "tags": []
          },
          "execution_count": 65
        }
      ]
    },
    {
      "cell_type": "code",
      "metadata": {
        "colab": {
          "base_uri": "https://localhost:8080/",
          "height": 35
        },
        "id": "ubgBQcZGGIfN",
        "outputId": "d488a9eb-4069-4dc2-e223-83f8ee8bc314"
      },
      "source": [
        "mo2 = batRegex.search('The Adventures of Batwoman')\n",
        "mo2.group()"
      ],
      "execution_count": 66,
      "outputs": [
        {
          "output_type": "execute_result",
          "data": {
            "application/vnd.google.colaboratory.intrinsic+json": {
              "type": "string"
            },
            "text/plain": [
              "'Batwoman'"
            ]
          },
          "metadata": {
            "tags": []
          },
          "execution_count": 66
        }
      ]
    },
    {
      "cell_type": "markdown",
      "metadata": {
        "id": "GBG0XHfPGVRe"
      },
      "source": [
        "The (wo)? part of the regular expression means that the pattern wo is\n",
        "an optional group. The regex will match text that has zero instances or\n",
        "one instance of wo in it. This is why the regex matches both 'Batwoman' and\n",
        "'Batman'.\n",
        "Using the earlier phone number example, you can make the regex look\n",
        "for phone numbers that do or do not have an area code. Enter the following\n",
        "into the interactive shell:"
      ]
    },
    {
      "cell_type": "code",
      "metadata": {
        "colab": {
          "base_uri": "https://localhost:8080/",
          "height": 35
        },
        "id": "jRjcK4_2GT9m",
        "outputId": "f9f33451-d17a-4fd8-c7d7-81b29a737773"
      },
      "source": [
        "phoneRegex = re.compile(r'(\\d\\d\\d-)?\\d\\d\\d-\\d\\d\\d\\d')\n",
        "mo1 = phoneRegex.search('My number is 415-555-4242')\n",
        "mo1.group()"
      ],
      "execution_count": 67,
      "outputs": [
        {
          "output_type": "execute_result",
          "data": {
            "application/vnd.google.colaboratory.intrinsic+json": {
              "type": "string"
            },
            "text/plain": [
              "'415-555-4242'"
            ]
          },
          "metadata": {
            "tags": []
          },
          "execution_count": 67
        }
      ]
    },
    {
      "cell_type": "code",
      "metadata": {
        "colab": {
          "base_uri": "https://localhost:8080/",
          "height": 35
        },
        "id": "dj66pF2AGSZ8",
        "outputId": "8f4bfb89-b975-4595-8878-51cbd3e52e1a"
      },
      "source": [
        "mo2 = phoneRegex.search('My number is 555-4242')\n",
        "mo2.group()"
      ],
      "execution_count": 68,
      "outputs": [
        {
          "output_type": "execute_result",
          "data": {
            "application/vnd.google.colaboratory.intrinsic+json": {
              "type": "string"
            },
            "text/plain": [
              "'555-4242'"
            ]
          },
          "metadata": {
            "tags": []
          },
          "execution_count": 68
        }
      ]
    },
    {
      "cell_type": "markdown",
      "metadata": {
        "id": "es1p1PBQIQSW"
      },
      "source": [
        "### Matching Zero or More with the Star(`*`)\n",
        "\n",
        "The `*` (called the star or asterisk) means “match zero or more”—the group\n",
        "that precedes the star can occur any number of times in the text. It can be\n",
        "completely absent or repeated over and over again. Let’s look at the Batman\n",
        "example again."
      ]
    },
    {
      "cell_type": "code",
      "metadata": {
        "colab": {
          "base_uri": "https://localhost:8080/",
          "height": 35
        },
        "id": "_dVcBmJUGMIO",
        "outputId": "103fca1e-fb7b-4ec9-d339-ac0e4267dbd3"
      },
      "source": [
        "batRegex = re.compile(r'Bat(wo)*man')\n",
        "mo1 = batRegex.search('The Adventures of Batman')\n",
        "mo1.group()"
      ],
      "execution_count": 69,
      "outputs": [
        {
          "output_type": "execute_result",
          "data": {
            "application/vnd.google.colaboratory.intrinsic+json": {
              "type": "string"
            },
            "text/plain": [
              "'Batman'"
            ]
          },
          "metadata": {
            "tags": []
          },
          "execution_count": 69
        }
      ]
    },
    {
      "cell_type": "code",
      "metadata": {
        "colab": {
          "base_uri": "https://localhost:8080/",
          "height": 35
        },
        "id": "Myi1aMBUIceM",
        "outputId": "a44fd8a2-17cb-4811-8c17-46745270d93a"
      },
      "source": [
        "mo2 = batRegex.search('The Adventures of Batwoman')\n",
        "mo2.group()"
      ],
      "execution_count": 70,
      "outputs": [
        {
          "output_type": "execute_result",
          "data": {
            "application/vnd.google.colaboratory.intrinsic+json": {
              "type": "string"
            },
            "text/plain": [
              "'Batwoman'"
            ]
          },
          "metadata": {
            "tags": []
          },
          "execution_count": 70
        }
      ]
    },
    {
      "cell_type": "code",
      "metadata": {
        "colab": {
          "base_uri": "https://localhost:8080/",
          "height": 35
        },
        "id": "fnVkOiJdIie5",
        "outputId": "5640e62f-1ce0-493d-b3de-6f29c313f2a8"
      },
      "source": [
        "mo3 = batRegex.search('The Adventures of Batwowowowoman')\n",
        "mo3.group()"
      ],
      "execution_count": 71,
      "outputs": [
        {
          "output_type": "execute_result",
          "data": {
            "application/vnd.google.colaboratory.intrinsic+json": {
              "type": "string"
            },
            "text/plain": [
              "'Batwowowowoman'"
            ]
          },
          "metadata": {
            "tags": []
          },
          "execution_count": 71
        }
      ]
    },
    {
      "cell_type": "markdown",
      "metadata": {
        "id": "gxoDHdV6It7c"
      },
      "source": [
        "For 'Batman', the `(wo)*` part of the regex matches zero instances of wo\n",
        "in the string; for 'Batwoman', the `(wo)*` matches one instance of wo; and for\n",
        "'Batwowowowoman', `(wo)*` matches four instances of wo.\n",
        "If you need to match an actual star character, prefix the star in the\n",
        "regular expression with a backslash,`\\*`."
      ]
    },
    {
      "cell_type": "markdown",
      "metadata": {
        "id": "BsOeFb_qI-df"
      },
      "source": [
        "### Matching One or More with the Plus(`+`)\n",
        "While * means “match zero or more,” the + (or plus) means “match one or\n",
        "more.” Unlike the star, which does not require its group to appear in the\n",
        "matched string, the group preceding a plus must appear at least once. It is\n",
        "not optional. Enter the following into the interactive shell, and compare it\n",
        "with the star regexes in the previous section:"
      ]
    },
    {
      "cell_type": "code",
      "metadata": {
        "colab": {
          "base_uri": "https://localhost:8080/",
          "height": 35
        },
        "id": "v-ptR8Y0Im7X",
        "outputId": "65d255c9-f215-40ed-f0e4-9de3cd81a062"
      },
      "source": [
        "batRegex = re.compile(r'Bat(wo)+man')\n",
        "mo1 = batRegex.search('The Adventures of Batwoman')\n",
        "mo1.group()"
      ],
      "execution_count": 72,
      "outputs": [
        {
          "output_type": "execute_result",
          "data": {
            "application/vnd.google.colaboratory.intrinsic+json": {
              "type": "string"
            },
            "text/plain": [
              "'Batwoman'"
            ]
          },
          "metadata": {
            "tags": []
          },
          "execution_count": 72
        }
      ]
    },
    {
      "cell_type": "code",
      "metadata": {
        "colab": {
          "base_uri": "https://localhost:8080/",
          "height": 35
        },
        "id": "uC_JB_T9JIRI",
        "outputId": "d82e6da7-31ee-4d99-9dd7-4c952f767925"
      },
      "source": [
        "mo2 = batRegex.search('The Adventures of Batwowowowoman')\n",
        "mo2.group()"
      ],
      "execution_count": 73,
      "outputs": [
        {
          "output_type": "execute_result",
          "data": {
            "application/vnd.google.colaboratory.intrinsic+json": {
              "type": "string"
            },
            "text/plain": [
              "'Batwowowowoman'"
            ]
          },
          "metadata": {
            "tags": []
          },
          "execution_count": 73
        }
      ]
    },
    {
      "cell_type": "code",
      "metadata": {
        "colab": {
          "base_uri": "https://localhost:8080/"
        },
        "id": "lBp2xyUoJMzT",
        "outputId": "799673bd-6f49-40c6-ccbb-74272ab8896f"
      },
      "source": [
        "mo3 = batRegex.search('The Adventures of Batman')\n",
        "mo3 is None"
      ],
      "execution_count": 74,
      "outputs": [
        {
          "output_type": "execute_result",
          "data": {
            "text/plain": [
              "True"
            ]
          },
          "metadata": {
            "tags": []
          },
          "execution_count": 74
        }
      ]
    },
    {
      "cell_type": "markdown",
      "metadata": {
        "id": "__lfiS-OJceV"
      },
      "source": [
        "### Matching Specific Repetitions with Curly Brackets\n",
        "If you have a group that you want to repeat a specific number of times, follow the group in your regex with a number in curly brackets. For example,\n",
        "the regex (Ha){3} will match the string 'HaHaHa', but it will not match 'HaHa',\n",
        "since the latter has only two repeats of the (Ha) group.\n",
        "Instead of one number, you can specify a range by writing a minimum,\n",
        "a comma, and a maximum in between the curly brackets. For example, the\n",
        "regex (Ha){3,5} will match 'HaHaHa', 'HaHaHaHa', and 'HaHaHaHaHa'.\n",
        "You can also leave out the first or second number in the curly brackets\n",
        "to leave the minimum or maximum unbounded. For example, (Ha){3,} will\n",
        "match three or more instances of the (Ha) group, while (Ha){,5} will match\n",
        "zero to five instances. Curly brackets can help make your regular expressions shorter. These two regular expressions match identical patterns.\n",
        "```\n",
        "(Ha){3}\n",
        "(Ha)(Ha)(Ha)\n",
        "```\n",
        "```\n",
        "(Ha){3,5}\n",
        "((Ha)(Ha)(Ha))|((Ha)(Ha)(Ha)(Ha))|((Ha)(Ha)(Ha)(Ha)(Ha))\n",
        "```"
      ]
    },
    {
      "cell_type": "code",
      "metadata": {
        "colab": {
          "base_uri": "https://localhost:8080/",
          "height": 35
        },
        "id": "VyFyVojpJVGv",
        "outputId": "bb7472b4-0b81-4295-a821-19329bf7233c"
      },
      "source": [
        "haRegex = re.compile(r'(Ha){0,3}')\n",
        "mo1 = haRegex.search('HaHaHa')\n",
        "mo1.group()"
      ],
      "execution_count": 77,
      "outputs": [
        {
          "output_type": "execute_result",
          "data": {
            "application/vnd.google.colaboratory.intrinsic+json": {
              "type": "string"
            },
            "text/plain": [
              "'HaHaHa'"
            ]
          },
          "metadata": {
            "tags": []
          },
          "execution_count": 77
        }
      ]
    },
    {
      "cell_type": "code",
      "metadata": {
        "colab": {
          "base_uri": "https://localhost:8080/"
        },
        "id": "d-8wRLQ7KA5k",
        "outputId": "0b5aa7e5-887b-44a3-ab15-52e63a6b9d12"
      },
      "source": [
        "mo2 = haRegex.search('Ha')\n",
        "mo2 == None"
      ],
      "execution_count": 78,
      "outputs": [
        {
          "output_type": "execute_result",
          "data": {
            "text/plain": [
              "False"
            ]
          },
          "metadata": {
            "tags": []
          },
          "execution_count": 78
        }
      ]
    },
    {
      "cell_type": "markdown",
      "metadata": {
        "id": "eb07O71cKIWZ"
      },
      "source": [
        "Here, (Ha){3} matches 'HaHaHa' but not 'Ha'. Since it doesn’t match 'Ha',\n",
        "search() returns None."
      ]
    }
  ]
}