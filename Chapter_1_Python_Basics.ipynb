{
  "nbformat": 4,
  "nbformat_minor": 0,
  "metadata": {
    "colab": {
      "name": "Chapter 1 - Python Basics.ipynb",
      "provenance": [],
      "authorship_tag": "ABX9TyM9PLNvRCRu75JWvxRvGa7W",
      "include_colab_link": true
    },
    "kernelspec": {
      "name": "python3",
      "display_name": "Python 3"
    },
    "language_info": {
      "name": "python"
    }
  },
  "cells": [
    {
      "cell_type": "markdown",
      "metadata": {
        "id": "view-in-github",
        "colab_type": "text"
      },
      "source": [
        "<a href=\"https://colab.research.google.com/github/itspragyangit/Automate-the-boring-stuff-with-Python/blob/master/Chapter_1_Python_Basics.ipynb\" target=\"_parent\"><img src=\"https://colab.research.google.com/assets/colab-badge.svg\" alt=\"Open In Colab\"/></a>"
      ]
    },
    {
      "cell_type": "markdown",
      "metadata": {
        "id": "eFHsKP9pSD3L"
      },
      "source": [
        "## Entering Expressions into the Interactive Shell\n",
        "\n"
      ]
    },
    {
      "cell_type": "code",
      "metadata": {
        "colab": {
          "base_uri": "https://localhost:8080/"
        },
        "id": "Di6FLl86Sdem",
        "outputId": "b4f05af6-cc93-4134-c889-f90926a46d11"
      },
      "source": [
        "2+2"
      ],
      "execution_count": 1,
      "outputs": [
        {
          "output_type": "execute_result",
          "data": {
            "text/plain": [
              "4"
            ]
          },
          "metadata": {
            "tags": []
          },
          "execution_count": 1
        }
      ]
    },
    {
      "cell_type": "markdown",
      "metadata": {
        "id": "Z56xD5X_SkOW"
      },
      "source": [
        "In Python, 2 + 2 is called an *expression*, which is the most basic kind of programming\n",
        "instruction in the language. \n",
        "\n",
        "***Expressions consist of values (such as 2) and operators (such\n",
        "as +), and they can always evaluate (that is, reduce) down to a single value.*** That means\n",
        "you can use expressions anywhere in Python code that you could also use a value."
      ]
    },
    {
      "cell_type": "markdown",
      "metadata": {
        "id": "hzmlm5mLSyq7"
      },
      "source": [
        "## Math Operators from Highest to Lowest Precedence\n",
        "\n",
        "- `**` Exponent `2 ** 3` -> 8\n",
        "- `%` Modulus/remainder `22 % 8`-> 6\n",
        "- `//` Integer division/floored quotient `22 // 8` -> 2\n",
        "- `/` Division `22 / 8`-> 2.75\n",
        "- `*` Multiplication `3 * 5`-> 15\n",
        "- `-` Subtraction `5 - 2` -> 3\n",
        "- `+` Addition `2 + 2`-> 4"
      ]
    }
  ]
}