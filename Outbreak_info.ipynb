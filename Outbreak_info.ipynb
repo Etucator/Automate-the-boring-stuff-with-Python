{
 "cells": [
  {
   "cell_type": "code",
   "execution_count": 1,
   "metadata": {},
   "outputs": [],
   "source": [
    "import pandas as pd\n",
    "import numpy as np\n",
    "from bs4 import BeautifulSoup\n",
    "import os\n",
    "from selenium import webdriver\n",
    "from selenium .webdriver.chrome.options import Options\n",
    "import time"
   ]
  },
  {
   "cell_type": "code",
   "execution_count": 2,
   "metadata": {},
   "outputs": [],
   "source": [
    "opts = Options()\n",
    "opts.add_argument(\" --headless\")\n",
    "chrome_driver = os.getcwd() + r'\\driver\\chromedriver.exe'\n",
    "driver = webdriver.Chrome(options=opts, executable_path= chrome_driver)\n"
   ]
  },
  {
   "cell_type": "code",
   "execution_count": 5,
   "metadata": {},
   "outputs": [
    {
     "name": "stdout",
     "output_type": "stream",
     "text": [
      "P.1.4  [===|======|======] 100% Completed\n",
      "P.1.1  [===] 100% Completed\n",
      "P.1.5  [===|======|======|======] 100% Completed\n",
      "P.1  [===|======|======|======] 100% Completed\n"
     ]
    },
    {
     "data": {
      "text/plain": [
       "[]"
      ]
     },
     "execution_count": 5,
     "metadata": {},
     "output_type": "execute_result"
    }
   ],
   "source": [
    "varient_list = ['P.1','P.1.5','P.1.1','P.1.4']\n",
    "covid_table = pd.DataFrame({'gene':[np.nan], 'amino acid':[np.nan], 'varient':[np.nan]})\n",
    "count = 0\n",
    "final = 0\n",
    "failed = []         \n",
    "while varient_list != []:\n",
    "    varient = varient_list[-1]\n",
    "    driver.implicitly_wait(100)\n",
    "    try:\n",
    "        driver.get('https://outbreak.info/situation-reports?pango=' + varient)\n",
    "        if count == 0:\n",
    "            print(varient,\" [\", end= \"\")\n",
    "    except Exception:\n",
    "        print(\"Warning: Check the internet connection\")\n",
    "        break\n",
    "    soup_file  = driver.page_source\n",
    "    soup = BeautifulSoup(soup_file)\n",
    " \n",
    "    table = soup.find(id = 'mutation-table' )\n",
    "    if table:\n",
    "        count = 0\n",
    "        print(\"] 100% Completed\")\n",
    "        mutation_table = pd.read_html(str(table))[0]\n",
    "        mutation_table['varient'] = varient\n",
    "        covid_table = pd.concat([covid_table,mutation_table],axis=0)\n",
    "        varient_list.remove(varient)\n",
    "        mutation_table.to_csv(r'out/covid/'+ varient + '.csv')\n",
    "    else:\n",
    "        count += 1\n",
    "        if count % 2 == 0:\n",
    "            time.sleep(count * 1.5)\n",
    "            print(\"|\",end='')\n",
    "        if count == 10:\n",
    "            failed.append(varient)\n",
    "            varient_list.remove(varient)\n",
    "            print(\"] XXXX Failed! \")\n",
    "            count = 0\n",
    "            continue\n",
    "        print(\"===\",end='')\n",
    "    if failed != []:\n",
    "        varient_list.extend(failed)\n",
    "        final += 1\n",
    "        if final == 4:\n",
    "            break\n",
    "        \n",
    "        \n",
    "failed"
   ]
  },
  {
   "cell_type": "code",
   "execution_count": 6,
   "metadata": {},
   "outputs": [
    {
     "data": {
      "text/html": [
       "<div>\n",
       "<style scoped>\n",
       "    .dataframe tbody tr th:only-of-type {\n",
       "        vertical-align: middle;\n",
       "    }\n",
       "\n",
       "    .dataframe tbody tr th {\n",
       "        vertical-align: top;\n",
       "    }\n",
       "\n",
       "    .dataframe thead th {\n",
       "        text-align: right;\n",
       "    }\n",
       "</style>\n",
       "<table border=\"1\" class=\"dataframe\">\n",
       "  <thead>\n",
       "    <tr style=\"text-align: right;\">\n",
       "      <th></th>\n",
       "      <th>gene</th>\n",
       "      <th>amino acid</th>\n",
       "      <th>varient</th>\n",
       "    </tr>\n",
       "  </thead>\n",
       "  <tbody>\n",
       "    <tr>\n",
       "      <th>0</th>\n",
       "      <td>NaN</td>\n",
       "      <td>NaN</td>\n",
       "      <td>NaN</td>\n",
       "    </tr>\n",
       "    <tr>\n",
       "      <th>0</th>\n",
       "      <td>ORF1a</td>\n",
       "      <td>S1188L</td>\n",
       "      <td>P.1.4</td>\n",
       "    </tr>\n",
       "    <tr>\n",
       "      <th>1</th>\n",
       "      <td>ORF1a</td>\n",
       "      <td>K1795Q</td>\n",
       "      <td>P.1.4</td>\n",
       "    </tr>\n",
       "    <tr>\n",
       "      <th>2</th>\n",
       "      <td>ORF1a</td>\n",
       "      <td>del3675/3677</td>\n",
       "      <td>P.1.4</td>\n",
       "    </tr>\n",
       "    <tr>\n",
       "      <th>3</th>\n",
       "      <td>ORF1b</td>\n",
       "      <td>P314L</td>\n",
       "      <td>P.1.4</td>\n",
       "    </tr>\n",
       "    <tr>\n",
       "      <th>...</th>\n",
       "      <td>...</td>\n",
       "      <td>...</td>\n",
       "      <td>...</td>\n",
       "    </tr>\n",
       "    <tr>\n",
       "      <th>18</th>\n",
       "      <td>ORF8</td>\n",
       "      <td>S84L</td>\n",
       "      <td>P.1</td>\n",
       "    </tr>\n",
       "    <tr>\n",
       "      <th>19</th>\n",
       "      <td>ORF8</td>\n",
       "      <td>E92K</td>\n",
       "      <td>P.1</td>\n",
       "    </tr>\n",
       "    <tr>\n",
       "      <th>20</th>\n",
       "      <td>N</td>\n",
       "      <td>P80R</td>\n",
       "      <td>P.1</td>\n",
       "    </tr>\n",
       "    <tr>\n",
       "      <th>21</th>\n",
       "      <td>N</td>\n",
       "      <td>R203K</td>\n",
       "      <td>P.1</td>\n",
       "    </tr>\n",
       "    <tr>\n",
       "      <th>22</th>\n",
       "      <td>N</td>\n",
       "      <td>G204R</td>\n",
       "      <td>P.1</td>\n",
       "    </tr>\n",
       "  </tbody>\n",
       "</table>\n",
       "<p>95 rows × 3 columns</p>\n",
       "</div>"
      ],
      "text/plain": [
       "     gene    amino acid varient\n",
       "0     NaN           NaN     NaN\n",
       "0   ORF1a        S1188L   P.1.4\n",
       "1   ORF1a        K1795Q   P.1.4\n",
       "2   ORF1a  del3675/3677   P.1.4\n",
       "3   ORF1b         P314L   P.1.4\n",
       "..    ...           ...     ...\n",
       "18   ORF8          S84L     P.1\n",
       "19   ORF8          E92K     P.1\n",
       "20      N          P80R     P.1\n",
       "21      N         R203K     P.1\n",
       "22      N         G204R     P.1\n",
       "\n",
       "[95 rows x 3 columns]"
      ]
     },
     "execution_count": 6,
     "metadata": {},
     "output_type": "execute_result"
    }
   ],
   "source": [
    "covid_table "
   ]
  },
  {
   "cell_type": "code",
   "execution_count": null,
   "metadata": {},
   "outputs": [],
   "source": []
  }
 ],
 "metadata": {
  "interpreter": {
   "hash": "7dae6437c12b1d87f00e0e10a4bd22be66a3b8ec05fb1161d95372f28c39fa9e"
  },
  "kernelspec": {
   "display_name": "Python 3.8.8 64-bit ('base': conda)",
   "language": "python",
   "name": "python3"
  },
  "language_info": {
   "codemirror_mode": {
    "name": "ipython",
    "version": 3
   },
   "file_extension": ".py",
   "mimetype": "text/x-python",
   "name": "python",
   "nbconvert_exporter": "python",
   "pygments_lexer": "ipython3",
   "version": "3.8.8"
  },
  "orig_nbformat": 4
 },
 "nbformat": 4,
 "nbformat_minor": 2
}
