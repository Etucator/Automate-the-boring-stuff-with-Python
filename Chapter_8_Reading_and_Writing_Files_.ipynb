{
  "nbformat": 4,
  "nbformat_minor": 0,
  "metadata": {
    "colab": {
      "name": "Chapter 8: Reading and Writing Files .ipynb",
      "provenance": [],
      "authorship_tag": "ABX9TyM/Qjk08ozejA/6g3PqBogl",
      "include_colab_link": true
    },
    "kernelspec": {
      "name": "python3",
      "display_name": "Python 3"
    },
    "language_info": {
      "name": "python"
    }
  },
  "cells": [
    {
      "cell_type": "markdown",
      "metadata": {
        "id": "view-in-github",
        "colab_type": "text"
      },
      "source": [
        "<a href=\"https://colab.research.google.com/github/recervictory/Automate-the-boring-stuff-with-Python/blob/master/Chapter_8_Reading_and_Writing_Files_.ipynb\" target=\"_parent\"><img src=\"https://colab.research.google.com/assets/colab-badge.svg\" alt=\"Open In Colab\"/></a>"
      ]
    },
    {
      "cell_type": "markdown",
      "metadata": {
        "id": "rZMZVgzXeiSC"
      },
      "source": [
        "# Chapter 8: Reading and Writing Files\n",
        "Variables are a fine way to store data while\n",
        "your program is running, but if you want\n",
        "your data to persist even after your program\n",
        "has finished, you need to save it to a file. You\n",
        "can think of a file’s contents as a single string value,\n",
        "potentially gigabytes in size. In this chapter, you will\n",
        "learn how to use Python to create, read, and save files\n",
        "on the hard drive.\n"
      ]
    },
    {
      "cell_type": "markdown",
      "metadata": {
        "id": "MKNpcJuOe3Ky"
      },
      "source": [
        "## Files and file Paths\n",
        "A file has two key properties: a filename (usually written as one word) and\n",
        "a path. The path specifies the location of a file on the computer. For example,\n",
        "there is a file on my Windows 7 laptop with the filename projects.docx in the\n",
        "path `C:\\Users\\asweigart\\Documents`. The part of the filename after the last\n",
        "period is called the file’s extension and tells you a file’s type. project.docx is a Word document, and Users, asweigart, and Documents all refer to folders (also called directories). Folders can contain files\n",
        "and other folders. For example, project.docx\n",
        "is in the Documents folder, which is inside\n",
        "the asweigart folder, which is inside the\n",
        "Users folder. Figure 8-1 shows this folder\n",
        "organization.\n",
        "\n",
        "The C:\\ part of the path is the root\n",
        "folder,which contains all other folders.\n",
        "On Windows, the root folder is named\n",
        "C:\\ and is also called the `C: drive`. On OS X\n",
        "and Linux, the root folder is /. In this\n",
        "book, I’ll be using the Windows-style root\n",
        "folder, C:\\. If you are entering the interactive shell examples on OS X or Linux, enter `/` instead.\n",
        "\n",
        "Additional volumes, such as a DVD drive or USB thumb drive, will appear\n",
        "differently on different operating systems. On Windows, they appear as new,\n",
        "lettered root drives, such as D:\\ or E:\\. On OS X, they appear as new folders\n",
        "under the /Volumes folder. On Linux, they appear as new folders under the\n",
        "/mnt (“mount”) folder. Also note that while folder names and filenames are\n",
        "not case sensitive on Windows and OS X, they are case sensitive on Linux.\n",
        "\n",
        "## Backslash on Windows and Forward Slash on OS X and Linux\n",
        "On Windows, paths are written using backslashes (\\) as the separator\n",
        "between folder names. OS X and Linux, however, use the forward slash (/)\n",
        "as their path separator. If you want your programs to work on all operating\n",
        "systems, you will have to write your Python scripts to handle both cases.\n",
        "Fortunately, this is simple to do with the `os.path.join()` function. If you\n",
        "pass it the string values of individual file and folder names in your path,\n",
        "`os.path.join() `will return a string with a file path using the correct path\n",
        "separators. Enter the following into the interactive shell:"
      ]
    },
    {
      "cell_type": "code",
      "metadata": {
        "colab": {
          "base_uri": "https://localhost:8080/",
          "height": 35
        },
        "id": "V47A0cgid4OY",
        "outputId": "09c7692b-4c1c-4aa6-babc-ed3ea097c14c"
      },
      "source": [
        "import os\n",
        "os.path.join('usr', 'bin', 'spam')"
      ],
      "execution_count": 2,
      "outputs": [
        {
          "output_type": "execute_result",
          "data": {
            "application/vnd.google.colaboratory.intrinsic+json": {
              "type": "string"
            },
            "text/plain": [
              "'usr/bin/spam'"
            ]
          },
          "metadata": {},
          "execution_count": 2
        }
      ]
    },
    {
      "cell_type": "markdown",
      "metadata": {
        "id": "RF2cluJXgM0s"
      },
      "source": [
        "I’m running these interactive shell examples on Windows, so os.path\n",
        ".join('usr', 'bin', 'spam') returned `'usr\\\\bin\\\\spam'`. (Notice that the backslashes are doubled because each backslash needs to be escaped by another\n",
        "backslash character.) If I had called this function on OS X or Linux, the\n",
        "string would have been `'usr/bin/spam'`.\n",
        "\n",
        "The os.path.join() function is helpful if you need to create strings for\n",
        "filenames. These strings will be passed to several of the file-related functions introduced in this chapter. For example, the following example joins\n",
        "names from a list of filenames to the end of a folder’s name:\n"
      ]
    },
    {
      "cell_type": "code",
      "metadata": {
        "colab": {
          "base_uri": "https://localhost:8080/"
        },
        "id": "1SmiM68ser0c",
        "outputId": "317d0a48-de9c-49af-de33-f6df69d84ff0"
      },
      "source": [
        "myFiles = ['accounts.txt', 'details.csv', 'invite.docx']\n",
        "for filename in myFiles:\n",
        "  print(os.path.join('content','myFiles', filename))"
      ],
      "execution_count": 4,
      "outputs": [
        {
          "output_type": "stream",
          "name": "stdout",
          "text": [
            "content/myFiles/accounts.txt\n",
            "content/myFiles/details.csv\n",
            "content/myFiles/invite.docx\n"
          ]
        }
      ]
    },
    {
      "cell_type": "markdown",
      "metadata": {
        "id": "lmaRgPSDhUu6"
      },
      "source": [
        "## The Current Working Directory\n",
        "Every program that runs on your computer has a current working directory,\n",
        "or cwd. Any filenames or paths that do not begin with the root folder are\n",
        "assumed to be under the current working directory. You can get the current\n",
        "working directory as a string value with the `os.getcwd()` function and change\n",
        "it with `os.chdir()`. Enter the following into the interactive shell:"
      ]
    },
    {
      "cell_type": "code",
      "metadata": {
        "colab": {
          "base_uri": "https://localhost:8080/",
          "height": 35
        },
        "id": "GlT8tPOShF5H",
        "outputId": "03b3d57a-70da-40a0-f313-569a3cb36c7a"
      },
      "source": [
        "import os\n",
        "os.getcwd()"
      ],
      "execution_count": 13,
      "outputs": [
        {
          "output_type": "execute_result",
          "data": {
            "application/vnd.google.colaboratory.intrinsic+json": {
              "type": "string"
            },
            "text/plain": [
              "'/content'"
            ]
          },
          "metadata": {},
          "execution_count": 13
        }
      ]
    },
    {
      "cell_type": "code",
      "metadata": {
        "colab": {
          "base_uri": "https://localhost:8080/",
          "height": 35
        },
        "id": "r6rUC48ShsZu",
        "outputId": "dab5dcdc-c396-49b1-c4fb-d5d3fd23622c"
      },
      "source": [
        "os.chdir('/content')\n",
        "os.getcwd()"
      ],
      "execution_count": 31,
      "outputs": [
        {
          "output_type": "execute_result",
          "data": {
            "application/vnd.google.colaboratory.intrinsic+json": {
              "type": "string"
            },
            "text/plain": [
              "'/content'"
            ]
          },
          "metadata": {},
          "execution_count": 31
        }
      ]
    },
    {
      "cell_type": "markdown",
      "metadata": {
        "id": "t5vT3v6XiHqw"
      },
      "source": [
        "### Python will display an error if you try to change to a directory that does not exist."
      ]
    },
    {
      "cell_type": "code",
      "metadata": {
        "id": "6-8q1YJViHPR"
      },
      "source": [
        "os.chdir('/content')"
      ],
      "execution_count": 10,
      "outputs": []
    },
    {
      "cell_type": "markdown",
      "metadata": {
        "id": "pOIakXYciW7X"
      },
      "source": [
        "## Creating New Folders with `os.makedirs()`\n",
        "Your programs can create new folders (directories) with the os.makedirs()\n",
        "function. Enter the following into the interactive shell :"
      ]
    },
    {
      "cell_type": "code",
      "metadata": {
        "id": "2rOzDjMMh9fG"
      },
      "source": [
        "import os\n",
        "os.mkdir('MoreFiles')\n"
      ],
      "execution_count": 14,
      "outputs": []
    },
    {
      "cell_type": "markdown",
      "metadata": {
        "id": "jM9ZgVcOjvHz"
      },
      "source": [
        "## the `os.path` module\n",
        "The os.path module contains many helpful functions related to filenames\n",
        "and file paths. For instance, you’ve already used os.path.join() to build\n",
        "paths in a way that will work on any operating system. Since os.path is a\n",
        "module inside the os module, you can import it by simply running import\n",
        "os. Whenever your programs need to work with files, folders, or file paths,\n",
        "you can refer to the short examples in this section. The full documentation\n",
        "for the os.path module is on the Python website at http://docs.python.org/3/\n",
        "library/os.path.html."
      ]
    },
    {
      "cell_type": "markdown",
      "metadata": {
        "id": "ea2DLfQfkUNh"
      },
      "source": [
        "## Handling Absolute and Relative Paths\n",
        "- Calling `os.path.abspath(path)` will return a string of the absolute path\n",
        "of the argument. This is an easy way to convert a relative path into an\n",
        "absolute one.\n",
        "-\t Calling `os.path.isabs(path)` will return True if the argument is an absolute path and False if it is a relative path.\n",
        "-\t Calling `os.path.relpath(path, start)` will return a string of a relative path from the start path to path. If start is not provided, the current working\n",
        "directory is used as the start path.\n",
        "\n",
        "### Try these functions in the interactive shell:"
      ]
    },
    {
      "cell_type": "code",
      "metadata": {
        "colab": {
          "base_uri": "https://localhost:8080/",
          "height": 35
        },
        "id": "idcLpgW9ivF3",
        "outputId": "72d87e49-b748-446a-e579-a13b58c33fe6"
      },
      "source": [
        "os.path.abspath('.')"
      ],
      "execution_count": 15,
      "outputs": [
        {
          "output_type": "execute_result",
          "data": {
            "application/vnd.google.colaboratory.intrinsic+json": {
              "type": "string"
            },
            "text/plain": [
              "'/content'"
            ]
          },
          "metadata": {},
          "execution_count": 15
        }
      ]
    },
    {
      "cell_type": "code",
      "metadata": {
        "colab": {
          "base_uri": "https://localhost:8080/",
          "height": 35
        },
        "id": "UouzWIFGljky",
        "outputId": "1a00f06a-eb4d-4f44-ca55-a03822898ec2"
      },
      "source": [
        "os.path.abspath('./myFiles')"
      ],
      "execution_count": 17,
      "outputs": [
        {
          "output_type": "execute_result",
          "data": {
            "application/vnd.google.colaboratory.intrinsic+json": {
              "type": "string"
            },
            "text/plain": [
              "'/content/myFiles'"
            ]
          },
          "metadata": {},
          "execution_count": 17
        }
      ]
    },
    {
      "cell_type": "code",
      "metadata": {
        "colab": {
          "base_uri": "https://localhost:8080/"
        },
        "id": "RX9ucVHil17c",
        "outputId": "d482f807-4fc2-4eed-cf29-23705e6c28fa"
      },
      "source": [
        "os.path.isabs('/content')"
      ],
      "execution_count": 20,
      "outputs": [
        {
          "output_type": "execute_result",
          "data": {
            "text/plain": [
              "True"
            ]
          },
          "metadata": {},
          "execution_count": 20
        }
      ]
    },
    {
      "cell_type": "code",
      "metadata": {
        "colab": {
          "base_uri": "https://localhost:8080/"
        },
        "id": "Nf8rZ1NWmBOT",
        "outputId": "d5f466fa-db0b-43ad-c7c8-55c5e7f749dd"
      },
      "source": [
        "os.path.isabs(os.path.abspath('.'))"
      ],
      "execution_count": 21,
      "outputs": [
        {
          "output_type": "execute_result",
          "data": {
            "text/plain": [
              "True"
            ]
          },
          "metadata": {},
          "execution_count": 21
        }
      ]
    },
    {
      "cell_type": "markdown",
      "metadata": {
        "id": "edFgmUITmudt"
      },
      "source": [
        "### Enter the following calls to os.path.relpath() into the interactive shell:"
      ]
    },
    {
      "cell_type": "code",
      "metadata": {
        "colab": {
          "base_uri": "https://localhost:8080/",
          "height": 35
        },
        "id": "m6RW7Y4omPcr",
        "outputId": "586dab6e-a2cd-4d75-9592-84a68533ceba"
      },
      "source": [
        "os.path.relpath('/content/myFiles/data', os.getcwd())"
      ],
      "execution_count": 32,
      "outputs": [
        {
          "output_type": "execute_result",
          "data": {
            "application/vnd.google.colaboratory.intrinsic+json": {
              "type": "string"
            },
            "text/plain": [
              "'myFiles/data'"
            ]
          },
          "metadata": {},
          "execution_count": 32
        }
      ]
    },
    {
      "cell_type": "code",
      "metadata": {
        "colab": {
          "base_uri": "https://localhost:8080/",
          "height": 35
        },
        "id": "-77-LwJQnLXC",
        "outputId": "9d506015-72d1-4849-d765-ae40f132724e"
      },
      "source": [
        "os.getcwd()"
      ],
      "execution_count": 24,
      "outputs": [
        {
          "output_type": "execute_result",
          "data": {
            "application/vnd.google.colaboratory.intrinsic+json": {
              "type": "string"
            },
            "text/plain": [
              "'/content'"
            ]
          },
          "metadata": {},
          "execution_count": 24
        }
      ]
    },
    {
      "cell_type": "markdown",
      "metadata": {
        "id": "n1cjMJ7WoFSv"
      },
      "source": [
        "Calling `os.path.dirname(path)` will return a string of everything that comes\n",
        "before the **last slash in the path argument**. Calling os.path.basename(path) will return a string of everything that comes after the last slash in the path argument."
      ]
    },
    {
      "cell_type": "code",
      "metadata": {
        "colab": {
          "base_uri": "https://localhost:8080/",
          "height": 35
        },
        "id": "BYZQILmoneGs",
        "outputId": "ab2a82b4-8f12-40e5-9f4c-befbe886ef20"
      },
      "source": [
        "path = '/content/myFiles/data/kolkata.txt'\n",
        "os.path.basename(path)"
      ],
      "execution_count": 33,
      "outputs": [
        {
          "output_type": "execute_result",
          "data": {
            "application/vnd.google.colaboratory.intrinsic+json": {
              "type": "string"
            },
            "text/plain": [
              "'kolkata.txt'"
            ]
          },
          "metadata": {},
          "execution_count": 33
        }
      ]
    },
    {
      "cell_type": "code",
      "metadata": {
        "colab": {
          "base_uri": "https://localhost:8080/",
          "height": 35
        },
        "id": "UW3FslLoob2D",
        "outputId": "9e223855-7380-404f-93ce-06b533e34520"
      },
      "source": [
        "os.path.dirname(path)"
      ],
      "execution_count": 34,
      "outputs": [
        {
          "output_type": "execute_result",
          "data": {
            "application/vnd.google.colaboratory.intrinsic+json": {
              "type": "string"
            },
            "text/plain": [
              "'/content/myFiles/data'"
            ]
          },
          "metadata": {},
          "execution_count": 34
        }
      ]
    },
    {
      "cell_type": "markdown",
      "metadata": {
        "id": "y2JzAxdboqRo"
      },
      "source": [
        "### If you need a path’s dir name and base name together, you can just call `os.path.split()` to get a tuple value with these two strings, like so:"
      ]
    },
    {
      "cell_type": "code",
      "metadata": {
        "colab": {
          "base_uri": "https://localhost:8080/"
        },
        "id": "3KFYFqE2ogKP",
        "outputId": "144f1d5a-9a28-4528-a9a6-13049dfcd631"
      },
      "source": [
        "os.path.split(path)"
      ],
      "execution_count": 35,
      "outputs": [
        {
          "output_type": "execute_result",
          "data": {
            "text/plain": [
              "('/content/myFiles/data', 'kolkata.txt')"
            ]
          },
          "metadata": {},
          "execution_count": 35
        }
      ]
    },
    {
      "cell_type": "markdown",
      "metadata": {
        "id": "2C_cjOc5o8yF"
      },
      "source": [
        "Notice that you could create the same tuple by calling `os.path.dirname()`\n",
        "and `os.path.basename()` and placing their return values in a tuple.\n",
        "\n",
        "Also, note that `os.path.split()` does not take a file path and return a list\n",
        "of strings of each folder. For that, use the split() string method and split on\n",
        "the string in os.sep. Recall from earlier that the os.sep variable is set to the\n",
        "correct folder-separating slash for the computer running the program."
      ]
    },
    {
      "cell_type": "code",
      "metadata": {
        "colab": {
          "base_uri": "https://localhost:8080/"
        },
        "id": "E4DxKJCKo1XN",
        "outputId": "ae95f524-de42-4f6d-fa84-3d9b3057e3e7"
      },
      "source": [
        "path.split(os.path.sep)"
      ],
      "execution_count": 36,
      "outputs": [
        {
          "output_type": "execute_result",
          "data": {
            "text/plain": [
              "['', 'content', 'myFiles', 'data', 'kolkata.txt']"
            ]
          },
          "metadata": {},
          "execution_count": 36
        }
      ]
    },
    {
      "cell_type": "markdown",
      "metadata": {
        "id": "7JGpU1aOpyas"
      },
      "source": [
        "## Finding File Sizes and Folder Contents\n",
        "Once you have ways of handling file paths, you can then start gathering\n",
        "information about specific files and folders. The os.path module provides\n",
        "functions for finding the size of a file in bytes and the files and folders\n",
        "inside a given folder.\n",
        "\n",
        "-\t Calling `os.path.getsize(path)` will return the size in bytes of the file in\n",
        "the path argument.\n",
        "-\t Calling `os.listdir(path) `will return a list of filename strings for each file in the path argument. (Note that this function is in the os module, not\n",
        "os.path.)"
      ]
    },
    {
      "cell_type": "code",
      "metadata": {
        "colab": {
          "base_uri": "https://localhost:8080/"
        },
        "id": "31M8ytorpn3V",
        "outputId": "7d037a53-d6e3-4473-f4d5-b1168c967a74"
      },
      "source": [
        "path = '/content/myFiles/data'\n",
        "os.path.getsize(path)"
      ],
      "execution_count": 37,
      "outputs": [
        {
          "output_type": "execute_result",
          "data": {
            "text/plain": [
              "4096"
            ]
          },
          "metadata": {},
          "execution_count": 37
        }
      ]
    },
    {
      "cell_type": "code",
      "metadata": {
        "colab": {
          "base_uri": "https://localhost:8080/"
        },
        "id": "4hgUjnQuqh3F",
        "outputId": "47be7006-9a99-44e9-8d47-f3d49c4439ba"
      },
      "source": [
        "os.listdir(path)"
      ],
      "execution_count": 40,
      "outputs": [
        {
          "output_type": "execute_result",
          "data": {
            "text/plain": [
              "['.ipynb_checkpoints', 'delhi.txt', 'kolkata.txt']"
            ]
          },
          "metadata": {},
          "execution_count": 40
        }
      ]
    },
    {
      "cell_type": "code",
      "metadata": {
        "colab": {
          "base_uri": "https://localhost:8080/"
        },
        "id": "LAuvykLqqpPn",
        "outputId": "ff6e2af7-17fc-4571-b988-9b5da87fd880"
      },
      "source": [
        "totalsize = 0\n",
        "for filename in  os.listdir(path):\n",
        "  totalsize = os.path.getsize(os.path.join('/content/myFiles/data',filename))\n",
        "totalsize"
      ],
      "execution_count": 41,
      "outputs": [
        {
          "output_type": "execute_result",
          "data": {
            "text/plain": [
              "826"
            ]
          },
          "metadata": {},
          "execution_count": 41
        }
      ]
    },
    {
      "cell_type": "markdown",
      "metadata": {
        "id": "mf5vHmtNrmMc"
      },
      "source": [
        "## Checking Path Validity\n",
        "Many Python functions will crash with an error if you supply them with a\n",
        "path that does not exist. The os.path module provides functions to check\n",
        "whether a given path exists and whether it is a file or folder.\n",
        "\n",
        "-\t Calling `os.path.exists(path)` will return True if the file or folder referred\n",
        "to in the argument exists and will return False if it does not exist.\n",
        "-\t Calling `os.path.isfile(path)` will return True if the path argument exists\n",
        "and is a file and will return False otherwise.\n",
        "-\t Calling `os.path.isdir(path)` will return True if the path argument exists\n",
        "and is a folder and will return False otherwise.\n",
        "\n",
        "Here’s what I get when I try these functions in the interactive shell:"
      ]
    },
    {
      "cell_type": "code",
      "metadata": {
        "colab": {
          "base_uri": "https://localhost:8080/",
          "height": 35
        },
        "id": "KxGEbU6mrUdP",
        "outputId": "56de187e-7b4a-412c-d6e1-68c0b390c748"
      },
      "source": [
        "os.path.exists(path)"
      ],
      "execution_count": 47,
      "outputs": [
        {
          "output_type": "execute_result",
          "data": {
            "application/vnd.google.colaboratory.intrinsic+json": {
              "type": "string"
            },
            "text/plain": [
              "'/content/myFiles/data'"
            ]
          },
          "metadata": {},
          "execution_count": 47
        }
      ]
    },
    {
      "cell_type": "code",
      "metadata": {
        "colab": {
          "base_uri": "https://localhost:8080/"
        },
        "id": "hl_nyY85sMkr",
        "outputId": "73fbd218-e675-4c01-be94-f76b9c669154"
      },
      "source": [
        "os.path.isfile(path)"
      ],
      "execution_count": 46,
      "outputs": [
        {
          "output_type": "execute_result",
          "data": {
            "text/plain": [
              "False"
            ]
          },
          "metadata": {},
          "execution_count": 46
        }
      ]
    },
    {
      "cell_type": "code",
      "metadata": {
        "colab": {
          "base_uri": "https://localhost:8080/"
        },
        "id": "QNM7nR2isY_Q",
        "outputId": "2251cd41-1297-449f-a33c-61cb24eabb45"
      },
      "source": [
        "filename = 'kolkata.txt'\n",
        "os.path.isfile(os.path.join(path,filename))"
      ],
      "execution_count": 48,
      "outputs": [
        {
          "output_type": "execute_result",
          "data": {
            "text/plain": [
              "True"
            ]
          },
          "metadata": {},
          "execution_count": 48
        }
      ]
    },
    {
      "cell_type": "code",
      "metadata": {
        "colab": {
          "base_uri": "https://localhost:8080/"
        },
        "id": "oFryguakstcl",
        "outputId": "59b88989-bc07-4d2a-c3c8-e218c9178868"
      },
      "source": [
        "os.path.isdir(path)"
      ],
      "execution_count": 49,
      "outputs": [
        {
          "output_type": "execute_result",
          "data": {
            "text/plain": [
              "True"
            ]
          },
          "metadata": {},
          "execution_count": 49
        }
      ]
    },
    {
      "cell_type": "markdown",
      "metadata": {
        "id": "cl0UFnuFs8Mf"
      },
      "source": [
        "## The file reading/writing Process\n",
        "Once you are comfortable working with folders and relative paths, you’ll\n",
        "be able to specify the location of files to read and write. The functions\n",
        "covered in the next few sections will apply to plaintext files. Plaintext files\n",
        "contain only basic text characters and do not include font, size, or color\n",
        "information. Text files with the .txt extension or Python script files with\n",
        "the .py extension are examples of plaintext files. These can be opened with\n",
        "Windows’s Notepad or OS X’s TextEdit application. Your programs can easily\n",
        "read the contents of plaintext files and treat them as an ordinary string value.\n",
        "\n",
        "Since every different type of binary file must be handled in its own\n",
        "way, this book will not go into reading and writing raw binary files directly.\n",
        "Fortunately, many modules make working with binary files easier—you will\n",
        "explore one of them, the shelve module, later in this chapter.\n",
        "\n",
        "### There are three steps to reading or writing files in Python.\n",
        "1. Call the `open()` function to return a File object.\n",
        "2. Call the `read()` or `write()` method on the File object.\n",
        "3. Close the file by calling the `close()` method on the File object."
      ]
    },
    {
      "cell_type": "markdown",
      "metadata": {
        "id": "53A2tCKguHVf"
      },
      "source": [
        "## Opening Files with the `open()` Function\n",
        "To open a file with the `open()` function, you pass it a string path indicating\n",
        "the file you want to open; it can be either an absolute or relative path. The\n",
        "open() function returns a File object.\n",
        "Try it by creating a text file named kolkata.txt using Notepad or TextEdit.\n",
        "Type **Hello Kolkata!** as the content of this text file and save it in your user\n",
        "home folder. Then, if you’re using Windows, enter the following into the\n",
        "interactive shell:"
      ]
    },
    {
      "cell_type": "code",
      "metadata": {
        "id": "022uVYPks1uA"
      },
      "source": [
        "path = '/content/myFiles/data/kolkata.txt'\n",
        "kolkata = open(path,'r')"
      ],
      "execution_count": 58,
      "outputs": []
    },
    {
      "cell_type": "markdown",
      "metadata": {
        "id": "Y_gk_yyvuspD"
      },
      "source": [
        "Both these commands will open the file in `“reading plaintext”` mode,\n",
        "or read mode for short. When a file is opened in read mode, Python lets you\n",
        "only read data from the file; you can’t write or modify it in any way. Read\n",
        "mode is the default mode for files you open in Python. But if you don’t want\n",
        "to rely on Python’s defaults, you can explicitly specify the mode by passing\n",
        "the string value `'r'` as a second argument to open(). So `open('/content/myFiles/data/kolkata.txt', 'r')` and `open(/content/myFiles/data/kolkata.txt')` do the same thing.\n",
        "\n",
        "The call to open() returns a File object. A File object represents a file on\n",
        "your computer; it is simply another type of value in Python, much like the\n",
        "lists and dictionaries you’re already familiar with. In the previous example,\n",
        "you stored the File object in the variable helloFile. Now, whenever you want\n",
        "to read from or write to the file, you can do so by calling methods on the\n",
        "File object in helloFile."
      ]
    },
    {
      "cell_type": "code",
      "metadata": {
        "colab": {
          "base_uri": "https://localhost:8080/",
          "height": 105
        },
        "id": "7a6ArxMzuiP-",
        "outputId": "db060e8c-7dfa-4f0c-c5c8-136fd49d0263"
      },
      "source": [
        "content = kolkata.read()\n",
        "content"
      ],
      "execution_count": 52,
      "outputs": [
        {
          "output_type": "execute_result",
          "data": {
            "application/vnd.google.colaboratory.intrinsic+json": {
              "type": "string"
            },
            "text/plain": [
              "\"Kolkata is the capital of the Indian state of West Bengal. Located on the eastern bank of the Hooghly River, the city is approximately 80 kilometres west of the border with Bangladesh. It is the primary business, commercial, and financial hub of Eastern India and the main port of communication for North-East India. According to the 2011 Indian census, Kolkata is the seventh-most populous city in India, with a population of 4.5 million residents within the city limits, and a population of over 14.1 million residents in the Kolkata Metropolitan Area. It is the third-most populous metropolitan area in India. In 2021, Kolkata metropolitan area crossed 15 million registered voters. The Port of Kolkata is India's oldest operating port and its sole major riverine port. Kolkata is regarded as the cultural capital of India.\""
            ]
          },
          "metadata": {},
          "execution_count": 52
        }
      ]
    },
    {
      "cell_type": "markdown",
      "metadata": {
        "id": "NtlMfWVpvZlv"
      },
      "source": [
        "### If you think of the contents of a file as a single large string value, the `read()` method returns the **string** that is stored in the file. Alternatively, you can use the `readlines()` method to get a list of string values from the file, one string for each line of text."
      ]
    },
    {
      "cell_type": "code",
      "metadata": {
        "colab": {
          "base_uri": "https://localhost:8080/"
        },
        "id": "tuSurvxpvRXd",
        "outputId": "0e614a3a-cd0c-4cba-ddda-1b887f414a18"
      },
      "source": [
        "lines = kolkata.readlines()\n",
        "lines"
      ],
      "execution_count": 59,
      "outputs": [
        {
          "output_type": "execute_result",
          "data": {
            "text/plain": [
              "[\"Kolkata is the capital of the Indian state of West Bengal. \\\\\\\\n Located on the eastern bank of the Hooghly River, the city is approximately 80 kilometres west of the border with Bangladesh.\\\\n It is the primary business, commercial, and financial hub of Eastern India and the main port of communication for North-East India. According to the 2011 Indian census, Kolkata is the seventh-most populous city in India, with a population of 4.5 million residents within the city limits, and a population of over 14.1 million residents in the Kolkata Metropolitan Area. It is the third-most populous metropolitan area in India. In 2021, Kolkata metropolitan area crossed 15 million registered voters. The Port of Kolkata is India's oldest operating port and its sole major riverine port. Kolkata is regarded as the cultural capital of India.\"]"
            ]
          },
          "metadata": {},
          "execution_count": 59
        }
      ]
    },
    {
      "cell_type": "code",
      "metadata": {
        "id": "cimXJi-yvwfs"
      },
      "source": [
        ""
      ],
      "execution_count": null,
      "outputs": []
    }
  ]
}