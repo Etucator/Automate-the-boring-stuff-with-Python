{
  "nbformat": 4,
  "nbformat_minor": 0,
  "metadata": {
    "colab": {
      "name": "Chapter 8: Reading and Writing Files .ipynb",
      "provenance": [],
      "authorship_tag": "ABX9TyMNKYuVgvVdd4ht5FkVUfB5",
      "include_colab_link": true
    },
    "kernelspec": {
      "name": "python3",
      "display_name": "Python 3"
    },
    "language_info": {
      "name": "python"
    }
  },
  "cells": [
    {
      "cell_type": "markdown",
      "metadata": {
        "id": "view-in-github",
        "colab_type": "text"
      },
      "source": [
        "<a href=\"https://colab.research.google.com/github/recervictory/Automate-the-boring-stuff-with-Python/blob/master/Chapter_8_Reading_and_Writing_Files_.ipynb\" target=\"_parent\"><img src=\"https://colab.research.google.com/assets/colab-badge.svg\" alt=\"Open In Colab\"/></a>"
      ]
    },
    {
      "cell_type": "markdown",
      "metadata": {
        "id": "rZMZVgzXeiSC"
      },
      "source": [
        "# Chapter 8: Reading and Writing Files\n",
        "Variables are a fine way to store data while\n",
        "your program is running, but if you want\n",
        "your data to persist even after your program\n",
        "has finished, you need to save it to a file. You\n",
        "can think of a file’s contents as a single string value,\n",
        "potentially gigabytes in size. In this chapter, you will\n",
        "learn how to use Python to create, read, and save files\n",
        "on the hard drive.\n"
      ]
    },
    {
      "cell_type": "markdown",
      "metadata": {
        "id": "MKNpcJuOe3Ky"
      },
      "source": [
        "## Files and file Paths\n",
        "A file has two key properties: a filename (usually written as one word) and\n",
        "a path. The path specifies the location of a file on the computer. For example,\n",
        "there is a file on my Windows 7 laptop with the filename projects.docx in the\n",
        "path `C:\\Users\\asweigart\\Documents`. The part of the filename after the last\n",
        "period is called the file’s extension and tells you a file’s type. project.docx is a Word document, and Users, asweigart, and Documents all refer to folders (also called directories). Folders can contain files\n",
        "and other folders. For example, project.docx\n",
        "is in the Documents folder, which is inside\n",
        "the asweigart folder, which is inside the\n",
        "Users folder. Figure 8-1 shows this folder\n",
        "organization.\n",
        "\n",
        "The C:\\ part of the path is the root\n",
        "folder,which contains all other folders.\n",
        "On Windows, the root folder is named\n",
        "C:\\ and is also called the `C: drive`. On OS X\n",
        "and Linux, the root folder is /. In this\n",
        "book, I’ll be using the Windows-style root\n",
        "folder, C:\\. If you are entering the interactive shell examples on OS X or Linux, enter `/` instead.\n",
        "\n",
        "Additional volumes, such as a DVD drive or USB thumb drive, will appear\n",
        "differently on different operating systems. On Windows, they appear as new,\n",
        "lettered root drives, such as D:\\ or E:\\. On OS X, they appear as new folders\n",
        "under the /Volumes folder. On Linux, they appear as new folders under the\n",
        "/mnt (“mount”) folder. Also note that while folder names and filenames are\n",
        "not case sensitive on Windows and OS X, they are case sensitive on Linux.\n",
        "\n",
        "## Backslash on Windows and Forward Slash on OS X and Linux\n",
        "On Windows, paths are written using backslashes (\\) as the separator\n",
        "between folder names. OS X and Linux, however, use the forward slash (/)\n",
        "as their path separator. If you want your programs to work on all operating\n",
        "systems, you will have to write your Python scripts to handle both cases.\n",
        "Fortunately, this is simple to do with the `os.path.join()` function. If you\n",
        "pass it the string values of individual file and folder names in your path,\n",
        "`os.path.join() `will return a string with a file path using the correct path\n",
        "separators. Enter the following into the interactive shell:"
      ]
    },
    {
      "cell_type": "code",
      "metadata": {
        "colab": {
          "base_uri": "https://localhost:8080/",
          "height": 35
        },
        "id": "V47A0cgid4OY",
        "outputId": "09c7692b-4c1c-4aa6-babc-ed3ea097c14c"
      },
      "source": [
        "import os\n",
        "os.path.join('usr', 'bin', 'spam')"
      ],
      "execution_count": 2,
      "outputs": [
        {
          "output_type": "execute_result",
          "data": {
            "application/vnd.google.colaboratory.intrinsic+json": {
              "type": "string"
            },
            "text/plain": [
              "'usr/bin/spam'"
            ]
          },
          "metadata": {},
          "execution_count": 2
        }
      ]
    },
    {
      "cell_type": "markdown",
      "metadata": {
        "id": "RF2cluJXgM0s"
      },
      "source": [
        "I’m running these interactive shell examples on Windows, so os.path\n",
        ".join('usr', 'bin', 'spam') returned `'usr\\\\bin\\\\spam'`. (Notice that the backslashes are doubled because each backslash needs to be escaped by another\n",
        "backslash character.) If I had called this function on OS X or Linux, the\n",
        "string would have been `'usr/bin/spam'`.\n",
        "\n",
        "The os.path.join() function is helpful if you need to create strings for\n",
        "filenames. These strings will be passed to several of the file-related functions introduced in this chapter. For example, the following example joins\n",
        "names from a list of filenames to the end of a folder’s name:\n"
      ]
    },
    {
      "cell_type": "code",
      "metadata": {
        "colab": {
          "base_uri": "https://localhost:8080/"
        },
        "id": "1SmiM68ser0c",
        "outputId": "317d0a48-de9c-49af-de33-f6df69d84ff0"
      },
      "source": [
        "myFiles = ['accounts.txt', 'details.csv', 'invite.docx']\n",
        "for filename in myFiles:\n",
        "  print(os.path.join('content','myFiles', filename))"
      ],
      "execution_count": 4,
      "outputs": [
        {
          "output_type": "stream",
          "name": "stdout",
          "text": [
            "content/myFiles/accounts.txt\n",
            "content/myFiles/details.csv\n",
            "content/myFiles/invite.docx\n"
          ]
        }
      ]
    },
    {
      "cell_type": "markdown",
      "metadata": {
        "id": "lmaRgPSDhUu6"
      },
      "source": [
        "## The Current Working Directory\n",
        "Every program that runs on your computer has a current working directory,\n",
        "or cwd. Any filenames or paths that do not begin with the root folder are\n",
        "assumed to be under the current working directory. You can get the current\n",
        "working directory as a string value with the `os.getcwd()` function and change\n",
        "it with `os.chdir()`. Enter the following into the interactive shell:"
      ]
    },
    {
      "cell_type": "code",
      "metadata": {
        "colab": {
          "base_uri": "https://localhost:8080/",
          "height": 35
        },
        "id": "GlT8tPOShF5H",
        "outputId": "03b3d57a-70da-40a0-f313-569a3cb36c7a"
      },
      "source": [
        "import os\n",
        "os.getcwd()"
      ],
      "execution_count": 13,
      "outputs": [
        {
          "output_type": "execute_result",
          "data": {
            "application/vnd.google.colaboratory.intrinsic+json": {
              "type": "string"
            },
            "text/plain": [
              "'/content'"
            ]
          },
          "metadata": {},
          "execution_count": 13
        }
      ]
    },
    {
      "cell_type": "code",
      "metadata": {
        "colab": {
          "base_uri": "https://localhost:8080/",
          "height": 35
        },
        "id": "r6rUC48ShsZu",
        "outputId": "dab5dcdc-c396-49b1-c4fb-d5d3fd23622c"
      },
      "source": [
        "os.chdir('/content')\n",
        "os.getcwd()"
      ],
      "execution_count": 31,
      "outputs": [
        {
          "output_type": "execute_result",
          "data": {
            "application/vnd.google.colaboratory.intrinsic+json": {
              "type": "string"
            },
            "text/plain": [
              "'/content'"
            ]
          },
          "metadata": {},
          "execution_count": 31
        }
      ]
    },
    {
      "cell_type": "markdown",
      "metadata": {
        "id": "t5vT3v6XiHqw"
      },
      "source": [
        "### Python will display an error if you try to change to a directory that does not exist."
      ]
    },
    {
      "cell_type": "code",
      "metadata": {
        "id": "6-8q1YJViHPR"
      },
      "source": [
        "os.chdir('/content')"
      ],
      "execution_count": 10,
      "outputs": []
    },
    {
      "cell_type": "markdown",
      "metadata": {
        "id": "pOIakXYciW7X"
      },
      "source": [
        "## Creating New Folders with `os.makedirs()`\n",
        "Your programs can create new folders (directories) with the os.makedirs()\n",
        "function. Enter the following into the interactive shell :"
      ]
    },
    {
      "cell_type": "code",
      "metadata": {
        "id": "2rOzDjMMh9fG"
      },
      "source": [
        "import os\n",
        "os.mkdir('MoreFiles')\n"
      ],
      "execution_count": 14,
      "outputs": []
    },
    {
      "cell_type": "markdown",
      "metadata": {
        "id": "jM9ZgVcOjvHz"
      },
      "source": [
        "## the `os.path` module\n",
        "The os.path module contains many helpful functions related to filenames\n",
        "and file paths. For instance, you’ve already used os.path.join() to build\n",
        "paths in a way that will work on any operating system. Since os.path is a\n",
        "module inside the os module, you can import it by simply running import\n",
        "os. Whenever your programs need to work with files, folders, or file paths,\n",
        "you can refer to the short examples in this section. The full documentation\n",
        "for the os.path module is on the Python website at http://docs.python.org/3/\n",
        "library/os.path.html."
      ]
    },
    {
      "cell_type": "markdown",
      "metadata": {
        "id": "ea2DLfQfkUNh"
      },
      "source": [
        "## Handling Absolute and Relative Paths\n",
        "- Calling `os.path.abspath(path)` will return a string of the absolute path\n",
        "of the argument. This is an easy way to convert a relative path into an\n",
        "absolute one.\n",
        "-\t Calling `os.path.isabs(path)` will return True if the argument is an absolute path and False if it is a relative path.\n",
        "-\t Calling `os.path.relpath(path, start)` will return a string of a relative path from the start path to path. If start is not provided, the current working\n",
        "directory is used as the start path.\n",
        "\n",
        "### Try these functions in the interactive shell:"
      ]
    },
    {
      "cell_type": "code",
      "metadata": {
        "colab": {
          "base_uri": "https://localhost:8080/",
          "height": 35
        },
        "id": "idcLpgW9ivF3",
        "outputId": "72d87e49-b748-446a-e579-a13b58c33fe6"
      },
      "source": [
        "os.path.abspath('.')"
      ],
      "execution_count": 15,
      "outputs": [
        {
          "output_type": "execute_result",
          "data": {
            "application/vnd.google.colaboratory.intrinsic+json": {
              "type": "string"
            },
            "text/plain": [
              "'/content'"
            ]
          },
          "metadata": {},
          "execution_count": 15
        }
      ]
    },
    {
      "cell_type": "code",
      "metadata": {
        "colab": {
          "base_uri": "https://localhost:8080/",
          "height": 35
        },
        "id": "UouzWIFGljky",
        "outputId": "1a00f06a-eb4d-4f44-ca55-a03822898ec2"
      },
      "source": [
        "os.path.abspath('./myFiles')"
      ],
      "execution_count": 17,
      "outputs": [
        {
          "output_type": "execute_result",
          "data": {
            "application/vnd.google.colaboratory.intrinsic+json": {
              "type": "string"
            },
            "text/plain": [
              "'/content/myFiles'"
            ]
          },
          "metadata": {},
          "execution_count": 17
        }
      ]
    },
    {
      "cell_type": "code",
      "metadata": {
        "colab": {
          "base_uri": "https://localhost:8080/"
        },
        "id": "RX9ucVHil17c",
        "outputId": "d482f807-4fc2-4eed-cf29-23705e6c28fa"
      },
      "source": [
        "os.path.isabs('/content')"
      ],
      "execution_count": 20,
      "outputs": [
        {
          "output_type": "execute_result",
          "data": {
            "text/plain": [
              "True"
            ]
          },
          "metadata": {},
          "execution_count": 20
        }
      ]
    },
    {
      "cell_type": "code",
      "metadata": {
        "colab": {
          "base_uri": "https://localhost:8080/"
        },
        "id": "Nf8rZ1NWmBOT",
        "outputId": "d5f466fa-db0b-43ad-c7c8-55c5e7f749dd"
      },
      "source": [
        "os.path.isabs(os.path.abspath('.'))"
      ],
      "execution_count": 21,
      "outputs": [
        {
          "output_type": "execute_result",
          "data": {
            "text/plain": [
              "True"
            ]
          },
          "metadata": {},
          "execution_count": 21
        }
      ]
    },
    {
      "cell_type": "markdown",
      "metadata": {
        "id": "edFgmUITmudt"
      },
      "source": [
        "### Enter the following calls to os.path.relpath() into the interactive shell:"
      ]
    },
    {
      "cell_type": "code",
      "metadata": {
        "colab": {
          "base_uri": "https://localhost:8080/",
          "height": 35
        },
        "id": "m6RW7Y4omPcr",
        "outputId": "586dab6e-a2cd-4d75-9592-84a68533ceba"
      },
      "source": [
        "os.path.relpath('/content/myFiles/data', os.getcwd())"
      ],
      "execution_count": 32,
      "outputs": [
        {
          "output_type": "execute_result",
          "data": {
            "application/vnd.google.colaboratory.intrinsic+json": {
              "type": "string"
            },
            "text/plain": [
              "'myFiles/data'"
            ]
          },
          "metadata": {},
          "execution_count": 32
        }
      ]
    },
    {
      "cell_type": "code",
      "metadata": {
        "colab": {
          "base_uri": "https://localhost:8080/",
          "height": 35
        },
        "id": "-77-LwJQnLXC",
        "outputId": "9d506015-72d1-4849-d765-ae40f132724e"
      },
      "source": [
        "os.getcwd()"
      ],
      "execution_count": 24,
      "outputs": [
        {
          "output_type": "execute_result",
          "data": {
            "application/vnd.google.colaboratory.intrinsic+json": {
              "type": "string"
            },
            "text/plain": [
              "'/content'"
            ]
          },
          "metadata": {},
          "execution_count": 24
        }
      ]
    },
    {
      "cell_type": "markdown",
      "metadata": {
        "id": "n1cjMJ7WoFSv"
      },
      "source": [
        "Calling `os.path.dirname(path)` will return a string of everything that comes\n",
        "before the **last slash in the path argument**. Calling os.path.basename(path) will return a string of everything that comes after the last slash in the path argument."
      ]
    },
    {
      "cell_type": "code",
      "metadata": {
        "colab": {
          "base_uri": "https://localhost:8080/",
          "height": 35
        },
        "id": "BYZQILmoneGs",
        "outputId": "ab2a82b4-8f12-40e5-9f4c-befbe886ef20"
      },
      "source": [
        "path = '/content/myFiles/data/kolkata.txt'\n",
        "os.path.basename(path)"
      ],
      "execution_count": 33,
      "outputs": [
        {
          "output_type": "execute_result",
          "data": {
            "application/vnd.google.colaboratory.intrinsic+json": {
              "type": "string"
            },
            "text/plain": [
              "'kolkata.txt'"
            ]
          },
          "metadata": {},
          "execution_count": 33
        }
      ]
    },
    {
      "cell_type": "code",
      "metadata": {
        "colab": {
          "base_uri": "https://localhost:8080/",
          "height": 35
        },
        "id": "UW3FslLoob2D",
        "outputId": "9e223855-7380-404f-93ce-06b533e34520"
      },
      "source": [
        "os.path.dirname(path)"
      ],
      "execution_count": 34,
      "outputs": [
        {
          "output_type": "execute_result",
          "data": {
            "application/vnd.google.colaboratory.intrinsic+json": {
              "type": "string"
            },
            "text/plain": [
              "'/content/myFiles/data'"
            ]
          },
          "metadata": {},
          "execution_count": 34
        }
      ]
    },
    {
      "cell_type": "markdown",
      "metadata": {
        "id": "y2JzAxdboqRo"
      },
      "source": [
        "### If you need a path’s dir name and base name together, you can just call `os.path.split()` to get a tuple value with these two strings, like so:"
      ]
    },
    {
      "cell_type": "code",
      "metadata": {
        "colab": {
          "base_uri": "https://localhost:8080/"
        },
        "id": "3KFYFqE2ogKP",
        "outputId": "144f1d5a-9a28-4528-a9a6-13049dfcd631"
      },
      "source": [
        "os.path.split(path)"
      ],
      "execution_count": 35,
      "outputs": [
        {
          "output_type": "execute_result",
          "data": {
            "text/plain": [
              "('/content/myFiles/data', 'kolkata.txt')"
            ]
          },
          "metadata": {},
          "execution_count": 35
        }
      ]
    },
    {
      "cell_type": "markdown",
      "metadata": {
        "id": "2C_cjOc5o8yF"
      },
      "source": [
        "Notice that you could create the same tuple by calling `os.path.dirname()`\n",
        "and `os.path.basename()` and placing their return values in a tuple."
      ]
    },
    {
      "cell_type": "code",
      "metadata": {
        "id": "E4DxKJCKo1XN"
      },
      "source": [
        ""
      ],
      "execution_count": null,
      "outputs": []
    }
  ]
}