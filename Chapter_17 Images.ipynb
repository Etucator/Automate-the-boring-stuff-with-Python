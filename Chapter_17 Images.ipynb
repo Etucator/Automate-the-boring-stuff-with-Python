{
 "cells": [
  {
   "cell_type": "markdown",
   "metadata": {},
   "source": [
    "# Manipulationg Images\n",
    "\n",
    "If you have a digital camera or even if\n",
    "you just upload photos from your phone\n",
    "to Facebook, you probably cross paths with\n",
    "digital image files all the time. You may know\n",
    "how to use basic graphics software, such as Microsoft\n",
    "Paint or Paintbrush, or even more advanced applications such as Adobe Photoshop. But if you need to\n",
    "edit a massive number of images, editing them by\n",
    "hand can be a lengthy, boring job."
   ]
  },
  {
   "cell_type": "code",
   "execution_count": 3,
   "metadata": {},
   "outputs": [
    {
     "data": {
      "text/plain": [
       "(255, 0, 0, 255)"
      ]
     },
     "execution_count": 3,
     "metadata": {},
     "output_type": "execute_result"
    }
   ],
   "source": [
    "from PIL import ImageColor\n",
    "ImageColor.getcolor('red', 'RGBA')\n",
    "ImageColor.getcolor('red', 'RGBA')"
   ]
  },
  {
   "cell_type": "code",
   "execution_count": 32,
   "metadata": {},
   "outputs": [],
   "source": [
    "from PIL import Image\n",
    "catIm= Image.open(r'data/cat.jpg')"
   ]
  },
  {
   "cell_type": "code",
   "execution_count": 8,
   "metadata": {},
   "outputs": [
    {
     "data": {
      "text/plain": [
       "(3356, 2242)"
      ]
     },
     "execution_count": 8,
     "metadata": {},
     "output_type": "execute_result"
    }
   ],
   "source": [
    "catIm.size"
   ]
  },
  {
   "cell_type": "code",
   "execution_count": 9,
   "metadata": {},
   "outputs": [
    {
     "data": {
      "text/plain": [
       "'data/cat.jpg'"
      ]
     },
     "execution_count": 9,
     "metadata": {},
     "output_type": "execute_result"
    }
   ],
   "source": [
    "catIm.filename"
   ]
  },
  {
   "cell_type": "code",
   "execution_count": 10,
   "metadata": {},
   "outputs": [
    {
     "data": {
      "text/plain": [
       "'JPEG'"
      ]
     },
     "execution_count": 10,
     "metadata": {},
     "output_type": "execute_result"
    }
   ],
   "source": [
    "catIm.format"
   ]
  },
  {
   "cell_type": "code",
   "execution_count": 14,
   "metadata": {},
   "outputs": [],
   "source": [
    "im = Image.new('RGBA', (100, 200), 'purple')\n",
    "im.save('out/purpleImage.png')"
   ]
  },
  {
   "cell_type": "code",
   "execution_count": 17,
   "metadata": {},
   "outputs": [],
   "source": [
    "im2 = Image.new('RGBA', (20, 20))\n",
    "im2.save('out/transparentImage.png')"
   ]
  },
  {
   "cell_type": "code",
   "execution_count": 29,
   "metadata": {},
   "outputs": [],
   "source": [
    "croppedIm = catIm.crop((0, 0, 3000, 1000))\n",
    "croppedIm.save('out/cropped.png')\n",
    "catCopyIm = catIm.copy()"
   ]
  },
  {
   "cell_type": "code",
   "execution_count": 45,
   "metadata": {},
   "outputs": [
    {
     "name": "stdout",
     "output_type": "stream",
     "text": [
      "(700, 700)\n"
     ]
    }
   ],
   "source": [
    "faceIm = catIm.crop((800, 800, 1500, 1500))\n",
    "print(faceIm.size)\n",
    "catCopyIm.paste(faceIm, (0, 0))\n",
    "catCopyIm.paste(faceIm, (900, 500))\n",
    "catCopyIm.save('out/pasted.png')"
   ]
  },
  {
   "cell_type": "code",
   "execution_count": 41,
   "metadata": {},
   "outputs": [
    {
     "data": {
      "text/plain": [
       "(0, 0)"
      ]
     },
     "execution_count": 41,
     "metadata": {},
     "output_type": "execute_result"
    }
   ],
   "source": [
    "faceIm = catIm.crop((800, 800, 750, 750))\n",
    "faceIm.size"
   ]
  },
  {
   "cell_type": "code",
   "execution_count": 46,
   "metadata": {},
   "outputs": [],
   "source": [
    "catIm.rotate(90).save('out/rotated90.png')"
   ]
  },
  {
   "cell_type": "code",
   "execution_count": 47,
   "metadata": {},
   "outputs": [],
   "source": [
    "from PIL import Image, ImageDraw\n",
    "im = Image.new('RGBA', (200, 200), 'white')\n",
    "draw = ImageDraw.Draw(im)\n",
    "draw.line([(0, 0), (199, 0), (199, 199), (0, 199), (0, 0)], fill='black')\n",
    "draw.rectangle((20, 30, 60, 60), fill='blue')\n",
    "draw.ellipse((120, 30, 160, 60), fill='red')\n",
    "draw.polygon(((57, 87), (79, 62), (94, 85), (120, 90), (103, 113)),fill='brown')\n",
    "\n",
    "im.save('out/drawing.png')"
   ]
  },
  {
   "cell_type": "code",
   "execution_count": 14,
   "metadata": {},
   "outputs": [],
   "source": [
    "import random\n",
    "from PIL import Image, ImageDraw, ImageColor\n",
    "im = Image.new('RGBA', (100, 100))\n",
    "im.getpixel((0, 0))\n",
    "\n",
    "for x in range(100):\n",
    "    for y in range(50):\n",
    "        im.putpixel((x, y), (random.randint(200-x,250-y), random.randint(200-x,250-y), random.randint(200-x,250-y)))\n",
    "        \n",
    "for x in range(100):\n",
    "    for y in range(50,100):\n",
    "        im.putpixel((x,y),ImageColor.getcolor('red','RGBA'))\n",
    "\n",
    "im.getpixel((0, 0))\n",
    "im.save('out/putPixel.png')"
   ]
  },
  {
   "cell_type": "code",
   "execution_count": 17,
   "metadata": {},
   "outputs": [
    {
     "data": {
      "text/plain": [
       "(301, 274)"
      ]
     },
     "execution_count": 17,
     "metadata": {},
     "output_type": "execute_result"
    }
   ],
   "source": [
    "import random\n",
    "from PIL import Image, ImageDraw, ImageColor\n",
    "\n",
    "flower = Image.open(r'data/flower.jpg')\n",
    "im.size"
   ]
  },
  {
   "cell_type": "code",
   "execution_count": 18,
   "metadata": {},
   "outputs": [],
   "source": [
    "im = Image.new('RGBA', im.size)"
   ]
  },
  {
   "cell_type": "code",
   "execution_count": 30,
   "metadata": {},
   "outputs": [],
   "source": [
    "x_size, y_size = im.size\n",
    "for x in range(x_size - 4):\n",
    "    for y in range(y_size - 4):\n",
    "        r1,g1,b1 = flower.getpixel((x, y))\n",
    "        r2,g2,b2 = flower.getpixel((x +1, y+1))\n",
    "        r3,g3,b3 = flower.getpixel((x+2, y+2))\n",
    "        r4,g4,b4 = flower.getpixel((x+3, y+3))\n",
    "        \n",
    "        r, g, b = (r4 + r1 + r2 + r3)//4, (g4 + g1 + g2 + g3)//4, (b4 + b1 + b2 + b3)//4\n",
    "        im.putpixel((x,y),(r,g,b))\n",
    "im.save('out/red_flower.png')\n",
    "        "
   ]
  },
  {
   "cell_type": "markdown",
   "metadata": {},
   "source": [
    "head 1 | head 2 | head 3|\n",
    "---|---|---|\n",
    "1 | This is a text | another text|\n",
    "1 | This is a text | another text|"
   ]
  },
  {
   "cell_type": "code",
   "execution_count": null,
   "metadata": {},
   "outputs": [],
   "source": []
  }
 ],
 "metadata": {
  "interpreter": {
   "hash": "7dae6437c12b1d87f00e0e10a4bd22be66a3b8ec05fb1161d95372f28c39fa9e"
  },
  "kernelspec": {
   "display_name": "Python 3.8.8 64-bit ('base': conda)",
   "language": "python",
   "name": "python3"
  },
  "language_info": {
   "codemirror_mode": {
    "name": "ipython",
    "version": 3
   },
   "file_extension": ".py",
   "mimetype": "text/x-python",
   "name": "python",
   "nbconvert_exporter": "python",
   "pygments_lexer": "ipython3",
   "version": "3.9.7"
  },
  "orig_nbformat": 4
 },
 "nbformat": 4,
 "nbformat_minor": 2
}
