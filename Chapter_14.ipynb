{
 "cells": [
  {
   "cell_type": "markdown",
   "metadata": {},
   "source": [
    "## the csv module"
   ]
  },
  {
   "cell_type": "code",
   "execution_count": 3,
   "metadata": {},
   "outputs": [
    {
     "data": {
      "text/plain": [
       "[['4/5/2015 13:34', 'Apples', '73'],\n",
       " ['4/5/2015 3:41', 'Cherries', '85'],\n",
       " ['4/6/2015 12:46', 'Pears', '14'],\n",
       " ['4/8/2015 8:59', 'Oranges', '52'],\n",
       " ['4/10/2015 2:07', 'Apples', '152'],\n",
       " ['4/10/2015 18:10', 'Bananas', '23'],\n",
       " ['4/10/2015 2:40', 'Strawberries', '98']]"
      ]
     },
     "execution_count": 3,
     "metadata": {},
     "output_type": "execute_result"
    }
   ],
   "source": [
    "import csv\n",
    "exampleFile = open('data/example.csv')\n",
    "exampleReader = csv.reader(exampleFile)\n",
    "exampleData = list(exampleReader)\n",
    "exampleData"
   ]
  },
  {
   "cell_type": "code",
   "execution_count": 4,
   "metadata": {},
   "outputs": [
    {
     "data": {
      "text/plain": [
       "'4/5/2015 13:34'"
      ]
     },
     "execution_count": 4,
     "metadata": {},
     "output_type": "execute_result"
    }
   ],
   "source": [
    "exampleData[0][0]"
   ]
  },
  {
   "cell_type": "code",
   "execution_count": 5,
   "metadata": {},
   "outputs": [
    {
     "data": {
      "text/plain": [
       "'73'"
      ]
     },
     "execution_count": 5,
     "metadata": {},
     "output_type": "execute_result"
    }
   ],
   "source": [
    "exampleData[0][2]"
   ]
  },
  {
   "cell_type": "code",
   "execution_count": 7,
   "metadata": {},
   "outputs": [
    {
     "name": "stdout",
     "output_type": "stream",
     "text": [
      "Row #1 ['4/5/2015 13:34', 'Apples', '73']\n",
      "Row #2 ['4/5/2015 3:41', 'Cherries', '85']\n",
      "Row #3 ['4/6/2015 12:46', 'Pears', '14']\n",
      "Row #4 ['4/8/2015 8:59', 'Oranges', '52']\n",
      "Row #5 ['4/10/2015 2:07', 'Apples', '152']\n",
      "Row #6 ['4/10/2015 18:10', 'Bananas', '23']\n",
      "Row #7 ['4/10/2015 2:40', 'Strawberries', '98']\n"
     ]
    }
   ],
   "source": [
    "import csv\n",
    "exampleFile = open('data/example.csv')\n",
    "exampleReader = csv.reader(exampleFile)\n",
    "for row in exampleReader:\n",
    "    print('Row #' + str(exampleReader.line_num) + ' ' + str(row))"
   ]
  },
  {
   "cell_type": "markdown",
   "metadata": {},
   "source": [
    "## Writer Objects"
   ]
  },
  {
   "cell_type": "code",
   "execution_count": 9,
   "metadata": {},
   "outputs": [],
   "source": [
    "import csv\n",
    "outputFile = open('out/output.csv', 'w', newline='')\n",
    "outputWriter = csv.writer(outputFile)\n",
    "outputWriter.writerow(['spam', 'eggs', 'bacon', 'ham'])\n",
    "outputWriter.writerow(['Hello, world!', 'eggs', 'bacon', 'ham'])\n",
    "outputWriter.writerow([1, 2, 3.141592, 4])\n",
    "outputFile.close()"
   ]
  },
  {
   "cell_type": "markdown",
   "metadata": {},
   "source": [
    "## The delimiter and lineterminator Keyword Arguments"
   ]
  },
  {
   "cell_type": "code",
   "execution_count": 15,
   "metadata": {},
   "outputs": [],
   "source": [
    "import csv\n",
    "csvFile = open('out/example.tsv', 'w', newline='')\n",
    "csvWriter = csv.writer(csvFile, delimiter='\\t', lineterminator='\\n\\n')\n",
    "csvWriter.writerow(['apples', 'oranges', 'grapes'])\n",
    "csvWriter.writerow(['eggs', 'bacon', 'ham'])\n",
    "csvWriter.writerow(['spam', 'spam', 'spam', 'spam', 'spam', 'spam'])\n",
    "csvFile.close()"
   ]
  },
  {
   "cell_type": "markdown",
   "metadata": {},
   "source": [
    "## Writing JSON with the dumps() Function"
   ]
  },
  {
   "cell_type": "code",
   "execution_count": 16,
   "metadata": {},
   "outputs": [],
   "source": [
    "pythonValue = {'isCat': True, 'miceCaught': 0, 'name': 'Zophie',\n",
    "'felineIQ': None}"
   ]
  },
  {
   "cell_type": "code",
   "execution_count": 17,
   "metadata": {},
   "outputs": [
    {
     "data": {
      "text/plain": [
       "'{\"isCat\": true, \"miceCaught\": 0, \"name\": \"Zophie\", \"felineIQ\": null}'"
      ]
     },
     "execution_count": 17,
     "metadata": {},
     "output_type": "execute_result"
    }
   ],
   "source": [
    "import json\n",
    "stringOfJsonData = json.dumps(pythonValue)\n",
    "stringOfJsonData"
   ]
  },
  {
   "cell_type": "code",
   "execution_count": 19,
   "metadata": {},
   "outputs": [],
   "source": [
    "import json, requests, sys\n",
    "\n",
    "url ='http://date.jsontest.com'\n",
    "response = requests.get(url)\n",
    "response.raise_for_status()"
   ]
  },
  {
   "cell_type": "code",
   "execution_count": 25,
   "metadata": {},
   "outputs": [
    {
     "name": "stdout",
     "output_type": "stream",
     "text": [
      "{\n",
      "   \"date\": \"12-05-2021\",\n",
      "   \"milliseconds_since_epoch\": 1638720110378,\n",
      "   \"time\": \"04:01:50 PM\"\n",
      "}\n",
      "\n",
      "{\n",
      "   \"date\": \"12-05-2021\",\n",
      "   \"milliseconds_since_epoch\": 1638720110797,\n",
      "   \"time\": \"04:01:50 PM\"\n",
      "}\n",
      "\n",
      "{\n",
      "   \"date\": \"12-05-2021\",\n",
      "   \"milliseconds_since_epoch\": 1638720111180,\n",
      "   \"time\": \"04:01:51 PM\"\n",
      "}\n",
      "\n",
      "{\n",
      "   \"date\": \"12-05-2021\",\n",
      "   \"milliseconds_since_epoch\": 1638720111570,\n",
      "   \"time\": \"04:01:51 PM\"\n",
      "}\n",
      "\n",
      "{\n",
      "   \"date\": \"12-05-2021\",\n",
      "   \"milliseconds_since_epoch\": 1638720111930,\n",
      "   \"time\": \"04:01:51 PM\"\n",
      "}\n",
      "\n",
      "{\n",
      "   \"date\": \"12-05-2021\",\n",
      "   \"milliseconds_since_epoch\": 1638720112315,\n",
      "   \"time\": \"04:01:52 PM\"\n",
      "}\n",
      "\n",
      "{\n",
      "   \"date\": \"12-05-2021\",\n",
      "   \"milliseconds_since_epoch\": 1638720112717,\n",
      "   \"time\": \"04:01:52 PM\"\n",
      "}\n",
      "\n",
      "{\n",
      "   \"date\": \"12-05-2021\",\n",
      "   \"milliseconds_since_epoch\": 1638720113371,\n",
      "   \"time\": \"04:01:53 PM\"\n",
      "}\n",
      "\n",
      "{\n",
      "   \"date\": \"12-05-2021\",\n",
      "   \"milliseconds_since_epoch\": 1638720113737,\n",
      "   \"time\": \"04:01:53 PM\"\n",
      "}\n",
      "\n",
      "{\n",
      "   \"date\": \"12-05-2021\",\n",
      "   \"milliseconds_since_epoch\": 1638720114135,\n",
      "   \"time\": \"04:01:54 PM\"\n",
      "}\n",
      "\n"
     ]
    }
   ],
   "source": [
    "for i in range(10):\n",
    "    url ='http://date.jsontest.com'\n",
    "    response = requests.get(url)\n",
    "    response.raise_for_status()\n",
    "    print(response.text)"
   ]
  },
  {
   "cell_type": "code",
   "execution_count": 28,
   "metadata": {},
   "outputs": [
    {
     "data": {
      "text/plain": [
       "'{\\n   \"original\": \"a\",\\n   \"md5\": \"0cc175b9c0f1b6a831c399e269772661\"\\n}\\n'"
      ]
     },
     "execution_count": 28,
     "metadata": {},
     "output_type": "execute_result"
    }
   ],
   "source": [
    "text = input(\"Enter a  text: \")\n",
    "\n",
    "url ='http://md5.jsontest.com/?text=%s' % text\n",
    "response = requests.get(url)\n",
    "response.raise_for_status()\n",
    "\n",
    "response.text"
   ]
  },
  {
   "cell_type": "code",
   "execution_count": 29,
   "metadata": {},
   "outputs": [
    {
     "data": {
      "text/plain": [
       "'{\\n   \"original\": \"a\",\\n   \"md5\": \"0cc175b9c0f1b6a831c399e269772661\"\\n}\\n'"
      ]
     },
     "execution_count": 29,
     "metadata": {},
     "output_type": "execute_result"
    }
   ],
   "source": [
    "text = input(\"Enter a  text: \")\n",
    "\n",
    "url ='http://md5.jsontest.com/?text=%s' % text\n",
    "response = requests.get(url)\n",
    "response.raise_for_status()\n",
    "\n",
    "response.text"
   ]
  },
  {
   "cell_type": "code",
   "execution_count": null,
   "metadata": {},
   "outputs": [],
   "source": []
  }
 ],
 "metadata": {
  "interpreter": {
   "hash": "7dae6437c12b1d87f00e0e10a4bd22be66a3b8ec05fb1161d95372f28c39fa9e"
  },
  "kernelspec": {
   "display_name": "Python 3.8.8 64-bit ('base': conda)",
   "language": "python",
   "name": "python3"
  },
  "language_info": {
   "codemirror_mode": {
    "name": "ipython",
    "version": 3
   },
   "file_extension": ".py",
   "mimetype": "text/x-python",
   "name": "python",
   "nbconvert_exporter": "python",
   "pygments_lexer": "ipython3",
   "version": "3.9.7"
  },
  "orig_nbformat": 4
 },
 "nbformat": 4,
 "nbformat_minor": 2
}
