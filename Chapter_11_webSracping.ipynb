{
 "cells": [
  {
   "cell_type": "markdown",
   "metadata": {},
   "source": [
    "# Chapter 11 : Web Sracping "
   ]
  },
  {
   "cell_type": "markdown",
   "metadata": {},
   "source": [
    "Since so much work on a computer involves going on the Internet,\n",
    "it’d be great if your programs could get online. **Web scraping** is the term\n",
    "for using a program to download and process content from the Web. For\n",
    "example, Google runs many web scraping programs to index web pages for\n",
    "its search engine. In this chapter, you will learn about several modules that\n",
    "make it easy to **scrape web pages in Python**.\n",
    "\n",
    "- **webbrowser** Comes with Python and opens a browser to a specific page.\n",
    "- **Requests** Downloads files and web pages from the Internet.\n",
    "- **Beautiful** Soup Parses HTML, the format that web pages are written in.\n",
    "- **Selenium** Launches and controls a web browser. Selenium is able to fill in forms and simulate mouse clicks in this browser."
   ]
  },
  {
   "cell_type": "markdown",
   "metadata": {},
   "source": [
    "## Project: mapit.py with the webbrowser module\n",
    "The webbrowser module’s open() function can launch a new browser to a specified URL. Enter the following into the interactive shell:"
   ]
  },
  {
   "cell_type": "code",
   "execution_count": 2,
   "metadata": {},
   "outputs": [
    {
     "data": {
      "text/plain": [
       "True"
      ]
     },
     "execution_count": 2,
     "metadata": {},
     "output_type": "execute_result"
    }
   ],
   "source": [
    "import webbrowser\n",
    "webbrowser.open('http://google.com/')"
   ]
  },
  {
   "cell_type": "markdown",
   "metadata": {},
   "source": [
    " web browser tab will open to the URL http://google.com/.\n",
    "This is about the only thing the webbrowser module can do. Even so, the\n",
    "open() function does make some interesting things possible. For example,\n",
    "it’s tedious to copy a street address to the clipboard and bring up a map of\n",
    "it on Google Maps. You could take a few steps out of this task by writing a\n",
    "simple script to automatically launch the map in your browser using the\n",
    "contents of your clipboard. This way, you only have to copy the address to a\n",
    "clipboard and run the script, and the map will be loaded for you.\n",
    "\n",
    "This is what your program does:\n",
    "-\t Gets a street address from the command line arguments or clipboard.\n",
    "-\t Opens the web browser to the Google Maps page for the address.\n",
    "\n",
    "This means your code will need to do the following:\n",
    "-\t Read the command line arguments from sys.argv.\n",
    "-\t Read the clipboard contents.\n",
    "-\t Call the webbrowser.open() function to open the web browser"
   ]
  },
  {
   "cell_type": "markdown",
   "metadata": {},
   "source": [
    "### Step 1: Figure Out the URL\n",
    "Based on the instructions in Appendix B, set up mapIt.py so that when you\n",
    "run it from the command line, like so . . ."
   ]
  },
  {
   "cell_type": "code",
   "execution_count": null,
   "metadata": {},
   "outputs": [],
   "source": [
    "python mapit 870 Valencia St, San Francisco, CA 94110"
   ]
  },
  {
   "cell_type": "markdown",
   "metadata": {},
   "source": [
    ". . . the script will use the command line arguments instead of the clipboard. If there are no command line arguments, then the program will\n",
    "know to use the contents of the clipboard."
   ]
  },
  {
   "cell_type": "markdown",
   "metadata": {},
   "source": [
    "The address is in the URL, but there’s a lot of additional text there as\n",
    "well. Websites often add extra data to URLs to help track visitors or customize sites. But if you try just going to https://www.google.com/maps/place/870+\n",
    "Valencia+St+San+Francisco+CA/, you’ll find that it still brings up the correct page. So your program can be set to open a web browser to 'https://\n",
    "www.google.com/maps/place/your_address_string' (where your_address_string is\n",
    "the address you want to map)"
   ]
  },
  {
   "cell_type": "markdown",
   "metadata": {},
   "source": [
    "### Step 2: Handle the Command Line Arguments\n",
    "Make your code look like this:"
   ]
  },
  {
   "cell_type": "code",
   "execution_count": 4,
   "metadata": {},
   "outputs": [],
   "source": [
    "#! python3\n",
    "# mapIt.py - Launches a map in the browser using an address from the\n",
    "# command line or clipboard.\n",
    "import webbrowser\n",
    "import sys\n",
    "import pyperclip\n",
    "import os\n",
    "\n",
    "print(os.getcwd())\n",
    "if len(sys.argv) > 1:\n",
    "    # Get address from command line.\n",
    "    address = ' '.join(sys.argv[1:])\n",
    "else:\n",
    "    # Get address from clipboard.\n",
    "    address = pyperclip.paste()\n",
    "\n",
    "webbrowser.open('https://www.google.com/maps/place/' + address)"
   ]
  },
  {
   "cell_type": "markdown",
   "metadata": {},
   "source": [
    "After the program’s #! shebang line, you need to import the webbrowser\n",
    "module for launching the browser and import the sys module for reading the\n",
    "potential command line arguments. The `sys.argv` variable stores a list of the\n",
    "program’s filename and command line arguments. If this list has more than\n",
    "just the filename in it, then `len(sys.argv)` evaluates to an integer greater than\n",
    "1, meaning that command line arguments have indeed been provided.\n",
    "Command line arguments are usually separated by spaces, but in\n",
    "this case, you want to interpret all of the arguments as a single string. Since\n",
    "`sys.argv` is a list of strings, you can pass it to the `join()` method, which returns\n",
    "a single string value. You don’t want the program name in this string, so\n",
    "instead of `sys.argv`, you should pass `sys.argv[1:]` to chop off the first element\n",
    "of the array. The final string that this expression evaluates to is stored in\n",
    "the address variable.\n",
    "\n",
    "If you run the program by entering this into the command line . . .\n",
    "> mapit 870 Valencia St, San Francisco, CA 94110\n",
    "\n",
    ". . . the sys.argv variable will contain this list value:\n",
    "> ['mapIt.py', '870', 'Valencia', 'St, ', 'San', 'Francisco, ', 'CA', '94110']"
   ]
  },
  {
   "cell_type": "markdown",
   "metadata": {},
   "source": [
    "If there are no command line arguments, the program will assume the\n",
    "address is stored on the clipboard. You can get the clipboard content with\n",
    "`pyperclip.paste()` and store it in a variable named address. Finally, to launch\n",
    "a web browser with the Google Maps URL, call `webbrowser.open()`.\n",
    "While some of the programs you write will perform huge tasks that save\n",
    "you hours, it can be just as satisfying to use a program that conveniently\n",
    "saves you a few seconds each time you perform a common task, such as getting a map of an address"
   ]
  },
  {
   "cell_type": "markdown",
   "metadata": {},
   "source": [
    "### Downloading files from the web with the requests module\n",
    "\n",
    "The requests module lets you easily download files from the Web without\n",
    "having to worry about complicated issues such as network errors, connection problems, and data compression. The requests module doesn’t come\n",
    "with Python, so you’ll have to install it first. From the command line, run\n",
    "pip install requests. (Appendix A has additional details on how to install\n",
    "third-party modules.)\n",
    "The requests module was written because Python’s urllib2 module is\n",
    "too complicated to use. In fact, take a permanent marker and black out this\n",
    "entire paragraph. Forget I ever mentioned urllib2. If you need to download\n",
    "things from the Web, just use the requests module.\n",
    "Next, do a simple test to make sure the requests module installed itself\n",
    "correctly. Enter the following into the interactive shell:"
   ]
  },
  {
   "cell_type": "code",
   "execution_count": 5,
   "metadata": {},
   "outputs": [],
   "source": [
    "import requests"
   ]
  },
  {
   "cell_type": "markdown",
   "metadata": {},
   "source": [
    "## Downloading a Web Page with the `requests.get()` Function\n",
    "\n",
    "The `requests.get()`function takes a string of a URL to download. By calling\n",
    "type() on requests.get()’s return value, you can see that it returns a Response\n",
    "object, which contains the response that the web server gave for your request.\n",
    "I’ll explain the Response object in more detail later, but for now, enter the\n",
    "following into the interactive shell while your computer is connected to\n",
    "the Internet:"
   ]
  },
  {
   "cell_type": "code",
   "execution_count": 6,
   "metadata": {},
   "outputs": [
    {
     "data": {
      "text/plain": [
       "requests.models.Response"
      ]
     },
     "execution_count": 6,
     "metadata": {},
     "output_type": "execute_result"
    }
   ],
   "source": [
    "import requests\n",
    "res = requests.get('http://www.gutenberg.org/cache/epub/1112/pg1112.txt')\n",
    "type(res)"
   ]
  },
  {
   "cell_type": "code",
   "execution_count": 7,
   "metadata": {},
   "outputs": [
    {
     "data": {
      "text/plain": [
       "True"
      ]
     },
     "execution_count": 7,
     "metadata": {},
     "output_type": "execute_result"
    }
   ],
   "source": [
    "res.status_code == requests.codes.ok"
   ]
  },
  {
   "cell_type": "code",
   "execution_count": 8,
   "metadata": {},
   "outputs": [
    {
     "data": {
      "text/plain": [
       "179380"
      ]
     },
     "execution_count": 8,
     "metadata": {},
     "output_type": "execute_result"
    }
   ],
   "source": [
    "len(res.text)"
   ]
  },
  {
   "cell_type": "code",
   "execution_count": 10,
   "metadata": {},
   "outputs": [
    {
     "name": "stdout",
     "output_type": "stream",
     "text": [
      "The Project Gutenberg EBook of Romeo and Juliet, by William Shakespeare\n",
      "\n",
      "\n",
      "*******************************************************************\n",
      "THIS EBOOK WAS ONE OF PROJECT GUTENBERG'S EARLY FILES PRODUCED AT A\n",
      "TIME WHEN PROOFING METHODS AND TOOLS WERE NOT WELL DEVELOPED. THERE\n",
      "IS AN IMPROVED EDITION OF THIS TITLE WHICH MAY BE VIEWED AS EBOOK\n",
      "(#1513) at https://www.gutenberg.org/ebooks/1513\n",
      "*******************************************************************\n",
      "\n",
      "\n",
      "This eBook is for the use of anyone anywhere at no cost and with\n",
      "almost no restrictions whatsoever.  You may copy it, give it away or\n",
      "re-use it under the terms of the Project Gutenberg License included\n",
      "with this eBook or online at www.gutenberg.org/license\n",
      "\n",
      "\n",
      "Title: Romeo and Juliet\n",
      "\n",
      "Author: William Shakespeare\n",
      "\n",
      "Posting Date: May 25, 2012 [EBook #1112]\n",
      "Release Date: November, 1997  [Etext #1112]\n",
      "\n",
      "Language: English\n",
      "\n",
      "\n",
      "*** START OF THIS PROJECT GUTENBERG EBOOK ROMEO AND JULIET ***\n",
      "\n",
      "\n",
      "\n",
      "\n",
      "\n",
      "\n",
      "\n",
      "\n",
      "\n",
      "\n",
      "\n",
      "\n",
      "\n",
      "*Project Gutenberg is proud to cooperate with The World Library*\n",
      "in the presentation of The Complete Works of William Shakespeare\n",
      "for your reading for education and entertainment.  HOWEVER, THIS\n",
      "IS NEITHER SHAREWARE NOR PUBLIC DOMAIN. . .AND UNDER THE LIBRARY\n",
      "OF THE FUTURE CONDITIONS OF THIS PRESENTATION. . .NO CHARGES MAY\n",
      "BE MADE FOR *ANY* ACCESS TO THIS MATERIAL.  YOU ARE ENCOURAGED!!\n",
      "TO GIVE IT AWAY TO ANYONE YOU LIKE, BUT NO CHARGES ARE ALLOWED!!\n",
      "\n",
      "\n",
      "\n",
      "\n",
      "The Complete Works of William Shakespeare\n",
      "\n",
      "The Tragedy of Romeo and Juliet\n",
      "\n",
      "The Library of the Future Complete Works of William Shakespeare\n",
      "Library of the Future is a TradeMark (TM) of World Library Inc.\n",
      "\n",
      "\n",
      "<<THIS ELECTRONIC VERSION OF THE COMPLETE WORKS OF WILLIAM\n",
      "SHAKESPEARE IS COPYRIGHT 1990-1993 BY WORLD LIBRARY, INC., AND IS\n",
      "PROVIDED BY PROJECT GUTENBERG ETEXT OF CARNEGIE MELLON UNIVERSITY\n",
      "WITH PERMISSION.  ELECTRONIC AND MACHINE READABLE COPIES MAY BE\n",
      "DISTRIBUTED SO LONG AS SUCH COPIES (1) ARE FOR YOUR OR OTHERS\n",
      "PERSONAL USE ONLY, AND (2) ARE NOT DISTRIBUTED OR USED\n",
      "COMMERCIALLY.  PROHIBITED COMMERCIAL DISTRIBUTION INCLUDES BY ANY\n",
      "SERVICE THAT CHARGES FOR DOWNLOAD TIME OR FOR MEMBERSHIP.>>\n",
      "\n",
      "\n",
      "\n",
      "\n",
      "1595\n",
      "\n",
      "THE TRAGEDY OF ROMEO AND JULIET\n",
      "\n",
      "by William Shakespeare\n",
      "\n",
      "\n",
      "\n",
      "Dramatis Personae\n",
      "\n",
      "  Chorus.\n",
      "\n",
      "\n",
      "  Escalus, Prince of Verona.\n",
      "\n",
      "  Paris, a young Count, kinsman to the Prince.\n",
      "\n",
      "  Montague, heads of two houses at variance with each other.\n",
      "\n",
      "  Capulet, heads of two houses at variance with\n"
     ]
    }
   ],
   "source": [
    "print(res.text[:2500])"
   ]
  },
  {
   "cell_type": "markdown",
   "metadata": {},
   "source": [
    "The URL goes to a text web page for the entire play of Romeo and Juliet,\n",
    "provided by Project Gutenberg u. You can tell that the request for this web\n",
    "page succeeded by checking the status_code attribute of the Response object"
   ]
  },
  {
   "cell_type": "markdown",
   "metadata": {},
   "source": [
    "If it is equal to the value of requests.codes.ok, then everything went fine v.\n",
    "(Incidentally, the status code for “OK” in the `HTTP protocol is 200`. You\n",
    "may already be familiar with the 404 status code for “**Not Found**.”)\n",
    "If the request succeeded, the downloaded web page is stored as a string\n",
    "in the Response object’s text variable. This variable holds a large string of\n",
    "the entire play; the call to len(res.text) shows you that it is more than\n",
    "178,000 characters long. Finally, calling print(res.text[:250]) displays only\n",
    "the first 250 characters."
   ]
  },
  {
   "cell_type": "markdown",
   "metadata": {},
   "source": [
    "## Checking for Errors\n",
    "As you’ve seen, the Response object has a status_code attribute that can be\n",
    "checked against requests.codes.ok to see whether the download succeeded. A\n",
    "simpler way to check for success is to call the `raise_for_status()` method on\n",
    "the Response object. This will raise an exception if there was an error downloading the file and will do nothing if the download succeeded. Enter the\n",
    "following into the interactive shell:"
   ]
  },
  {
   "cell_type": "code",
   "execution_count": 11,
   "metadata": {},
   "outputs": [
    {
     "ename": "HTTPError",
     "evalue": "404 Client Error: Not Found for url: http://inventwithpython.com/page_that_does_not_exist",
     "output_type": "error",
     "traceback": [
      "\u001b[1;31m---------------------------------------------------------------------------\u001b[0m",
      "\u001b[1;31mHTTPError\u001b[0m                                 Traceback (most recent call last)",
      "\u001b[1;32m<ipython-input-11-1bf5d665f188>\u001b[0m in \u001b[0;36m<module>\u001b[1;34m\u001b[0m\n\u001b[0;32m      1\u001b[0m \u001b[0mres\u001b[0m \u001b[1;33m=\u001b[0m \u001b[0mrequests\u001b[0m\u001b[1;33m.\u001b[0m\u001b[0mget\u001b[0m\u001b[1;33m(\u001b[0m\u001b[1;34m'http://inventwithpython.com/page_that_does_not_exist'\u001b[0m\u001b[1;33m)\u001b[0m\u001b[1;33m\u001b[0m\u001b[1;33m\u001b[0m\u001b[0m\n\u001b[1;32m----> 2\u001b[1;33m \u001b[0mres\u001b[0m\u001b[1;33m.\u001b[0m\u001b[0mraise_for_status\u001b[0m\u001b[1;33m(\u001b[0m\u001b[1;33m)\u001b[0m\u001b[1;33m\u001b[0m\u001b[1;33m\u001b[0m\u001b[0m\n\u001b[0m",
      "\u001b[1;32m~\\Anaconda3\\lib\\site-packages\\requests\\models.py\u001b[0m in \u001b[0;36mraise_for_status\u001b[1;34m(self)\u001b[0m\n\u001b[0;32m    941\u001b[0m \u001b[1;33m\u001b[0m\u001b[0m\n\u001b[0;32m    942\u001b[0m         \u001b[1;32mif\u001b[0m \u001b[0mhttp_error_msg\u001b[0m\u001b[1;33m:\u001b[0m\u001b[1;33m\u001b[0m\u001b[1;33m\u001b[0m\u001b[0m\n\u001b[1;32m--> 943\u001b[1;33m             \u001b[1;32mraise\u001b[0m \u001b[0mHTTPError\u001b[0m\u001b[1;33m(\u001b[0m\u001b[0mhttp_error_msg\u001b[0m\u001b[1;33m,\u001b[0m \u001b[0mresponse\u001b[0m\u001b[1;33m=\u001b[0m\u001b[0mself\u001b[0m\u001b[1;33m)\u001b[0m\u001b[1;33m\u001b[0m\u001b[1;33m\u001b[0m\u001b[0m\n\u001b[0m\u001b[0;32m    944\u001b[0m \u001b[1;33m\u001b[0m\u001b[0m\n\u001b[0;32m    945\u001b[0m     \u001b[1;32mdef\u001b[0m \u001b[0mclose\u001b[0m\u001b[1;33m(\u001b[0m\u001b[0mself\u001b[0m\u001b[1;33m)\u001b[0m\u001b[1;33m:\u001b[0m\u001b[1;33m\u001b[0m\u001b[1;33m\u001b[0m\u001b[0m\n",
      "\u001b[1;31mHTTPError\u001b[0m: 404 Client Error: Not Found for url: http://inventwithpython.com/page_that_does_not_exist"
     ]
    }
   ],
   "source": [
    "res = requests.get('http://inventwithpython.com/page_that_does_not_exist')\n",
    "res.raise_for_status()"
   ]
  },
  {
   "cell_type": "markdown",
   "metadata": {},
   "source": [
    "The `raise_for_status()` method is a good way to ensure that a program\n",
    "halts if a bad download occurs. This is a good thing: You want your program\n",
    "to stop as soon as some unexpected error happens. If a failed download isn’t\n",
    "a deal breaker for your program, you can wrap the `raise_for_status()` line\n",
    "with try and except statements to handle this error case without crashing."
   ]
  },
  {
   "cell_type": "code",
   "execution_count": 12,
   "metadata": {},
   "outputs": [
    {
     "name": "stdout",
     "output_type": "stream",
     "text": [
      "There was a problem: 404 Client Error: Not Found for url: http://inventwithpython.com/page_that_does_not_exist\n"
     ]
    }
   ],
   "source": [
    "import requests\n",
    "res = requests.get('http://inventwithpython.com/page_that_does_not_exist')\n",
    "try:\n",
    "    res.raise_for_status()\n",
    "except Exception as exc:\n",
    "    print('There was a problem: %s' % (exc))"
   ]
  },
  {
   "cell_type": "markdown",
   "metadata": {},
   "source": [
    "Always call `raise_for_status()` after calling `requests.get()`. You want to be\n",
    "sure that the download has actually worked before your program continues."
   ]
  },
  {
   "cell_type": "markdown",
   "metadata": {},
   "source": [
    "## Saving downloaded files to the hard drive"
   ]
  },
  {
   "cell_type": "markdown",
   "metadata": {},
   "source": [
    "From here, you can save the web page to a file on your hard drive with the\n",
    "standard `open()` function and `write()` method. There are some slight differences, though. First, you must open the file in write binary mode by passing\n",
    "the string '`wb`' as the second argument to open(). Even if the page is in plaintext (such as the Romeo and Juliet text you downloaded earlier), you need to\n",
    "write binary data instead of text data in order to maintain the Unicode encoding of the text."
   ]
  },
  {
   "cell_type": "markdown",
   "metadata": {},
   "source": [
    "To write the web page to a file, you can use a for loop with the Response\n",
    "object’s iter_content() method."
   ]
  },
  {
   "cell_type": "code",
   "execution_count": 13,
   "metadata": {},
   "outputs": [
    {
     "data": {
      "text/plain": [
       "79382"
      ]
     },
     "execution_count": 13,
     "metadata": {},
     "output_type": "execute_result"
    }
   ],
   "source": [
    "import requests\n",
    "res = requests.get('http://www.gutenberg.org/cache/epub/1112/pg1112.txt')\n",
    "res.raise_for_status()\n",
    "playFile = open('out/RomeoAndJuliet.txt', 'wb')\n",
    "for chunk in res.iter_content(100000):\n",
    "    playFile.write(chunk)\n",
    "playFile.write(chunk)"
   ]
  },
  {
   "cell_type": "markdown",
   "metadata": {},
   "source": [
    "The iter_content() method returns “chunks” of the content on each\n",
    "iteration through the loop. Each chunk is of the bytes data type, and you\n",
    "get to specify how many bytes each chunk will contain. One hundred\n",
    "thousand bytes is generally a good size, so pass 100000 as the argument to\n",
    "iter_content().\n",
    "\n",
    "\n",
    "The file RomeoAndJuliet.txt will now exist in the current working directory. Note that while the filename on the website was pg1112.txt, the file\n",
    "on your hard drive has a different filename. The requests module simply\n",
    "handles downloading the contents of web pages. Once the page is downloaded, it is simply data in your program. Even if you were to lose your\n",
    "Internet connection after downloading the web page, all the page data\n",
    "would still be on your computer."
   ]
  },
  {
   "cell_type": "markdown",
   "metadata": {},
   "source": [
    "The write() method returns the number of bytes written to the file. In\n",
    "the previous example, there were 100,000 bytes in the first chunk, and the\n",
    "remaining part of the file needed only 78,981 bytes.\n",
    "\n",
    "To review, here’s the complete process for downloading and saving a file:\n",
    "1. Call requests.get() to download the file.\n",
    "2. Call open() with 'wb' to create a new file in write binary mode.\n",
    "3. Loop over the Response object’s iter_content() method.\n",
    "4. Call write() on each iteration to write the content to the file.\n",
    "5. Call close() to close the file"
   ]
  },
  {
   "cell_type": "markdown",
   "metadata": {},
   "source": [
    "That’s all there is to the requests module! The for loop and `iter_content()`\n",
    "stuff may seem complicated compared to the `open()/write()/close()` workflow you’ve been using to write text files, but it’s to ensure that the requests\n",
    "module doesn’t eat up too much memory even if you download massive\n",
    "files. You can learn about the requests module’s other features from http://\n",
    "requests.readthedocs.org/"
   ]
  },
  {
   "cell_type": "code",
   "execution_count": null,
   "metadata": {},
   "outputs": [],
   "source": []
  }
 ],
 "metadata": {
  "interpreter": {
   "hash": "7dae6437c12b1d87f00e0e10a4bd22be66a3b8ec05fb1161d95372f28c39fa9e"
  },
  "kernelspec": {
   "display_name": "Python 3.8.8 64-bit ('base': conda)",
   "language": "python",
   "name": "python3"
  },
  "language_info": {
   "codemirror_mode": {
    "name": "ipython",
    "version": 3
   },
   "file_extension": ".py",
   "mimetype": "text/x-python",
   "name": "python",
   "nbconvert_exporter": "python",
   "pygments_lexer": "ipython3",
   "version": "3.8.8"
  },
  "orig_nbformat": 4
 },
 "nbformat": 4,
 "nbformat_minor": 2
}
