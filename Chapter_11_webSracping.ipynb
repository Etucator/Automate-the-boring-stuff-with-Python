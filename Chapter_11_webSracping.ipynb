{
 "cells": [
  {
   "cell_type": "markdown",
   "metadata": {},
   "source": [
    "# Chapter 11 : Web Sracping "
   ]
  },
  {
   "cell_type": "markdown",
   "metadata": {},
   "source": [
    "Since so much work on a computer involves going on the Internet,\n",
    "it’d be great if your programs could get online. **Web scraping** is the term\n",
    "for using a program to download and process content from the Web. For\n",
    "example, Google runs many web scraping programs to index web pages for\n",
    "its search engine. In this chapter, you will learn about several modules that\n",
    "make it easy to **scrape web pages in Python**.\n",
    "\n",
    "- **webbrowser** Comes with Python and opens a browser to a specific page.\n",
    "- **Requests** Downloads files and web pages from the Internet.\n",
    "- **Beautiful** Soup Parses HTML, the format that web pages are written in.\n",
    "- **Selenium** Launches and controls a web browser. Selenium is able to fill in forms and simulate mouse clicks in this browser."
   ]
  },
  {
   "cell_type": "markdown",
   "metadata": {},
   "source": [
    "## Project: mapit.py with the webbrowser module\n",
    "The webbrowser module’s open() function can launch a new browser to a specified URL. Enter the following into the interactive shell:"
   ]
  },
  {
   "cell_type": "code",
   "execution_count": 3,
   "metadata": {},
   "outputs": [
    {
     "data": {
      "text/plain": [
       "True"
      ]
     },
     "execution_count": 3,
     "metadata": {},
     "output_type": "execute_result"
    }
   ],
   "source": [
    "import webbrowser\n",
    "search = 'Kolkata'\n",
    "webbrowser.open('https://www.google.com/search?q=' + search)"
   ]
  },
  {
   "cell_type": "markdown",
   "metadata": {},
   "source": [
    " web browser tab will open to the URL http://google.com/.\n",
    "This is about the only thing the webbrowser module can do. Even so, the\n",
    "open() function does make some interesting things possible. For example,\n",
    "it’s tedious to copy a street address to the clipboard and bring up a map of\n",
    "it on Google Maps. You could take a few steps out of this task by writing a\n",
    "simple script to automatically launch the map in your browser using the\n",
    "contents of your clipboard. This way, you only have to copy the address to a\n",
    "clipboard and run the script, and the map will be loaded for you.\n",
    "\n",
    "This is what your program does:\n",
    "-\t Gets a street address from the command line arguments or clipboard.\n",
    "-\t Opens the web browser to the Google Maps page for the address.\n",
    "\n",
    "This means your code will need to do the following:\n",
    "-\t Read the command line arguments from sys.argv.\n",
    "-\t Read the clipboard contents.\n",
    "-\t Call the webbrowser.open() function to open the web browser"
   ]
  },
  {
   "cell_type": "markdown",
   "metadata": {},
   "source": [
    "### Step 1: Figure Out the URL\n",
    "Based on the instructions in Appendix B, set up mapIt.py so that when you\n",
    "run it from the command line, like so . . ."
   ]
  },
  {
   "cell_type": "code",
   "execution_count": null,
   "metadata": {},
   "outputs": [],
   "source": [
    "python mapit 870 Valencia St, San Francisco, CA 94110"
   ]
  },
  {
   "cell_type": "markdown",
   "metadata": {},
   "source": [
    ". . . the script will use the command line arguments instead of the clipboard. If there are no command line arguments, then the program will\n",
    "know to use the contents of the clipboard."
   ]
  },
  {
   "cell_type": "markdown",
   "metadata": {},
   "source": [
    "The address is in the URL, but there’s a lot of additional text there as\n",
    "well. Websites often add extra data to URLs to help track visitors or customize sites. But if you try just going to https://www.google.com/maps/place/870+\n",
    "Valencia+St+San+Francisco+CA/, you’ll find that it still brings up the correct page. So your program can be set to open a web browser to 'https://\n",
    "www.google.com/maps/place/your_address_string' (where your_address_string is\n",
    "the address you want to map)"
   ]
  },
  {
   "cell_type": "markdown",
   "metadata": {},
   "source": [
    "### Step 2: Handle the Command Line Arguments\n",
    "Make your code look like this:"
   ]
  },
  {
   "cell_type": "code",
   "execution_count": 4,
   "metadata": {},
   "outputs": [
    {
     "name": "stdout",
     "output_type": "stream",
     "text": [
      "c:\\Github\\Automate-the-boring-stuff-with-Python\n"
     ]
    },
    {
     "data": {
      "text/plain": [
       "True"
      ]
     },
     "execution_count": 4,
     "metadata": {},
     "output_type": "execute_result"
    }
   ],
   "source": [
    "#! python3\n",
    "# mapIt.py - Launches a map in the browser using an address from the\n",
    "# command line or clipboard.\n",
    "import webbrowser\n",
    "import sys\n",
    "import pyperclip\n",
    "import os\n",
    "\n",
    "print(os.getcwd())\n",
    "if len(sys.argv) > 1:\n",
    "    # Get address from command line.\n",
    "    address = ' '.join(sys.argv[1:])\n",
    "else:\n",
    "    # Get address from clipboard.\n",
    "    address = pyperclip.paste()\n",
    "\n",
    "webbrowser.open('https://www.google.com/maps/place/' + address)"
   ]
  },
  {
   "cell_type": "markdown",
   "metadata": {},
   "source": [
    "After the program’s #! shebang line, you need to import the webbrowser\n",
    "module for launching the browser and import the sys module for reading the\n",
    "potential command line arguments. The `sys.argv` variable stores a list of the\n",
    "program’s filename and command line arguments. If this list has more than\n",
    "just the filename in it, then `len(sys.argv)` evaluates to an integer greater than\n",
    "1, meaning that command line arguments have indeed been provided.\n",
    "Command line arguments are usually separated by spaces, but in\n",
    "this case, you want to interpret all of the arguments as a single string. Since\n",
    "`sys.argv` is a list of strings, you can pass it to the `join()` method, which returns\n",
    "a single string value. You don’t want the program name in this string, so\n",
    "instead of `sys.argv`, you should pass `sys.argv[1:]` to chop off the first element\n",
    "of the array. The final string that this expression evaluates to is stored in\n",
    "the address variable.\n",
    "\n",
    "If you run the program by entering this into the command line . . .\n",
    "> mapit 870 Valencia St, San Francisco, CA 94110\n",
    "\n",
    ". . . the sys.argv variable will contain this list value:\n",
    "> ['mapIt.py', '870', 'Valencia', 'St, ', 'San', 'Francisco, ', 'CA', '94110']"
   ]
  },
  {
   "cell_type": "markdown",
   "metadata": {},
   "source": [
    "If there are no command line arguments, the program will assume the\n",
    "address is stored on the clipboard. You can get the clipboard content with\n",
    "`pyperclip.paste()` and store it in a variable named address. Finally, to launch\n",
    "a web browser with the Google Maps URL, call `webbrowser.open()`.\n",
    "While some of the programs you write will perform huge tasks that save\n",
    "you hours, it can be just as satisfying to use a program that conveniently\n",
    "saves you a few seconds each time you perform a common task, such as getting a map of an address"
   ]
  },
  {
   "cell_type": "markdown",
   "metadata": {},
   "source": [
    "### Downloading files from the web with the requests module\n",
    "\n",
    "The requests module lets you easily download files from the Web without\n",
    "having to worry about complicated issues such as network errors, connection problems, and data compression. The requests module doesn’t come\n",
    "with Python, so you’ll have to install it first. From the command line, run\n",
    "pip install requests. (Appendix A has additional details on how to install\n",
    "third-party modules.)\n",
    "The requests module was written because Python’s urllib2 module is\n",
    "too complicated to use. In fact, take a permanent marker and black out this\n",
    "entire paragraph. Forget I ever mentioned urllib2. If you need to download\n",
    "things from the Web, just use the requests module.\n",
    "Next, do a simple test to make sure the requests module installed itself\n",
    "correctly. Enter the following into the interactive shell:"
   ]
  },
  {
   "cell_type": "code",
   "execution_count": 5,
   "metadata": {},
   "outputs": [],
   "source": [
    "import requests"
   ]
  },
  {
   "cell_type": "markdown",
   "metadata": {},
   "source": [
    "## Downloading a Web Page with the `requests.get()` Function\n",
    "\n",
    "The `requests.get()`function takes a string of a URL to download. By calling\n",
    "type() on requests.get()’s return value, you can see that it returns a Response\n",
    "object, which contains the response that the web server gave for your request.\n",
    "I’ll explain the Response object in more detail later, but for now, enter the\n",
    "following into the interactive shell while your computer is connected to\n",
    "the Internet:"
   ]
  },
  {
   "cell_type": "code",
   "execution_count": 6,
   "metadata": {},
   "outputs": [
    {
     "data": {
      "text/plain": [
       "requests.models.Response"
      ]
     },
     "execution_count": 6,
     "metadata": {},
     "output_type": "execute_result"
    }
   ],
   "source": [
    "import requests\n",
    "res = requests.get('http://www.gutenberg.org/cache/epub/1112/pg1112.txt')\n",
    "type(res)"
   ]
  },
  {
   "cell_type": "code",
   "execution_count": null,
   "metadata": {},
   "outputs": [],
   "source": [
    "import requests\n",
    "res = requests.get('http://www.gutenberg.org/cache/epub/1112/pg1112.txt')"
   ]
  },
  {
   "cell_type": "code",
   "execution_count": 8,
   "metadata": {},
   "outputs": [
    {
     "name": "stdout",
     "output_type": "stream",
     "text": [
      "200\n"
     ]
    }
   ],
   "source": [
    "print(res.status_code)"
   ]
  },
  {
   "cell_type": "code",
   "execution_count": 7,
   "metadata": {},
   "outputs": [
    {
     "data": {
      "text/plain": [
       "True"
      ]
     },
     "execution_count": 7,
     "metadata": {},
     "output_type": "execute_result"
    }
   ],
   "source": [
    "res.status_code == requests.codes.ok"
   ]
  },
  {
   "cell_type": "code",
   "execution_count": 8,
   "metadata": {},
   "outputs": [
    {
     "data": {
      "text/plain": [
       "179380"
      ]
     },
     "execution_count": 8,
     "metadata": {},
     "output_type": "execute_result"
    }
   ],
   "source": [
    "len(res.text)"
   ]
  },
  {
   "cell_type": "code",
   "execution_count": 10,
   "metadata": {},
   "outputs": [
    {
     "name": "stdout",
     "output_type": "stream",
     "text": [
      "The Project Gutenberg EBook of Romeo and Juliet, by William Shakespeare\n",
      "\n",
      "\n",
      "*******************************************************************\n",
      "THIS EBOOK WAS ONE OF PROJECT GUTENBERG'S EARLY FILES PRODUCED AT A\n",
      "TIME WHEN PROOFING METHODS AND TOOLS WERE NOT WELL DEVELOPED. THERE\n",
      "IS AN IMPROVED EDITION OF THIS TITLE WHICH MAY BE VIEWED AS EBOOK\n",
      "(#1513) at https://www.gutenberg.org/ebooks/1513\n",
      "*******************************************************************\n",
      "\n",
      "\n",
      "This eBook is for the use of anyone anywhere at no cost and with\n",
      "almost no restrictions whatsoever.  You may copy it, give it away or\n",
      "re-use it under the terms of the Project Gutenberg License included\n",
      "with this eBook or online at www.gutenberg.org/license\n",
      "\n",
      "\n",
      "Title: Romeo and Juliet\n",
      "\n",
      "Author: William Shakespeare\n",
      "\n",
      "Posting Date: May 25, 2012 [EBook #1112]\n",
      "Release Date: November, 1997  [Etext #1112]\n",
      "\n",
      "Language: English\n",
      "\n",
      "\n",
      "*** START OF THIS PROJECT GUTENBERG EBOOK ROMEO AND JULIET ***\n",
      "\n",
      "\n",
      "\n",
      "\n",
      "\n",
      "\n",
      "\n",
      "\n",
      "\n",
      "\n",
      "\n",
      "\n",
      "\n",
      "*Project Gutenberg is proud to cooperate with The World Library*\n",
      "in the presentation of The Complete Works of William Shakespeare\n",
      "for your reading for education and entertainment.  HOWEVER, THIS\n",
      "IS NEITHER SHAREWARE NOR PUBLIC DOMAIN. . .AND UNDER THE LIBRARY\n",
      "OF THE FUTURE CONDITIONS OF THIS PRESENTATION. . .NO CHARGES MAY\n",
      "BE MADE FOR *ANY* ACCESS TO THIS MATERIAL.  YOU ARE ENCOURAGED!!\n",
      "TO GIVE IT AWAY TO ANYONE YOU LIKE, BUT NO CHARGES ARE ALLOWED!!\n",
      "\n",
      "\n",
      "\n",
      "\n",
      "The Complete Works of William Shakespeare\n",
      "\n",
      "The Tragedy of Romeo and Juliet\n",
      "\n",
      "The Library of the Future Complete Works of William Shakespeare\n",
      "Library of the Future is a TradeMark (TM) of World Library Inc.\n",
      "\n",
      "\n",
      "<<THIS ELECTRONIC VERSION OF THE COMPLETE WORKS OF WILLIAM\n",
      "SHAKESPEARE IS COPYRIGHT 1990-1993 BY WORLD LIBRARY, INC., AND IS\n",
      "PROVIDED BY PROJECT GUTENBERG ETEXT OF CARNEGIE MELLON UNIVERSITY\n",
      "WITH PERMISSION.  ELECTRONIC AND MACHINE READABLE COPIES MAY BE\n",
      "DISTRIBUTED SO LONG AS SUCH COPIES (1) ARE FOR YOUR OR OTHERS\n",
      "PERSONAL USE ONLY, AND (2) ARE NOT DISTRIBUTED OR USED\n",
      "COMMERCIALLY.  PROHIBITED COMMERCIAL DISTRIBUTION INCLUDES BY ANY\n",
      "SERVICE THAT CHARGES FOR DOWNLOAD TIME OR FOR MEMBERSHIP.>>\n",
      "\n",
      "\n",
      "\n",
      "\n",
      "1595\n",
      "\n",
      "THE TRAGEDY OF ROMEO AND JULIET\n",
      "\n",
      "by William Shakespeare\n",
      "\n",
      "\n",
      "\n",
      "Dramatis Personae\n",
      "\n",
      "  Chorus.\n",
      "\n",
      "\n",
      "  Escalus, Prince of Verona.\n",
      "\n",
      "  Paris, a young Count, kinsman to the Prince.\n",
      "\n",
      "  Montague, heads of two houses at variance with each other.\n",
      "\n",
      "  Capulet, heads of two houses at variance with\n"
     ]
    }
   ],
   "source": [
    "print(res.text[:2500])"
   ]
  },
  {
   "cell_type": "markdown",
   "metadata": {},
   "source": [
    "The URL goes to a text web page for the entire play of Romeo and Juliet,\n",
    "provided by Project Gutenberg u. You can tell that the request for this web\n",
    "page succeeded by checking the status_code attribute of the Response object"
   ]
  },
  {
   "cell_type": "markdown",
   "metadata": {},
   "source": [
    "If it is equal to the value of requests.codes.ok, then everything went fine v.\n",
    "(Incidentally, the status code for “OK” in the `HTTP protocol is 200`. You\n",
    "may already be familiar with the 404 status code for “**Not Found**.”)\n",
    "If the request succeeded, the downloaded web page is stored as a string\n",
    "in the Response object’s text variable. This variable holds a large string of\n",
    "the entire play; the call to len(res.text) shows you that it is more than\n",
    "178,000 characters long. Finally, calling print(res.text[:250]) displays only\n",
    "the first 250 characters."
   ]
  },
  {
   "cell_type": "markdown",
   "metadata": {},
   "source": [
    "## Checking for Errors\n",
    "As you’ve seen, the Response object has a status_code attribute that can be\n",
    "checked against requests.codes.ok to see whether the download succeeded. A\n",
    "simpler way to check for success is to call the `raise_for_status()` method on\n",
    "the Response object. This will raise an exception if there was an error downloading the file and will do nothing if the download succeeded. Enter the\n",
    "following into the interactive shell:"
   ]
  },
  {
   "cell_type": "code",
   "execution_count": 4,
   "metadata": {},
   "outputs": [
    {
     "name": "stdout",
     "output_type": "stream",
     "text": [
      "You are not connected...\n"
     ]
    }
   ],
   "source": [
    "import requests\n",
    "res = requests.get('http://inventwithpython.com/page_that_does_not_exist')\n",
    "try:\n",
    "    res.raise_for_status()\n",
    "except :\n",
    "    print(\"You are not connected...\")"
   ]
  },
  {
   "cell_type": "markdown",
   "metadata": {},
   "source": [
    "The `raise_for_status()` method is a good way to ensure that a program\n",
    "halts if a bad download occurs. This is a good thing: You want your program\n",
    "to stop as soon as some unexpected error happens. If a failed download isn’t\n",
    "a deal breaker for your program, you can wrap the `raise_for_status()` line\n",
    "with try and except statements to handle this error case without crashing."
   ]
  },
  {
   "cell_type": "code",
   "execution_count": 12,
   "metadata": {},
   "outputs": [
    {
     "name": "stdout",
     "output_type": "stream",
     "text": [
      "There was a problem: 404 Client Error: Not Found for url: http://inventwithpython.com/page_that_does_not_exist\n"
     ]
    }
   ],
   "source": [
    "import requests\n",
    "res = requests.get('http://inventwithpython.com/page_that_does_not_exist')\n",
    "try:\n",
    "    res.raise_for_status()\n",
    "except Exception as exc:\n",
    "    print('There was a problem: %s' % (exc))"
   ]
  },
  {
   "cell_type": "markdown",
   "metadata": {},
   "source": [
    "Always call `raise_for_status()` after calling `requests.get()`. You want to be\n",
    "sure that the download has actually worked before your program continues."
   ]
  },
  {
   "cell_type": "markdown",
   "metadata": {},
   "source": [
    "## Saving downloaded files to the hard drive"
   ]
  },
  {
   "cell_type": "markdown",
   "metadata": {},
   "source": [
    "From here, you can save the web page to a file on your hard drive with the\n",
    "standard `open()` function and `write()` method. There are some slight differences, though. First, you must open the file in write binary mode by passing\n",
    "the string '`wb`' as the second argument to open(). Even if the page is in plaintext (such as the Romeo and Juliet text you downloaded earlier), you need to\n",
    "write binary data instead of text data in order to maintain the Unicode encoding of the text."
   ]
  },
  {
   "cell_type": "markdown",
   "metadata": {},
   "source": [
    "To write the web page to a file, you can use a for loop with the Response\n",
    "object’s iter_content() method."
   ]
  },
  {
   "cell_type": "code",
   "execution_count": 9,
   "metadata": {},
   "outputs": [
    {
     "data": {
      "text/plain": [
       "79382"
      ]
     },
     "execution_count": 9,
     "metadata": {},
     "output_type": "execute_result"
    }
   ],
   "source": [
    "import requests\n",
    "res = requests.get('http://www.gutenberg.org/cache/epub/1112/pg1112.txt')\n",
    "res.raise_for_status()\n",
    "playFile = open('out/RomeoAndJuliet.txt', 'wb')\n",
    "for chunk in res.iter_content(100000):\n",
    "    playFile.write(chunk)\n",
    "playFile.write(chunk)"
   ]
  },
  {
   "cell_type": "markdown",
   "metadata": {},
   "source": [
    "The iter_content() method returns “chunks” of the content on each\n",
    "iteration through the loop. Each chunk is of the bytes data type, and you\n",
    "get to specify how many bytes each chunk will contain. One hundred\n",
    "thousand bytes is generally a good size, so pass 100000 as the argument to\n",
    "iter_content().\n",
    "\n",
    "\n",
    "The file RomeoAndJuliet.txt will now exist in the current working directory. Note that while the filename on the website was pg1112.txt, the file\n",
    "on your hard drive has a different filename. The requests module simply\n",
    "handles downloading the contents of web pages. Once the page is downloaded, it is simply data in your program. Even if you were to lose your\n",
    "Internet connection after downloading the web page, all the page data\n",
    "would still be on your computer."
   ]
  },
  {
   "cell_type": "markdown",
   "metadata": {},
   "source": [
    "The write() method returns the number of bytes written to the file. In\n",
    "the previous example, there were 100,000 bytes in the first chunk, and the\n",
    "remaining part of the file needed only 78,981 bytes.\n",
    "\n",
    "To review, here’s the complete process for downloading and saving a file:\n",
    "1. Call requests.get() to download the file.\n",
    "2. Call open() with 'wb' to create a new file in write binary mode.\n",
    "3. Loop over the Response object’s iter_content() method.\n",
    "4. Call write() on each iteration to write the content to the file.\n",
    "5. Call close() to close the file"
   ]
  },
  {
   "cell_type": "markdown",
   "metadata": {},
   "source": [
    "That’s all there is to the requests module! The for loop and `iter_content()`\n",
    "stuff may seem complicated compared to the `open()/write()/close()` workflow you’ve been using to write text files, but it’s to ensure that the requests\n",
    "module doesn’t eat up too much memory even if you download massive\n",
    "files. You can learn about the requests module’s other features from http://\n",
    "requests.readthedocs.org/"
   ]
  },
  {
   "cell_type": "markdown",
   "metadata": {},
   "source": []
  },
  {
   "cell_type": "markdown",
   "metadata": {},
   "source": [
    "## Creating a BeautifulSoup Object from HTML"
   ]
  },
  {
   "cell_type": "markdown",
   "metadata": {},
   "source": [
    "The bs4.BeautifulSoup() function needs to be called with a string containing the HTML it will parse. The bs4.BeautifulSoup() function returns is a\n",
    "BeautifulSoup object. Enter the following into the interactive shell while\n",
    "your computer is connected to the Internet:"
   ]
  },
  {
   "cell_type": "code",
   "execution_count": 10,
   "metadata": {},
   "outputs": [],
   "source": [
    "import requests, bs4\n",
    "res = requests.get('http://nostarch.com') # download\n",
    "res.raise_for_status()"
   ]
  },
  {
   "cell_type": "code",
   "execution_count": 11,
   "metadata": {},
   "outputs": [
    {
     "data": {
      "text/plain": [
       "bs4.BeautifulSoup"
      ]
     },
     "execution_count": 11,
     "metadata": {},
     "output_type": "execute_result"
    }
   ],
   "source": [
    "noStarchSoup = bs4.BeautifulSoup(res.text)\n",
    "type(noStarchSoup)"
   ]
  },
  {
   "cell_type": "code",
   "execution_count": 12,
   "metadata": {},
   "outputs": [
    {
     "data": {
      "text/plain": [
       "<!DOCTYPE html>\n",
       "<html dir=\"ltr\" lang=\"en\" xmlns:og=\"http://ogp.me/ns#\">\n",
       "<head>\n",
       "<script src=\"/cdn-cgi/apps/head/j5v88GAcO1Pymf91CQYvgLZqNao.js\"></script><link href=\"https://www.w3.org/1999/xhtml/vocab\" rel=\"profile\"/>\n",
       "<meta content=\"width=device-width, initial-scale=1.0\" name=\"viewport\"/>\n",
       "<meta content=\"text/html; charset=utf-8\" http-equiv=\"Content-Type\"/>\n",
       "<link href=\"https://nostarch.com/sites/default/files/favicon.ico\" rel=\"shortcut icon\" type=\"image/vnd.microsoft.icon\"/>\n",
       "<meta content=\"Drupal 7 (http://drupal.org)\" name=\"generator\"/>\n",
       "<link href=\"https://nostarch.com/sites/all/themes/nostarch/images/nsp_logo_long.jpg\" rel=\"image_src\"/>\n",
       "<link href=\"https://nostarch.com/\" rel=\"canonical\"/>\n",
       "<link href=\"https://nostarch.com/\" rel=\"shortlink\"/>\n",
       "<meta content=\"https://nostarch.com/sites/all/themes/nostarch/images/nsp_logo_long.jpg\" property=\"og:image\"/>\n",
       "<meta content=\"summary\" name=\"twitter:card\"/>\n",
       "<meta content=\"@nostarch\" name=\"twitter:site\"/>\n",
       "<meta content=\"https://nostarch.com/index.htm\" name=\"twitter:url\"/>\n",
       "<meta content=\"No Starch Press\" name=\"twitter:title\"/>\n",
       "<meta content=\"https://nostarch.com/sites/all/themes/nostarch/images/nsp_logo_long.jpg\" name=\"twitter:image\"/>\n",
       "<title>No Starch Press | \"The finest in geek entertainment\"</title>\n",
       "<link href=\"https://nostarch.com/sites/default/files/css/css_lQaZfjVpwP_oGNqdtWCSpJT1EMqXdMiU84ekLLxQnc4.css\" media=\"all\" rel=\"stylesheet\" type=\"text/css\"/>\n",
       "<link href=\"https://nostarch.com/sites/default/files/css/css_cB6OXw_Opj15QIgT41NyjOYTofTdQ6xaaKVZFiwaFxA.css\" media=\"all\" rel=\"stylesheet\" type=\"text/css\"/>\n",
       "<link href=\"https://nostarch.com/sites/default/files/css/css_DaIcdyA0lOLALFBzd4xOBJ5J8rJZ_Lg6D1vmlRX6LTU.css\" media=\"all\" rel=\"stylesheet\" type=\"text/css\"/>\n",
       "<link href=\"https://nostarch.com/sites/default/files/css/css_IwNykrVIB6liTuCIi49cgnK2FPbzT4XOA3ygh41TdYY.css\" media=\"all\" rel=\"stylesheet\" type=\"text/css\"/>\n",
       "<!--[if lt IE 9]>\n",
       "    <script src=\"https://cdn.jsdelivr.net/html5shiv/3.7.3/html5shiv-printshiv.min.js\"></script>\n",
       "  <![endif]-->\n",
       "<script>window.google_analytics_uacct = \"UA-5027625-1\";</script>\n",
       "<script src=\"//ajax.googleapis.com/ajax/libs/jquery/1.10.2/jquery.min.js\"></script>\n",
       "<script>window.jQuery || document.write(\"<script src='/sites/all/modules/contrib/jquery_update/replace/jquery/1.10/jquery.min.js'>\\x3C/script>\")</script>\n",
       "<script src=\"https://nostarch.com/misc/jquery-extend-3.4.0.js?v=1.10.2\"></script>\n",
       "<script src=\"https://nostarch.com/misc/jquery-html-prefilter-3.5.0-backport.js?v=1.10.2\"></script>\n",
       "<script src=\"https://nostarch.com/misc/jquery.once.js?v=1.2\"></script>\n",
       "<script src=\"https://nostarch.com/misc/drupal.js?r4fgrp\"></script>\n",
       "<script src=\"https://nostarch.com/sites/all/modules/contrib/jquery_update/replace/ui/external/jquery.cookie.js?v=67fb34f6a866c40d0570\"></script>\n",
       "<script src=\"https://nostarch.com/sites/all/modules/contrib/jquery_update/replace/misc/jquery.form.min.js?v=2.69\"></script>\n",
       "<script src=\"https://nostarch.com/misc/ajax.js?v=7.82\"></script>\n",
       "<script src=\"https://nostarch.com/sites/all/modules/contrib/jquery_update/js/jquery_update.js?v=0.0.1\"></script>\n",
       "<script src=\"https://nostarch.com/sites/all/modules/contrib/ubercart/uc_file/uc_file.js?r4fgrp\"></script>\n",
       "<script src=\"https://nostarch.com/sites/all/libraries/colorbox/jquery.colorbox-min.js?r4fgrp\"></script>\n",
       "<script src=\"https://nostarch.com/sites/all/modules/contrib/colorbox/js/colorbox.js?r4fgrp\"></script>\n",
       "<script src=\"https://nostarch.com/sites/all/modules/contrib/colorbox/styles/plain/colorbox_style.js?r4fgrp\"></script>\n",
       "<script src=\"https://nostarch.com/sites/all/modules/contrib/colorbox/js/colorbox_load.js?r4fgrp\"></script>\n",
       "<script src=\"https://nostarch.com/sites/all/modules/contrib/colorbox/js/colorbox_inline.js?r4fgrp\"></script>\n",
       "<script src=\"https://nostarch.com/sites/all/modules/contrib/views/js/base.js?r4fgrp\"></script>\n",
       "<script src=\"https://nostarch.com/sites/all/themes/contrib/bootstrap/js/misc/_progress.js?v=7.82\"></script>\n",
       "<script src=\"https://nostarch.com/sites/all/modules/contrib/views/js/ajax_view.js?r4fgrp\"></script>\n",
       "<script src=\"https://nostarch.com/sites/all/modules/contrib/ubercart/uc_cart/uc_cart_block.js?r4fgrp\"></script>\n",
       "<script src=\"https://nostarch.com/sites/all/modules/contrib/google_analytics/googleanalytics.js?r4fgrp\"></script>\n",
       "<script>(function(i,s,o,g,r,a,m){i[\"GoogleAnalyticsObject\"]=r;i[r]=i[r]||function(){(i[r].q=i[r].q||[]).push(arguments)},i[r].l=1*new Date();a=s.createElement(o),m=s.getElementsByTagName(o)[0];a.async=1;a.src=g;m.parentNode.insertBefore(a,m)})(window,document,\"script\",\"https://www.google-analytics.com/analytics.js\",\"ga\");ga(\"create\", \"UA-5027625-1\", {\"cookieDomain\":\"auto\"});ga(\"set\", \"anonymizeIp\", true);ga(\"send\", \"pageview\");</script>\n",
       "<script src=\"https://nostarch.com/sites/all/themes/nostarch/js/bootstrap.min.js?r4fgrp\"></script>\n",
       "<script src=\"https://nostarch.com/sites/all/themes/nostarch/js/main.js?r4fgrp\"></script>\n",
       "<script src=\"https://nostarch.com/sites/all/themes/nostarch/js/front_grid_height.js?r4fgrp\"></script>\n",
       "<script src=\"https://nostarch.com/sites/all/themes/contrib/bootstrap/js/misc/ajax.js?r4fgrp\"></script>\n",
       "<script src=\"https://nostarch.com/sites/all/themes/contrib/bootstrap/js/modules/views/js/ajax_view.js?r4fgrp\"></script>\n",
       "<script>jQuery.extend(Drupal.settings, {\"basePath\":\"\\/\",\"pathPrefix\":\"\",\"ajaxPageState\":{\"theme\":\"nostarch\",\"theme_token\":\"YLxqmC8NZ9tqFkG3iDkkts7299HJn4eNU6O0GhaoKdc\",\"jquery_version\":\"1.10\",\"js\":{\"sites\\/all\\/modules\\/contrib\\/addthis\\/addthis.js\":1,\"sites\\/all\\/libraries\\/shariff\\/shariff.min.js\":1,\"sites\\/all\\/themes\\/contrib\\/bootstrap\\/js\\/bootstrap.js\":1,\"0\":1,\"\\/\\/ajax.googleapis.com\\/ajax\\/libs\\/jquery\\/1.10.2\\/jquery.min.js\":1,\"1\":1,\"misc\\/jquery-extend-3.4.0.js\":1,\"misc\\/jquery-html-prefilter-3.5.0-backport.js\":1,\"misc\\/jquery.once.js\":1,\"misc\\/drupal.js\":1,\"sites\\/all\\/modules\\/contrib\\/jquery_update\\/replace\\/ui\\/external\\/jquery.cookie.js\":1,\"sites\\/all\\/modules\\/contrib\\/jquery_update\\/replace\\/misc\\/jquery.form.min.js\":1,\"misc\\/ajax.js\":1,\"sites\\/all\\/modules\\/contrib\\/jquery_update\\/js\\/jquery_update.js\":1,\"sites\\/all\\/modules\\/contrib\\/ubercart\\/uc_file\\/uc_file.js\":1,\"sites\\/all\\/libraries\\/colorbox\\/jquery.colorbox-min.js\":1,\"sites\\/all\\/modules\\/contrib\\/colorbox\\/js\\/colorbox.js\":1,\"sites\\/all\\/modules\\/contrib\\/colorbox\\/styles\\/plain\\/colorbox_style.js\":1,\"sites\\/all\\/modules\\/contrib\\/colorbox\\/js\\/colorbox_load.js\":1,\"sites\\/all\\/modules\\/contrib\\/colorbox\\/js\\/colorbox_inline.js\":1,\"sites\\/all\\/modules\\/contrib\\/views\\/js\\/base.js\":1,\"sites\\/all\\/themes\\/contrib\\/bootstrap\\/js\\/misc\\/_progress.js\":1,\"sites\\/all\\/modules\\/contrib\\/views\\/js\\/ajax_view.js\":1,\"sites\\/all\\/modules\\/contrib\\/ubercart\\/uc_cart\\/uc_cart_block.js\":1,\"sites\\/all\\/modules\\/contrib\\/google_analytics\\/googleanalytics.js\":1,\"2\":1,\"sites\\/all\\/themes\\/nostarch\\/js\\/bootstrap.min.js\":1,\"sites\\/all\\/themes\\/nostarch\\/js\\/main.js\":1,\"sites\\/all\\/themes\\/nostarch\\/js\\/front_grid_height.js\":1,\"sites\\/all\\/themes\\/contrib\\/bootstrap\\/js\\/misc\\/ajax.js\":1,\"sites\\/all\\/themes\\/contrib\\/bootstrap\\/js\\/modules\\/views\\/js\\/ajax_view.js\":1},\"css\":{\"modules\\/system\\/system.base.css\":1,\"sites\\/all\\/modules\\/contrib\\/date\\/date_api\\/date.css\":1,\"sites\\/all\\/modules\\/contrib\\/date\\/date_popup\\/themes\\/datepicker.1.7.css\":1,\"modules\\/field\\/theme\\/field.css\":1,\"sites\\/all\\/modules\\/contrib\\/logintoboggan\\/logintoboggan.css\":1,\"modules\\/node\\/node.css\":1,\"sites\\/all\\/modules\\/contrib\\/uc_fedex\\/uc_fedex.css\":1,\"sites\\/all\\/modules\\/contrib\\/ubercart\\/uc_file\\/uc_file.css\":1,\"sites\\/all\\/modules\\/contrib\\/ubercart\\/uc_order\\/uc_order.css\":1,\"sites\\/all\\/modules\\/contrib\\/ubercart\\/uc_product\\/uc_product.css\":1,\"sites\\/all\\/modules\\/contrib\\/ubercart\\/uc_store\\/uc_store.css\":1,\"sites\\/all\\/modules\\/contrib\\/views\\/css\\/views.css\":1,\"sites\\/all\\/modules\\/contrib\\/uc_discounts_alt\\/uc_discounts\\/uc_discounts.css\":1,\"sites\\/all\\/modules\\/contrib\\/colorbox\\/styles\\/plain\\/colorbox_style.css\":1,\"sites\\/all\\/modules\\/contrib\\/ctools\\/css\\/ctools.css\":1,\"sites\\/all\\/libraries\\/shariff\\/shariff.complete.css\":1,\"sites\\/all\\/modules\\/contrib\\/ubercart\\/uc_cart\\/uc_cart_block.css\":1,\"sites\\/all\\/themes\\/nostarch\\/css\\/en_styles.css\":1,\"sites\\/all\\/themes\\/nostarch\\/css\\/custom.css\":1,\"sites\\/all\\/themes\\/nostarch\\/css\\/bootstrap-3-vert-offset.css\":1,\"sites\\/all\\/themes\\/nostarch\\/css\\/bootstrap-3-autoclear.css\":1,\"sites\\/all\\/themes\\/nostarch\\/css\\/glyphicons.css\":1}},\"colorbox\":{\"opacity\":\"0.85\",\"current\":\"{current} of {total}\",\"previous\":\"\\u00ab Prev\",\"next\":\"Next \\u00bb\",\"close\":\"Close\",\"maxWidth\":\"98%\",\"maxHeight\":\"98%\",\"fixed\":true,\"mobiledetect\":true,\"mobiledevicewidth\":\"480px\",\"specificPagesDefaultValue\":\"admin*\\nimagebrowser*\\nimg_assist*\\nimce*\\nnode\\/add\\/*\\nnode\\/*\\/edit\\nprint\\/*\\nprintpdf\\/*\\nsystem\\/ajax\\nsystem\\/ajax\\/*\"},\"better_exposed_filters\":{\"views\":{\"frontpage_new\":{\"displays\":{\"block_frontpage\":{\"filters\":[]}}},\"frontpage_comingsoon\":{\"displays\":{\"block_frontpage\":{\"filters\":[]}}},\"topics\":{\"displays\":{\"block\":{\"filters\":[]}}}}},\"views\":{\"ajax_path\":\"\\/views\\/ajax\",\"ajaxViews\":{\"views_dom_id:54545b4c42b3b88a5e0a0b422970f6ec\":{\"view_name\":\"frontpage_comingsoon\",\"view_display_id\":\"block_frontpage\",\"view_args\":\"\",\"view_path\":\"node\\/14\",\"view_base_path\":\"frontpage_comingsoon\",\"view_dom_id\":\"54545b4c42b3b88a5e0a0b422970f6ec\",\"pager_element\":0}}},\"urlIsAjaxTrusted\":{\"\\/views\\/ajax\":true,\"\\/\":true},\"googleanalytics\":{\"trackOutbound\":1,\"trackMailto\":1,\"trackDownload\":1,\"trackDownloadExtensions\":\"7z|aac|arc|arj|asf|asx|avi|bin|csv|doc(x|m)?|dot(x|m)?|exe|flv|gif|gz|gzip|hqx|jar|jpe?g|js|mp(2|3|4|e?g)|mov(ie)?|msi|msp|pdf|phps|png|ppt(x|m)?|pot(x|m)?|pps(x|m)?|ppam|sld(x|m)?|thmx|qtm?|ra(m|r)?|sea|sit|tar|tgz|torrent|txt|wav|wma|wmv|wpd|xls(x|m|b)?|xlt(x|m)|xlam|xml|z|zip\",\"trackColorbox\":1},\"bootstrap\":{\"anchorsFix\":\"0\",\"anchorsSmoothScrolling\":\"0\",\"formHasError\":1,\"popoverEnabled\":1,\"popoverOptions\":{\"animation\":1,\"html\":0,\"placement\":\"right\",\"selector\":\"\",\"trigger\":\"click\",\"triggerAutoclose\":1,\"title\":\"\",\"content\":\"\",\"delay\":0,\"container\":\"body\"},\"tooltipEnabled\":1,\"tooltipOptions\":{\"animation\":1,\"html\":0,\"placement\":\"auto left\",\"selector\":\"\",\"trigger\":\"hover focus\",\"delay\":0,\"container\":\"body\"}}});</script>\n",
       "</head>\n",
       "<body class=\"html front not-logged-in two-sidebars page-node page-node- page-node-14 node-type-page\">\n",
       "<div id=\"skip-link\">\n",
       "<a class=\"element-invisible element-focusable\" href=\"#main-content\">Skip to main content</a>\n",
       "</div>\n",
       "<header class=\"header\" id=\"\" role=\"banner\">\n",
       "<div class=\"container\">\n",
       "<div class=\"row\">\n",
       "<nav class=\"navbar navbar-default visible-xs\" role=\"navigation\">\n",
       "<div class=\"navbar-header\">\n",
       "<button aria-controls=\"navbar\" aria-expanded=\"false\" class=\"navbar-toggle collapsed\" data-target=\"#navbar\" data-toggle=\"collapse\" type=\"button\">\n",
       "<span class=\"sr-only\">Toggle navigation</span>\n",
       "<span class=\"icon-bar\"></span>\n",
       "<span class=\"icon-bar\"></span>\n",
       "<span class=\"icon-bar\"></span>\n",
       "</button>\n",
       "<a class=\"navbar-brand text-uppercase\" href=\"/\"><img alt=\"Home\" class=\"img-responsive\" src=\"https://nostarch.com/sites/all/themes/nostarch/logo.png\"/></a>\n",
       "</div>\n",
       "<div class=\"navbar-collapse collapse text-center\" id=\"navbar\">\n",
       "<ul class=\"menu nav navbar-nav\"><li class=\"first leaf\"><a href=\"/catalog.htm\" title=\"Explore our catalog\">Catalog</a></li>\n",
       "<li class=\"leaf\"><a href=\"https://nostarch.com/merchandise-0\" title=\"Merchandise\">Merchandise</a></li>\n",
       "<li class=\"leaf\"><a href=\"/blog\" title=\"The No Starch Press blog\">Blog</a></li>\n",
       "<li class=\"leaf\"><a href=\"/media.htm\" title=\"Media contact\">Media</a></li>\n",
       "<li class=\"leaf\"><a href=\"/writeforus\" title=\"Submit a book proposal\">Write for Us</a></li>\n",
       "<li class=\"leaf\"><a href=\"/about\" title=\"About No Starch Press\">About Us</a></li>\n",
       "<li class=\"last leaf\"><a href=\"/contactus\" title=\"Contact Us\">Contact Us</a></li>\n",
       "</ul> <div class=\"region region-navigation\">\n",
       "<section class=\"block block-search-api-page clearfix\" id=\"block-search-api-page-site-search\">\n",
       "<form accept-charset=\"UTF-8\" action=\"/\" id=\"search-api-page-search-form-site-search\" method=\"post\"><div><div class=\"form-item form-item-keys-1 form-type-textfield form-group\"><input class=\"form-control form-text\" id=\"edit-keys-1\" maxlength=\"128\" name=\"keys_1\" placeholder=\"Search\" size=\"15\" type=\"text\" value=\"\"/> <label class=\"control-label element-invisible\" for=\"edit-keys-1\">Enter your keywords</label>\n",
       "</div><input name=\"id\" type=\"hidden\" value=\"1\"/>\n",
       "<button class=\"icon glyphicon glyphicon-search btn-primary form-control btn form-submit\" id=\"edit-submit-1\" name=\"op\" type=\"submit\" value=\"\"></button>\n",
       "<input name=\"form_build_id\" type=\"hidden\" value=\"form-RAaHdqvGVC5nt8JgarIZu4C3xwjqahgr5MlhH4DIm3Q\"/>\n",
       "<input name=\"form_id\" type=\"hidden\" value=\"search_api_page_search_form_site_search\"/>\n",
       "</div></form>\n",
       "</section>\n",
       "</div>\n",
       "</div>\n",
       "</nav>\n",
       "<div class=\"navbar-header\">\n",
       "<div class=\"logo-wrapper col-sm-6 hidden-xs\">\n",
       "<a class=\"logo navbar-btn pull-left\" href=\"/\" title=\"Home\">\n",
       "<img alt=\"Home\" class=\"img-responsive\" src=\"https://nostarch.com/sites/all/themes/nostarch/logo.png\"/>\n",
       "</a>\n",
       "</div>\n",
       "<div class=\"logo-wrapper col-sm-6 hidden-xs\">\n",
       "<div class=\"region region-navigation\">\n",
       "<div class=\"region region-navigation\">\n",
       "<section class=\"block block-search-api-page clearfix\" id=\"block-search-api-page-site-search\">\n",
       "<form accept-charset=\"UTF-8\" action=\"/\" id=\"search-api-page-search-form-site-search\" method=\"post\"><div><div class=\"form-item form-item-keys-1 form-type-textfield form-group\"><input class=\"form-control form-text\" id=\"edit-keys-1\" maxlength=\"128\" name=\"keys_1\" placeholder=\"Search\" size=\"15\" type=\"text\" value=\"\"/> <label class=\"control-label element-invisible\" for=\"edit-keys-1\">Enter your keywords</label>\n",
       "</div><input name=\"id\" type=\"hidden\" value=\"1\"/>\n",
       "<button class=\"icon glyphicon glyphicon-search btn-primary form-control btn form-submit\" id=\"edit-submit-1\" name=\"op\" type=\"submit\" value=\"\"></button>\n",
       "<input name=\"form_build_id\" type=\"hidden\" value=\"form-RAaHdqvGVC5nt8JgarIZu4C3xwjqahgr5MlhH4DIm3Q\"/>\n",
       "<input name=\"form_id\" type=\"hidden\" value=\"search_api_page_search_form_site_search\"/>\n",
       "</div></form>\n",
       "</section>\n",
       "</div>\n",
       "</div>\n",
       "</div>\n",
       "</div>\n",
       "</div>\n",
       "</div>\n",
       "<div class=\"container\">\n",
       "<div class=\"row\">\n",
       "<div class=\"navbar-collapse collapse\">\n",
       "<nav role=\"navigation\">\n",
       "<ul class=\"menu nav navbar-nav\"><ul class=\"menu nav navbar-nav\"><li class=\"first leaf\"><a href=\"/catalog.htm\" title=\"Explore our catalog\">Catalog</a></li>\n",
       "<li class=\"leaf\"><a href=\"https://nostarch.com/merchandise-0\" title=\"Merchandise\">Merchandise</a></li>\n",
       "<li class=\"leaf\"><a href=\"/blog\" title=\"The No Starch Press blog\">Blog</a></li>\n",
       "<li class=\"leaf\"><a href=\"/media.htm\" title=\"Media contact\">Media</a></li>\n",
       "<li class=\"leaf\"><a href=\"/writeforus\" title=\"Submit a book proposal\">Write for Us</a></li>\n",
       "<li class=\"leaf\"><a href=\"/about\" title=\"About No Starch Press\">About Us</a></li>\n",
       "<li class=\"last leaf\"><a href=\"/contactus\" title=\"Contact Us\">Contact Us</a></li>\n",
       "</ul></ul> </nav>\n",
       "</div>\n",
       "</div>\n",
       "</div>\n",
       "</header>\n",
       "<div class=\"main-container container\">\n",
       "<header id=\"page-header\" role=\"banner\">\n",
       "</header>\n",
       "<div class=\"row\">\n",
       "<aside class=\"col-sm-3\" role=\"complementary\">\n",
       "<div class=\"region region-sidebar-first well\">\n",
       "<section class=\"block block-views clearfix\" id=\"block-views-topics-block\">\n",
       "<button class=\"btn btn-primary btn-block visible-xs vert-offset-top-2\" data-target=\"#topics\" data-toggle=\"collapse\"><span class=\"glyphicon glyphicon-menu-down pull-left\"></span>\n",
       "<span class=\"btn-text\">Topics</span><span class=\"glyphicon glyphicon-menu-down pull-right\"></span></button>\n",
       "<h2 class=\"block-title hidden-xs\">Topics</h2>\n",
       "<div class=\"view-content collapse dont-collapse animateCollapse\" id=\"topics\">\n",
       "<div class=\"view view-topics view-id-topics view-display-id-block view-dom-id-6c6572daac4c27b432a98051c2575d69\">\n",
       "<div class=\"view-content\">\n",
       "<div class=\"item-list\"> <ul> <li class=\"views-row views-row-1 views-row-odd views-row-first\">\n",
       "<div class=\"views-field views-field-name\"> <span class=\"field-content\"><a href=\"/catalog/art-photography-design\">Art &amp; Design</a></span> </div></li>\n",
       "<li class=\"views-row views-row-2 views-row-even\">\n",
       "<div class=\"views-field views-field-name\"> <span class=\"field-content\"><a href=\"/catalog/general-computing\">General Computing</a></span> </div></li>\n",
       "<li class=\"views-row views-row-3 views-row-odd\">\n",
       "<div class=\"views-field views-field-name\"> <span class=\"field-content\"><a href=\"/catalog/security\">Hacking &amp; Computer Security</a></span> </div></li>\n",
       "<li class=\"views-row views-row-4 views-row-even\">\n",
       "<div class=\"views-field views-field-name\"> <span class=\"field-content\"><a href=\"/catalog/hardware-and-diy\">Hardware / DIY</a></span> </div></li>\n",
       "<li class=\"views-row views-row-5 views-row-odd\">\n",
       "<div class=\"views-field views-field-name\"> <span class=\"field-content\"><a href=\"/catalog/kids\">Kids</a></span> </div></li>\n",
       "<li class=\"views-row views-row-6 views-row-even\">\n",
       "<div class=\"views-field views-field-name\"> <span class=\"field-content\"><a href=\"/catalog/lego\">LEGO®</a></span> </div></li>\n",
       "<li class=\"views-row views-row-7 views-row-odd\">\n",
       "<div class=\"views-field views-field-name\"> <span class=\"field-content\"><a href=\"/catalog/linux-bsd-unix\">Linux &amp; BSD</a></span> </div></li>\n",
       "<li class=\"views-row views-row-8 views-row-even\">\n",
       "<div class=\"views-field views-field-name\"> <span class=\"field-content\"><a href=\"/catalog/manga\">Manga</a></span> </div></li>\n",
       "<li class=\"views-row views-row-9 views-row-odd\">\n",
       "<div class=\"views-field views-field-name\"> <span class=\"field-content\"><a href=\"/catalog/programming\">Programming</a></span> </div></li>\n",
       "<li class=\"views-row views-row-10 views-row-even\">\n",
       "<div class=\"views-field views-field-name\"> <span class=\"field-content\"><a href=\"/catalog/python\">Python</a></span> </div></li>\n",
       "<li class=\"views-row views-row-11 views-row-odd\">\n",
       "<div class=\"views-field views-field-name\"> <span class=\"field-content\"><a href=\"/catalog/science-math\">Science &amp; Math</a></span> </div></li>\n",
       "<li class=\"views-row views-row-12 views-row-even\">\n",
       "<div class=\"views-field views-field-name\"> <span class=\"field-content\"><a href=\"/catalog/scratch\">Scratch</a></span> </div></li>\n",
       "<li class=\"views-row views-row-13 views-row-odd\">\n",
       "<div class=\"views-field views-field-name\"> <span class=\"field-content\"><a href=\"/catalog/system-administration\">System Administration</a></span> </div></li>\n",
       "<li class=\"views-row views-row-14 views-row-even views-row-last\">\n",
       "<div class=\"views-field views-field-name\"> <span class=\"field-content\"><a href=\"/catalog/early-access\">Early Access</a></span> </div></li>\n",
       "</ul></div> </div>\n",
       "<div class=\"view-footer\">\n",
       "<style>\n",
       "<!--/*--><![CDATA[/* ><!--*/\n",
       "\n",
       ".view-topics .item-list a {font-weight: bold;}\n",
       ".view-topics  ul {padding-left: 20px;}\n",
       "\n",
       "/*--><!]]>*/\n",
       "</style> </div>\n",
       "</div> </div>\n",
       "</section><section class=\"block block-block clearfix\" id=\"block-block-12\">\n",
       "<div class=\"rounded_border_block\"><a href=\"/about_ebooks.htm\" style=\"color: red1;\">Free ebook edition with every print book purchased from nostarch.com!</a></div>\n",
       "</section>\n",
       "<section class=\"block block-uc-cart clearfix\" id=\"block-uc-cart-cart\">\n",
       "<h2 class=\"block-title\"><a href=\"/cart\"><span class=\"cart-block-icon-empty\" title=\"View your shopping cart.\"></span></a><span class=\"cart-block-title-bar\" title=\"Show/hide shopping cart contents.\">Shopping cart<span class=\"cart-block-arrow arrow-down\"></span></span></h2>\n",
       "<p class=\"cart-block-items collapsed uc-cart-empty\">There are no products in your shopping cart.</p><table class=\"cart-block-summary\"><tbody><tr><td class=\"cart-block-summary-items\"><span class=\"num-items\">0</span> Items</td><td class=\"cart-block-summary-total\"><label>Total:</label> <span class=\"uc-price\">$0.00</span></td></tr></tbody></table>\n",
       "</section>\n",
       "<section class=\"block block-nostarch-customclearfix\" id=\"block-nostarch-custom-login-block\">\n",
       "<h2 class=\"block-title\">User login</h2>\n",
       "<ul>\n",
       "<li><a href=\"/user\">Log in</a></li>\n",
       "<li><a href=\"/user/register\">Create account</a></li>\n",
       "</ul>\n",
       "</section>\n",
       "<section class=\"block block-nostarch-customclearfix\" id=\"block-nostarch-custom-bestsellers\">\n",
       "<h2 class=\"block-title\">This Month's Bestsellers</h2>\n",
       "<div align=\"center\">\n",
       "<div class=\"view view-favorites view-id-favorites view-display-id-default auto-clear view-dom-id-3cd2576b19471d56a79adad1f7f9f311\">\n",
       "<div class=\"view-content\">\n",
       "<div class=\"views-row views-row-1 views-row-odd views-row-first col-xs-6 col-sm-6 col-md-12\">\n",
       "<div class=\"views-field views-field-field-image-cache\"> <div class=\"field-content\"><a href=\"/black-hat-python2E\"><img alt=\"Black Hat Python 2nd Edition Cover\" class=\"img-responsive\" height=\"120\" src=\"https://nostarch.com/sites/default/files/styles/product/public/BHP_2e_full_final4-Green_revised1.png?itok=cq7OS_wp\" title=\"Black Hat Python 2nd Edition\" width=\"90\"/></a></div> </div> </div>\n",
       "<div class=\"views-row views-row-2 views-row-even col-xs-6 col-sm-6 col-md-12\">\n",
       "<div class=\"views-field views-field-field-image-cache\"> <div class=\"field-content\"><a href=\"/Learn-Python-Visually\"><img alt=\"Learn Python Visually Front Cover\" class=\"img-responsive\" height=\"119\" src=\"https://nostarch.com/sites/default/files/styles/product/public/learn-python-visually_frontcover.png?itok=WO1kinJg\" title=\"Learn Python Visually Front Cover\" width=\"90\"/></a></div> </div> </div>\n",
       "<div class=\"views-row views-row-3 views-row-odd col-xs-6 col-sm-6 col-md-12\">\n",
       "<div class=\"views-field views-field-field-image-cache\"> <div class=\"field-content\"><a href=\"/how-computers-really-work\"><img alt=\"How Computers Really Work Cover\" class=\"img-responsive\" height=\"119\" src=\"https://nostarch.com/sites/default/files/styles/product/public/how-computers-really-work_fullcvr_v08_front.png?itok=QeVq0wO6\" title=\"How Computers Really Work Cover\" width=\"90\"/></a></div> </div> </div>\n",
       "<div class=\"views-row views-row-4 views-row-even col-xs-6 col-sm-6 col-md-12\">\n",
       "<div class=\"views-field views-field-field-image-cache\"> <div class=\"field-content\"><a href=\"/practical-iot-hacking\"><img alt=\"Practical IoT Hacking\" class=\"img-responsive\" height=\"120\" src=\"https://nostarch.com/sites/default/files/styles/product/public/practical-IoT-hacking_full-cover_revised.png?itok=agRbQa0L\" title=\"Practical IoT Hacking\" width=\"90\"/></a></div> </div> </div>\n",
       "<div class=\"views-row views-row-5 views-row-odd col-xs-6 col-sm-6 col-md-12\">\n",
       "<div class=\"views-field views-field-field-image-cache\"> <div class=\"field-content\"><a href=\"/howlinuxworks3\"><img alt=\"How Linux Works 3rd Ed cover\" class=\"img-responsive\" height=\"119\" src=\"https://nostarch.com/sites/default/files/styles/product/public/HowLinuxWorks3e_vfront_0.png?itok=lmXv87ts\" title=\"How Linux Works 3rd Ed cover\" width=\"90\"/></a></div> </div> </div>\n",
       "<div class=\"views-row views-row-6 views-row-even views-row-last col-xs-6 col-sm-6 col-md-12\">\n",
       "<div class=\"views-field views-field-field-image-cache\"> <div class=\"field-content\"><a href=\"/automatestuff2\"><img alt=\"Automate the Boring Stuff with Python, 2nd Edition\" class=\"img-responsive\" height=\"120\" src=\"https://nostarch.com/sites/default/files/styles/product/public/automate_cover-blurb_2B.png?itok=Qwb4yCmO\" title=\"Automate the Boring Stuff with Python, 2nd Edition\" width=\"90\"/></a></div> </div> </div>\n",
       "</div>\n",
       "</div> </div>\n",
       "</section>\n",
       "<section class=\"block block-block clearfix\" id=\"block-block-78\">\n",
       "<script data-account=\"eeqOpWOUyZ\" src=\"https://cdn.userway.org/widget.js\"></script>\n",
       "</section>\n",
       "</div>\n",
       "</aside>\n",
       "<section class=\"col-sm-6\" style=\"\">\n",
       "<a id=\"main-content\"></a>\n",
       "<h1 class=\"page-header\">No Starch Press</h1>\n",
       "<div class=\"region region-content\">\n",
       "<section class=\"block block-system clearfix\" id=\"block-system-main\">\n",
       "<div class=\"ds-1col node node-page view-mode-full clearfix\">\n",
       "<div class=\"col-md-6 col-xs-12 product-teaser product-teaser-new auto-clear\">\n",
       "<h2 class=\"title\"><b>New!</b></h2>\n",
       "<section class=\"block block-views clearfix\" id=\"block-views-frontpage-new-block-frontpage\">\n",
       "<div class=\"view view-frontpage-new view-id-frontpage_new view-display-id-block_frontpage view-dom-id-6042dfc7d589f20e483d8c9c0ff89f0c\">\n",
       "<div class=\"view-content\">\n",
       "<div class=\"views-row views-row-1 views-row-odd views-row-first\">\n",
       "<article class=\"node node-product node-promoted node-teaser clearfix\" id=\"node-623\">\n",
       "<div class=\"field field-name-field-image-cache field-type-image field-label-hidden\"><div class=\"field-items\"><div class=\"field-item even\"><a href=\"/object-oriented-python\"><img alt=\"Object-Oriented Python Cover\" class=\"img-responsive\" height=\"225\" src=\"https://nostarch.com/sites/default/files/styles/uc_product/public/ObjectOrientedPythonCover.jpg?itok=OIEzhl4n\" title=\"Object-Oriented Python Cover\" width=\"170\"/></a></div></div></div> <header>\n",
       "<h2><a href=\"/object-oriented-python\">Object-Oriented Python</a></h2>\n",
       "</header>\n",
       "<div class=\"field field-name-field-author field-type-text field-label-hidden\"><div class=\"field-items\"><div class=\"field-item even\">Irv Kalb</div></div></div><div class=\"field field-name-body field-type-text-with-summary field-label-hidden\"><div class=\"field-items\"><div class=\"field-item even\"><p>A hands-on tutorial that goes deep into OOP, showing you how to combine data and code into reusable units.</p>\n",
       "</div></div></div>\n",
       "<footer>\n",
       "</footer>\n",
       "</article>\n",
       "</div>\n",
       "<div class=\"views-row views-row-2 views-row-even\">\n",
       "<article class=\"node node-product node-promoted node-teaser clearfix\" id=\"node-624\">\n",
       "<div class=\"field field-name-field-image-cache field-type-image field-label-hidden\"><div class=\"field-items\"><div class=\"field-item even\"><a href=\"/rust-rustaceans\"><img alt=\"Rust for Rustaceans Cover\" class=\"img-responsive\" height=\"225\" src=\"https://nostarch.com/sites/default/files/styles/uc_product/public/RustforRustaceans_cover.png?itok=uChLsQfM\" title=\"Rust for Rustaceans Cover\" width=\"170\"/></a></div></div></div> <header>\n",
       "<h2><a href=\"/rust-rustaceans\">Rust for Rustaceans</a></h2>\n",
       "</header>\n",
       "<div class=\"field field-name-field-author field-type-text field-label-hidden\"><div class=\"field-items\"><div class=\"field-item even\">Jon Gjengset</div></div></div><div class=\"field field-name-body field-type-text-with-summary field-label-hidden\"><div class=\"field-items\"><div class=\"field-item even\"><p>Bridges the gap between beginners and professionals, enabling you to write apps, build libraries, and organize projects in Rust.</p>\n",
       "</div></div></div>\n",
       "<footer>\n",
       "</footer>\n",
       "</article>\n",
       "</div>\n",
       "<div class=\"views-row views-row-3 views-row-odd\">\n",
       "<article class=\"node node-product node-promoted node-teaser clearfix\" id=\"node-456\">\n",
       "<div class=\"field field-name-field-image-cache field-type-image field-label-hidden\"><div class=\"field-items\"><div class=\"field-item even\"><a href=\"/hardwarehacking\"><img alt=\"The Hardware Hacking Handbook\" class=\"img-responsive\" height=\"225\" src=\"https://nostarch.com/sites/default/files/styles/uc_product/public/HardwareHacking_revised.png?itok=bKcOPd7Q\" title=\"The Hardware Hacking Handbook\" width=\"169\"/></a></div></div></div> <header>\n",
       "<h2><a href=\"/hardwarehacking\">The Hardware Hacking Handbook</a></h2>\n",
       "</header>\n",
       "<div class=\"field field-name-field-author field-type-text field-label-hidden\"><div class=\"field-items\"><div class=\"field-item even\">Colin O'Flynn and Jasper van Woudenberg</div></div></div><div class=\"field field-name-body field-type-text-with-summary field-label-hidden\"><div class=\"field-items\"><div class=\"field-item even\"><p>Cracks open embedded security to show how hardware attacks work from the inside out.</p>\n",
       "</div></div></div>\n",
       "<footer>\n",
       "</footer>\n",
       "</article>\n",
       "</div>\n",
       "<div class=\"views-row views-row-4 views-row-even\">\n",
       "<article class=\"node node-product node-promoted node-teaser clearfix\" id=\"node-639\">\n",
       "<div class=\"field field-name-field-image-cache field-type-image field-label-hidden\"><div class=\"field-items\"><div class=\"field-item even\"><a href=\"/designing-secure-software\"><img alt=\"Designing Secure Software\" class=\"img-responsive\" height=\"225\" src=\"https://nostarch.com/sites/default/files/styles/uc_product/public/Designing%20Secure%20Software_revised.png?itok=Fo2onFoE\" title=\"Designing Secure Software\" width=\"169\"/></a></div></div></div> <header>\n",
       "<h2><a href=\"/designing-secure-software\">Designing Secure Software</a></h2>\n",
       "</header>\n",
       "<div class=\"field field-name-field-author field-type-text field-label-hidden\"><div class=\"field-items\"><div class=\"field-item even\">Loren Kohnfelder</div></div></div><div class=\"field field-name-body field-type-text-with-summary field-label-hidden\"><div class=\"field-items\"><div class=\"field-item even\"><p>An elegant, team-oriented guide for building security into the software design process.</p>\n",
       "</div></div></div>\n",
       "<footer>\n",
       "</footer>\n",
       "</article>\n",
       "</div>\n",
       "<div class=\"views-row views-row-5 views-row-odd\">\n",
       "<article class=\"node node-product node-promoted node-teaser clearfix\" id=\"node-629\">\n",
       "<div class=\"field field-name-field-image-cache field-type-image field-label-hidden\"><div class=\"field-items\"><div class=\"field-item even\"><a href=\"/practical-linux-forensics\"><img alt=\"Practical Linux Forensics Cover\" class=\"img-responsive\" height=\"225\" src=\"https://nostarch.com/sites/default/files/styles/uc_product/public/PracticalLinuxForensincs_cover.png?itok=8f63-gWz\" title=\"Practical Linux Forensics Cover\" width=\"170\"/></a></div></div></div> <header>\n",
       "<h2><a href=\"/practical-linux-forensics\">Practical Linux Forensics</a></h2>\n",
       "</header>\n",
       "<div class=\"field field-name-field-author field-type-text field-label-hidden\"><div class=\"field-items\"><div class=\"field-item even\">Bruce Nikkel</div></div></div><div class=\"field field-name-body field-type-text-with-summary field-label-hidden\"><div class=\"field-items\"><div class=\"field-item even\"><p>A practitioner’s guide focused on postmortem analysis of modern Linux installations.</p>\n",
       "</div></div></div>\n",
       "<footer>\n",
       "</footer>\n",
       "</article>\n",
       "</div>\n",
       "<div class=\"views-row views-row-6 views-row-even\">\n",
       "<article class=\"node node-product node-promoted node-teaser clearfix\" id=\"node-614\">\n",
       "<div class=\"field field-name-field-image-cache field-type-image field-label-hidden\"><div class=\"field-items\"><div class=\"field-item even\"><a href=\"/bug-bounty-bootcamp\"><img alt=\"Bug Bounty Bootcamp\" class=\"img-responsive\" height=\"225\" src=\"https://nostarch.com/sites/default/files/styles/uc_product/public/BugBountyBootcamp_revised.png?itok=vijgUa5H\" title=\"Bug Bounty Bootcamp\" width=\"169\"/></a></div></div></div> <header>\n",
       "<h2><a href=\"/bug-bounty-bootcamp\">Bug Bounty Bootcamp</a></h2>\n",
       "</header>\n",
       "<div class=\"field field-name-field-author field-type-text field-label-hidden\"><div class=\"field-items\"><div class=\"field-item even\">Vickie Li</div></div></div><div class=\"field field-name-body field-type-text-with-summary field-label-hidden\"><div class=\"field-items\"><div class=\"field-item even\"><p>A beginner's guide to web hacking, bug hunting, reporting vulnerabilities – and getting paid for it.</p>\n",
       "</div></div></div>\n",
       "<footer>\n",
       "</footer>\n",
       "</article>\n",
       "</div>\n",
       "<div class=\"views-row views-row-7 views-row-odd\">\n",
       "<article class=\"node node-product node-promoted node-teaser clearfix\" id=\"node-625\">\n",
       "<div class=\"field field-name-field-image-cache field-type-image field-label-hidden\"><div class=\"field-items\"><div class=\"field-item even\"><a href=\"/math-deep-learning\"><img alt=\"Math for Deep Learning Cover\" class=\"img-responsive\" height=\"225\" src=\"https://nostarch.com/sites/default/files/styles/uc_product/public/MathDeepLearning.png?itok=SZujwyWZ\" title=\"Math for Deep Learning Cover\" width=\"170\"/></a></div></div></div> <header>\n",
       "<h2><a href=\"/math-deep-learning\">Math for Deep Learning</a></h2>\n",
       "</header>\n",
       "<div class=\"field field-name-field-author field-type-text field-label-hidden\"><div class=\"field-items\"><div class=\"field-item even\">Ronald T. Kneusel</div></div></div><div class=\"field field-name-body field-type-text-with-summary field-label-hidden\"><div class=\"field-items\"><div class=\"field-item even\"><p>Covers DL's core numerical concepts, using Python to illustrate each subfield of math and its application.</p>\n",
       "</div></div></div>\n",
       "<footer>\n",
       "</footer>\n",
       "</article>\n",
       "</div>\n",
       "<div class=\"views-row views-row-8 views-row-even\">\n",
       "<article class=\"node node-product node-promoted node-teaser clearfix\" id=\"node-619\">\n",
       "<div class=\"field field-name-field-image-cache field-type-image field-label-hidden\"><div class=\"field-items\"><div class=\"field-item even\"><a href=\"/inkscape2E\"><img alt=\"The Book of Inkscape, 2nd Edition\" class=\"img-responsive\" height=\"225\" src=\"https://nostarch.com/sites/default/files/styles/uc_product/public/BookOfInkscape2e_full_vfinal_front.png?itok=aPuBtcvo\" title=\"The Book of Inkscape, 2nd Edition Cover\" width=\"168\"/></a></div></div></div> <header>\n",
       "<h2><a href=\"/inkscape2E\">The Book of Inkscape, 2nd Edition</a></h2>\n",
       "</header>\n",
       "<div class=\"field field-name-field-author field-type-text field-label-hidden\"><div class=\"field-items\"><div class=\"field-item even\">Dmitry Kirsanov</div></div></div><div class=\"field field-name-body field-type-text-with-summary field-label-hidden\"><div class=\"field-items\"><div class=\"field-item even\"><p>An updated guide on using the graphics editor to draw, work with objects, and apply effects.</p>\n",
       "</div></div></div>\n",
       "<footer>\n",
       "</footer>\n",
       "</article>\n",
       "</div>\n",
       "<div class=\"views-row views-row-9 views-row-odd\">\n",
       "<article class=\"node node-product node-promoted node-teaser clearfix\" id=\"node-588\">\n",
       "<div class=\"field field-name-field-image-cache field-type-image field-label-hidden\"><div class=\"field-items\"><div class=\"field-item even\"><a href=\"/art-64-bit-assembly\"><img alt=\"Art of 64 bit assembly\" class=\"img-responsive\" height=\"225\" src=\"https://nostarch.com/sites/default/files/styles/uc_product/public/Artof64BitAssembly_cover.png?itok=1Bgk5jOk\" title=\"Art of 64 bit assembly\" width=\"170\"/></a></div></div></div> <header>\n",
       "<h2><a href=\"/art-64-bit-assembly\">The Art of 64-Bit Assembly</a></h2>\n",
       "</header>\n",
       "<div class=\"field field-name-field-author field-type-text field-label-hidden\"><div class=\"field-items\"><div class=\"field-item even\">Randall Hyde</div></div></div><div class=\"field field-name-body field-type-text-with-summary field-label-hidden\"><div class=\"field-items\"><div class=\"field-item even\"><p>Builds off its timeless predecessor, with a modern focus on writing programs using the x86 MASM. </p>\n",
       "</div></div></div>\n",
       "<footer>\n",
       "</footer>\n",
       "</article>\n",
       "</div>\n",
       "<div class=\"views-row views-row-10 views-row-even\">\n",
       "<article class=\"node node-product node-promoted node-teaser clearfix\" id=\"node-609\">\n",
       "<div class=\"field field-name-field-image-cache field-type-image field-label-hidden\"><div class=\"field-items\"><div class=\"field-item even\"><a href=\"/ethical-hacking\"><img alt=\"Ethical Hacking Cover\" class=\"img-responsive\" height=\"225\" src=\"https://nostarch.com/sites/default/files/styles/uc_product/public/EthicalHacking_v10.png?itok=RiYWi8Uw\" title=\"Ethical Hacking\" width=\"169\"/></a></div></div></div> <header>\n",
       "<h2><a href=\"/ethical-hacking\">Ethical Hacking</a></h2>\n",
       "</header>\n",
       "<div class=\"field field-name-field-author field-type-text field-label-hidden\"><div class=\"field-items\"><div class=\"field-item even\">Daniel G. Graham</div></div></div><div class=\"field field-name-body field-type-text-with-summary field-label-hidden\"><div class=\"field-items\"><div class=\"field-item even\"><p>A crash course in modern hacking techniques, with lots of hands-on labs for aspiring offensive security experts. </p>\n",
       "</div></div></div>\n",
       "<footer>\n",
       "</footer>\n",
       "</article>\n",
       "</div>\n",
       "<div class=\"views-row views-row-11 views-row-odd\">\n",
       "<article class=\"node node-product node-promoted node-teaser clearfix\" id=\"node-634\">\n",
       "<div class=\"field field-name-field-image-cache field-type-image field-label-hidden\"><div class=\"field-items\"><div class=\"field-item even\"><a href=\"/lego-mindstorms-robot-inventor-idea-book\"><img alt=\"The LEGO MINDSTORMS Robot Inventor Idea Book\" class=\"img-responsive\" height=\"225\" src=\"https://nostarch.com/sites/default/files/styles/uc_product/public/LEGO-mindstorms-robot-inventor-idea-book_front_0.png?itok=6APuYP5v\" title=\"The LEGO MINDSTORMS Robot Inventor Idea Book\" width=\"180\"/></a></div></div></div> <header>\n",
       "<h2><a href=\"/lego-mindstorms-robot-inventor-idea-book\">LEGO MINDSTORMS Robot Inventor Idea Book</a></h2>\n",
       "</header>\n",
       "<div class=\"field field-name-field-author field-type-text field-label-hidden\"><div class=\"field-items\"><div class=\"field-item even\">Yoshihito Isogawa</div></div></div><div class=\"field field-name-body field-type-text-with-summary field-label-hidden\"><div class=\"field-items\"><div class=\"field-item even\"><p>Features design models for 128 programmable robotic mechanisms.</p>\n",
       "</div></div></div>\n",
       "<footer>\n",
       "</footer>\n",
       "</article>\n",
       "</div>\n",
       "<div class=\"views-row views-row-12 views-row-even\">\n",
       "<article class=\"node node-product node-promoted node-teaser clearfix\" id=\"node-626\">\n",
       "<div class=\"field field-name-field-image-cache field-type-image field-label-hidden\"><div class=\"field-items\"><div class=\"field-item even\"><a href=\"/lego-mindstorms-robot-inventor-activity-book\"><img alt=\"The LEGO MINDSTORMS Robot Inventor Activity Book\" class=\"img-responsive\" height=\"225\" src=\"https://nostarch.com/sites/default/files/styles/uc_product/public/LegoRobotInventor_MK_0528_11.png?itok=dV_3boXS\" title=\"The LEGO MINDSTORMS Robot Inventor Activity Book\" width=\"180\"/></a></div></div></div> <header>\n",
       "<h2><a href=\"/lego-mindstorms-robot-inventor-activity-book\">The LEGO MINDSTORMS Robot Inventor Activity Book</a></h2>\n",
       "</header>\n",
       "<div class=\"field field-name-field-author field-type-text field-label-hidden\"><div class=\"field-items\"><div class=\"field-item even\">Daniele Benedettelli</div></div></div><div class=\"field field-name-body field-type-text-with-summary field-label-hidden\"><div class=\"field-items\"><div class=\"field-item even\"><p>Features 7 cool new interactive models to build with the set.</p>\n",
       "</div></div></div>\n",
       "<footer>\n",
       "</footer>\n",
       "</article>\n",
       "</div>\n",
       "<div class=\"views-row views-row-13 views-row-odd\">\n",
       "<article class=\"node node-product node-promoted node-teaser clearfix\" id=\"node-577\">\n",
       "<div class=\"field field-name-field-image-cache field-type-image field-label-hidden\"><div class=\"field-items\"><div class=\"field-item even\"><a href=\"/lego-space-projects\"><img alt=\"LEGO Space Projects front cover\" class=\"img-responsive\" height=\"225\" src=\"https://nostarch.com/sites/default/files/styles/uc_product/public/lego-space_projects_front.png?itok=eLAyCaa-\" title=\"LEGO Space Projects front cover\" width=\"180\"/></a></div></div></div> <header>\n",
       "<h2><a href=\"/lego-space-projects\">LEGO Space Projects</a></h2>\n",
       "</header>\n",
       "<div class=\"field field-name-field-author field-type-text field-label-hidden\"><div class=\"field-items\"><div class=\"field-item even\">Jeff Friesen</div></div></div><div class=\"field field-name-body field-type-text-with-summary field-label-hidden\"><div class=\"field-items\"><div class=\"field-item even\"><p>Features 52 galactically creative new models, with step-by-step instructions and full-color photography.</p>\n",
       "</div></div></div>\n",
       "<footer>\n",
       "</footer>\n",
       "</article>\n",
       "</div>\n",
       "<div class=\"views-row views-row-14 views-row-even views-row-last\">\n",
       "<article class=\"node node-product node-promoted node-teaser clearfix\" id=\"node-605\">\n",
       "<div class=\"field field-name-field-image-cache field-type-image field-label-hidden\"><div class=\"field-items\"><div class=\"field-item even\"><a href=\"/game-console-20\"><img alt=\"Game Console 2 Cover\" class=\"img-responsive\" height=\"225\" src=\"https://nostarch.com/sites/default/files/styles/uc_product/public/GameConsole2_cover.png?itok=ukIsCQNK\" title=\"Game Console 2 Cover\" width=\"180\"/></a></div></div></div> <header>\n",
       "<h2><a href=\"/game-console-20\">The Game Console 2.0</a></h2>\n",
       "</header>\n",
       "<div class=\"field field-name-field-author field-type-text field-label-hidden\"><div class=\"field-items\"><div class=\"field-item even\">Evan Amos</div></div></div><div class=\"field field-name-body field-type-text-with-summary field-label-hidden\"><div class=\"field-items\"><div class=\"field-item even\"><p>Expands on the first edition's collection of photos and facts documenting the history of gaming systems.</p>\n",
       "</div></div></div>\n",
       "<footer>\n",
       "</footer>\n",
       "</article>\n",
       "</div>\n",
       "</div>\n",
       "<div class=\"view-footer\">\n",
       "<div class=\"feed-icon\">\n",
       "<a class=\"feed-icon\" href=\"/feeds/newbooks.xml\" title=\"Subscribe to No Starch Press - New Books\"><img alt=\"Subscribe to No Starch Press - New Books\" class=\"img-responsive\" height=\"16\" src=\"/misc/feed.png\" width=\"16\"/></a> </div> </div>\n",
       "</div>\n",
       "</section>\n",
       "</div>\n",
       "<div class=\"col-md-6 col-xs-12 product-teaser product-teaser-soon auto-clear\">\n",
       "<a href=\"/upcoming.htm\"><h2 class=\"title\"><b>Coming Soon</b></h2></a>\n",
       "<section class=\"block block-views clearfix\" id=\"block-views-frontpage-comingsoon-block-frontpage\">\n",
       "<div class=\"view view-frontpage-comingsoon view-id-frontpage_comingsoon view-display-id-block_frontpage view-dom-id-54545b4c42b3b88a5e0a0b422970f6ec\">\n",
       "<div class=\"view-content\">\n",
       "<div class=\"views-row views-row-1 views-row-odd views-row-first\">\n",
       "<article class=\"node node-product node-promoted node-teaser clearfix\" id=\"node-637\">\n",
       "<div class=\"field field-name-field-image-cache field-type-image field-label-hidden\"><div class=\"field-items\"><div class=\"field-item even\"><a href=\"/practical-doomsday\"><img alt=\"Practical Doomsday\" class=\"img-responsive\" height=\"225\" src=\"https://nostarch.com/sites/default/files/styles/uc_product/public/PracticalDoomsday_v10_darker_03.png?itok=feDs7ZPH\" title=\"Practical Doomsday\" width=\"169\"/></a></div></div></div> <header>\n",
       "<h2><a href=\"/practical-doomsday\">Practical Doomsday</a></h2>\n",
       "</header>\n",
       "<div class=\"field field-name-field-author field-type-text field-label-hidden\"><div class=\"field-items\"><div class=\"field-item even\">Michal Zalewski</div></div></div><div class=\"field field-name-body field-type-text-with-summary field-label-hidden\"><div class=\"field-items\"><div class=\"field-item even\"><p>Outlines a model for evaluating risks in your life, as well as preparing for a wide range of potential crises.</p>\n",
       "</div></div></div>\n",
       "<footer>\n",
       "</footer>\n",
       "</article>\n",
       "</div>\n",
       "<div class=\"views-row views-row-2 views-row-even\">\n",
       "<article class=\"node node-product node-promoted node-teaser clearfix\" id=\"node-524\">\n",
       "<div class=\"field field-name-field-image-cache field-type-image field-label-hidden\"><div class=\"field-items\"><div class=\"field-item even\"><a href=\"/introcomporg\"><img alt=\"Introduction to Computer Organization Cover\" class=\"img-responsive\" height=\"225\" src=\"https://nostarch.com/sites/default/files/styles/uc_product/public/tIntroComputerOrganization_v2.png?itok=LOgT7pR1\" title=\"Introduction to Computer Organization\" width=\"170\"/></a></div></div></div> <header>\n",
       "<h2><a href=\"/introcomporg\">Introduction to Computer Organization</a></h2>\n",
       "</header>\n",
       "<div class=\"field field-name-field-author field-type-text field-label-hidden\"><div class=\"field-items\"><div class=\"field-item even\">Bob Plantz</div></div></div><div class=\"field field-name-body field-type-text-with-summary field-label-hidden\"><div class=\"field-items\"><div class=\"field-item even\"><p>A tutorial-style book that provides an introductory \"look under the hood\" of a modern computer.</p>\n",
       "</div></div></div>\n",
       "<footer>\n",
       "</footer>\n",
       "</article>\n",
       "</div>\n",
       "<div class=\"views-row views-row-3 views-row-odd\">\n",
       "<article class=\"node node-product node-promoted node-teaser clearfix\" id=\"node-633\">\n",
       "<div class=\"field field-name-field-image-cache field-type-image field-label-hidden\"><div class=\"field-items\"><div class=\"field-item even\"><a href=\"/go-hck-yourself\"><img alt=\"Go H*ck Yourself Cover\" class=\"img-responsive\" height=\"225\" src=\"https://nostarch.com/sites/default/files/styles/uc_product/public/go-h_ck-yourself_cover_1216_finalPRINT4.png?itok=Pc80BdkE\" title=\"Go H*ck Yourself Cover\" width=\"171\"/></a></div></div></div> <header>\n",
       "<h2><a href=\"/go-hck-yourself\">Go H*ck Yourself</a></h2>\n",
       "</header>\n",
       "<div class=\"field field-name-field-author field-type-text field-label-hidden\"><div class=\"field-items\"><div class=\"field-item even\">Bryson Payne</div></div></div><div class=\"field field-name-body field-type-text-with-summary field-label-hidden\"><div class=\"field-items\"><div class=\"field-item even\"><p>A hands-on intro to hacking that guides you through executing every major type of attack (from the safety of a virtual lab).</p>\n",
       "</div></div></div>\n",
       "<footer>\n",
       "</footer>\n",
       "</article>\n",
       "</div>\n",
       "<div class=\"views-row views-row-4 views-row-even\">\n",
       "<article class=\"node node-product node-promoted node-teaser clearfix\" id=\"node-585\">\n",
       "<div class=\"field field-name-field-image-cache field-type-image field-label-hidden\"><div class=\"field-items\"><div class=\"field-item even\"><a href=\"/practical-sql-2nd-edition\"><img alt=\"Practical SQL, 2nd Edition Cover\" class=\"img-responsive\" height=\"225\" src=\"https://nostarch.com/sites/default/files/styles/uc_product/public/practicalSQL_2e_cvr_v02.png?itok=JZQZgb9l\" title=\"Practical SQL, 2nd Edition Cover\" width=\"170\"/></a></div></div></div> <header>\n",
       "<h2><a href=\"/practical-sql-2nd-edition\">Practical SQL, 2nd Edition</a></h2>\n",
       "</header>\n",
       "<div class=\"field field-name-field-author field-type-text field-label-hidden\"><div class=\"field-items\"><div class=\"field-item even\">Anthony DeBarros</div></div></div><div class=\"field field-name-body field-type-text-with-summary field-label-hidden\"><div class=\"field-items\"><div class=\"field-item even\"><p>A fast-paced guide to SQL – the language for defining, organizing, and exploring relational data.</p>\n",
       "</div></div></div>\n",
       "<footer>\n",
       "</footer>\n",
       "</article>\n",
       "</div>\n",
       "<div class=\"views-row views-row-5 views-row-odd\">\n",
       "<article class=\"node node-product node-promoted node-teaser clearfix\" id=\"node-649\">\n",
       "<div class=\"field field-name-field-image-cache field-type-image field-label-hidden\"><div class=\"field-items\"><div class=\"field-item even\"><a href=\"/art-cyberwarfare\"><img alt=\"The Art of Cyberwarfare Cover\" class=\"img-responsive\" height=\"225\" src=\"https://nostarch.com/sites/default/files/styles/uc_product/public/ArtofCyberwarfare_frontcover.png?itok=XD4n4ovE\" title=\"The Art of Cyberwarfare\" width=\"170\"/></a></div></div></div> <header>\n",
       "<h2><a href=\"/art-cyberwarfare\">The Art of Cyberwarfare</a></h2>\n",
       "</header>\n",
       "<div class=\"field field-name-field-author field-type-text field-label-hidden\"><div class=\"field-items\"><div class=\"field-item even\">Jon DiMaggio</div></div></div><div class=\"field field-name-body field-type-text-with-summary field-label-hidden\"><div class=\"field-items\"><div class=\"field-item even\"><p>A detailed guide to nation-state hacking methods that shows how to track, analyze, and attribute advanced attacks.</p>\n",
       "</div></div></div>\n",
       "<footer>\n",
       "</footer>\n",
       "</article>\n",
       "</div>\n",
       "<div class=\"views-row views-row-6 views-row-even\">\n",
       "<article class=\"node node-product node-promoted node-teaser clearfix\" id=\"node-610\">\n",
       "<div class=\"field field-name-field-image-cache field-type-image field-label-hidden\"><div class=\"field-items\"><div class=\"field-item even\"><a href=\"/artists-guide-programming\"><img alt=\"An Artist's Guide to Programming Cover\" class=\"img-responsive\" height=\"225\" src=\"https://nostarch.com/sites/default/files/styles/uc_product/public/AnArtistsGuideToProgramming_front.png?itok=HUgQb0Fa\" title=\"An Artist's Guide to Programming Cover\" width=\"180\"/></a></div></div></div> <header>\n",
       "<h2><a href=\"/artists-guide-programming\">An Artist's Guide to Programming</a></h2>\n",
       "</header>\n",
       "<div class=\"field field-name-field-author field-type-text field-label-hidden\"><div class=\"field-items\"><div class=\"field-item even\">Jim Parker</div></div></div><div class=\"field field-name-body field-type-text-with-summary field-label-hidden\"><div class=\"field-items\"><div class=\"field-item even\"><p>Teaches you how to write apps that integrate graphics and sound (includes 100 example programs).</p>\n",
       "</div></div></div>\n",
       "<footer>\n",
       "</footer>\n",
       "</article>\n",
       "</div>\n",
       "<div class=\"views-row views-row-7 views-row-odd\">\n",
       "<article class=\"node node-product node-promoted node-teaser clearfix\" id=\"node-638\">\n",
       "<div class=\"field field-name-field-image-cache field-type-image field-label-hidden\"><div class=\"field-items\"><div class=\"field-item even\"><a href=\"/art-mac-malware\"><img alt=\"The Art of Mac Malware\" class=\"img-responsive\" height=\"225\" src=\"https://nostarch.com/sites/default/files/styles/uc_product/public/ArtofMacMalware_frontcover_0.png?itok=0KvD48Xc\" title=\"The Art of Mac Malware Cover\" width=\"170\"/></a></div></div></div> <header>\n",
       "<h2><a href=\"/art-mac-malware\">The Art of Mac Malware</a></h2>\n",
       "</header>\n",
       "<div class=\"field field-name-field-author field-type-text field-label-hidden\"><div class=\"field-items\"><div class=\"field-item even\">Patrick Wardle</div></div></div><div class=\"field field-name-body field-type-text-with-summary field-label-hidden\"><div class=\"field-items\"><div class=\"field-item even\"><p>A handbook for Apple infection methods, malicious script analysis, and Mach-O malware.</p>\n",
       "</div></div></div>\n",
       "<footer>\n",
       "</footer>\n",
       "</article>\n",
       "</div>\n",
       "<div class=\"views-row views-row-8 views-row-even\">\n",
       "<article class=\"node node-product node-promoted node-teaser clearfix\" id=\"node-606\">\n",
       "<div class=\"field field-name-field-image-cache field-type-image field-label-hidden\"><div class=\"field-items\"><div class=\"field-item even\"><a href=\"/bare-metal-c\"><img alt=\"Bare Metal C cover\" class=\"img-responsive\" height=\"225\" src=\"https://nostarch.com/sites/default/files/styles/uc_product/public/BareMetalC_front_0.png?itok=7nLjgJCP\" title=\"Bare Metal C cover\" width=\"170\"/></a></div></div></div> <header>\n",
       "<h2><a href=\"/bare-metal-c\">Bare Metal C</a></h2>\n",
       "</header>\n",
       "<div class=\"field field-name-field-author field-type-text field-label-hidden\"><div class=\"field-items\"><div class=\"field-item even\">Stephen Oualline</div></div></div><div class=\"field field-name-body field-type-text-with-summary field-label-hidden\"><div class=\"field-items\"><div class=\"field-item even\"><p>Teaches you how to program embedded devices with the C programming language.</p>\n",
       "</div></div></div>\n",
       "<footer>\n",
       "</footer>\n",
       "</article>\n",
       "</div>\n",
       "<div class=\"views-row views-row-9 views-row-odd views-row-last\">\n",
       "<article class=\"node node-product node-promoted node-teaser clearfix\" id=\"node-642\">\n",
       "<div class=\"field field-name-field-image-cache field-type-image field-label-hidden\"><div class=\"field-items\"><div class=\"field-item even\"><a href=\"/recursive-book-recursion\"><img alt=\"The Book of Recursion Cover\" class=\"img-responsive\" height=\"225\" src=\"https://nostarch.com/sites/default/files/styles/uc_product/public/RecursiveBookofRecursion_frontcvr_v7.png?itok=qUcXWr99\" title=\"The Book of Recursion\" width=\"169\"/></a></div></div></div> <header>\n",
       "<h2><a href=\"/recursive-book-recursion\">The Recursive Book of Recursion</a></h2>\n",
       "</header>\n",
       "<div class=\"field field-name-field-author field-type-text field-label-hidden\"><div class=\"field-items\"><div class=\"field-item even\">Al Sweigart</div></div></div><div class=\"field field-name-body field-type-text-with-summary field-label-hidden\"><div class=\"field-items\"><div class=\"field-item even\"><p>Teaches all the basics of recursion through coding projects, running programs, and using algorithms.</p>\n",
       "</div></div></div>\n",
       "<footer>\n",
       "</footer>\n",
       "</article>\n",
       "</div>\n",
       "</div>\n",
       "<div class=\"view-footer\">\n",
       "<div class=\"feed-icon\">\n",
       "<a class=\"feed-icon\" href=\"/feeds/comingsoon.xml\" title=\"Subscribe to No Starch Press - Coming Soon\"><img alt=\"Subscribe to No Starch Press - Coming Soon\" class=\"img-responsive\" height=\"16\" src=\"/misc/feed.png\" width=\"16\"/></a> </div> </div>\n",
       "</div>\n",
       "</section>\n",
       "</div></div>\n",
       "</section>\n",
       "<section class=\"block block-shariff clearfix\" id=\"block-shariff-shariff-block\">\n",
       "<div class=\"shariff\" data-lang=\"en\" data-orientation=\"horizontal\" data-services='[\"facebook\",\"print\",\"twitter\"]' data-theme=\"colored\" data-twitter-via=\"nostarch\"></div>\n",
       "</section>\n",
       "</div>\n",
       "</section>\n",
       "<aside class=\"col-sm-3\" role=\"complementary\">\n",
       "<div class=\"region region-sidebar-second\">\n",
       "<section class=\"block block-system block-menu clearfix\" id=\"block-system-navigation\">\n",
       "<h2 class=\"block-title\">Navigation</h2>\n",
       "<ul class=\"menu nav\"><li class=\"first last leaf\"><a href=\"/user\" title=\"\">My account</a></li>\n",
       "</ul>\n",
       "</section>\n",
       "<section class=\"block block-block clearfix\" id=\"block-block-7\">\n",
       "<h2 class=\"block-title\">Follow Us</h2>\n",
       "<p><a href=\"/mailchimp/subscribe\"><img align=\"left\" alt=\"Newsletter\" border=\"0\" src=\"/sites/default/files/email-16.png\" style=\"padding-bottom:8px;padding-right:8px;\"/>Subscribe to our Newsletter</a></p>\n",
       "<p><a href=\"https://www.twitter.com/nostarch\"><img align=\"left\" alt=\"Twitter\" border=\"0\" src=\"/sites/default/files/twitter-16x16.png\" style=\"padding-bottom:8px;padding-right:8px;\"/>Twitter</a></p>\n",
       "<p><a href=\"https://www.facebook.com/NoStarchPress/\"><img align=\"left\" alt=\"Facebook\" border=\"0\" src=\"/sites/default/files/facebook_small.png\" style=\"padding-bottom:8px;padding-right:8px;\"/>Facebook</a></p>\n",
       "<p><a href=\"https://www.instagram.com/nostarchpress/\"><img align=\"left\" alt=\"Instagram\" border=\"0\" src=\"/sites/default/files/Instagram_16px.png\" style=\"padding-bottom:8px;padding-right:8px;\"/>Instagram</a></p>\n",
       "<p><a href=\"https://www.pinterest.com/nostarchpress/\"><img align=\"left\" alt=\"Pinterest\" border=\"0\" src=\"/sites/default/files/PinterestNEW_16px.png\" style=\"padding-bottom:8px;padding-right:8px;\"/>Pinterest</a></p>\n",
       "</section>\n",
       "<section class=\"block block-block clearfix\" id=\"block-block-52\">\n",
       "<p><a href=\"/mailchimp/subscribe\">Want sweet deals? <br/>Sign up for our newsletter.</a></p>\n",
       "</section>\n",
       "</div>\n",
       "</aside>\n",
       "</div>\n",
       "</div>\n",
       "<footer class=\"footer container\">\n",
       "<div class=\"region region-footer\">\n",
       "<section class=\"block block-block clearfix\" id=\"block-block-16\">\n",
       "<div id=\"footer-links\">\n",
       "<br/>\n",
       "<a class=\"footer-links\" href=\"/about.htm\">About Us</a>\n",
       " <span class=\"footer-divider\">|</span> \n",
       "<a class=\"footer-links\" href=\"/Jobs.htm\">Jobs!</a>\n",
       " <span class=\"footer-divider\">|</span> \n",
       "<a class=\"footer-links\" href=\"/distribution.htm\">Sales and Distribution</a>\n",
       " <span class=\"footer-divider\">|</span> \n",
       "<a class=\"footer-links\" href=\"/rights\">Rights</a>\n",
       " <span class=\"footer-divider\">|</span> \n",
       "<a class=\"footer-links\" href=\"/media.htm\">Media</a>\n",
       " <span class=\"footer-divider\">|</span> \n",
       "<a class=\"footer-links\" href=\"/academic.htm\">Academic Requests</a>\n",
       " <span class=\"footer-divider\">|</span> \n",
       "<a class=\"footer-links\" href=\"/conferences.htm\">Conferences</a>\n",
       " <span class=\"footer-divider\">|</span> \n",
       "<a class=\"footer-links\" href=\"/orderfaq.htm\">FAQ</a>\n",
       " <span class=\"footer-divider\">|</span> \n",
       "<a class=\"footer-links\" href=\"/contactus\">Contact Us</a>\n",
       " <span class=\"footer-divider\">|</span> \n",
       "<a class=\"footer-links\" href=\"/writeforus\">Write for Us</a>\n",
       " <span class=\"footer-divider\">|</span> \n",
       "<a class=\"footer-links\" href=\"/privacypolicy.htm\">Privacy</a>\n",
       "</div>\n",
       "</section>\n",
       "<section class=\"block block-nostarch-custom clearfix\" id=\"block-nostarch-custom-custom-footer-copyright\">\n",
       "<div class=\"block-block\">\n",
       "<p>Copyright 2022. No Starch Press, Inc</p>\n",
       "</div>\n",
       "</section>\n",
       "</div>\n",
       "</footer>\n",
       "<script src=\"https://nostarch.com/sites/all/modules/contrib/addthis/addthis.js?r4fgrp\"></script>\n",
       "<script src=\"https://nostarch.com/sites/all/libraries/shariff/shariff.min.js?r4fgrp\"></script>\n",
       "<script src=\"https://nostarch.com/sites/all/themes/contrib/bootstrap/js/bootstrap.js?r4fgrp\"></script>\n",
       "</body>\n",
       "</html>"
      ]
     },
     "execution_count": 12,
     "metadata": {},
     "output_type": "execute_result"
    }
   ],
   "source": [
    "noStarchSoup"
   ]
  },
  {
   "cell_type": "markdown",
   "metadata": {},
   "source": [
    "This code uses `requests.get()` to download the main page from the\n",
    "No Starch Press website and then passes the text attribute of the response\n",
    "to` bs4.BeautifulSoup()`. The BeautifulSoup object that it returns is stored in a\n",
    "variable named noStarchSoup."
   ]
  },
  {
   "cell_type": "code",
   "execution_count": 7,
   "metadata": {},
   "outputs": [
    {
     "data": {
      "text/plain": [
       "bs4.BeautifulSoup"
      ]
     },
     "execution_count": 7,
     "metadata": {},
     "output_type": "execute_result"
    }
   ],
   "source": [
    "exampleFile = open('data/example.html')\n",
    "exampleSoup = bs4.BeautifulSoup(exampleFile)\n",
    "type(exampleSoup)"
   ]
  },
  {
   "cell_type": "markdown",
   "metadata": {},
   "source": [
    "### Finding an Element with the select() Method"
   ]
  },
  {
   "cell_type": "markdown",
   "metadata": {},
   "source": [
    "You can retrieve a web page element from a BeautifulSoup object by calling\n",
    "the `select()` method and passing a string of a CSS selector for the element you\n",
    "are looking for. Selectors are like regular expressions: They specify a pattern\n",
    "to look for, in this case, in HTML pages instead of general text strings.\n",
    "A full discussion of CSS selector syntax is beyond the scope of this\n",
    "book (there’s a good selector tutorial in the resources at http://nostarch.com/\n",
    "automatestuff/), but here’s a short introduction to selectors. Table 11-2 shows\n",
    "examples of the most common CSS selector patterns."
   ]
  },
  {
   "cell_type": "markdown",
   "metadata": {},
   "source": [
    "The various selector patterns can be combined to make sophisticated\n",
    "matches. For example, `soup.select('p #author')` will match any element that\n",
    "has an **id attribute of author**, as long as it is also inside a <p> element.\n",
    "The select() method will return a list of Tag objects, which is how\n",
    "Beautiful Soup represents an HTML element. The list will contain one\n",
    "Tag object for every match in the BeautifulSoup object’s HTML. Tag values\n",
    "can be passed to the `str()` function to show the HTML tags they represent."
   ]
  },
  {
   "cell_type": "code",
   "execution_count": 3,
   "metadata": {},
   "outputs": [
    {
     "name": "stdout",
     "output_type": "stream",
     "text": [
      "[<span id=\"name\">Sachin</span>]\n"
     ]
    },
    {
     "data": {
      "text/plain": [
       "bs4.element.ResultSet"
      ]
     },
     "execution_count": 3,
     "metadata": {},
     "output_type": "execute_result"
    }
   ],
   "source": [
    "import bs4 # lib\n",
    "exampleFile = open('data/example.html') # file open\n",
    "exampleSoup = bs4.BeautifulSoup(exampleFile.read()) # bs object\n",
    "elems = exampleSoup.select('#name')\n",
    "print(elems)\n",
    "type(elems)\n"
   ]
  },
  {
   "cell_type": "code",
   "execution_count": 28,
   "metadata": {},
   "outputs": [
    {
     "name": "stdout",
     "output_type": "stream",
     "text": [
      "[<p class=\"slogan\">Learn Python the easy way!</p>, <p class=\"slogan\">Learn Python the hard way!</p>]\n"
     ]
    },
    {
     "data": {
      "text/plain": [
       "bs4.element.ResultSet"
      ]
     },
     "execution_count": 28,
     "metadata": {},
     "output_type": "execute_result"
    }
   ],
   "source": [
    "elems = exampleSoup.select('.slogan')\n",
    "print(elems)\n",
    "type(elems)"
   ]
  },
  {
   "cell_type": "code",
   "execution_count": 17,
   "metadata": {},
   "outputs": [
    {
     "data": {
      "text/plain": [
       "'Sachin'"
      ]
     },
     "execution_count": 17,
     "metadata": {},
     "output_type": "execute_result"
    }
   ],
   "source": [
    "elems[0].getText()"
   ]
  },
  {
   "cell_type": "code",
   "execution_count": null,
   "metadata": {},
   "outputs": [],
   "source": [
    "exampleFile "
   ]
  },
  {
   "cell_type": "code",
   "execution_count": 12,
   "metadata": {},
   "outputs": [
    {
     "data": {
      "text/plain": [
       "1"
      ]
     },
     "execution_count": 12,
     "metadata": {},
     "output_type": "execute_result"
    }
   ],
   "source": [
    "len(elems)"
   ]
  },
  {
   "cell_type": "code",
   "execution_count": 13,
   "metadata": {},
   "outputs": [
    {
     "data": {
      "text/plain": [
       "'Al Sweigart'"
      ]
     },
     "execution_count": 13,
     "metadata": {},
     "output_type": "execute_result"
    }
   ],
   "source": [
    "elems[0].getText()"
   ]
  },
  {
   "cell_type": "code",
   "execution_count": 14,
   "metadata": {},
   "outputs": [
    {
     "data": {
      "text/plain": [
       "'<span id=\"author\">Al Sweigart</span>'"
      ]
     },
     "execution_count": 14,
     "metadata": {},
     "output_type": "execute_result"
    }
   ],
   "source": [
    "str(elems[0])"
   ]
  },
  {
   "cell_type": "code",
   "execution_count": 15,
   "metadata": {},
   "outputs": [
    {
     "data": {
      "text/plain": [
       "{'id': 'author'}"
      ]
     },
     "execution_count": 15,
     "metadata": {},
     "output_type": "execute_result"
    }
   ],
   "source": [
    "elems[0].attrs"
   ]
  },
  {
   "cell_type": "markdown",
   "metadata": {},
   "source": [
    "This code will pull the element with id=\"author\" out of our example\n",
    "HTML. We use select('#author') to return a list of all the elements with\n",
    "id=\"author\". We store this list of Tag objects in the variable elems, and\n",
    "len(elems) tells us there is one Tag object in the list; there was one match.\n",
    "Calling getText() on the element returns the element’s text, or inner\n",
    "HTML. The text of an element is the content between the opening and\n",
    "closing tags: in this case, 'Al Sweigart'.\n",
    "Passing the element to str() returns a string with the starting and closing tags and the element’s text. Finally, attrs gives us a dictionary with the\n",
    "element’s attribute, 'id', and the value of the id attribute, 'author'."
   ]
  },
  {
   "cell_type": "code",
   "execution_count": 20,
   "metadata": {},
   "outputs": [
    {
     "data": {
      "text/plain": [
       "'<p class=\"slogan\">Learn Python the easy way!</p>'"
      ]
     },
     "execution_count": 20,
     "metadata": {},
     "output_type": "execute_result"
    }
   ],
   "source": [
    "pElems = exampleSoup.select('p')\n",
    "str(pElems[1])"
   ]
  },
  {
   "cell_type": "code",
   "execution_count": 23,
   "metadata": {},
   "outputs": [
    {
     "name": "stdout",
     "output_type": "stream",
     "text": [
      "\n",
      "      Download my Python book from\n",
      "      my website.\n",
      "    \n",
      "Learn Python the easy way!\n",
      "By Al Sweigart\n",
      "By Sachin\n"
     ]
    }
   ],
   "source": [
    "for html in pElems:\n",
    "    print(html.getText())"
   ]
  },
  {
   "cell_type": "code",
   "execution_count": 19,
   "metadata": {},
   "outputs": [
    {
     "data": {
      "text/plain": [
       "'\\n      Download my Python book from\\n      my website.\\n    '"
      ]
     },
     "execution_count": 19,
     "metadata": {},
     "output_type": "execute_result"
    }
   ],
   "source": [
    "pElems[0].getText()"
   ]
  },
  {
   "cell_type": "code",
   "execution_count": 19,
   "metadata": {},
   "outputs": [
    {
     "data": {
      "text/plain": [
       "'<p class=\"slogan\">Learn Python the easy way!</p>'"
      ]
     },
     "execution_count": 19,
     "metadata": {},
     "output_type": "execute_result"
    }
   ],
   "source": [
    "str(pElems[1])"
   ]
  },
  {
   "cell_type": "code",
   "execution_count": 20,
   "metadata": {},
   "outputs": [
    {
     "data": {
      "text/plain": [
       "'Learn Python the easy way!'"
      ]
     },
     "execution_count": 20,
     "metadata": {},
     "output_type": "execute_result"
    }
   ],
   "source": [
    "pElems[1].getText()"
   ]
  },
  {
   "cell_type": "code",
   "execution_count": 21,
   "metadata": {},
   "outputs": [
    {
     "data": {
      "text/plain": [
       "'<p>By <span id=\"author\">Al Sweigart</span></p>'"
      ]
     },
     "execution_count": 21,
     "metadata": {},
     "output_type": "execute_result"
    }
   ],
   "source": [
    "\n",
    "str(pElems[2])"
   ]
  },
  {
   "cell_type": "code",
   "execution_count": 22,
   "metadata": {},
   "outputs": [
    {
     "data": {
      "text/plain": [
       "'<p>By <span id=\"author\">Al Sweigart</span></p>'"
      ]
     },
     "execution_count": 22,
     "metadata": {},
     "output_type": "execute_result"
    }
   ],
   "source": [
    "str(pElems[2])"
   ]
  },
  {
   "cell_type": "markdown",
   "metadata": {},
   "source": [
    "### Getting Data from an Element’s Attributes"
   ]
  },
  {
   "cell_type": "code",
   "execution_count": null,
   "metadata": {},
   "outputs": [],
   "source": []
  },
  {
   "cell_type": "markdown",
   "metadata": {},
   "source": [
    "### Step 1: Get the Command Line Arguments and Request the Search Page"
   ]
  },
  {
   "cell_type": "code",
   "execution_count": 23,
   "metadata": {},
   "outputs": [
    {
     "name": "stdout",
     "output_type": "stream",
     "text": [
      "Googling...\n"
     ]
    }
   ],
   "source": [
    "import requests, sys, webbrowser, bs4\n",
    "print('Googling...')\n",
    "\n",
    "res = requests.get('http://google.com/search?q=' + 'India')\n",
    "res.raise_for_status()"
   ]
  },
  {
   "cell_type": "code",
   "execution_count": 24,
   "metadata": {},
   "outputs": [],
   "source": [
    "soup = bs4.BeautifulSoup(res.text)"
   ]
  },
  {
   "cell_type": "code",
   "execution_count": 25,
   "metadata": {},
   "outputs": [],
   "source": [
    "linkElems = soup.select('.r a')"
   ]
  },
  {
   "cell_type": "code",
   "execution_count": 26,
   "metadata": {},
   "outputs": [],
   "source": [
    "import requests, os, bs4"
   ]
  },
  {
   "cell_type": "code",
   "execution_count": 27,
   "metadata": {},
   "outputs": [],
   "source": [
    "url = 'http://xkcd.com'"
   ]
  },
  {
   "cell_type": "code",
   "execution_count": 29,
   "metadata": {},
   "outputs": [],
   "source": [
    "os.makedirs('out/xkcd', exist_ok=True)"
   ]
  },
  {
   "cell_type": "code",
   "execution_count": 36,
   "metadata": {},
   "outputs": [
    {
     "name": "stdout",
     "output_type": "stream",
     "text": [
      "Downloading page http://xkcd.com...\n",
      "Downloading image https://imgs.xkcd.com/comics/siren.png...\n",
      "https://imgs.xkcd.com/comics/siren.png\n",
      "Downloading page http://xkcd.com/2546/...\n",
      "Downloading image https://imgs.xkcd.com/comics/fiction_vs_nonfiction.png...\n",
      "https://imgs.xkcd.com/comics/fiction_vs_nonfiction.png\n",
      "Downloading page http://xkcd.com/2545/...\n",
      "Downloading image https://imgs.xkcd.com/comics/bayes_theorem.png...\n",
      "https://imgs.xkcd.com/comics/bayes_theorem.png\n",
      "Downloading page http://xkcd.com/2544/...\n",
      "Downloading image https://imgs.xkcd.com/comics/heart_stopping_texts.png...\n",
      "https://imgs.xkcd.com/comics/heart_stopping_texts.png\n",
      "Downloading page http://xkcd.com/2543/...\n",
      "Downloading image https://imgs.xkcd.com/comics/never_told_anyone.png...\n",
      "https://imgs.xkcd.com/comics/never_told_anyone.png\n",
      "Downloading page http://xkcd.com/2542/...\n",
      "Downloading image https://imgs.xkcd.com/comics/daylight_calendar.png...\n",
      "https://imgs.xkcd.com/comics/daylight_calendar.png\n",
      "Downloading page http://xkcd.com/2541/...\n",
      "Downloading image https://imgs.xkcd.com/comics/occam.png...\n",
      "https://imgs.xkcd.com/comics/occam.png\n",
      "Downloading page http://xkcd.com/2540/...\n",
      "Downloading image https://imgs.xkcd.com/comics/ttsltswbd.png...\n",
      "https://imgs.xkcd.com/comics/ttsltswbd.png\n",
      "Downloading page http://xkcd.com/2539/...\n",
      "Downloading image https://imgs.xkcd.com/comics/flinch.png...\n",
      "https://imgs.xkcd.com/comics/flinch.png\n",
      "Downloading page http://xkcd.com/2538/...\n",
      "Downloading image https://imgs.xkcd.com/comics/snack.png...\n",
      "https://imgs.xkcd.com/comics/snack.png\n",
      "Downloading page http://xkcd.com/2537/...\n",
      "Downloading image https://imgs.xkcd.com/comics/painbow_award.png...\n",
      "https://imgs.xkcd.com/comics/painbow_award.png\n",
      "Downloading page http://xkcd.com/2536/...\n",
      "Downloading image https://imgs.xkcd.com/comics/wirecutter.png...\n",
      "https://imgs.xkcd.com/comics/wirecutter.png\n",
      "Downloading page http://xkcd.com/2535/...\n",
      "Downloading image https://imgs.xkcd.com/comics/common_cold_viruses.png...\n",
      "https://imgs.xkcd.com/comics/common_cold_viruses.png\n",
      "Downloading page http://xkcd.com/2534/...\n",
      "Downloading image https://imgs.xkcd.com/comics/retractable_rocket.png...\n",
      "https://imgs.xkcd.com/comics/retractable_rocket.png\n",
      "Downloading page http://xkcd.com/2533/...\n",
      "Downloading image https://imgs.xkcd.com/comics/slope_hypothesis_testing.png...\n",
      "https://imgs.xkcd.com/comics/slope_hypothesis_testing.png\n",
      "Downloading page http://xkcd.com/2532/...\n",
      "Downloading image https://imgs.xkcd.com/comics/censored_vaccine_card.png...\n",
      "https://imgs.xkcd.com/comics/censored_vaccine_card.png\n",
      "Downloading page http://xkcd.com/2531/...\n"
     ]
    },
    {
     "ename": "KeyboardInterrupt",
     "evalue": "",
     "output_type": "error",
     "traceback": [
      "\u001b[1;31m---------------------------------------------------------------------------\u001b[0m",
      "\u001b[1;31mKeyboardInterrupt\u001b[0m                         Traceback (most recent call last)",
      "\u001b[1;32m<ipython-input-36-6273f24b20e3>\u001b[0m in \u001b[0;36m<module>\u001b[1;34m\u001b[0m\n\u001b[0;32m      1\u001b[0m \u001b[1;32mwhile\u001b[0m \u001b[1;32mnot\u001b[0m \u001b[0murl\u001b[0m\u001b[1;33m.\u001b[0m\u001b[0mendswith\u001b[0m\u001b[1;33m(\u001b[0m\u001b[1;34m'#'\u001b[0m\u001b[1;33m)\u001b[0m\u001b[1;33m:\u001b[0m\u001b[1;33m\u001b[0m\u001b[1;33m\u001b[0m\u001b[0m\n\u001b[0;32m      2\u001b[0m     \u001b[0mprint\u001b[0m\u001b[1;33m(\u001b[0m\u001b[1;34m'Downloading page %s...'\u001b[0m \u001b[1;33m%\u001b[0m \u001b[0murl\u001b[0m\u001b[1;33m)\u001b[0m\u001b[1;33m\u001b[0m\u001b[1;33m\u001b[0m\u001b[0m\n\u001b[1;32m----> 3\u001b[1;33m     \u001b[0mres\u001b[0m \u001b[1;33m=\u001b[0m \u001b[0mrequests\u001b[0m\u001b[1;33m.\u001b[0m\u001b[0mget\u001b[0m\u001b[1;33m(\u001b[0m\u001b[0murl\u001b[0m\u001b[1;33m)\u001b[0m\u001b[1;33m\u001b[0m\u001b[1;33m\u001b[0m\u001b[0m\n\u001b[0m\u001b[0;32m      4\u001b[0m     \u001b[0mres\u001b[0m\u001b[1;33m.\u001b[0m\u001b[0mraise_for_status\u001b[0m\u001b[1;33m(\u001b[0m\u001b[1;33m)\u001b[0m\u001b[1;33m\u001b[0m\u001b[1;33m\u001b[0m\u001b[0m\n\u001b[0;32m      5\u001b[0m \u001b[1;33m\u001b[0m\u001b[0m\n",
      "\u001b[1;32m~\\Anaconda3\\lib\\site-packages\\requests\\api.py\u001b[0m in \u001b[0;36mget\u001b[1;34m(url, params, **kwargs)\u001b[0m\n\u001b[0;32m     74\u001b[0m \u001b[1;33m\u001b[0m\u001b[0m\n\u001b[0;32m     75\u001b[0m     \u001b[0mkwargs\u001b[0m\u001b[1;33m.\u001b[0m\u001b[0msetdefault\u001b[0m\u001b[1;33m(\u001b[0m\u001b[1;34m'allow_redirects'\u001b[0m\u001b[1;33m,\u001b[0m \u001b[1;32mTrue\u001b[0m\u001b[1;33m)\u001b[0m\u001b[1;33m\u001b[0m\u001b[1;33m\u001b[0m\u001b[0m\n\u001b[1;32m---> 76\u001b[1;33m     \u001b[1;32mreturn\u001b[0m \u001b[0mrequest\u001b[0m\u001b[1;33m(\u001b[0m\u001b[1;34m'get'\u001b[0m\u001b[1;33m,\u001b[0m \u001b[0murl\u001b[0m\u001b[1;33m,\u001b[0m \u001b[0mparams\u001b[0m\u001b[1;33m=\u001b[0m\u001b[0mparams\u001b[0m\u001b[1;33m,\u001b[0m \u001b[1;33m**\u001b[0m\u001b[0mkwargs\u001b[0m\u001b[1;33m)\u001b[0m\u001b[1;33m\u001b[0m\u001b[1;33m\u001b[0m\u001b[0m\n\u001b[0m\u001b[0;32m     77\u001b[0m \u001b[1;33m\u001b[0m\u001b[0m\n\u001b[0;32m     78\u001b[0m \u001b[1;33m\u001b[0m\u001b[0m\n",
      "\u001b[1;32m~\\Anaconda3\\lib\\site-packages\\requests\\api.py\u001b[0m in \u001b[0;36mrequest\u001b[1;34m(method, url, **kwargs)\u001b[0m\n\u001b[0;32m     59\u001b[0m     \u001b[1;31m# cases, and look like a memory leak in others.\u001b[0m\u001b[1;33m\u001b[0m\u001b[1;33m\u001b[0m\u001b[1;33m\u001b[0m\u001b[0m\n\u001b[0;32m     60\u001b[0m     \u001b[1;32mwith\u001b[0m \u001b[0msessions\u001b[0m\u001b[1;33m.\u001b[0m\u001b[0mSession\u001b[0m\u001b[1;33m(\u001b[0m\u001b[1;33m)\u001b[0m \u001b[1;32mas\u001b[0m \u001b[0msession\u001b[0m\u001b[1;33m:\u001b[0m\u001b[1;33m\u001b[0m\u001b[1;33m\u001b[0m\u001b[0m\n\u001b[1;32m---> 61\u001b[1;33m         \u001b[1;32mreturn\u001b[0m \u001b[0msession\u001b[0m\u001b[1;33m.\u001b[0m\u001b[0mrequest\u001b[0m\u001b[1;33m(\u001b[0m\u001b[0mmethod\u001b[0m\u001b[1;33m=\u001b[0m\u001b[0mmethod\u001b[0m\u001b[1;33m,\u001b[0m \u001b[0murl\u001b[0m\u001b[1;33m=\u001b[0m\u001b[0murl\u001b[0m\u001b[1;33m,\u001b[0m \u001b[1;33m**\u001b[0m\u001b[0mkwargs\u001b[0m\u001b[1;33m)\u001b[0m\u001b[1;33m\u001b[0m\u001b[1;33m\u001b[0m\u001b[0m\n\u001b[0m\u001b[0;32m     62\u001b[0m \u001b[1;33m\u001b[0m\u001b[0m\n\u001b[0;32m     63\u001b[0m \u001b[1;33m\u001b[0m\u001b[0m\n",
      "\u001b[1;32m~\\Anaconda3\\lib\\site-packages\\requests\\sessions.py\u001b[0m in \u001b[0;36mrequest\u001b[1;34m(self, method, url, params, data, headers, cookies, files, auth, timeout, allow_redirects, proxies, hooks, stream, verify, cert, json)\u001b[0m\n\u001b[0;32m    540\u001b[0m         }\n\u001b[0;32m    541\u001b[0m         \u001b[0msend_kwargs\u001b[0m\u001b[1;33m.\u001b[0m\u001b[0mupdate\u001b[0m\u001b[1;33m(\u001b[0m\u001b[0msettings\u001b[0m\u001b[1;33m)\u001b[0m\u001b[1;33m\u001b[0m\u001b[1;33m\u001b[0m\u001b[0m\n\u001b[1;32m--> 542\u001b[1;33m         \u001b[0mresp\u001b[0m \u001b[1;33m=\u001b[0m \u001b[0mself\u001b[0m\u001b[1;33m.\u001b[0m\u001b[0msend\u001b[0m\u001b[1;33m(\u001b[0m\u001b[0mprep\u001b[0m\u001b[1;33m,\u001b[0m \u001b[1;33m**\u001b[0m\u001b[0msend_kwargs\u001b[0m\u001b[1;33m)\u001b[0m\u001b[1;33m\u001b[0m\u001b[1;33m\u001b[0m\u001b[0m\n\u001b[0m\u001b[0;32m    543\u001b[0m \u001b[1;33m\u001b[0m\u001b[0m\n\u001b[0;32m    544\u001b[0m         \u001b[1;32mreturn\u001b[0m \u001b[0mresp\u001b[0m\u001b[1;33m\u001b[0m\u001b[1;33m\u001b[0m\u001b[0m\n",
      "\u001b[1;32m~\\Anaconda3\\lib\\site-packages\\requests\\sessions.py\u001b[0m in \u001b[0;36msend\u001b[1;34m(self, request, **kwargs)\u001b[0m\n\u001b[0;32m    675\u001b[0m             \u001b[1;31m# Redirect resolving generator.\u001b[0m\u001b[1;33m\u001b[0m\u001b[1;33m\u001b[0m\u001b[1;33m\u001b[0m\u001b[0m\n\u001b[0;32m    676\u001b[0m             \u001b[0mgen\u001b[0m \u001b[1;33m=\u001b[0m \u001b[0mself\u001b[0m\u001b[1;33m.\u001b[0m\u001b[0mresolve_redirects\u001b[0m\u001b[1;33m(\u001b[0m\u001b[0mr\u001b[0m\u001b[1;33m,\u001b[0m \u001b[0mrequest\u001b[0m\u001b[1;33m,\u001b[0m \u001b[1;33m**\u001b[0m\u001b[0mkwargs\u001b[0m\u001b[1;33m)\u001b[0m\u001b[1;33m\u001b[0m\u001b[1;33m\u001b[0m\u001b[0m\n\u001b[1;32m--> 677\u001b[1;33m             \u001b[0mhistory\u001b[0m \u001b[1;33m=\u001b[0m \u001b[1;33m[\u001b[0m\u001b[0mresp\u001b[0m \u001b[1;32mfor\u001b[0m \u001b[0mresp\u001b[0m \u001b[1;32min\u001b[0m \u001b[0mgen\u001b[0m\u001b[1;33m]\u001b[0m\u001b[1;33m\u001b[0m\u001b[1;33m\u001b[0m\u001b[0m\n\u001b[0m\u001b[0;32m    678\u001b[0m         \u001b[1;32melse\u001b[0m\u001b[1;33m:\u001b[0m\u001b[1;33m\u001b[0m\u001b[1;33m\u001b[0m\u001b[0m\n\u001b[0;32m    679\u001b[0m             \u001b[0mhistory\u001b[0m \u001b[1;33m=\u001b[0m \u001b[1;33m[\u001b[0m\u001b[1;33m]\u001b[0m\u001b[1;33m\u001b[0m\u001b[1;33m\u001b[0m\u001b[0m\n",
      "\u001b[1;32m~\\Anaconda3\\lib\\site-packages\\requests\\sessions.py\u001b[0m in \u001b[0;36m<listcomp>\u001b[1;34m(.0)\u001b[0m\n\u001b[0;32m    675\u001b[0m             \u001b[1;31m# Redirect resolving generator.\u001b[0m\u001b[1;33m\u001b[0m\u001b[1;33m\u001b[0m\u001b[1;33m\u001b[0m\u001b[0m\n\u001b[0;32m    676\u001b[0m             \u001b[0mgen\u001b[0m \u001b[1;33m=\u001b[0m \u001b[0mself\u001b[0m\u001b[1;33m.\u001b[0m\u001b[0mresolve_redirects\u001b[0m\u001b[1;33m(\u001b[0m\u001b[0mr\u001b[0m\u001b[1;33m,\u001b[0m \u001b[0mrequest\u001b[0m\u001b[1;33m,\u001b[0m \u001b[1;33m**\u001b[0m\u001b[0mkwargs\u001b[0m\u001b[1;33m)\u001b[0m\u001b[1;33m\u001b[0m\u001b[1;33m\u001b[0m\u001b[0m\n\u001b[1;32m--> 677\u001b[1;33m             \u001b[0mhistory\u001b[0m \u001b[1;33m=\u001b[0m \u001b[1;33m[\u001b[0m\u001b[0mresp\u001b[0m \u001b[1;32mfor\u001b[0m \u001b[0mresp\u001b[0m \u001b[1;32min\u001b[0m \u001b[0mgen\u001b[0m\u001b[1;33m]\u001b[0m\u001b[1;33m\u001b[0m\u001b[1;33m\u001b[0m\u001b[0m\n\u001b[0m\u001b[0;32m    678\u001b[0m         \u001b[1;32melse\u001b[0m\u001b[1;33m:\u001b[0m\u001b[1;33m\u001b[0m\u001b[1;33m\u001b[0m\u001b[0m\n\u001b[0;32m    679\u001b[0m             \u001b[0mhistory\u001b[0m \u001b[1;33m=\u001b[0m \u001b[1;33m[\u001b[0m\u001b[1;33m]\u001b[0m\u001b[1;33m\u001b[0m\u001b[1;33m\u001b[0m\u001b[0m\n",
      "\u001b[1;32m~\\Anaconda3\\lib\\site-packages\\requests\\sessions.py\u001b[0m in \u001b[0;36mresolve_redirects\u001b[1;34m(self, resp, req, stream, timeout, verify, cert, proxies, yield_requests, **adapter_kwargs)\u001b[0m\n\u001b[0;32m    235\u001b[0m             \u001b[1;32melse\u001b[0m\u001b[1;33m:\u001b[0m\u001b[1;33m\u001b[0m\u001b[1;33m\u001b[0m\u001b[0m\n\u001b[0;32m    236\u001b[0m \u001b[1;33m\u001b[0m\u001b[0m\n\u001b[1;32m--> 237\u001b[1;33m                 resp = self.send(\n\u001b[0m\u001b[0;32m    238\u001b[0m                     \u001b[0mreq\u001b[0m\u001b[1;33m,\u001b[0m\u001b[1;33m\u001b[0m\u001b[1;33m\u001b[0m\u001b[0m\n\u001b[0;32m    239\u001b[0m                     \u001b[0mstream\u001b[0m\u001b[1;33m=\u001b[0m\u001b[0mstream\u001b[0m\u001b[1;33m,\u001b[0m\u001b[1;33m\u001b[0m\u001b[1;33m\u001b[0m\u001b[0m\n",
      "\u001b[1;32m~\\Anaconda3\\lib\\site-packages\\requests\\sessions.py\u001b[0m in \u001b[0;36msend\u001b[1;34m(self, request, **kwargs)\u001b[0m\n\u001b[0;32m    653\u001b[0m \u001b[1;33m\u001b[0m\u001b[0m\n\u001b[0;32m    654\u001b[0m         \u001b[1;31m# Send the request\u001b[0m\u001b[1;33m\u001b[0m\u001b[1;33m\u001b[0m\u001b[1;33m\u001b[0m\u001b[0m\n\u001b[1;32m--> 655\u001b[1;33m         \u001b[0mr\u001b[0m \u001b[1;33m=\u001b[0m \u001b[0madapter\u001b[0m\u001b[1;33m.\u001b[0m\u001b[0msend\u001b[0m\u001b[1;33m(\u001b[0m\u001b[0mrequest\u001b[0m\u001b[1;33m,\u001b[0m \u001b[1;33m**\u001b[0m\u001b[0mkwargs\u001b[0m\u001b[1;33m)\u001b[0m\u001b[1;33m\u001b[0m\u001b[1;33m\u001b[0m\u001b[0m\n\u001b[0m\u001b[0;32m    656\u001b[0m \u001b[1;33m\u001b[0m\u001b[0m\n\u001b[0;32m    657\u001b[0m         \u001b[1;31m# Total elapsed time of the request (approximately)\u001b[0m\u001b[1;33m\u001b[0m\u001b[1;33m\u001b[0m\u001b[1;33m\u001b[0m\u001b[0m\n",
      "\u001b[1;32m~\\Anaconda3\\lib\\site-packages\\requests\\adapters.py\u001b[0m in \u001b[0;36msend\u001b[1;34m(self, request, stream, timeout, verify, cert, proxies)\u001b[0m\n\u001b[0;32m    437\u001b[0m         \u001b[1;32mtry\u001b[0m\u001b[1;33m:\u001b[0m\u001b[1;33m\u001b[0m\u001b[1;33m\u001b[0m\u001b[0m\n\u001b[0;32m    438\u001b[0m             \u001b[1;32mif\u001b[0m \u001b[1;32mnot\u001b[0m \u001b[0mchunked\u001b[0m\u001b[1;33m:\u001b[0m\u001b[1;33m\u001b[0m\u001b[1;33m\u001b[0m\u001b[0m\n\u001b[1;32m--> 439\u001b[1;33m                 resp = conn.urlopen(\n\u001b[0m\u001b[0;32m    440\u001b[0m                     \u001b[0mmethod\u001b[0m\u001b[1;33m=\u001b[0m\u001b[0mrequest\u001b[0m\u001b[1;33m.\u001b[0m\u001b[0mmethod\u001b[0m\u001b[1;33m,\u001b[0m\u001b[1;33m\u001b[0m\u001b[1;33m\u001b[0m\u001b[0m\n\u001b[0;32m    441\u001b[0m                     \u001b[0murl\u001b[0m\u001b[1;33m=\u001b[0m\u001b[0murl\u001b[0m\u001b[1;33m,\u001b[0m\u001b[1;33m\u001b[0m\u001b[1;33m\u001b[0m\u001b[0m\n",
      "\u001b[1;32m~\\Anaconda3\\lib\\site-packages\\urllib3\\connectionpool.py\u001b[0m in \u001b[0;36murlopen\u001b[1;34m(self, method, url, body, headers, retries, redirect, assert_same_host, timeout, pool_timeout, release_conn, chunked, body_pos, **response_kw)\u001b[0m\n\u001b[0;32m    697\u001b[0m \u001b[1;33m\u001b[0m\u001b[0m\n\u001b[0;32m    698\u001b[0m             \u001b[1;31m# Make the request on the httplib connection object.\u001b[0m\u001b[1;33m\u001b[0m\u001b[1;33m\u001b[0m\u001b[1;33m\u001b[0m\u001b[0m\n\u001b[1;32m--> 699\u001b[1;33m             httplib_response = self._make_request(\n\u001b[0m\u001b[0;32m    700\u001b[0m                 \u001b[0mconn\u001b[0m\u001b[1;33m,\u001b[0m\u001b[1;33m\u001b[0m\u001b[1;33m\u001b[0m\u001b[0m\n\u001b[0;32m    701\u001b[0m                 \u001b[0mmethod\u001b[0m\u001b[1;33m,\u001b[0m\u001b[1;33m\u001b[0m\u001b[1;33m\u001b[0m\u001b[0m\n",
      "\u001b[1;32m~\\Anaconda3\\lib\\site-packages\\urllib3\\connectionpool.py\u001b[0m in \u001b[0;36m_make_request\u001b[1;34m(self, conn, method, url, timeout, chunked, **httplib_request_kw)\u001b[0m\n\u001b[0;32m    443\u001b[0m                     \u001b[1;31m# Python 3 (including for exceptions like SystemExit).\u001b[0m\u001b[1;33m\u001b[0m\u001b[1;33m\u001b[0m\u001b[1;33m\u001b[0m\u001b[0m\n\u001b[0;32m    444\u001b[0m                     \u001b[1;31m# Otherwise it looks like a bug in the code.\u001b[0m\u001b[1;33m\u001b[0m\u001b[1;33m\u001b[0m\u001b[1;33m\u001b[0m\u001b[0m\n\u001b[1;32m--> 445\u001b[1;33m                     \u001b[0msix\u001b[0m\u001b[1;33m.\u001b[0m\u001b[0mraise_from\u001b[0m\u001b[1;33m(\u001b[0m\u001b[0me\u001b[0m\u001b[1;33m,\u001b[0m \u001b[1;32mNone\u001b[0m\u001b[1;33m)\u001b[0m\u001b[1;33m\u001b[0m\u001b[1;33m\u001b[0m\u001b[0m\n\u001b[0m\u001b[0;32m    446\u001b[0m         \u001b[1;32mexcept\u001b[0m \u001b[1;33m(\u001b[0m\u001b[0mSocketTimeout\u001b[0m\u001b[1;33m,\u001b[0m \u001b[0mBaseSSLError\u001b[0m\u001b[1;33m,\u001b[0m \u001b[0mSocketError\u001b[0m\u001b[1;33m)\u001b[0m \u001b[1;32mas\u001b[0m \u001b[0me\u001b[0m\u001b[1;33m:\u001b[0m\u001b[1;33m\u001b[0m\u001b[1;33m\u001b[0m\u001b[0m\n\u001b[0;32m    447\u001b[0m             \u001b[0mself\u001b[0m\u001b[1;33m.\u001b[0m\u001b[0m_raise_timeout\u001b[0m\u001b[1;33m(\u001b[0m\u001b[0merr\u001b[0m\u001b[1;33m=\u001b[0m\u001b[0me\u001b[0m\u001b[1;33m,\u001b[0m \u001b[0murl\u001b[0m\u001b[1;33m=\u001b[0m\u001b[0murl\u001b[0m\u001b[1;33m,\u001b[0m \u001b[0mtimeout_value\u001b[0m\u001b[1;33m=\u001b[0m\u001b[0mread_timeout\u001b[0m\u001b[1;33m)\u001b[0m\u001b[1;33m\u001b[0m\u001b[1;33m\u001b[0m\u001b[0m\n",
      "\u001b[1;32m~\\Anaconda3\\lib\\site-packages\\urllib3\\packages\\six.py\u001b[0m in \u001b[0;36mraise_from\u001b[1;34m(value, from_value)\u001b[0m\n",
      "\u001b[1;32m~\\Anaconda3\\lib\\site-packages\\urllib3\\connectionpool.py\u001b[0m in \u001b[0;36m_make_request\u001b[1;34m(self, conn, method, url, timeout, chunked, **httplib_request_kw)\u001b[0m\n\u001b[0;32m    438\u001b[0m                 \u001b[1;31m# Python 3\u001b[0m\u001b[1;33m\u001b[0m\u001b[1;33m\u001b[0m\u001b[1;33m\u001b[0m\u001b[0m\n\u001b[0;32m    439\u001b[0m                 \u001b[1;32mtry\u001b[0m\u001b[1;33m:\u001b[0m\u001b[1;33m\u001b[0m\u001b[1;33m\u001b[0m\u001b[0m\n\u001b[1;32m--> 440\u001b[1;33m                     \u001b[0mhttplib_response\u001b[0m \u001b[1;33m=\u001b[0m \u001b[0mconn\u001b[0m\u001b[1;33m.\u001b[0m\u001b[0mgetresponse\u001b[0m\u001b[1;33m(\u001b[0m\u001b[1;33m)\u001b[0m\u001b[1;33m\u001b[0m\u001b[1;33m\u001b[0m\u001b[0m\n\u001b[0m\u001b[0;32m    441\u001b[0m                 \u001b[1;32mexcept\u001b[0m \u001b[0mBaseException\u001b[0m \u001b[1;32mas\u001b[0m \u001b[0me\u001b[0m\u001b[1;33m:\u001b[0m\u001b[1;33m\u001b[0m\u001b[1;33m\u001b[0m\u001b[0m\n\u001b[0;32m    442\u001b[0m                     \u001b[1;31m# Remove the TypeError from the exception chain in\u001b[0m\u001b[1;33m\u001b[0m\u001b[1;33m\u001b[0m\u001b[1;33m\u001b[0m\u001b[0m\n",
      "\u001b[1;32m~\\Anaconda3\\lib\\http\\client.py\u001b[0m in \u001b[0;36mgetresponse\u001b[1;34m(self)\u001b[0m\n\u001b[0;32m   1345\u001b[0m         \u001b[1;32mtry\u001b[0m\u001b[1;33m:\u001b[0m\u001b[1;33m\u001b[0m\u001b[1;33m\u001b[0m\u001b[0m\n\u001b[0;32m   1346\u001b[0m             \u001b[1;32mtry\u001b[0m\u001b[1;33m:\u001b[0m\u001b[1;33m\u001b[0m\u001b[1;33m\u001b[0m\u001b[0m\n\u001b[1;32m-> 1347\u001b[1;33m                 \u001b[0mresponse\u001b[0m\u001b[1;33m.\u001b[0m\u001b[0mbegin\u001b[0m\u001b[1;33m(\u001b[0m\u001b[1;33m)\u001b[0m\u001b[1;33m\u001b[0m\u001b[1;33m\u001b[0m\u001b[0m\n\u001b[0m\u001b[0;32m   1348\u001b[0m             \u001b[1;32mexcept\u001b[0m \u001b[0mConnectionError\u001b[0m\u001b[1;33m:\u001b[0m\u001b[1;33m\u001b[0m\u001b[1;33m\u001b[0m\u001b[0m\n\u001b[0;32m   1349\u001b[0m                 \u001b[0mself\u001b[0m\u001b[1;33m.\u001b[0m\u001b[0mclose\u001b[0m\u001b[1;33m(\u001b[0m\u001b[1;33m)\u001b[0m\u001b[1;33m\u001b[0m\u001b[1;33m\u001b[0m\u001b[0m\n",
      "\u001b[1;32m~\\Anaconda3\\lib\\http\\client.py\u001b[0m in \u001b[0;36mbegin\u001b[1;34m(self)\u001b[0m\n\u001b[0;32m    305\u001b[0m         \u001b[1;31m# read until we get a non-100 response\u001b[0m\u001b[1;33m\u001b[0m\u001b[1;33m\u001b[0m\u001b[1;33m\u001b[0m\u001b[0m\n\u001b[0;32m    306\u001b[0m         \u001b[1;32mwhile\u001b[0m \u001b[1;32mTrue\u001b[0m\u001b[1;33m:\u001b[0m\u001b[1;33m\u001b[0m\u001b[1;33m\u001b[0m\u001b[0m\n\u001b[1;32m--> 307\u001b[1;33m             \u001b[0mversion\u001b[0m\u001b[1;33m,\u001b[0m \u001b[0mstatus\u001b[0m\u001b[1;33m,\u001b[0m \u001b[0mreason\u001b[0m \u001b[1;33m=\u001b[0m \u001b[0mself\u001b[0m\u001b[1;33m.\u001b[0m\u001b[0m_read_status\u001b[0m\u001b[1;33m(\u001b[0m\u001b[1;33m)\u001b[0m\u001b[1;33m\u001b[0m\u001b[1;33m\u001b[0m\u001b[0m\n\u001b[0m\u001b[0;32m    308\u001b[0m             \u001b[1;32mif\u001b[0m \u001b[0mstatus\u001b[0m \u001b[1;33m!=\u001b[0m \u001b[0mCONTINUE\u001b[0m\u001b[1;33m:\u001b[0m\u001b[1;33m\u001b[0m\u001b[1;33m\u001b[0m\u001b[0m\n\u001b[0;32m    309\u001b[0m                 \u001b[1;32mbreak\u001b[0m\u001b[1;33m\u001b[0m\u001b[1;33m\u001b[0m\u001b[0m\n",
      "\u001b[1;32m~\\Anaconda3\\lib\\http\\client.py\u001b[0m in \u001b[0;36m_read_status\u001b[1;34m(self)\u001b[0m\n\u001b[0;32m    266\u001b[0m \u001b[1;33m\u001b[0m\u001b[0m\n\u001b[0;32m    267\u001b[0m     \u001b[1;32mdef\u001b[0m \u001b[0m_read_status\u001b[0m\u001b[1;33m(\u001b[0m\u001b[0mself\u001b[0m\u001b[1;33m)\u001b[0m\u001b[1;33m:\u001b[0m\u001b[1;33m\u001b[0m\u001b[1;33m\u001b[0m\u001b[0m\n\u001b[1;32m--> 268\u001b[1;33m         \u001b[0mline\u001b[0m \u001b[1;33m=\u001b[0m \u001b[0mstr\u001b[0m\u001b[1;33m(\u001b[0m\u001b[0mself\u001b[0m\u001b[1;33m.\u001b[0m\u001b[0mfp\u001b[0m\u001b[1;33m.\u001b[0m\u001b[0mreadline\u001b[0m\u001b[1;33m(\u001b[0m\u001b[0m_MAXLINE\u001b[0m \u001b[1;33m+\u001b[0m \u001b[1;36m1\u001b[0m\u001b[1;33m)\u001b[0m\u001b[1;33m,\u001b[0m \u001b[1;34m\"iso-8859-1\"\u001b[0m\u001b[1;33m)\u001b[0m\u001b[1;33m\u001b[0m\u001b[1;33m\u001b[0m\u001b[0m\n\u001b[0m\u001b[0;32m    269\u001b[0m         \u001b[1;32mif\u001b[0m \u001b[0mlen\u001b[0m\u001b[1;33m(\u001b[0m\u001b[0mline\u001b[0m\u001b[1;33m)\u001b[0m \u001b[1;33m>\u001b[0m \u001b[0m_MAXLINE\u001b[0m\u001b[1;33m:\u001b[0m\u001b[1;33m\u001b[0m\u001b[1;33m\u001b[0m\u001b[0m\n\u001b[0;32m    270\u001b[0m             \u001b[1;32mraise\u001b[0m \u001b[0mLineTooLong\u001b[0m\u001b[1;33m(\u001b[0m\u001b[1;34m\"status line\"\u001b[0m\u001b[1;33m)\u001b[0m\u001b[1;33m\u001b[0m\u001b[1;33m\u001b[0m\u001b[0m\n",
      "\u001b[1;32m~\\Anaconda3\\lib\\socket.py\u001b[0m in \u001b[0;36mreadinto\u001b[1;34m(self, b)\u001b[0m\n\u001b[0;32m    667\u001b[0m         \u001b[1;32mwhile\u001b[0m \u001b[1;32mTrue\u001b[0m\u001b[1;33m:\u001b[0m\u001b[1;33m\u001b[0m\u001b[1;33m\u001b[0m\u001b[0m\n\u001b[0;32m    668\u001b[0m             \u001b[1;32mtry\u001b[0m\u001b[1;33m:\u001b[0m\u001b[1;33m\u001b[0m\u001b[1;33m\u001b[0m\u001b[0m\n\u001b[1;32m--> 669\u001b[1;33m                 \u001b[1;32mreturn\u001b[0m \u001b[0mself\u001b[0m\u001b[1;33m.\u001b[0m\u001b[0m_sock\u001b[0m\u001b[1;33m.\u001b[0m\u001b[0mrecv_into\u001b[0m\u001b[1;33m(\u001b[0m\u001b[0mb\u001b[0m\u001b[1;33m)\u001b[0m\u001b[1;33m\u001b[0m\u001b[1;33m\u001b[0m\u001b[0m\n\u001b[0m\u001b[0;32m    670\u001b[0m             \u001b[1;32mexcept\u001b[0m \u001b[0mtimeout\u001b[0m\u001b[1;33m:\u001b[0m\u001b[1;33m\u001b[0m\u001b[1;33m\u001b[0m\u001b[0m\n\u001b[0;32m    671\u001b[0m                 \u001b[0mself\u001b[0m\u001b[1;33m.\u001b[0m\u001b[0m_timeout_occurred\u001b[0m \u001b[1;33m=\u001b[0m \u001b[1;32mTrue\u001b[0m\u001b[1;33m\u001b[0m\u001b[1;33m\u001b[0m\u001b[0m\n",
      "\u001b[1;32m~\\Anaconda3\\lib\\ssl.py\u001b[0m in \u001b[0;36mrecv_into\u001b[1;34m(self, buffer, nbytes, flags)\u001b[0m\n\u001b[0;32m   1239\u001b[0m                   \u001b[1;34m\"non-zero flags not allowed in calls to recv_into() on %s\"\u001b[0m \u001b[1;33m%\u001b[0m\u001b[1;33m\u001b[0m\u001b[1;33m\u001b[0m\u001b[0m\n\u001b[0;32m   1240\u001b[0m                   self.__class__)\n\u001b[1;32m-> 1241\u001b[1;33m             \u001b[1;32mreturn\u001b[0m \u001b[0mself\u001b[0m\u001b[1;33m.\u001b[0m\u001b[0mread\u001b[0m\u001b[1;33m(\u001b[0m\u001b[0mnbytes\u001b[0m\u001b[1;33m,\u001b[0m \u001b[0mbuffer\u001b[0m\u001b[1;33m)\u001b[0m\u001b[1;33m\u001b[0m\u001b[1;33m\u001b[0m\u001b[0m\n\u001b[0m\u001b[0;32m   1242\u001b[0m         \u001b[1;32melse\u001b[0m\u001b[1;33m:\u001b[0m\u001b[1;33m\u001b[0m\u001b[1;33m\u001b[0m\u001b[0m\n\u001b[0;32m   1243\u001b[0m             \u001b[1;32mreturn\u001b[0m \u001b[0msuper\u001b[0m\u001b[1;33m(\u001b[0m\u001b[1;33m)\u001b[0m\u001b[1;33m.\u001b[0m\u001b[0mrecv_into\u001b[0m\u001b[1;33m(\u001b[0m\u001b[0mbuffer\u001b[0m\u001b[1;33m,\u001b[0m \u001b[0mnbytes\u001b[0m\u001b[1;33m,\u001b[0m \u001b[0mflags\u001b[0m\u001b[1;33m)\u001b[0m\u001b[1;33m\u001b[0m\u001b[1;33m\u001b[0m\u001b[0m\n",
      "\u001b[1;32m~\\Anaconda3\\lib\\ssl.py\u001b[0m in \u001b[0;36mread\u001b[1;34m(self, len, buffer)\u001b[0m\n\u001b[0;32m   1097\u001b[0m         \u001b[1;32mtry\u001b[0m\u001b[1;33m:\u001b[0m\u001b[1;33m\u001b[0m\u001b[1;33m\u001b[0m\u001b[0m\n\u001b[0;32m   1098\u001b[0m             \u001b[1;32mif\u001b[0m \u001b[0mbuffer\u001b[0m \u001b[1;32mis\u001b[0m \u001b[1;32mnot\u001b[0m \u001b[1;32mNone\u001b[0m\u001b[1;33m:\u001b[0m\u001b[1;33m\u001b[0m\u001b[1;33m\u001b[0m\u001b[0m\n\u001b[1;32m-> 1099\u001b[1;33m                 \u001b[1;32mreturn\u001b[0m \u001b[0mself\u001b[0m\u001b[1;33m.\u001b[0m\u001b[0m_sslobj\u001b[0m\u001b[1;33m.\u001b[0m\u001b[0mread\u001b[0m\u001b[1;33m(\u001b[0m\u001b[0mlen\u001b[0m\u001b[1;33m,\u001b[0m \u001b[0mbuffer\u001b[0m\u001b[1;33m)\u001b[0m\u001b[1;33m\u001b[0m\u001b[1;33m\u001b[0m\u001b[0m\n\u001b[0m\u001b[0;32m   1100\u001b[0m             \u001b[1;32melse\u001b[0m\u001b[1;33m:\u001b[0m\u001b[1;33m\u001b[0m\u001b[1;33m\u001b[0m\u001b[0m\n\u001b[0;32m   1101\u001b[0m                 \u001b[1;32mreturn\u001b[0m \u001b[0mself\u001b[0m\u001b[1;33m.\u001b[0m\u001b[0m_sslobj\u001b[0m\u001b[1;33m.\u001b[0m\u001b[0mread\u001b[0m\u001b[1;33m(\u001b[0m\u001b[0mlen\u001b[0m\u001b[1;33m)\u001b[0m\u001b[1;33m\u001b[0m\u001b[1;33m\u001b[0m\u001b[0m\n",
      "\u001b[1;31mKeyboardInterrupt\u001b[0m: "
     ]
    }
   ],
   "source": [
    "while not url.endswith('#'):\n",
    "    print('Downloading page %s...' % url)\n",
    "    res = requests.get(url)\n",
    "    res.raise_for_status()\n",
    "    \n",
    "    soup = bs4.BeautifulSoup(res.text)\n",
    "    \n",
    "    # Find the URL of the comic image.\n",
    "    comicElem = soup.select('#comic img')\n",
    "    if comicElem == []:\n",
    "        print('Could not find comic image.')\n",
    "    else:\n",
    "        comicUrl = 'https:' + comicElem[0].get('src') # image src copy\n",
    "    # Download the image.\n",
    "    print('Downloading image %s...' % (comicUrl))\n",
    "    res = requests.get(comicUrl)\n",
    "    print(comicUrl)\n",
    "    res.raise_for_status()\n",
    "    \n",
    "    # Save the image to ./xkcd.\n",
    "    imageFile = open(os.path.join('out/xkcd', os.path.basename(comicUrl)), 'wb')\n",
    "    for chunk in res.iter_content(100000):\n",
    "        imageFile.write(chunk)\n",
    "    imageFile.close()\n",
    "    \n",
    "    # Get the Prev button's url.\n",
    "    prevLink = soup.select('a[rel=\"prev\"]')[0]\n",
    "    url = 'http://xkcd.com' + prevLink.get('href')\n",
    "\n",
    "print('Done..')"
   ]
  },
  {
   "cell_type": "code",
   "execution_count": 14,
   "metadata": {},
   "outputs": [
    {
     "data": {
      "text/plain": [
       "[<div class=\"ml-2 collapse show\" id=\"mutation-table\" style=\"\"><div class=\"row\"><div class=\"col\"><div class=\"d-flex flex-column w-100 align-items-center mt-3\" data-v-bd778be6=\"\"><h5 data-v-bd778be6=\"\">Characteristic mutations of B.1.617.2</h5><table data-v-bd778be6=\"\"><thead data-v-bd778be6=\"\"><tr class=\"border-bottom\" data-v-bd778be6=\"\"><th data-v-bd778be6=\"\"> gene </th><th data-v-bd778be6=\"\"> amino acid </th></tr></thead><tbody class=\"checkbook border-bottom\" data-v-bd778be6=\"\"><tr data-v-bd778be6=\"\"><td data-v-bd778be6=\"\"> ORF1a </td><td data-v-bd778be6=\"\"> A1306S </td></tr><tr data-v-bd778be6=\"\"><td data-v-bd778be6=\"\"> ORF1a </td><td data-v-bd778be6=\"\"> P2287S </td></tr><tr data-v-bd778be6=\"\"><td data-v-bd778be6=\"\"> ORF1a </td><td data-v-bd778be6=\"\"> V2930L </td></tr><tr data-v-bd778be6=\"\"><td data-v-bd778be6=\"\"> ORF1a </td><td data-v-bd778be6=\"\"> T3255I </td></tr><tr data-v-bd778be6=\"\"><td data-v-bd778be6=\"\"> ORF1a </td><td data-v-bd778be6=\"\"> T3646A </td></tr><tr data-v-bd778be6=\"\"><td data-v-bd778be6=\"\"> ORF1b </td><td data-v-bd778be6=\"\"> P314L </td></tr><tr data-v-bd778be6=\"\"><td data-v-bd778be6=\"\"> ORF1b </td><td data-v-bd778be6=\"\"> G662S </td></tr><tr data-v-bd778be6=\"\"><td data-v-bd778be6=\"\"> ORF1b </td><td data-v-bd778be6=\"\"> P1000L </td></tr><tr data-v-bd778be6=\"\"><td data-v-bd778be6=\"\"> ORF1b </td><td data-v-bd778be6=\"\"> A1918V </td></tr><tr data-v-bd778be6=\"\"><td data-v-bd778be6=\"\"> S </td><td data-v-bd778be6=\"\"> T19R </td></tr><tr data-v-bd778be6=\"\"><td data-v-bd778be6=\"\"> S </td><td data-v-bd778be6=\"\"> G142D </td></tr><tr data-v-bd778be6=\"\"><td data-v-bd778be6=\"\"> S </td><td data-v-bd778be6=\"\"> E156G </td></tr><tr data-v-bd778be6=\"\"><td data-v-bd778be6=\"\"> S </td><td data-v-bd778be6=\"\"> del157/158 </td></tr><tr data-v-bd778be6=\"\"><td data-v-bd778be6=\"\"> S </td><td data-v-bd778be6=\"\"> L452R </td></tr><tr data-v-bd778be6=\"\"><td data-v-bd778be6=\"\"> S </td><td data-v-bd778be6=\"\"> T478K </td></tr><tr data-v-bd778be6=\"\"><td data-v-bd778be6=\"\"> S </td><td data-v-bd778be6=\"\"> D614G </td></tr><tr data-v-bd778be6=\"\"><td data-v-bd778be6=\"\"> S </td><td data-v-bd778be6=\"\"> P681R </td></tr><tr data-v-bd778be6=\"\"><td data-v-bd778be6=\"\"> S </td><td data-v-bd778be6=\"\"> D950N </td></tr><tr data-v-bd778be6=\"\"><td data-v-bd778be6=\"\"> ORF3a </td><td data-v-bd778be6=\"\"> S26L </td></tr><tr data-v-bd778be6=\"\"><td data-v-bd778be6=\"\"> M </td><td data-v-bd778be6=\"\"> I82T </td></tr><tr data-v-bd778be6=\"\"><td data-v-bd778be6=\"\"> ORF7a </td><td data-v-bd778be6=\"\"> V82A </td></tr><tr data-v-bd778be6=\"\"><td data-v-bd778be6=\"\"> ORF7a </td><td data-v-bd778be6=\"\"> T120I </td></tr><tr data-v-bd778be6=\"\"><td data-v-bd778be6=\"\"> ORF7b </td><td data-v-bd778be6=\"\"> T40I </td></tr><tr data-v-bd778be6=\"\"><td data-v-bd778be6=\"\"> ORF8 </td><td data-v-bd778be6=\"\"> S84L </td></tr><tr data-v-bd778be6=\"\"><td data-v-bd778be6=\"\"> ORF8 </td><td data-v-bd778be6=\"\"> del119/120 </td></tr><tr data-v-bd778be6=\"\"><td data-v-bd778be6=\"\"> N </td><td data-v-bd778be6=\"\"> D63G </td></tr><tr data-v-bd778be6=\"\"><td data-v-bd778be6=\"\"> N </td><td data-v-bd778be6=\"\"> R203M </td></tr><tr data-v-bd778be6=\"\"><td data-v-bd778be6=\"\"> N </td><td data-v-bd778be6=\"\"> G215C </td></tr><tr data-v-bd778be6=\"\"><td data-v-bd778be6=\"\"> N </td><td data-v-bd778be6=\"\"> D377Y </td></tr></tbody></table></div></div><!-- --></div></div>]"
      ]
     },
     "execution_count": 14,
     "metadata": {},
     "output_type": "execute_result"
    }
   ],
   "source": [
    "outbreak = open('data\\outbreak.info.html') # file object\n",
    "Soup = bs4.BeautifulSoup(outbreak.read()) # bs object\n",
    "table = Soup.select('#mutation-table')\n",
    "table"
   ]
  },
  {
   "cell_type": "code",
   "execution_count": 22,
   "metadata": {},
   "outputs": [
    {
     "data": {
      "text/plain": [
       "'[<div class=\"ml-2 collapse show\" id=\"mutation-table\" style=\"\"><div class=\"row\"><div class=\"col\"><div class=\"d-flex flex-column w-100 align-items-center mt-3\" data-v-bd778be6=\"\"><h5 data-v-bd778be6=\"\">Characteristic mutations of B.1.617.2</h5><table data-v-bd778be6=\"\"><thead data-v-bd778be6=\"\"><tr class=\"border-bottom\" data-v-bd778be6=\"\"><th data-v-bd778be6=\"\"> gene </th><th data-v-bd778be6=\"\"> amino acid </th></tr></thead><tbody class=\"checkbook border-bottom\" data-v-bd778be6=\"\"><tr data-v-bd778be6=\"\"><td data-v-bd778be6=\"\"> ORF1a </td><td data-v-bd778be6=\"\"> A1306S </td></tr><tr data-v-bd778be6=\"\"><td data-v-bd778be6=\"\"> ORF1a </td><td data-v-bd778be6=\"\"> P2287S </td></tr><tr data-v-bd778be6=\"\"><td data-v-bd778be6=\"\"> ORF1a </td><td data-v-bd778be6=\"\"> V2930L </td></tr><tr data-v-bd778be6=\"\"><td data-v-bd778be6=\"\"> ORF1a </td><td data-v-bd778be6=\"\"> T3255I </td></tr><tr data-v-bd778be6=\"\"><td data-v-bd778be6=\"\"> ORF1a </td><td data-v-bd778be6=\"\"> T3646A </td></tr><tr data-v-bd778be6=\"\"><td data-v-bd778be6=\"\"> ORF1b </td><td data-v-bd778be6=\"\"> P314L </td></tr><tr data-v-bd778be6=\"\"><td data-v-bd778be6=\"\"> ORF1b </td><td data-v-bd778be6=\"\"> G662S </td></tr><tr data-v-bd778be6=\"\"><td data-v-bd778be6=\"\"> ORF1b </td><td data-v-bd778be6=\"\"> P1000L </td></tr><tr data-v-bd778be6=\"\"><td data-v-bd778be6=\"\"> ORF1b </td><td data-v-bd778be6=\"\"> A1918V </td></tr><tr data-v-bd778be6=\"\"><td data-v-bd778be6=\"\"> S </td><td data-v-bd778be6=\"\"> T19R </td></tr><tr data-v-bd778be6=\"\"><td data-v-bd778be6=\"\"> S </td><td data-v-bd778be6=\"\"> G142D </td></tr><tr data-v-bd778be6=\"\"><td data-v-bd778be6=\"\"> S </td><td data-v-bd778be6=\"\"> E156G </td></tr><tr data-v-bd778be6=\"\"><td data-v-bd778be6=\"\"> S </td><td data-v-bd778be6=\"\"> del157/158 </td></tr><tr data-v-bd778be6=\"\"><td data-v-bd778be6=\"\"> S </td><td data-v-bd778be6=\"\"> L452R </td></tr><tr data-v-bd778be6=\"\"><td data-v-bd778be6=\"\"> S </td><td data-v-bd778be6=\"\"> T478K </td></tr><tr data-v-bd778be6=\"\"><td data-v-bd778be6=\"\"> S </td><td data-v-bd778be6=\"\"> D614G </td></tr><tr data-v-bd778be6=\"\"><td data-v-bd778be6=\"\"> S </td><td data-v-bd778be6=\"\"> P681R </td></tr><tr data-v-bd778be6=\"\"><td data-v-bd778be6=\"\"> S </td><td data-v-bd778be6=\"\"> D950N </td></tr><tr data-v-bd778be6=\"\"><td data-v-bd778be6=\"\"> ORF3a </td><td data-v-bd778be6=\"\"> S26L </td></tr><tr data-v-bd778be6=\"\"><td data-v-bd778be6=\"\"> M </td><td data-v-bd778be6=\"\"> I82T </td></tr><tr data-v-bd778be6=\"\"><td data-v-bd778be6=\"\"> ORF7a </td><td data-v-bd778be6=\"\"> V82A </td></tr><tr data-v-bd778be6=\"\"><td data-v-bd778be6=\"\"> ORF7a </td><td data-v-bd778be6=\"\"> T120I </td></tr><tr data-v-bd778be6=\"\"><td data-v-bd778be6=\"\"> ORF7b </td><td data-v-bd778be6=\"\"> T40I </td></tr><tr data-v-bd778be6=\"\"><td data-v-bd778be6=\"\"> ORF8 </td><td data-v-bd778be6=\"\"> S84L </td></tr><tr data-v-bd778be6=\"\"><td data-v-bd778be6=\"\"> ORF8 </td><td data-v-bd778be6=\"\"> del119/120 </td></tr><tr data-v-bd778be6=\"\"><td data-v-bd778be6=\"\"> N </td><td data-v-bd778be6=\"\"> D63G </td></tr><tr data-v-bd778be6=\"\"><td data-v-bd778be6=\"\"> N </td><td data-v-bd778be6=\"\"> R203M </td></tr><tr data-v-bd778be6=\"\"><td data-v-bd778be6=\"\"> N </td><td data-v-bd778be6=\"\"> G215C </td></tr><tr data-v-bd778be6=\"\"><td data-v-bd778be6=\"\"> N </td><td data-v-bd778be6=\"\"> D377Y </td></tr></tbody></table></div></div><!-- --></div></div>]'"
      ]
     },
     "execution_count": 22,
     "metadata": {},
     "output_type": "execute_result"
    }
   ],
   "source": [
    "str(table)"
   ]
  },
  {
   "cell_type": "code",
   "execution_count": 1,
   "metadata": {},
   "outputs": [],
   "source": [
    "import numpy as np\n",
    "import pandas as pd"
   ]
  },
  {
   "cell_type": "code",
   "execution_count": 27,
   "metadata": {},
   "outputs": [
    {
     "data": {
      "text/html": [
       "<div>\n",
       "<style scoped>\n",
       "    .dataframe tbody tr th:only-of-type {\n",
       "        vertical-align: middle;\n",
       "    }\n",
       "\n",
       "    .dataframe tbody tr th {\n",
       "        vertical-align: top;\n",
       "    }\n",
       "\n",
       "    .dataframe thead th {\n",
       "        text-align: right;\n",
       "    }\n",
       "</style>\n",
       "<table border=\"1\" class=\"dataframe\">\n",
       "  <thead>\n",
       "    <tr style=\"text-align: right;\">\n",
       "      <th></th>\n",
       "      <th>gene</th>\n",
       "      <th>amino acid</th>\n",
       "    </tr>\n",
       "  </thead>\n",
       "  <tbody>\n",
       "    <tr>\n",
       "      <th>0</th>\n",
       "      <td>ORF1a</td>\n",
       "      <td>A1306S</td>\n",
       "    </tr>\n",
       "    <tr>\n",
       "      <th>1</th>\n",
       "      <td>ORF1a</td>\n",
       "      <td>P2287S</td>\n",
       "    </tr>\n",
       "    <tr>\n",
       "      <th>2</th>\n",
       "      <td>ORF1a</td>\n",
       "      <td>V2930L</td>\n",
       "    </tr>\n",
       "    <tr>\n",
       "      <th>3</th>\n",
       "      <td>ORF1a</td>\n",
       "      <td>T3255I</td>\n",
       "    </tr>\n",
       "    <tr>\n",
       "      <th>4</th>\n",
       "      <td>ORF1a</td>\n",
       "      <td>T3646A</td>\n",
       "    </tr>\n",
       "    <tr>\n",
       "      <th>5</th>\n",
       "      <td>ORF1b</td>\n",
       "      <td>P314L</td>\n",
       "    </tr>\n",
       "    <tr>\n",
       "      <th>6</th>\n",
       "      <td>ORF1b</td>\n",
       "      <td>G662S</td>\n",
       "    </tr>\n",
       "    <tr>\n",
       "      <th>7</th>\n",
       "      <td>ORF1b</td>\n",
       "      <td>P1000L</td>\n",
       "    </tr>\n",
       "    <tr>\n",
       "      <th>8</th>\n",
       "      <td>ORF1b</td>\n",
       "      <td>A1918V</td>\n",
       "    </tr>\n",
       "    <tr>\n",
       "      <th>9</th>\n",
       "      <td>S</td>\n",
       "      <td>T19R</td>\n",
       "    </tr>\n",
       "    <tr>\n",
       "      <th>10</th>\n",
       "      <td>S</td>\n",
       "      <td>G142D</td>\n",
       "    </tr>\n",
       "    <tr>\n",
       "      <th>11</th>\n",
       "      <td>S</td>\n",
       "      <td>E156G</td>\n",
       "    </tr>\n",
       "    <tr>\n",
       "      <th>12</th>\n",
       "      <td>S</td>\n",
       "      <td>del157/158</td>\n",
       "    </tr>\n",
       "    <tr>\n",
       "      <th>13</th>\n",
       "      <td>S</td>\n",
       "      <td>L452R</td>\n",
       "    </tr>\n",
       "    <tr>\n",
       "      <th>14</th>\n",
       "      <td>S</td>\n",
       "      <td>T478K</td>\n",
       "    </tr>\n",
       "    <tr>\n",
       "      <th>15</th>\n",
       "      <td>S</td>\n",
       "      <td>D614G</td>\n",
       "    </tr>\n",
       "    <tr>\n",
       "      <th>16</th>\n",
       "      <td>S</td>\n",
       "      <td>P681R</td>\n",
       "    </tr>\n",
       "    <tr>\n",
       "      <th>17</th>\n",
       "      <td>S</td>\n",
       "      <td>D950N</td>\n",
       "    </tr>\n",
       "    <tr>\n",
       "      <th>18</th>\n",
       "      <td>ORF3a</td>\n",
       "      <td>S26L</td>\n",
       "    </tr>\n",
       "    <tr>\n",
       "      <th>19</th>\n",
       "      <td>M</td>\n",
       "      <td>I82T</td>\n",
       "    </tr>\n",
       "    <tr>\n",
       "      <th>20</th>\n",
       "      <td>ORF7a</td>\n",
       "      <td>V82A</td>\n",
       "    </tr>\n",
       "    <tr>\n",
       "      <th>21</th>\n",
       "      <td>ORF7a</td>\n",
       "      <td>T120I</td>\n",
       "    </tr>\n",
       "    <tr>\n",
       "      <th>22</th>\n",
       "      <td>ORF7b</td>\n",
       "      <td>T40I</td>\n",
       "    </tr>\n",
       "    <tr>\n",
       "      <th>23</th>\n",
       "      <td>ORF8</td>\n",
       "      <td>S84L</td>\n",
       "    </tr>\n",
       "    <tr>\n",
       "      <th>24</th>\n",
       "      <td>ORF8</td>\n",
       "      <td>del119/120</td>\n",
       "    </tr>\n",
       "    <tr>\n",
       "      <th>25</th>\n",
       "      <td>N</td>\n",
       "      <td>D63G</td>\n",
       "    </tr>\n",
       "    <tr>\n",
       "      <th>26</th>\n",
       "      <td>N</td>\n",
       "      <td>R203M</td>\n",
       "    </tr>\n",
       "    <tr>\n",
       "      <th>27</th>\n",
       "      <td>N</td>\n",
       "      <td>G215C</td>\n",
       "    </tr>\n",
       "    <tr>\n",
       "      <th>28</th>\n",
       "      <td>N</td>\n",
       "      <td>D377Y</td>\n",
       "    </tr>\n",
       "  </tbody>\n",
       "</table>\n",
       "</div>"
      ],
      "text/plain": [
       "     gene  amino acid\n",
       "0   ORF1a      A1306S\n",
       "1   ORF1a      P2287S\n",
       "2   ORF1a      V2930L\n",
       "3   ORF1a      T3255I\n",
       "4   ORF1a      T3646A\n",
       "5   ORF1b       P314L\n",
       "6   ORF1b       G662S\n",
       "7   ORF1b      P1000L\n",
       "8   ORF1b      A1918V\n",
       "9       S        T19R\n",
       "10      S       G142D\n",
       "11      S       E156G\n",
       "12      S  del157/158\n",
       "13      S       L452R\n",
       "14      S       T478K\n",
       "15      S       D614G\n",
       "16      S       P681R\n",
       "17      S       D950N\n",
       "18  ORF3a        S26L\n",
       "19      M        I82T\n",
       "20  ORF7a        V82A\n",
       "21  ORF7a       T120I\n",
       "22  ORF7b        T40I\n",
       "23   ORF8        S84L\n",
       "24   ORF8  del119/120\n",
       "25      N        D63G\n",
       "26      N       R203M\n",
       "27      N       G215C\n",
       "28      N       D377Y"
      ]
     },
     "execution_count": 27,
     "metadata": {},
     "output_type": "execute_result"
    }
   ],
   "source": [
    "pd.read_html(str(table))[0]."
   ]
  },
  {
   "cell_type": "code",
   "execution_count": null,
   "metadata": {},
   "outputs": [],
   "source": []
  }
 ],
 "metadata": {
  "interpreter": {
   "hash": "7dae6437c12b1d87f00e0e10a4bd22be66a3b8ec05fb1161d95372f28c39fa9e"
  },
  "kernelspec": {
   "display_name": "Python 3.8.8 64-bit ('base': conda)",
   "language": "python",
   "name": "python3"
  },
  "language_info": {
   "codemirror_mode": {
    "name": "ipython",
    "version": 3
   },
   "file_extension": ".py",
   "mimetype": "text/x-python",
   "name": "python",
   "nbconvert_exporter": "python",
   "pygments_lexer": "ipython3",
   "version": "3.9.7"
  },
  "orig_nbformat": 4
 },
 "nbformat": 4,
 "nbformat_minor": 2
}
