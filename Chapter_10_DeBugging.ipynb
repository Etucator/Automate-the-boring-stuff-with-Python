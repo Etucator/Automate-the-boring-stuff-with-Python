{
  "nbformat": 4,
  "nbformat_minor": 0,
  "metadata": {
    "colab": {
      "name": "Chapter 10 - DeBugging.ipynb",
      "provenance": []
    },
    "kernelspec": {
      "name": "python3",
      "display_name": "Python 3"
    },
    "language_info": {
      "name": "python"
    }
  },
  "cells": [
    {
      "cell_type": "markdown",
      "metadata": {
        "id": "fKHNLc_tloij"
      },
      "source": [
        "# Chapter 10: DeBugging\n",
        "\n",
        "\n",
        "Now that you know enough to write more complicated programs, you may start finding not-so-simple bugs in them. This chapter covers some tools and techniques for finding the root cause of bugs in your program to help you fix bugs faster and with less effort.\n",
        "\n",
        "To paraphrase an old joke among programmers, `Writing code accounts for 90 percent of programming. Debugging code accounts for the other 90 percent.`\n",
        "\n",
        "\n",
        "Your computer will do only what you tell it to do; it won’t read your mind and do what you intended it to do. Even professional programmers create bugs all the time, so don’t feel discouraged if your program has a problem.\n",
        "\n",
        "Fortunately, there are a few tools and techniques to identify what exactly your code is doing and where it’s going wrong. First, you will look at logging and assertions, two features that can help you detect bugs early. In general, the earlier you catch bugs, the easier they will be to fix.\n",
        "\n",
        "Second, you will look at how to use the debugger. The debugger is a feature of IDLE that executes a program one instruction at a time, giving you a chance to inspect the values in variables while your code runs, and track how the values change over the course of your program. This is much slower than running the program at full speed, but it is helpful to see the actual values in a program while it runs, rather than deducing what the values might be from the source code."
      ]
    },
    {
      "cell_type": "markdown",
      "metadata": {
        "id": "775AS9I4mtKw"
      },
      "source": [
        "## Raising Exceptions\n",
        "Python raises an exception whenever it tries to execute invalid code. In\n",
        "Chapter 3, you read about how to handle Python’s exceptions with try and\n",
        "except statements so that your program can recover from exceptions that\n",
        "you anticipated. But you can also raise your own exceptions in your code.\n",
        "Raising an exception is a way of saying, “Stop running the code in this function and move the program execution to the except statement.”\n",
        "Exceptions are raised with a raise statement. In code, a raise statement\n",
        "consists of the following:\n",
        "-\t The raise keyword\n",
        "-\t A call to the Exception() function\n",
        "-\t A string with a helpful error message passed to the `Exception()` function\n",
        "\n",
        "For example, enter the following into the interactive shell:"
      ]
    },
    {
      "cell_type": "code",
      "metadata": {
        "colab": {
          "base_uri": "https://localhost:8080/",
          "height": 0
        },
        "id": "CajgYjX8mswt",
        "outputId": "fadd77d6-a094-4a4d-b62d-2ac9c5d61381"
      },
      "source": [
        "raise Exception('This is the error message.')"
      ],
      "execution_count": 1,
      "outputs": [
        {
          "output_type": "error",
          "ename": "Exception",
          "evalue": "ignored",
          "traceback": [
            "\u001b[0;31m---------------------------------------------------------------------------\u001b[0m",
            "\u001b[0;31mException\u001b[0m                                 Traceback (most recent call last)",
            "\u001b[0;32m<ipython-input-1-4d63d15f2d65>\u001b[0m in \u001b[0;36m<module>\u001b[0;34m()\u001b[0m\n\u001b[0;32m----> 1\u001b[0;31m \u001b[0;32mraise\u001b[0m \u001b[0mException\u001b[0m\u001b[0;34m(\u001b[0m\u001b[0;34m'This is the error message.'\u001b[0m\u001b[0;34m)\u001b[0m\u001b[0;34m\u001b[0m\u001b[0;34m\u001b[0m\u001b[0m\n\u001b[0m",
            "\u001b[0;31mException\u001b[0m: This is the error message."
          ]
        }
      ]
    },
    {
      "cell_type": "markdown",
      "metadata": {
        "id": "NS60BngwnJZX"
      },
      "source": [
        "If there are no try and except statements covering the raise statement that raised the exception, the program simply crashes and displays the exception’s error message.\n",
        "\n",
        "Often it’s the code that calls the function, not the fuction itself, that knows how to handle an expection. So you will commonly see a raise statement inside a function and the try and except statements in the code calling the function. For example, open a new file editor window, enter the following code, and save the program as `boxPrint.py`:"
      ]
    },
    {
      "cell_type": "markdown",
      "metadata": {
        "id": "4q0HbQJToUH1"
      },
      "source": [
        "---\n",
        "Here we’ve defined a `boxPrint()` function that takes a character, a width,\n",
        "and a height, and uses the character to make a little picture of a box with\n",
        "that width and height. This box shape is printed to the console.\n",
        "\n",
        "Say we want the character to be a single character, and the width and\n",
        "height to be greater than 2. We add if statements to raise exceptions if\n",
        "these requirements aren’t satisfied. Later, when we call `boxPrint()` with various arguments, our try/except will handle invalid arguments.\n",
        "\n",
        "This program uses the except Exception as err form of the except statement x. If an Exception object is returned from `boxPrint()` uvw, this\n",
        "except statement will store it in a variable named err. The Exception object\n",
        "can then be converted to a string by passing it to `str()` to produce a userfriendly error message y. When you run this boxPrint.py, he output will\n",
        "look like this:\n",
        "\n",
        "---"
      ]
    },
    {
      "cell_type": "code",
      "metadata": {
        "colab": {
          "base_uri": "https://localhost:8080/"
        },
        "id": "qQ_ARr5JmsEh",
        "outputId": "0788ac06-0fe3-4f14-b1fe-0a7f55a571e6"
      },
      "source": [
        "def boxPrint(symbol, width, height):\n",
        "  if len(symbol) != 1:\n",
        "    raise Exception('Symbol must be a single character string.')\n",
        "  if width <= 2:\n",
        "    raise Exception('Width must be greater than 2.')\n",
        "  if height <= 2:\n",
        "    raise Exception('Height must be greater than 2.')\n",
        "  print(symbol * width)\n",
        "  for i in range(height - 2):\n",
        "    print(symbol + (' ' * (width - 2)) + symbol)\n",
        "  print(symbol * width)\n",
        "\n",
        "for sym, w, h in (('*', 4, 4), ('O', 20, 5), ('x', 1, 3), ('ZZ', 3, 3)):\n",
        "  try:\n",
        "    boxPrint(sym, w, h)\n",
        "  except Exception as err:\n",
        "    print('An exception happened: ' + str(err))"
      ],
      "execution_count": 2,
      "outputs": [
        {
          "output_type": "stream",
          "name": "stdout",
          "text": [
            "****\n",
            "*  *\n",
            "*  *\n",
            "****\n",
            "OOOOOOOOOOOOOOOOOOOO\n",
            "O                  O\n",
            "O                  O\n",
            "O                  O\n",
            "OOOOOOOOOOOOOOOOOOOO\n",
            "An exception happened: Width must be greater than 2.\n",
            "An exception happened: Symbol must be a single character string.\n"
          ]
        }
      ]
    },
    {
      "cell_type": "markdown",
      "metadata": {
        "id": "CUr5Sy8Jo32k"
      },
      "source": [
        "Using the try and except statements, you can handle errors more gracefully instead of letting the entire program crash."
      ]
    },
    {
      "cell_type": "markdown",
      "metadata": {
        "id": "XhkOHo5Go7Iv"
      },
      "source": [
        "## Getting the traceback as a String:\n",
        "When Python encounters an error, it produces a treasure trove of error\n",
        "information called the traceback. The traceback includes the error message,\n",
        "the line number of the line that caused the error, and the sequence of the\n",
        "function calls that led to the error. This sequence of calls is called the call stack.\n",
        "\n",
        "Open a new file editor window in IDLE, enter the following program,\n",
        "and save it as `errorExample.py`:"
      ]
    },
    {
      "cell_type": "code",
      "metadata": {
        "colab": {
          "base_uri": "https://localhost:8080/",
          "height": 0
        },
        "id": "fHLEgT69o3nr",
        "outputId": "c7b4a23d-4989-40f1-972b-f27aea0c88c8"
      },
      "source": [
        "def spam():\n",
        "  bacon()\n",
        "\n",
        "def bacon():\n",
        "  raise Exception('This is the error message.')\n",
        "\n",
        "spam()"
      ],
      "execution_count": 3,
      "outputs": [
        {
          "output_type": "error",
          "ename": "Exception",
          "evalue": "ignored",
          "traceback": [
            "\u001b[0;31m---------------------------------------------------------------------------\u001b[0m",
            "\u001b[0;31mException\u001b[0m                                 Traceback (most recent call last)",
            "\u001b[0;32m<ipython-input-3-e85593d9fc61>\u001b[0m in \u001b[0;36m<module>\u001b[0;34m()\u001b[0m\n\u001b[1;32m      5\u001b[0m   \u001b[0;32mraise\u001b[0m \u001b[0mException\u001b[0m\u001b[0;34m(\u001b[0m\u001b[0;34m'This is the error message.'\u001b[0m\u001b[0;34m)\u001b[0m\u001b[0;34m\u001b[0m\u001b[0;34m\u001b[0m\u001b[0m\n\u001b[1;32m      6\u001b[0m \u001b[0;34m\u001b[0m\u001b[0m\n\u001b[0;32m----> 7\u001b[0;31m \u001b[0mspam\u001b[0m\u001b[0;34m(\u001b[0m\u001b[0;34m)\u001b[0m\u001b[0;34m\u001b[0m\u001b[0;34m\u001b[0m\u001b[0m\n\u001b[0m",
            "\u001b[0;32m<ipython-input-3-e85593d9fc61>\u001b[0m in \u001b[0;36mspam\u001b[0;34m()\u001b[0m\n\u001b[1;32m      1\u001b[0m \u001b[0;32mdef\u001b[0m \u001b[0mspam\u001b[0m\u001b[0;34m(\u001b[0m\u001b[0;34m)\u001b[0m\u001b[0;34m:\u001b[0m\u001b[0;34m\u001b[0m\u001b[0;34m\u001b[0m\u001b[0m\n\u001b[0;32m----> 2\u001b[0;31m   \u001b[0mbacon\u001b[0m\u001b[0;34m(\u001b[0m\u001b[0;34m)\u001b[0m\u001b[0;34m\u001b[0m\u001b[0;34m\u001b[0m\u001b[0m\n\u001b[0m\u001b[1;32m      3\u001b[0m \u001b[0;34m\u001b[0m\u001b[0m\n\u001b[1;32m      4\u001b[0m \u001b[0;32mdef\u001b[0m \u001b[0mbacon\u001b[0m\u001b[0;34m(\u001b[0m\u001b[0;34m)\u001b[0m\u001b[0;34m:\u001b[0m\u001b[0;34m\u001b[0m\u001b[0;34m\u001b[0m\u001b[0m\n\u001b[1;32m      5\u001b[0m   \u001b[0;32mraise\u001b[0m \u001b[0mException\u001b[0m\u001b[0;34m(\u001b[0m\u001b[0;34m'This is the error message.'\u001b[0m\u001b[0;34m)\u001b[0m\u001b[0;34m\u001b[0m\u001b[0;34m\u001b[0m\u001b[0m\n",
            "\u001b[0;32m<ipython-input-3-e85593d9fc61>\u001b[0m in \u001b[0;36mbacon\u001b[0;34m()\u001b[0m\n\u001b[1;32m      3\u001b[0m \u001b[0;34m\u001b[0m\u001b[0m\n\u001b[1;32m      4\u001b[0m \u001b[0;32mdef\u001b[0m \u001b[0mbacon\u001b[0m\u001b[0;34m(\u001b[0m\u001b[0;34m)\u001b[0m\u001b[0;34m:\u001b[0m\u001b[0;34m\u001b[0m\u001b[0;34m\u001b[0m\u001b[0m\n\u001b[0;32m----> 5\u001b[0;31m   \u001b[0;32mraise\u001b[0m \u001b[0mException\u001b[0m\u001b[0;34m(\u001b[0m\u001b[0;34m'This is the error message.'\u001b[0m\u001b[0;34m)\u001b[0m\u001b[0;34m\u001b[0m\u001b[0;34m\u001b[0m\u001b[0m\n\u001b[0m\u001b[1;32m      6\u001b[0m \u001b[0;34m\u001b[0m\u001b[0m\n\u001b[1;32m      7\u001b[0m \u001b[0mspam\u001b[0m\u001b[0;34m(\u001b[0m\u001b[0;34m)\u001b[0m\u001b[0;34m\u001b[0m\u001b[0;34m\u001b[0m\u001b[0m\n",
            "\u001b[0;31mException\u001b[0m: This is the error message."
          ]
        }
      ]
    },
    {
      "cell_type": "markdown",
      "metadata": {
        "id": "PdS7o5eDsOBR"
      },
      "source": [
        "rom the traceback, you can see that the error happened on line 5, in\n",
        "the bacon() function. This particular call to bacon() came from line 2, in the\n",
        "spam() function, which in turn was called on line 7. In programs where functions can be called from multiple places, the call stack can help you determine which call led to the error.\n",
        "\n",
        "\n",
        "The traceback is displayed by Python whenever a raised exception goes unhandled. But you can also obtain it as a string by calling\n",
        "traceback.format_exc(). This function is useful if you want the information\n",
        "from an exception’s traceback but also want an except statement to gracefully handle the exception. You will need to import Python’s traceback\n",
        "module before calling this function.\n",
        "\n",
        "For example, instead of crashing your program right when an exception occurs, you can write the traceback information to a log file and keep\n",
        "your program running. You can look at the log file later, when you’re ready\n",
        "to debug your program. Enter the following into the interactive shell:"
      ]
    },
    {
      "cell_type": "code",
      "metadata": {
        "colab": {
          "base_uri": "https://localhost:8080/"
        },
        "id": "RN44DzjRsNx1",
        "outputId": "c5f1e630-4f33-4208-8272-5488634ef48d"
      },
      "source": [
        "import traceback\n",
        "\n",
        "try:\n",
        "  raise Exception('This is the error message.')\n",
        "except:\n",
        "  errorFile = open('errorInfo.txt', 'w')\n",
        "  errorFile.write(traceback.format_exc())\n",
        "  errorFile.close()\n",
        "  print('The traceback info was written to errorInfo.txt.')"
      ],
      "execution_count": 5,
      "outputs": [
        {
          "output_type": "stream",
          "name": "stdout",
          "text": [
            "The traceback info was written to errorInfo.txt.\n"
          ]
        }
      ]
    },
    {
      "cell_type": "markdown",
      "metadata": {
        "id": "y9w3KzLqs_W4"
      },
      "source": [
        "## Assertions"
      ]
    },
    {
      "cell_type": "markdown",
      "metadata": {
        "id": "wSykkjpOtUCi"
      },
      "source": [
        "An assertion is a sanity check to make sure your code isn’t doing something\n",
        "obviously wrong. These sanity checks are performed by assert statements. If\n",
        "the sanity check fails, then an AssertionError exception is raised. In code, an\n",
        "assert statement consists of the following:"
      ]
    },
    {
      "cell_type": "code",
      "metadata": {
        "id": "c88XdJdMtTgb"
      },
      "source": [
        ""
      ],
      "execution_count": null,
      "outputs": []
    },
    {
      "cell_type": "code",
      "metadata": {
        "id": "SAabdcbUoS8e"
      },
      "source": [
        ""
      ],
      "execution_count": null,
      "outputs": []
    },
    {
      "cell_type": "code",
      "metadata": {
        "id": "6uECtaGmllO2"
      },
      "source": [
        ""
      ],
      "execution_count": null,
      "outputs": []
    }
  ]
}