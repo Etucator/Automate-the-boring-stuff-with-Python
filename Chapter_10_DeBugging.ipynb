{
  "cells": [
    {
      "cell_type": "markdown",
      "metadata": {
        "id": "fKHNLc_tloij"
      },
      "source": [
        "# Chapter 10: DeBugging\n",
        "\n",
        "\n",
        "Now that you know enough to write more complicated programs, you may start finding not-so-simple bugs in them. This chapter covers some tools and techniques for finding the root cause of bugs in your program to help you fix bugs faster and with less effort.\n",
        "\n",
        "To paraphrase an old joke among programmers, `Writing code accounts for 90 percent of programming. Debugging code accounts for the other 90 percent.`\n",
        "\n",
        "\n",
        "Your computer will do only what you tell it to do; it won’t read your mind and do what you intended it to do. Even professional programmers create bugs all the time, so don’t feel discouraged if your program has a problem.\n",
        "\n",
        "Fortunately, there are a few tools and techniques to identify what exactly your code is doing and where it’s going wrong. First, you will look at logging and assertions, two features that can help you detect bugs early. In general, the earlier you catch bugs, the easier they will be to fix.\n",
        "\n",
        "Second, you will look at how to use the debugger. The debugger is a feature of IDLE that executes a program one instruction at a time, giving you a chance to inspect the values in variables while your code runs, and track how the values change over the course of your program. This is much slower than running the program at full speed, but it is helpful to see the actual values in a program while it runs, rather than deducing what the values might be from the source code."
      ]
    },
    {
      "cell_type": "markdown",
      "metadata": {
        "id": "775AS9I4mtKw"
      },
      "source": [
        "## Raising Exceptions\n",
        "Python raises an exception whenever it tries to execute invalid code. In\n",
        "Chapter 3, you read about how to handle Python’s exceptions with try and\n",
        "except statements so that your program can recover from exceptions that\n",
        "you anticipated. But you can also raise your own exceptions in your code.\n",
        "Raising an exception is a way of saying, “Stop running the code in this function and move the program execution to the except statement.”\n",
        "Exceptions are raised with a raise statement. In code, a raise statement\n",
        "consists of the following:\n",
        "-\t The raise keyword\n",
        "-\t A call to the Exception() function\n",
        "-\t A string with a helpful error message passed to the `Exception()` function\n",
        "\n",
        "For example, enter the following into the interactive shell:"
      ]
    },
    {
      "cell_type": "code",
      "execution_count": null,
      "metadata": {
        "colab": {
          "base_uri": "https://localhost:8080/",
          "height": 0
        },
        "id": "CajgYjX8mswt",
        "outputId": "fadd77d6-a094-4a4d-b62d-2ac9c5d61381"
      },
      "outputs": [],
      "source": [
        "raise Exception('This is the error message.')"
      ]
    },
    {
      "cell_type": "markdown",
      "metadata": {
        "id": "NS60BngwnJZX"
      },
      "source": [
        "If there are no try and except statements covering the raise statement that raised the exception, the program simply crashes and displays the exception’s error message.\n",
        "\n",
        "Often it’s the code that calls the function, not the fuction itself, that knows how to handle an expection. So you will commonly see a raise statement inside a function and the try and except statements in the code calling the function. For example, open a new file editor window, enter the following code, and save the program as `boxPrint.py`:"
      ]
    },
    {
      "cell_type": "markdown",
      "metadata": {
        "id": "4q0HbQJToUH1"
      },
      "source": [
        "---\n",
        "Here we’ve defined a `boxPrint()` function that takes a character, a width,\n",
        "and a height, and uses the character to make a little picture of a box with\n",
        "that width and height. This box shape is printed to the console.\n",
        "\n",
        "Say we want the character to be a single character, and the width and\n",
        "height to be greater than 2. We add if statements to raise exceptions if\n",
        "these requirements aren’t satisfied. Later, when we call `boxPrint()` with various arguments, our try/except will handle invalid arguments.\n",
        "\n",
        "This program uses the except Exception as err form of the except statement x. If an Exception object is returned from `boxPrint()` uvw, this\n",
        "except statement will store it in a variable named err. The Exception object\n",
        "can then be converted to a string by passing it to `str()` to produce a userfriendly error message y. When you run this boxPrint.py, he output will\n",
        "look like this:\n",
        "\n",
        "---"
      ]
    },
    {
      "cell_type": "code",
      "execution_count": null,
      "metadata": {
        "colab": {
          "base_uri": "https://localhost:8080/"
        },
        "id": "qQ_ARr5JmsEh",
        "outputId": "0788ac06-0fe3-4f14-b1fe-0a7f55a571e6"
      },
      "outputs": [],
      "source": [
        "def boxPrint(symbol, width, height):\n",
        "  if len(symbol) != 1:\n",
        "    raise Exception('Symbol must be a single character string.')\n",
        "  if width <= 2:\n",
        "    raise Exception('Width must be greater than 2.')\n",
        "  if height <= 2:\n",
        "    raise Exception('Height must be greater than 2.')\n",
        "  print(symbol * width)\n",
        "  for i in range(height - 2):\n",
        "    print(symbol + (' ' * (width - 2)) + symbol)\n",
        "  print(symbol * width)\n",
        "\n",
        "for sym, w, h in (('*', 4, 4), ('O', 20, 5), ('x', 1, 3), ('ZZ', 3, 3)):\n",
        "  try:\n",
        "    boxPrint(sym, w, h)\n",
        "  except Exception as err:\n",
        "    print('An exception happened: ' + str(err))"
      ]
    },
    {
      "cell_type": "markdown",
      "metadata": {
        "id": "CUr5Sy8Jo32k"
      },
      "source": [
        "Using the try and except statements, you can handle errors more gracefully instead of letting the entire program crash."
      ]
    },
    {
      "cell_type": "markdown",
      "metadata": {
        "id": "XhkOHo5Go7Iv"
      },
      "source": [
        "## Getting the traceback as a String:\n",
        "When Python encounters an error, it produces a treasure trove of error\n",
        "information called the traceback. The traceback includes the error message,\n",
        "the line number of the line that caused the error, and the sequence of the\n",
        "function calls that led to the error. This sequence of calls is called the call stack.\n",
        "\n",
        "Open a new file editor window in IDLE, enter the following program,\n",
        "and save it as `errorExample.py`:"
      ]
    },
    {
      "cell_type": "code",
      "execution_count": null,
      "metadata": {
        "colab": {
          "base_uri": "https://localhost:8080/",
          "height": 0
        },
        "id": "fHLEgT69o3nr",
        "outputId": "c7b4a23d-4989-40f1-972b-f27aea0c88c8"
      },
      "outputs": [],
      "source": [
        "def spam():\n",
        "  bacon()\n",
        "\n",
        "def bacon():\n",
        "  raise Exception('This is the error message.')\n",
        "\n",
        "spam()"
      ]
    },
    {
      "cell_type": "markdown",
      "metadata": {
        "id": "PdS7o5eDsOBR"
      },
      "source": [
        "rom the traceback, you can see that the error happened on line 5, in\n",
        "the bacon() function. This particular call to bacon() came from line 2, in the\n",
        "spam() function, which in turn was called on line 7. In programs where functions can be called from multiple places, the call stack can help you determine which call led to the error.\n",
        "\n",
        "\n",
        "The traceback is displayed by Python whenever a raised exception goes unhandled. But you can also obtain it as a string by calling\n",
        "traceback.format_exc(). This function is useful if you want the information\n",
        "from an exception’s traceback but also want an except statement to gracefully handle the exception. You will need to import Python’s traceback\n",
        "module before calling this function.\n",
        "\n",
        "For example, instead of crashing your program right when an exception occurs, you can write the traceback information to a log file and keep\n",
        "your program running. You can look at the log file later, when you’re ready\n",
        "to debug your program. Enter the following into the interactive shell:"
      ]
    },
    {
      "cell_type": "code",
      "execution_count": null,
      "metadata": {
        "colab": {
          "base_uri": "https://localhost:8080/"
        },
        "id": "RN44DzjRsNx1",
        "outputId": "c5f1e630-4f33-4208-8272-5488634ef48d"
      },
      "outputs": [],
      "source": [
        "import traceback\n",
        "\n",
        "try:\n",
        "  raise Exception('This is the error message.')\n",
        "except:\n",
        "  errorFile = open('errorInfo.txt', 'w')\n",
        "  errorFile.write(traceback.format_exc())\n",
        "  errorFile.close()\n",
        "  print('The traceback info was written to errorInfo.txt.')"
      ]
    },
    {
      "cell_type": "markdown",
      "metadata": {
        "id": "y9w3KzLqs_W4"
      },
      "source": [
        "## Assertions"
      ]
    },
    {
      "cell_type": "markdown",
      "metadata": {
        "id": "wSykkjpOtUCi"
      },
      "source": [
        "An assertion is a sanity check to make sure your code isn’t doing something\n",
        "obviously wrong. These sanity checks are performed by assert statements. If\n",
        "the sanity check fails, then an AssertionError exception is raised. In code, an\n",
        "assert statement consists of the following:\n",
        "\n",
        "-\t The assert keyword\n",
        "-\t A condition (that is, an expression that evaluates to True or False)\n",
        "-\t A comma\n",
        "-\t A string to display when the condition is False\n",
        "\n",
        "For example, enter the following into the interactive shell:"
      ]
    },
    {
      "cell_type": "code",
      "execution_count": null,
      "metadata": {
        "colab": {
          "base_uri": "https://localhost:8080/",
          "height": 195
        },
        "id": "c88XdJdMtTgb",
        "outputId": "8b59b859-6457-462b-a2f4-edd0dc0d7719"
      },
      "outputs": [],
      "source": [
        "podBayDoorStatus = 'open'\n",
        "assert podBayDoorStatus == 'open', 'The pod bay doors need to be \"open\".'\n",
        "podBayDoorStatus = \"I\\'m sorry, Dave. I\\'m afraid I can't do that.'\"\n",
        "assert podBayDoorStatus == 'open', 'The pod bay doors need to be \"open\".'"
      ]
    },
    {
      "cell_type": "markdown",
      "metadata": {
        "id": "73W3yQNWuts1"
      },
      "source": [
        "Here we’ve set podBayDoorStatus to 'open', so from now on, we fully\n",
        "expect the value of this variable to be 'open'. In a program that uses this\n",
        "variable, we might have written a lot of code under the assumption that\n",
        "the value is 'open'—code that depends on its being 'open' in order to work\n",
        "as we expect. So we add an assertion to make sure we’re right to assume\n",
        "podBayDoorStatus is 'open'. Here, we include the message 'The pod bay doors\n",
        "need to be \"open\".' so it’ll be easy to see what’s wrong if the assertion fails.\n",
        "\n",
        "Later, say we make the obvious mistake of assigning podBayDoorStatus\n",
        "another value, but don’t notice it among many lines of code. The assertion\n",
        "catches this mistake and clearly tells us what’s wrong.\n",
        "\n",
        "\n",
        "In plain English, an assert statement says, “I assert that this condition\n",
        "holds true, and if not, there is a bug somewhere in the program.” Unlike\n",
        "exceptions, your code should not handle assert statements with try and\n",
        "except; if an assert fails, your program should crash. By failing fast like this,\n",
        "you shorten the time between the original cause of the bug and when you\n",
        "first notice the bug. This will reduce the amount of code you will have to\n",
        "check before finding the code that’s causing the bug.\n",
        "\n",
        "Assertions are for programmer errors, not user errors. For errors that\n",
        "can be recovered from (such as a file not being found or the user entering invalid data), raise an exception instead of detecting it with an assert\n",
        "statement."
      ]
    },
    {
      "cell_type": "markdown",
      "metadata": {
        "id": "2ivdFVgPu-Yx"
      },
      "source": [
        "## Using an Assertion in a Traffic Light Simulation\n",
        "\n",
        "Say you’re building a traffic light simulation program. The data structure representing the stoplights at an intersection is a dictionary with keys 'ns' and 'ew', for the stoplights facing north-south and east-west,\n",
        "respectively. The values at these keys will be one of the strings 'green',\n",
        "'yellow', or 'red'. The code would look something like this:"
      ]
    },
    {
      "cell_type": "code",
      "execution_count": null,
      "metadata": {
        "id": "SAabdcbUoS8e"
      },
      "outputs": [],
      "source": [
        "market_2nd = {'ns': 'green', 'ew': 'red'}\n",
        "mission_16th = {'ns': 'red', 'ew': 'green'}"
      ]
    },
    {
      "cell_type": "markdown",
      "metadata": {
        "id": "TKepGXoYvaLs"
      },
      "source": [
        "These two variables will be for the intersections of Market Street and\n",
        "2nd Street, and Mission Street and 16th Street. To start the project, you\n",
        "want to write a `switchLights()` function, which will take an intersection dictionary as an argument and switch the lights.\n",
        "\n",
        "At first, you might think that `switchLights()` should simply switch each\n",
        "light to the next color in the sequence: Any 'green' values should change to\n",
        "'yellow', 'yellow' values should change to 'red', and 'red' values should\n",
        "change to 'green'. The code to implement this idea might look like this:"
      ]
    },
    {
      "cell_type": "code",
      "execution_count": null,
      "metadata": {
        "colab": {
          "base_uri": "https://localhost:8080/"
        },
        "id": "6uECtaGmllO2",
        "outputId": "d3b0c9c1-c6d2-441f-ce18-6c4c462c77f8"
      },
      "outputs": [],
      "source": [
        "def switchLights(stoplight):\n",
        "  for key in stoplight.keys():\n",
        "    if stoplight[key] == 'green':\n",
        "      stoplight[key] = 'yellow'\n",
        "    elif stoplight[key] == 'yellow':\n",
        "      stoplight[key] = 'red'\n",
        "    elif stoplight[key] == 'red':\n",
        "      stoplight[key] = 'green'\n",
        "  \n",
        "\n",
        "switchLights(market_2nd)\n",
        "market_2nd"
      ]
    },
    {
      "cell_type": "markdown",
      "metadata": {
        "id": "1pgWlu6uwNun"
      },
      "source": [
        "You may already see the problem with this code, but let’s pretend you\n",
        "wrote the rest of the simulation code, thousands of lines long, without\n",
        "noticing it. When you finally do run the simulation, the program doesn’t\n",
        "crash—but your virtual cars do!\n",
        "Since you’ve already written the rest of the program, you have no idea\n",
        "where the bug could be. Maybe it’s in the code simulating the cars or in\n",
        "the code simulating the virtual drivers. It could take hours to trace the\n",
        "bug back to the `switchLights()` function.\n",
        "\n",
        "But if while writing `switchLights()` you had added an assertion to check\n",
        "that at least one of the lights is always red, you might have included the following at the bottom of the function:"
      ]
    },
    {
      "cell_type": "code",
      "execution_count": null,
      "metadata": {
        "colab": {
          "base_uri": "https://localhost:8080/",
          "height": 330
        },
        "id": "h6nQyuWNv2IC",
        "outputId": "421a17ee-54b0-4d68-9757-6ad88e456f18"
      },
      "outputs": [],
      "source": [
        "def switchLights(stoplight):\n",
        "  for key in stoplight.keys():\n",
        "    if stoplight[key] == 'green':\n",
        "      stoplight[key] = 'yellow'\n",
        "    elif stoplight[key] == 'yellow':\n",
        "      stoplight[key] = 'red'\n",
        "    elif stoplight[key] == 'red':\n",
        "      stoplight[key] = 'green'\n",
        "  assert 'red' in stoplight.values(), 'Neither light is red! ' + str(stoplight)\n",
        "\n",
        "switchLights(market_2nd)\n",
        "market_2nd"
      ]
    },
    {
      "cell_type": "markdown",
      "metadata": {
        "id": "YfojxbQJxC7D"
      },
      "source": [
        "### Disabling Assertions\n",
        "\n",
        "Assertions can be disabled by passing the -O option when running Python.\n",
        "This is good for when you have finished writing and testing your program\n",
        "and don’t want it to be slowed down by performing sanity checks (although\n",
        "most of the time assert statements do not cause a noticeable speed difference). Assertions are for development, not the final product. By the time you\n",
        "hand off your program to someone else to run, it should be free of bugs\n",
        "and not require the sanity checks. See Appendix B for details about how to\n",
        "launch your probably-not-insane programs with the -O option."
      ]
    },
    {
      "cell_type": "markdown",
      "metadata": {},
      "source": [
        "## logging"
      ]
    },
    {
      "cell_type": "markdown",
      "metadata": {},
      "source": [
        "If you’ve ever put a `print()` statement in your code to output some variable’s\n",
        "value while your program is running, you’ve used a form of logging to debug\n",
        "your code. Logging is a great way to understand what’s happening in your\n",
        "program and in what order its happening. Python’s logging module makes\n",
        "it easy to create a record of custom messages that you write. These log messages will describe when the program execution has reached the logging\n",
        "function call and list any variables you have specified at that point in time.\n",
        "On the other hand, a missing log message indicates a part of the code was\n",
        "skipped and never executed."
      ]
    },
    {
      "cell_type": "markdown",
      "metadata": {},
      "source": [
        "## Using the logging Module\n",
        "To enable the logging module to display log messages on your screen as your\n",
        "program runs, copy the following to the top of your program (but under\n",
        "the #! python shebang line):"
      ]
    },
    {
      "cell_type": "code",
      "execution_count": null,
      "metadata": {},
      "outputs": [],
      "source": [
        "import logging\n",
        "logging.basicConfig(level=logging.DEBUG, format=' %(asctime)s - %(levelname)s - %(message)s')"
      ]
    },
    {
      "cell_type": "markdown",
      "metadata": {},
      "source": [
        "You don’t need to worry too much about how this works, but basically,\n",
        "when Python logs an event, it creates a LogRecord object that holds information about that event. The logging module’s basicConfig() function lets you\n",
        "specify what details about the LogRecord object you want to see and how you\n",
        "want those details displayed.\n",
        "\n",
        "Say you wrote a function to calculate the factorial of a number. In mathematics, factorial 4 is 1 × 2 × 3 × 4, or 24. Factorial 7 is 1 × 2 × 3 × 4 × 5 × 6 × 7,\n",
        "or 5,040. Open a new file editor window and enter the following code. It has\n",
        "a bug in it, but you will also enter several log messages to help yourself figure out what is going wrong. Save the program as `factorialLog.py`."
      ]
    },
    {
      "cell_type": "code",
      "execution_count": 3,
      "metadata": {},
      "outputs": [
        {
          "name": "stdout",
          "output_type": "stream",
          "text": [
            "0\n"
          ]
        }
      ],
      "source": [
        "# factorialLog.py\n",
        "\n",
        "import logging\n",
        "logging.basicConfig(level=logging.DEBUG, format=' %(asctime)s - %(levelname)s- %(message)s')\n",
        "logging.debug('Start of program')\n",
        "\n",
        "def factorial(n):\n",
        "    logging.debug('Start of factorial(%s%%)' % (n))\n",
        "    total = 1\n",
        "    for i in range(n + 1):\n",
        "        total *= i\n",
        "        logging.debug('i is ' + str(i) + ', total is ' + str(total))\n",
        "    logging.debug('End of factorial(%s%%)' % (n))\n",
        "    return total\n",
        "\n",
        "print(factorial(5))\n",
        "logging.debug('End of program')"
      ]
    },
    {
      "cell_type": "markdown",
      "metadata": {},
      "source": [
        "Here, we use the `logging.debug()` function when we want to print log\n",
        "information. This `debug()` function will call `basicConfig()`, and a line of information will be printed. This information will be in the format we specified\n",
        "in `basicConfig()` and will include the messages we passed to debug(). The\n",
        "`print(factorial(5))` call is part of the original program, so the result is displayed even if logging messages are disabled"
      ]
    },
    {
      "cell_type": "markdown",
      "metadata": {},
      "source": [
        "The `factorial()` function is returning 0 as the factorial of 5, which isn’t\n",
        "right. The for loop should be multiplying the value in total by the numbers\n",
        "from 1 to 5. But the log messages displayed by `logging.debug()` show that the\n",
        "i variable is starting at 0 instead of 1. Since zero times anything is zero, the\n",
        "rest of the iterations also have the wrong value for total. Logging messages\n",
        "provide a trail of breadcrumbs that can help you figure out when things\n",
        "started to go wrong."
      ]
    },
    {
      "cell_type": "markdown",
      "metadata": {},
      "source": [
        "Change the for `i in range(n + 1)`: line to for `i in range(1, n + 1)`:, and run the program again. The output will look like this:"
      ]
    },
    {
      "cell_type": "code",
      "execution_count": null,
      "metadata": {},
      "outputs": [],
      "source": [
        "logging.debug('Start of program')\n",
        "\n",
        "def factorial(n):\n",
        "    logging.debug('Start of factorial(%s%%)' % (n))\n",
        "    total = 1\n",
        "    for i in range(1,n + 1):\n",
        "        total *= i\n",
        "        logging.debug('i is ' + str(i) + ', total is ' + str(total))\n",
        "    logging.debug('End of factorial(%s%%)' % (n))\n",
        "    return total\n",
        "\n",
        "print(factorial(5))\n",
        "logging.debug('End of program')"
      ]
    },
    {
      "cell_type": "markdown",
      "metadata": {},
      "source": [
        "The `factorial(5)` call correctly returns 120. The log messages showed\n",
        "what was going on inside the loop, which led straight to the bug.\n",
        "You can see that the logging.debug() calls printed out not just the strings\n",
        "passed to them but also a timestamp and the word DEBUG."
      ]
    },
    {
      "cell_type": "markdown",
      "metadata": {},
      "source": [
        "### Don’t Debug with print()\n",
        "\n",
        "Typing import logging and `logging.basicConfig(level=logging.DEBUG, format=\n",
        "'%(asctime)s - %(levelname)s - %(message)s')` is somewhat unwieldy. You may\n",
        "want to use `print()` calls instead, but don’t give in to this temptation! Once\n",
        "you’re done debugging, you’ll end up spending a lot of time removing\n",
        "`print()` calls from your code for each log message. You might even accidentally remove some `print()` calls that were being used for nonlog messages.\n",
        "\n",
        "The nice thing about log messages is that you’re free to fill your program\n",
        "with as many as you like, and you can always disable them later by adding\n",
        "a single `logging.disable(logging.CRITICAL)` call. Unlike print(), the logging\n",
        "module makes it easy to switch between showing and hiding log messages.\n",
        "\n",
        "Log messages are intended for the programmer, not the user. The user\n",
        "won’t care about the contents of some dictionary value you need to see to\n",
        "help with debugging; use a log message for something like that. For messages that the user will want to see, like File not found or Invalid input, please\n",
        "enter a number, you should use a print() call. You don’t want to deprive the\n",
        "user of useful information after you’ve disabled log messages."
      ]
    },
    {
      "cell_type": "markdown",
      "metadata": {},
      "source": [
        "### Logging Levels\n",
        "\n",
        "Logging levels provide a way to categorize your log messages by importance.\n",
        "There are five logging levels, described in Table 10-1 from least to most\n",
        "important. Messages can be logged at each level using a different logging\n",
        "function.\n",
        "\n",
        "#### table : Logging Levels in Python\n",
        "\n",
        "Level   | Logging Function  | Description \n",
        "---     | ---               | --- \n",
        "DEBUG   | logging.debug()   | The lowest level Used for small details Usually you care about these messages only when diagnosing problems.\n",
        "INFO    | logging.info()    | Used to record information on general events in your program or confirm that things are working at their point in the programs.\n",
        "WARNING |logging.warning()  | Used to indicate a potential problem that doesn’t prevent the program from working but might do so in the future \n",
        "ERROR   | logging.error()   | Used to record an error that caused the program to fail to do something.\n",
        "CRITICAL| logging.critical()| The highest level Used to indicate a fatal error that has caused or is about to cause the program to stop running entirely.\n",
        "\n",
        "Your logging message is passed as a string to these functions. The logging levels are suggestions. Ultimately, it is up to you to decide which category\n",
        "your log message falls into. Enter the following:"
      ]
    },
    {
      "cell_type": "code",
      "execution_count": null,
      "metadata": {},
      "outputs": [],
      "source": [
        "import logging\n",
        "logging.basicConfig(level=logging.DEBUG, format=' %(asctime)s - %(levelname)s - %(message)s')"
      ]
    },
    {
      "cell_type": "code",
      "execution_count": null,
      "metadata": {},
      "outputs": [],
      "source": [
        "logging.debug('Some debugging details.')"
      ]
    },
    {
      "cell_type": "code",
      "execution_count": null,
      "metadata": {},
      "outputs": [],
      "source": [
        "logging.info('The logging module is working.')"
      ]
    },
    {
      "cell_type": "code",
      "execution_count": null,
      "metadata": {},
      "outputs": [],
      "source": [
        "logging.warning('An error message is about to be logged.')"
      ]
    },
    {
      "cell_type": "code",
      "execution_count": null,
      "metadata": {},
      "outputs": [],
      "source": [
        "logging.error('An error has occurred.')"
      ]
    },
    {
      "cell_type": "code",
      "execution_count": 4,
      "metadata": {},
      "outputs": [],
      "source": [
        "logging.critical('The program is unable to recover!')"
      ]
    },
    {
      "cell_type": "markdown",
      "metadata": {},
      "source": [
        "The benefit of logging levels is that you can change what priority of\n",
        "logging message you want to see. Passing `logging.DEBUG` to the `basicConfig()`\n",
        "function’s level keyword argument will show messages from all the logging\n",
        "levels (DEBUG being the lowest level). But after developing your program\n",
        "some more, you may be **interested only in errors**. In that case, you can set\n",
        "`basicConfig()`’s level argument to `logging.ERROR`. This will show only ERROR\n",
        "and CRITICAL messages and skip the DEBUG, INFO, and WARNING\n",
        "messages."
      ]
    },
    {
      "cell_type": "markdown",
      "metadata": {},
      "source": [
        "### Disabling Logging\n",
        "\n",
        "After you’ve debugged your program, you probably don’t want all these\n",
        "log messages cluttering the screen. The `logging.disable()` function disables\n",
        "these so that you don’t have to go into your program and remove all the logging calls by hand. You simply pass `logging.disable()` a logging level, and it\n",
        "will suppress all log messages at that level or lower. So if you want to disable\n",
        "logging entirely, just add `logging.disable(logging.CRITICAL) `to your program.\n",
        "For example, enter the following into the interactive shell:"
      ]
    },
    {
      "cell_type": "code",
      "execution_count": null,
      "metadata": {},
      "outputs": [],
      "source": [
        "import logging\n",
        "logging.basicConfig(level=logging.INFO, format=' %(asctime)s - %(levelname)s - %(message)s')\n",
        "\n",
        "logging.critical('Critical error! Critical error!')\n",
        "\n",
        "# Disabled logging critical\n",
        "logging.disable(logging.CRITICAL)\n",
        "\n",
        "logging.critical('Critical error! Critical error!')\n",
        "logging.error('Error! Error!')"
      ]
    },
    {
      "cell_type": "markdown",
      "metadata": {},
      "source": [
        "## Logging to a File\n",
        "\n",
        "Instead of displaying the log messages to the screen, you can write them to\n",
        "a text file. The `logging.basicConfig()` function takes a filename keyword argument, like so:"
      ]
    },
    {
      "cell_type": "code",
      "execution_count": 13,
      "metadata": {},
      "outputs": [
        {
          "name": "stdout",
          "output_type": "stream",
          "text": [
            "120\n"
          ]
        }
      ],
      "source": [
        "import logging\n",
        "logging.basicConfig(filename='\\out\\myProgramLog.txt', level=logging.DEBUG, format='%(asctime)s - %(levelname)s - %(message)s')\n",
        "\n",
        "def factorial(n):\n",
        "    logging.debug('Start of factorial(%s%%)' % (n))\n",
        "    total = 1\n",
        "    for i in range(1,n + 1):\n",
        "        total *= i\n",
        "        logging.debug('i is ' + str(i) + ', total is ' + str(total))\n",
        "    logging.debug('End of factorial(%s%%)' % (n))\n",
        "    return total\n",
        "\n",
        "print(factorial(5))\n",
        "logging.debug('End of program')"
      ]
    },
    {
      "cell_type": "markdown",
      "metadata": {},
      "source": [
        "The log messages will be saved to myProgramLog.txt. While logging\n",
        "messages are helpful, they can clutter your screen and make it hard to read\n",
        "the program’s output. Writing the logging messages to a file will keep your\n",
        "screen clear and store the messages so you can read them after running the\n",
        "program. You can open this text file in any text editor, such as Notepad or\n",
        "TextEdit."
      ]
    }
  ],
  "metadata": {
    "colab": {
      "name": "Chapter 10 - DeBugging.ipynb",
      "provenance": []
    },
    "interpreter": {
      "hash": "7dae6437c12b1d87f00e0e10a4bd22be66a3b8ec05fb1161d95372f28c39fa9e"
    },
    "kernelspec": {
      "display_name": "Python 3.8.8 64-bit ('base': conda)",
      "name": "python3"
    },
    "language_info": {
      "codemirror_mode": {
        "name": "ipython",
        "version": 3
      },
      "file_extension": ".py",
      "mimetype": "text/x-python",
      "name": "python",
      "nbconvert_exporter": "python",
      "pygments_lexer": "ipython3",
      "version": "3.8.8"
    }
  },
  "nbformat": 4,
  "nbformat_minor": 0
}
