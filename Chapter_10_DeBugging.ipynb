{
  "nbformat": 4,
  "nbformat_minor": 0,
  "metadata": {
    "colab": {
      "name": "Chapter 10 - DeBugging.ipynb",
      "provenance": []
    },
    "kernelspec": {
      "name": "python3",
      "display_name": "Python 3"
    },
    "language_info": {
      "name": "python"
    }
  },
  "cells": [
    {
      "cell_type": "markdown",
      "metadata": {
        "id": "fKHNLc_tloij"
      },
      "source": [
        "# Chapter 10: DeBugging\n",
        "\n",
        "\n",
        "Now that you know enough to write more complicated programs, you may start finding not-so-simple bugs in them. This chapter covers some tools and techniques for finding the root cause of bugs in your program to help you fix bugs faster and with less effort.\n",
        "\n",
        "To paraphrase an old joke among programmers, `Writing code accounts for 90 percent of programming. Debugging code accounts for the other 90 percent.`\n",
        "\n",
        "\n",
        "Your computer will do only what you tell it to do; it won’t read your mind and do what you intended it to do. Even professional programmers create bugs all the time, so don’t feel discouraged if your program has a problem.\n",
        "\n",
        "Fortunately, there are a few tools and techniques to identify what exactly your code is doing and where it’s going wrong. First, you will look at logging and assertions, two features that can help you detect bugs early. In general, the earlier you catch bugs, the easier they will be to fix.\n",
        "\n",
        "Second, you will look at how to use the debugger. The debugger is a feature of IDLE that executes a program one instruction at a time, giving you a chance to inspect the values in variables while your code runs, and track how the values change over the course of your program. This is much slower than running the program at full speed, but it is helpful to see the actual values in a program while it runs, rather than deducing what the values might be from the source code."
      ]
    },
    {
      "cell_type": "markdown",
      "metadata": {
        "id": "775AS9I4mtKw"
      },
      "source": [
        "## Raising Exceptions\n",
        "Python raises an exception whenever it tries to execute invalid code. In\n",
        "Chapter 3, you read about how to handle Python’s exceptions with try and\n",
        "except statements so that your program can recover from exceptions that\n",
        "you anticipated. But you can also raise your own exceptions in your code.\n",
        "Raising an exception is a way of saying, “Stop running the code in this function and move the program execution to the except statement.”\n",
        "Exceptions are raised with a raise statement. In code, a raise statement\n",
        "consists of the following:\n",
        "-\t The raise keyword\n",
        "-\t A call to the Exception() function\n",
        "-\t A string with a helpful error message passed to the `Exception()` function\n",
        "\n",
        "For example, enter the following into the interactive shell:"
      ]
    },
    {
      "cell_type": "code",
      "metadata": {
        "colab": {
          "base_uri": "https://localhost:8080/",
          "height": 0
        },
        "id": "CajgYjX8mswt",
        "outputId": "fadd77d6-a094-4a4d-b62d-2ac9c5d61381"
      },
      "source": [
        "raise Exception('This is the error message.')"
      ],
      "execution_count": 1,
      "outputs": [
        {
          "output_type": "error",
          "ename": "Exception",
          "evalue": "ignored",
          "traceback": [
            "\u001b[0;31m---------------------------------------------------------------------------\u001b[0m",
            "\u001b[0;31mException\u001b[0m                                 Traceback (most recent call last)",
            "\u001b[0;32m<ipython-input-1-4d63d15f2d65>\u001b[0m in \u001b[0;36m<module>\u001b[0;34m()\u001b[0m\n\u001b[0;32m----> 1\u001b[0;31m \u001b[0;32mraise\u001b[0m \u001b[0mException\u001b[0m\u001b[0;34m(\u001b[0m\u001b[0;34m'This is the error message.'\u001b[0m\u001b[0;34m)\u001b[0m\u001b[0;34m\u001b[0m\u001b[0;34m\u001b[0m\u001b[0m\n\u001b[0m",
            "\u001b[0;31mException\u001b[0m: This is the error message."
          ]
        }
      ]
    },
    {
      "cell_type": "markdown",
      "metadata": {
        "id": "NS60BngwnJZX"
      },
      "source": [
        "If there are no try and except statements covering the raise statement that raised the exception, the program simply crashes and displays the exception’s error message.\n",
        "\n",
        "Often it’s the code that calls the function, not the fuction itself, that knows how to handle an expection. So you will commonly see a raise statement inside a function and the try and except statements in the code calling the function. For example, open a new file editor window, enter the following code, and save the program as `boxPrint.py`:"
      ]
    },
    {
      "cell_type": "markdown",
      "metadata": {
        "id": "4q0HbQJToUH1"
      },
      "source": [
        "---\n",
        "Here we’ve defined a `boxPrint()` function that takes a character, a width,\n",
        "and a height, and uses the character to make a little picture of a box with\n",
        "that width and height. This box shape is printed to the console.\n",
        "\n",
        "Say we want the character to be a single character, and the width and\n",
        "height to be greater than 2. We add if statements to raise exceptions if\n",
        "these requirements aren’t satisfied. Later, when we call `boxPrint()` with various arguments, our try/except will handle invalid arguments.\n",
        "\n",
        "This program uses the except Exception as err form of the except statement x. If an Exception object is returned from `boxPrint()` uvw, this\n",
        "except statement will store it in a variable named err. The Exception object\n",
        "can then be converted to a string by passing it to `str()` to produce a userfriendly error message y. When you run this boxPrint.py, he output will\n",
        "look like this:\n",
        "\n",
        "---"
      ]
    },
    {
      "cell_type": "code",
      "metadata": {
        "colab": {
          "base_uri": "https://localhost:8080/"
        },
        "id": "qQ_ARr5JmsEh",
        "outputId": "0788ac06-0fe3-4f14-b1fe-0a7f55a571e6"
      },
      "source": [
        "def boxPrint(symbol, width, height):\n",
        "  if len(symbol) != 1:\n",
        "    raise Exception('Symbol must be a single character string.')\n",
        "  if width <= 2:\n",
        "    raise Exception('Width must be greater than 2.')\n",
        "  if height <= 2:\n",
        "    raise Exception('Height must be greater than 2.')\n",
        "  print(symbol * width)\n",
        "  for i in range(height - 2):\n",
        "    print(symbol + (' ' * (width - 2)) + symbol)\n",
        "  print(symbol * width)\n",
        "\n",
        "for sym, w, h in (('*', 4, 4), ('O', 20, 5), ('x', 1, 3), ('ZZ', 3, 3)):\n",
        "  try:\n",
        "    boxPrint(sym, w, h)\n",
        "  except Exception as err:\n",
        "    print('An exception happened: ' + str(err))"
      ],
      "execution_count": 2,
      "outputs": [
        {
          "output_type": "stream",
          "name": "stdout",
          "text": [
            "****\n",
            "*  *\n",
            "*  *\n",
            "****\n",
            "OOOOOOOOOOOOOOOOOOOO\n",
            "O                  O\n",
            "O                  O\n",
            "O                  O\n",
            "OOOOOOOOOOOOOOOOOOOO\n",
            "An exception happened: Width must be greater than 2.\n",
            "An exception happened: Symbol must be a single character string.\n"
          ]
        }
      ]
    },
    {
      "cell_type": "markdown",
      "metadata": {
        "id": "CUr5Sy8Jo32k"
      },
      "source": [
        "Using the try and except statements, you can handle errors more gracefully instead of letting the entire program crash."
      ]
    },
    {
      "cell_type": "markdown",
      "metadata": {
        "id": "XhkOHo5Go7Iv"
      },
      "source": [
        "## Getting the traceback as a String:\n",
        "When Python encounters an error, it produces a treasure trove of error\n",
        "information called the traceback. The traceback includes the error message,\n",
        "the line number of the line that caused the error, and the sequence of the\n",
        "function calls that led to the error. This sequence of calls is called the call stack.\n",
        "\n",
        "Open a new file editor window in IDLE, enter the following program,\n",
        "and save it as `errorExample.py`:"
      ]
    },
    {
      "cell_type": "code",
      "metadata": {
        "colab": {
          "base_uri": "https://localhost:8080/",
          "height": 0
        },
        "id": "fHLEgT69o3nr",
        "outputId": "c7b4a23d-4989-40f1-972b-f27aea0c88c8"
      },
      "source": [
        "def spam():\n",
        "  bacon()\n",
        "\n",
        "def bacon():\n",
        "  raise Exception('This is the error message.')\n",
        "\n",
        "spam()"
      ],
      "execution_count": 3,
      "outputs": [
        {
          "output_type": "error",
          "ename": "Exception",
          "evalue": "ignored",
          "traceback": [
            "\u001b[0;31m---------------------------------------------------------------------------\u001b[0m",
            "\u001b[0;31mException\u001b[0m                                 Traceback (most recent call last)",
            "\u001b[0;32m<ipython-input-3-e85593d9fc61>\u001b[0m in \u001b[0;36m<module>\u001b[0;34m()\u001b[0m\n\u001b[1;32m      5\u001b[0m   \u001b[0;32mraise\u001b[0m \u001b[0mException\u001b[0m\u001b[0;34m(\u001b[0m\u001b[0;34m'This is the error message.'\u001b[0m\u001b[0;34m)\u001b[0m\u001b[0;34m\u001b[0m\u001b[0;34m\u001b[0m\u001b[0m\n\u001b[1;32m      6\u001b[0m \u001b[0;34m\u001b[0m\u001b[0m\n\u001b[0;32m----> 7\u001b[0;31m \u001b[0mspam\u001b[0m\u001b[0;34m(\u001b[0m\u001b[0;34m)\u001b[0m\u001b[0;34m\u001b[0m\u001b[0;34m\u001b[0m\u001b[0m\n\u001b[0m",
            "\u001b[0;32m<ipython-input-3-e85593d9fc61>\u001b[0m in \u001b[0;36mspam\u001b[0;34m()\u001b[0m\n\u001b[1;32m      1\u001b[0m \u001b[0;32mdef\u001b[0m \u001b[0mspam\u001b[0m\u001b[0;34m(\u001b[0m\u001b[0;34m)\u001b[0m\u001b[0;34m:\u001b[0m\u001b[0;34m\u001b[0m\u001b[0;34m\u001b[0m\u001b[0m\n\u001b[0;32m----> 2\u001b[0;31m   \u001b[0mbacon\u001b[0m\u001b[0;34m(\u001b[0m\u001b[0;34m)\u001b[0m\u001b[0;34m\u001b[0m\u001b[0;34m\u001b[0m\u001b[0m\n\u001b[0m\u001b[1;32m      3\u001b[0m \u001b[0;34m\u001b[0m\u001b[0m\n\u001b[1;32m      4\u001b[0m \u001b[0;32mdef\u001b[0m \u001b[0mbacon\u001b[0m\u001b[0;34m(\u001b[0m\u001b[0;34m)\u001b[0m\u001b[0;34m:\u001b[0m\u001b[0;34m\u001b[0m\u001b[0;34m\u001b[0m\u001b[0m\n\u001b[1;32m      5\u001b[0m   \u001b[0;32mraise\u001b[0m \u001b[0mException\u001b[0m\u001b[0;34m(\u001b[0m\u001b[0;34m'This is the error message.'\u001b[0m\u001b[0;34m)\u001b[0m\u001b[0;34m\u001b[0m\u001b[0;34m\u001b[0m\u001b[0m\n",
            "\u001b[0;32m<ipython-input-3-e85593d9fc61>\u001b[0m in \u001b[0;36mbacon\u001b[0;34m()\u001b[0m\n\u001b[1;32m      3\u001b[0m \u001b[0;34m\u001b[0m\u001b[0m\n\u001b[1;32m      4\u001b[0m \u001b[0;32mdef\u001b[0m \u001b[0mbacon\u001b[0m\u001b[0;34m(\u001b[0m\u001b[0;34m)\u001b[0m\u001b[0;34m:\u001b[0m\u001b[0;34m\u001b[0m\u001b[0;34m\u001b[0m\u001b[0m\n\u001b[0;32m----> 5\u001b[0;31m   \u001b[0;32mraise\u001b[0m \u001b[0mException\u001b[0m\u001b[0;34m(\u001b[0m\u001b[0;34m'This is the error message.'\u001b[0m\u001b[0;34m)\u001b[0m\u001b[0;34m\u001b[0m\u001b[0;34m\u001b[0m\u001b[0m\n\u001b[0m\u001b[1;32m      6\u001b[0m \u001b[0;34m\u001b[0m\u001b[0m\n\u001b[1;32m      7\u001b[0m \u001b[0mspam\u001b[0m\u001b[0;34m(\u001b[0m\u001b[0;34m)\u001b[0m\u001b[0;34m\u001b[0m\u001b[0;34m\u001b[0m\u001b[0m\n",
            "\u001b[0;31mException\u001b[0m: This is the error message."
          ]
        }
      ]
    },
    {
      "cell_type": "markdown",
      "metadata": {
        "id": "PdS7o5eDsOBR"
      },
      "source": [
        "rom the traceback, you can see that the error happened on line 5, in\n",
        "the bacon() function. This particular call to bacon() came from line 2, in the\n",
        "spam() function, which in turn was called on line 7. In programs where functions can be called from multiple places, the call stack can help you determine which call led to the error.\n",
        "\n",
        "\n",
        "The traceback is displayed by Python whenever a raised exception goes unhandled. But you can also obtain it as a string by calling\n",
        "traceback.format_exc(). This function is useful if you want the information\n",
        "from an exception’s traceback but also want an except statement to gracefully handle the exception. You will need to import Python’s traceback\n",
        "module before calling this function.\n",
        "\n",
        "For example, instead of crashing your program right when an exception occurs, you can write the traceback information to a log file and keep\n",
        "your program running. You can look at the log file later, when you’re ready\n",
        "to debug your program. Enter the following into the interactive shell:"
      ]
    },
    {
      "cell_type": "code",
      "metadata": {
        "colab": {
          "base_uri": "https://localhost:8080/"
        },
        "id": "RN44DzjRsNx1",
        "outputId": "c5f1e630-4f33-4208-8272-5488634ef48d"
      },
      "source": [
        "import traceback\n",
        "\n",
        "try:\n",
        "  raise Exception('This is the error message.')\n",
        "except:\n",
        "  errorFile = open('errorInfo.txt', 'w')\n",
        "  errorFile.write(traceback.format_exc())\n",
        "  errorFile.close()\n",
        "  print('The traceback info was written to errorInfo.txt.')"
      ],
      "execution_count": 5,
      "outputs": [
        {
          "output_type": "stream",
          "name": "stdout",
          "text": [
            "The traceback info was written to errorInfo.txt.\n"
          ]
        }
      ]
    },
    {
      "cell_type": "markdown",
      "metadata": {
        "id": "y9w3KzLqs_W4"
      },
      "source": [
        "## Assertions"
      ]
    },
    {
      "cell_type": "markdown",
      "metadata": {
        "id": "wSykkjpOtUCi"
      },
      "source": [
        "An assertion is a sanity check to make sure your code isn’t doing something\n",
        "obviously wrong. These sanity checks are performed by assert statements. If\n",
        "the sanity check fails, then an AssertionError exception is raised. In code, an\n",
        "assert statement consists of the following:\n",
        "\n",
        "-\t The assert keyword\n",
        "-\t A condition (that is, an expression that evaluates to True or False)\n",
        "-\t A comma\n",
        "-\t A string to display when the condition is False\n",
        "\n",
        "For example, enter the following into the interactive shell:"
      ]
    },
    {
      "cell_type": "code",
      "metadata": {
        "colab": {
          "base_uri": "https://localhost:8080/",
          "height": 195
        },
        "id": "c88XdJdMtTgb",
        "outputId": "8b59b859-6457-462b-a2f4-edd0dc0d7719"
      },
      "source": [
        "podBayDoorStatus = 'open'\n",
        "assert podBayDoorStatus == 'open', 'The pod bay doors need to be \"open\".'\n",
        "podBayDoorStatus = \"I\\'m sorry, Dave. I\\'m afraid I can't do that.'\"\n",
        "assert podBayDoorStatus == 'open', 'The pod bay doors need to be \"open\".'"
      ],
      "execution_count": 6,
      "outputs": [
        {
          "output_type": "error",
          "ename": "AssertionError",
          "evalue": "ignored",
          "traceback": [
            "\u001b[0;31m---------------------------------------------------------------------------\u001b[0m",
            "\u001b[0;31mAssertionError\u001b[0m                            Traceback (most recent call last)",
            "\u001b[0;32m<ipython-input-6-968642327cc4>\u001b[0m in \u001b[0;36m<module>\u001b[0;34m()\u001b[0m\n\u001b[1;32m      2\u001b[0m \u001b[0;32massert\u001b[0m \u001b[0mpodBayDoorStatus\u001b[0m \u001b[0;34m==\u001b[0m \u001b[0;34m'open'\u001b[0m\u001b[0;34m,\u001b[0m \u001b[0;34m'The pod bay doors need to be \"open\".'\u001b[0m\u001b[0;34m\u001b[0m\u001b[0;34m\u001b[0m\u001b[0m\n\u001b[1;32m      3\u001b[0m \u001b[0mpodBayDoorStatus\u001b[0m \u001b[0;34m=\u001b[0m \u001b[0;34m\"I\\'m sorry, Dave. I\\'m afraid I can't do that.'\"\u001b[0m\u001b[0;34m\u001b[0m\u001b[0;34m\u001b[0m\u001b[0m\n\u001b[0;32m----> 4\u001b[0;31m \u001b[0;32massert\u001b[0m \u001b[0mpodBayDoorStatus\u001b[0m \u001b[0;34m==\u001b[0m \u001b[0;34m'open'\u001b[0m\u001b[0;34m,\u001b[0m \u001b[0;34m'The pod bay doors need to be \"open\".'\u001b[0m\u001b[0;34m\u001b[0m\u001b[0;34m\u001b[0m\u001b[0m\n\u001b[0m",
            "\u001b[0;31mAssertionError\u001b[0m: The pod bay doors need to be \"open\"."
          ]
        }
      ]
    },
    {
      "cell_type": "markdown",
      "metadata": {
        "id": "73W3yQNWuts1"
      },
      "source": [
        "Here we’ve set podBayDoorStatus to 'open', so from now on, we fully\n",
        "expect the value of this variable to be 'open'. In a program that uses this\n",
        "variable, we might have written a lot of code under the assumption that\n",
        "the value is 'open'—code that depends on its being 'open' in order to work\n",
        "as we expect. So we add an assertion to make sure we’re right to assume\n",
        "podBayDoorStatus is 'open'. Here, we include the message 'The pod bay doors\n",
        "need to be \"open\".' so it’ll be easy to see what’s wrong if the assertion fails.\n",
        "\n",
        "Later, say we make the obvious mistake of assigning podBayDoorStatus\n",
        "another value, but don’t notice it among many lines of code. The assertion\n",
        "catches this mistake and clearly tells us what’s wrong.\n",
        "\n",
        "\n",
        "In plain English, an assert statement says, “I assert that this condition\n",
        "holds true, and if not, there is a bug somewhere in the program.” Unlike\n",
        "exceptions, your code should not handle assert statements with try and\n",
        "except; if an assert fails, your program should crash. By failing fast like this,\n",
        "you shorten the time between the original cause of the bug and when you\n",
        "first notice the bug. This will reduce the amount of code you will have to\n",
        "check before finding the code that’s causing the bug.\n",
        "\n",
        "Assertions are for programmer errors, not user errors. For errors that\n",
        "can be recovered from (such as a file not being found or the user entering invalid data), raise an exception instead of detecting it with an assert\n",
        "statement."
      ]
    },
    {
      "cell_type": "markdown",
      "metadata": {
        "id": "2ivdFVgPu-Yx"
      },
      "source": [
        "## Using an Assertion in a Traffic Light Simulation\n",
        "\n",
        "Say you’re building a traffic light simulation program. The data structure representing the stoplights at an intersection is a dictionary with keys 'ns' and 'ew', for the stoplights facing north-south and east-west,\n",
        "respectively. The values at these keys will be one of the strings 'green',\n",
        "'yellow', or 'red'. The code would look something like this:"
      ]
    },
    {
      "cell_type": "code",
      "metadata": {
        "id": "SAabdcbUoS8e"
      },
      "source": [
        "market_2nd = {'ns': 'green', 'ew': 'red'}\n",
        "mission_16th = {'ns': 'red', 'ew': 'green'}"
      ],
      "execution_count": 10,
      "outputs": []
    },
    {
      "cell_type": "markdown",
      "metadata": {
        "id": "TKepGXoYvaLs"
      },
      "source": [
        "These two variables will be for the intersections of Market Street and\n",
        "2nd Street, and Mission Street and 16th Street. To start the project, you\n",
        "want to write a `switchLights()` function, which will take an intersection dictionary as an argument and switch the lights.\n",
        "\n",
        "At first, you might think that `switchLights()` should simply switch each\n",
        "light to the next color in the sequence: Any 'green' values should change to\n",
        "'yellow', 'yellow' values should change to 'red', and 'red' values should\n",
        "change to 'green'. The code to implement this idea might look like this:"
      ]
    },
    {
      "cell_type": "code",
      "metadata": {
        "colab": {
          "base_uri": "https://localhost:8080/"
        },
        "id": "6uECtaGmllO2",
        "outputId": "d3b0c9c1-c6d2-441f-ce18-6c4c462c77f8"
      },
      "source": [
        "def switchLights(stoplight):\n",
        "  for key in stoplight.keys():\n",
        "    if stoplight[key] == 'green':\n",
        "      stoplight[key] = 'yellow'\n",
        "    elif stoplight[key] == 'yellow':\n",
        "      stoplight[key] = 'red'\n",
        "    elif stoplight[key] == 'red':\n",
        "      stoplight[key] = 'green'\n",
        "  \n",
        "\n",
        "switchLights(market_2nd)\n",
        "market_2nd"
      ],
      "execution_count": 18,
      "outputs": [
        {
          "output_type": "execute_result",
          "data": {
            "text/plain": [
              "{'ew': 'yellow', 'ns': 'red'}"
            ]
          },
          "metadata": {},
          "execution_count": 18
        }
      ]
    },
    {
      "cell_type": "markdown",
      "metadata": {
        "id": "1pgWlu6uwNun"
      },
      "source": [
        "You may already see the problem with this code, but let’s pretend you\n",
        "wrote the rest of the simulation code, thousands of lines long, without\n",
        "noticing it. When you finally do run the simulation, the program doesn’t\n",
        "crash—but your virtual cars do!\n",
        "Since you’ve already written the rest of the program, you have no idea\n",
        "where the bug could be. Maybe it’s in the code simulating the cars or in\n",
        "the code simulating the virtual drivers. It could take hours to trace the\n",
        "bug back to the `switchLights()` function.\n",
        "\n",
        "But if while writing `switchLights()` you had added an assertion to check\n",
        "that at least one of the lights is always red, you might have included the following at the bottom of the function:"
      ]
    },
    {
      "cell_type": "code",
      "metadata": {
        "colab": {
          "base_uri": "https://localhost:8080/",
          "height": 330
        },
        "id": "h6nQyuWNv2IC",
        "outputId": "421a17ee-54b0-4d68-9757-6ad88e456f18"
      },
      "source": [
        "def switchLights(stoplight):\n",
        "  for key in stoplight.keys():\n",
        "    if stoplight[key] == 'green':\n",
        "      stoplight[key] = 'yellow'\n",
        "    elif stoplight[key] == 'yellow':\n",
        "      stoplight[key] = 'red'\n",
        "    elif stoplight[key] == 'red':\n",
        "      stoplight[key] = 'green'\n",
        "  assert 'red' in stoplight.values(), 'Neither light is red! ' + str(stoplight)\n",
        "\n",
        "switchLights(market_2nd)\n",
        "market_2nd"
      ],
      "execution_count": 20,
      "outputs": [
        {
          "output_type": "error",
          "ename": "AssertionError",
          "evalue": "ignored",
          "traceback": [
            "\u001b[0;31m---------------------------------------------------------------------------\u001b[0m",
            "\u001b[0;31mAssertionError\u001b[0m                            Traceback (most recent call last)",
            "\u001b[0;32m<ipython-input-20-121b70a6769e>\u001b[0m in \u001b[0;36m<module>\u001b[0;34m()\u001b[0m\n\u001b[1;32m      9\u001b[0m   \u001b[0;32massert\u001b[0m \u001b[0;34m'red'\u001b[0m \u001b[0;32min\u001b[0m \u001b[0mstoplight\u001b[0m\u001b[0;34m.\u001b[0m\u001b[0mvalues\u001b[0m\u001b[0;34m(\u001b[0m\u001b[0;34m)\u001b[0m\u001b[0;34m,\u001b[0m \u001b[0;34m'Neither light is red! '\u001b[0m \u001b[0;34m+\u001b[0m \u001b[0mstr\u001b[0m\u001b[0;34m(\u001b[0m\u001b[0mstoplight\u001b[0m\u001b[0;34m)\u001b[0m\u001b[0;34m\u001b[0m\u001b[0;34m\u001b[0m\u001b[0m\n\u001b[1;32m     10\u001b[0m \u001b[0;34m\u001b[0m\u001b[0m\n\u001b[0;32m---> 11\u001b[0;31m \u001b[0mswitchLights\u001b[0m\u001b[0;34m(\u001b[0m\u001b[0mmarket_2nd\u001b[0m\u001b[0;34m)\u001b[0m\u001b[0;34m\u001b[0m\u001b[0;34m\u001b[0m\u001b[0m\n\u001b[0m\u001b[1;32m     12\u001b[0m \u001b[0mmarket_2nd\u001b[0m\u001b[0;34m\u001b[0m\u001b[0;34m\u001b[0m\u001b[0m\n",
            "\u001b[0;32m<ipython-input-20-121b70a6769e>\u001b[0m in \u001b[0;36mswitchLights\u001b[0;34m(stoplight)\u001b[0m\n\u001b[1;32m      7\u001b[0m     \u001b[0;32melif\u001b[0m \u001b[0mstoplight\u001b[0m\u001b[0;34m[\u001b[0m\u001b[0mkey\u001b[0m\u001b[0;34m]\u001b[0m \u001b[0;34m==\u001b[0m \u001b[0;34m'red'\u001b[0m\u001b[0;34m:\u001b[0m\u001b[0;34m\u001b[0m\u001b[0;34m\u001b[0m\u001b[0m\n\u001b[1;32m      8\u001b[0m       \u001b[0mstoplight\u001b[0m\u001b[0;34m[\u001b[0m\u001b[0mkey\u001b[0m\u001b[0;34m]\u001b[0m \u001b[0;34m=\u001b[0m \u001b[0;34m'green'\u001b[0m\u001b[0;34m\u001b[0m\u001b[0;34m\u001b[0m\u001b[0m\n\u001b[0;32m----> 9\u001b[0;31m   \u001b[0;32massert\u001b[0m \u001b[0;34m'red'\u001b[0m \u001b[0;32min\u001b[0m \u001b[0mstoplight\u001b[0m\u001b[0;34m.\u001b[0m\u001b[0mvalues\u001b[0m\u001b[0;34m(\u001b[0m\u001b[0;34m)\u001b[0m\u001b[0;34m,\u001b[0m \u001b[0;34m'Neither light is red! '\u001b[0m \u001b[0;34m+\u001b[0m \u001b[0mstr\u001b[0m\u001b[0;34m(\u001b[0m\u001b[0mstoplight\u001b[0m\u001b[0;34m)\u001b[0m\u001b[0;34m\u001b[0m\u001b[0;34m\u001b[0m\u001b[0m\n\u001b[0m\u001b[1;32m     10\u001b[0m \u001b[0;34m\u001b[0m\u001b[0m\n\u001b[1;32m     11\u001b[0m \u001b[0mswitchLights\u001b[0m\u001b[0;34m(\u001b[0m\u001b[0mmarket_2nd\u001b[0m\u001b[0;34m)\u001b[0m\u001b[0;34m\u001b[0m\u001b[0;34m\u001b[0m\u001b[0m\n",
            "\u001b[0;31mAssertionError\u001b[0m: Neither light is red! {'ns': 'yellow', 'ew': 'green'}"
          ]
        }
      ]
    },
    {
      "cell_type": "markdown",
      "metadata": {
        "id": "YfojxbQJxC7D"
      },
      "source": [
        "## Disabling Assertions\n",
        "\n",
        "Assertions can be disabled by passing the -O option when running Python.\n",
        "This is good for when you have finished writing and testing your program\n",
        "and don’t want it to be slowed down by performing sanity checks (although\n",
        "most of the time assert statements do not cause a noticeable speed difference). Assertions are for development, not the final product. By the time you\n",
        "hand off your program to someone else to run, it should be free of bugs\n",
        "and not require the sanity checks. See Appendix B for details about how to\n",
        "launch your probably-not-insane programs with the -O option."
      ]
    }
  ]
}